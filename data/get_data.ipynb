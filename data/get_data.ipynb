{
 "cells": [
  {
   "cell_type": "markdown",
   "metadata": {},
   "source": [
    "I'm going to try and download the Kages and LEGACY data from Vizier using ADQL, and combine them into a single array."
   ]
  },
  {
   "cell_type": "code",
   "execution_count": 1,
   "metadata": {},
   "outputs": [],
   "source": [
    "import warnings\n",
    "warnings.catch_warnings()\n",
    "warnings.simplefilter(\"ignore\")\n",
    "\n",
    "import pylab as plt\n",
    "import numpy as np"
   ]
  },
  {
   "cell_type": "code",
   "execution_count": 2,
   "metadata": {},
   "outputs": [],
   "source": [
    "from tap import TAPVizieR as tv\n",
    "from tap import QueryStr\n",
    "from tap import resolve\n",
    "from tap import timeit"
   ]
  },
  {
   "cell_type": "markdown",
   "metadata": {},
   "source": [
    "- Get all important information from both Legacy Tables\n",
    "- Get the same information from Kages tables"
   ]
  },
  {
   "cell_type": "markdown",
   "metadata": {},
   "source": [
    "    modl.Mass as modmass, modl.\"E_Mass\" as upmodmass, modl.\"e_Mass\" as lomodmass,\n",
    "    modl.Rad as modrad, modl.\"E_Rad\" as upmodrad, modl.\"e_Rad\" as lomodrad,\n",
    "    modl.\"log(g)\" as modlogg, modl.\"E_log(g)\" as upmodlogg, modl.\"e_log(g)\" as lomodlogg,\n",
    "    modl.Age as age, modl.\"E_Age\" as upage, modl.\"e_Age\" as loage"
   ]
  },
  {
   "cell_type": "code",
   "execution_count": 3,
   "metadata": {},
   "outputs": [
    {
     "data": {
      "text/markdown": [
       "*ADQL query*\n",
       "```mysql\n",
       "\n",
       "SELECT\n",
       "    obs.KIC, obs.numax, obs.\"E_numax\" AS enumax, obs.\"<dnu>\" AS dnu, obs.\"E_<dnu>\" AS ednu,\n",
       "    obs.Teff, obs.\"e_Teff\" AS eTeff, obs.\"[Fe/H]\" AS feh, obs.\"e_[Fe/H]\" AS efeh, modl.Mass\n",
       "FROM\n",
       "    \"J/ApJ/835/173/table3\" AS obs,\n",
       "    (\n",
       "    SELECT\n",
       "        tmp.KIC, tmp.Mass, tmp.Rad, tmp.\"log(g)\", tmp.Age\n",
       "    FROM\n",
       "        \"J/ApJ/835/173/table4\" AS tmp\n",
       "    WHERE\n",
       "        tmp.Pipe ='BASTA'\n",
       "    ) AS modl\n",
       "WHERE obs.KIC = modl.KIC\n",
       "\n",
       "```"
      ],
      "text/plain": [
       "\n",
       "SELECT\n",
       "    obs.KIC, obs.numax, obs.\"E_numax\" AS enumax, obs.\"<dnu>\" AS dnu, obs.\"E_<dnu>\" AS ednu,\n",
       "    obs.Teff, obs.\"e_Teff\" AS eTeff, obs.\"[Fe/H]\" AS feh, obs.\"e_[Fe/H]\" AS efeh, modl.Mass\n",
       "FROM\n",
       "    \"J/ApJ/835/173/table3\" AS obs,\n",
       "    (\n",
       "    SELECT\n",
       "        tmp.KIC, tmp.Mass, tmp.Rad, tmp.\"log(g)\", tmp.Age\n",
       "    FROM\n",
       "        \"J/ApJ/835/173/table4\" AS tmp\n",
       "    WHERE\n",
       "        tmp.Pipe ='BASTA'\n",
       "    ) AS modl\n",
       "WHERE obs.KIC = modl.KIC"
      ]
     },
     "metadata": {},
     "output_type": "display_data"
    },
    {
     "data": {
      "text/html": [
       "<i>Table masked=True length=66</i>\n",
       "<table id=\"table139942121913592\" class=\"table-striped table-bordered table-condensed\">\n",
       "<thead><tr><th>KIC</th><th>numax</th><th>enumax</th><th>dnu</th><th>ednu</th><th>Teff</th><th>eTeff</th><th>feh</th><th>efeh</th><th>Mass</th></tr></thead>\n",
       "<thead><tr><th></th><th>uHz</th><th>uHz</th><th>uHz</th><th>uHz</th><th>K</th><th>K</th><th>[Sun]</th><th>[Sun]</th><th>Msun</th></tr></thead>\n",
       "<thead><tr><th>int32</th><th>float64</th><th>float64</th><th>float64</th><th>float64</th><th>int16</th><th>int16</th><th>float64</th><th>float64</th><th>float64</th></tr></thead>\n",
       "<tr><td>1435467</td><td>1406.7</td><td>6.3</td><td>70.369</td><td>0.034</td><td>6326</td><td>77</td><td>0.01</td><td>0.1</td><td>0.0001</td></tr>\n",
       "<tr><td>2837475</td><td>1557.6</td><td>8.2</td><td>75.729</td><td>0.041</td><td>6614</td><td>77</td><td>0.01</td><td>0.1</td><td>0.0001</td></tr>\n",
       "<tr><td>3427720</td><td>2737.0</td><td>10.7</td><td>120.068</td><td>0.031</td><td>6045</td><td>77</td><td>-0.06</td><td>0.1</td><td>0.0001</td></tr>\n",
       "<tr><td>3456181</td><td>970.0</td><td>8.3</td><td>52.264</td><td>0.041</td><td>6384</td><td>77</td><td>-0.15</td><td>0.1</td><td>0.0001</td></tr>\n",
       "<tr><td>3632418</td><td>1166.8</td><td>3.0</td><td>60.704</td><td>0.019</td><td>6193</td><td>77</td><td>-0.12</td><td>0.1</td><td>0.0001</td></tr>\n",
       "<tr><td>3656476</td><td>1925.0</td><td>7.0</td><td>93.194</td><td>0.018</td><td>5668</td><td>77</td><td>0.25</td><td>0.1</td><td>0.0001</td></tr>\n",
       "<tr><td>3735871</td><td>2862.6</td><td>16.6</td><td>123.049</td><td>0.047</td><td>6107</td><td>77</td><td>-0.04</td><td>0.1</td><td>0.0001</td></tr>\n",
       "<tr><td>4914923</td><td>1817.0</td><td>6.3</td><td>88.531</td><td>0.019</td><td>5805</td><td>77</td><td>0.08</td><td>0.1</td><td>0.0001</td></tr>\n",
       "<tr><td>5184732</td><td>2089.3</td><td>4.4</td><td>95.545</td><td>0.024</td><td>5846</td><td>77</td><td>0.36</td><td>0.1</td><td>0.0001</td></tr>\n",
       "<tr><td>...</td><td>...</td><td>...</td><td>...</td><td>...</td><td>...</td><td>...</td><td>...</td><td>...</td><td>...</td></tr>\n",
       "<tr><td>10963065</td><td>2203.7</td><td>6.7</td><td>103.179</td><td>0.027</td><td>6140</td><td>77</td><td>-0.19</td><td>0.1</td><td>0.0001</td></tr>\n",
       "<tr><td>11081729</td><td>1968.3</td><td>11.0</td><td>90.116</td><td>0.048</td><td>6548</td><td>82</td><td>0.11</td><td>0.1</td><td>0.0001</td></tr>\n",
       "<tr><td>11253226</td><td>1590.6</td><td>10.6</td><td>76.858</td><td>0.026</td><td>6642</td><td>77</td><td>-0.08</td><td>0.1</td><td>0.0001</td></tr>\n",
       "<tr><td>11772920</td><td>3674.7</td><td>55.1</td><td>157.746</td><td>0.032</td><td>5180</td><td>180</td><td>-0.09</td><td>0.18</td><td>0.0001</td></tr>\n",
       "<tr><td>12009504</td><td>1865.6</td><td>7.7</td><td>88.217</td><td>0.026</td><td>6179</td><td>77</td><td>-0.08</td><td>0.1</td><td>0.0001</td></tr>\n",
       "<tr><td>12069127</td><td>884.7</td><td>10.1</td><td>48.4</td><td>0.048</td><td>6276</td><td>77</td><td>0.08</td><td>0.1</td><td>0.0002</td></tr>\n",
       "<tr><td>12069424</td><td>2188.5</td><td>4.6</td><td>103.277</td><td>0.021</td><td>5825</td><td>50</td><td>0.1</td><td>0.03</td><td>0.0001</td></tr>\n",
       "<tr><td>12069449</td><td>2561.3</td><td>5.0</td><td>116.929</td><td>0.012</td><td>5750</td><td>50</td><td>0.05</td><td>0.02</td><td>0.0001</td></tr>\n",
       "<tr><td>12258514</td><td>1512.7</td><td>3.3</td><td>74.799</td><td>0.016</td><td>5964</td><td>77</td><td>0.0</td><td>0.1</td><td>0.0001</td></tr>\n",
       "<tr><td>12317678</td><td>1212.4</td><td>5.5</td><td>63.464</td><td>0.025</td><td>6580</td><td>77</td><td>-0.28</td><td>0.1</td><td>0.0001</td></tr>\n",
       "</table>"
      ],
      "text/plain": [
       "<Table masked=True length=66>\n",
       "  KIC     numax   enumax   dnu     ednu   Teff eTeff   feh     efeh    Mass \n",
       "           uHz     uHz     uHz     uHz     K     K    [Sun]   [Sun]    Msun \n",
       " int32   float64 float64 float64 float64 int16 int16 float64 float64 float64\n",
       "-------- ------- ------- ------- ------- ----- ----- ------- ------- -------\n",
       " 1435467  1406.7     6.3  70.369   0.034  6326    77    0.01     0.1  0.0001\n",
       " 2837475  1557.6     8.2  75.729   0.041  6614    77    0.01     0.1  0.0001\n",
       " 3427720  2737.0    10.7 120.068   0.031  6045    77   -0.06     0.1  0.0001\n",
       " 3456181   970.0     8.3  52.264   0.041  6384    77   -0.15     0.1  0.0001\n",
       " 3632418  1166.8     3.0  60.704   0.019  6193    77   -0.12     0.1  0.0001\n",
       " 3656476  1925.0     7.0  93.194   0.018  5668    77    0.25     0.1  0.0001\n",
       " 3735871  2862.6    16.6 123.049   0.047  6107    77   -0.04     0.1  0.0001\n",
       " 4914923  1817.0     6.3  88.531   0.019  5805    77    0.08     0.1  0.0001\n",
       " 5184732  2089.3     4.4  95.545   0.024  5846    77    0.36     0.1  0.0001\n",
       "     ...     ...     ...     ...     ...   ...   ...     ...     ...     ...\n",
       "10963065  2203.7     6.7 103.179   0.027  6140    77   -0.19     0.1  0.0001\n",
       "11081729  1968.3    11.0  90.116   0.048  6548    82    0.11     0.1  0.0001\n",
       "11253226  1590.6    10.6  76.858   0.026  6642    77   -0.08     0.1  0.0001\n",
       "11772920  3674.7    55.1 157.746   0.032  5180   180   -0.09    0.18  0.0001\n",
       "12009504  1865.6     7.7  88.217   0.026  6179    77   -0.08     0.1  0.0001\n",
       "12069127   884.7    10.1    48.4   0.048  6276    77    0.08     0.1  0.0002\n",
       "12069424  2188.5     4.6 103.277   0.021  5825    50     0.1    0.03  0.0001\n",
       "12069449  2561.3     5.0 116.929   0.012  5750    50    0.05    0.02  0.0001\n",
       "12258514  1512.7     3.3  74.799   0.016  5964    77     0.0     0.1  0.0001\n",
       "12317678  1212.4     5.5  63.464   0.025  6580    77   -0.28     0.1  0.0001"
      ]
     },
     "execution_count": 3,
     "metadata": {},
     "output_type": "execute_result"
    }
   ],
   "source": [
    "adql = QueryStr(\"\"\"\n",
    "select \n",
    "    obs.KIC, obs.numax, obs.\"E_numax\" as enumax, obs.\"<dnu>\" as dnu, obs.\"E_<dnu>\" as ednu,\n",
    "    obs.Teff, obs.\"e_Teff\" as eTeff, obs.\"[Fe/H]\" as feh, obs.\"e_[Fe/H]\" as efeh, modl.Mass\n",
    "from \n",
    "    \"J/ApJ/835/173/table3\" as obs,\n",
    "    (\n",
    "    select\n",
    "        tmp.KIC, tmp.Mass, tmp.Rad, tmp.\"log(g)\", tmp.Age\n",
    "    from\n",
    "        \"J/ApJ/835/173/table4\" as tmp\n",
    "    where\n",
    "        tmp.Pipe ='BASTA'\n",
    "    ) as modl\n",
    "where obs.KIC = modl.KIC\n",
    "\"\"\")\n",
    "\n",
    "vizier = tv()\n",
    "result = vizier.query(adql)\n",
    "result"
   ]
  },
  {
   "cell_type": "code",
   "execution_count": 41,
   "metadata": {
    "scrolled": false
   },
   "outputs": [
    {
     "data": {
      "text/markdown": [
       "*ADQL query*\n",
       "```mysql\n",
       "\n",
       "SELECT\n",
       "    modl.Mass\n",
       "FROM\n",
       "    (\n",
       "    SELECT\n",
       "        *\n",
       "    FROM\n",
       "        \"J/ApJ/835/173/table4\" AS tmp\n",
       "    WHERE\n",
       "        tmp.Pipe ='BASTA'\n",
       "        ) AS modl\n",
       "\n",
       "```"
      ],
      "text/plain": [
       "\n",
       "SELECT\n",
       "    modl.Mass\n",
       "FROM\n",
       "    (\n",
       "    SELECT\n",
       "        *\n",
       "    FROM\n",
       "        \"J/ApJ/835/173/table4\" AS tmp\n",
       "    WHERE\n",
       "        tmp.Pipe ='BASTA'\n",
       "        ) AS modl"
      ]
     },
     "metadata": {},
     "output_type": "display_data"
    },
    {
     "data": {
      "text/html": [
       "<i>Table masked=True length=66</i>\n",
       "<table id=\"table139942105805208\" class=\"table-striped table-bordered table-condensed\">\n",
       "<thead><tr><th>Mass</th></tr></thead>\n",
       "<thead><tr><th>Msun</th></tr></thead>\n",
       "<thead><tr><th>float64</th></tr></thead>\n",
       "<tr><td>0.0001</td></tr>\n",
       "<tr><td>0.0001</td></tr>\n",
       "<tr><td>0.0001</td></tr>\n",
       "<tr><td>0.0001</td></tr>\n",
       "<tr><td>0.0001</td></tr>\n",
       "<tr><td>0.0001</td></tr>\n",
       "<tr><td>0.0001</td></tr>\n",
       "<tr><td>0.0001</td></tr>\n",
       "<tr><td>0.0001</td></tr>\n",
       "<tr><td>...</td></tr>\n",
       "<tr><td>0.0001</td></tr>\n",
       "<tr><td>0.0001</td></tr>\n",
       "<tr><td>0.0001</td></tr>\n",
       "<tr><td>0.0001</td></tr>\n",
       "<tr><td>0.0001</td></tr>\n",
       "<tr><td>0.0002</td></tr>\n",
       "<tr><td>0.0001</td></tr>\n",
       "<tr><td>0.0001</td></tr>\n",
       "<tr><td>0.0001</td></tr>\n",
       "<tr><td>0.0001</td></tr>\n",
       "</table>"
      ],
      "text/plain": [
       "<Table masked=True length=66>\n",
       "  Mass \n",
       "  Msun \n",
       "float64\n",
       "-------\n",
       " 0.0001\n",
       " 0.0001\n",
       " 0.0001\n",
       " 0.0001\n",
       " 0.0001\n",
       " 0.0001\n",
       " 0.0001\n",
       " 0.0001\n",
       " 0.0001\n",
       "    ...\n",
       " 0.0001\n",
       " 0.0001\n",
       " 0.0001\n",
       " 0.0001\n",
       " 0.0001\n",
       " 0.0002\n",
       " 0.0001\n",
       " 0.0001\n",
       " 0.0001\n",
       " 0.0001"
      ]
     },
     "execution_count": 41,
     "metadata": {},
     "output_type": "execute_result"
    }
   ],
   "source": [
    "adql = QueryStr(\"\"\"\n",
    "select \n",
    "    modl.Mass\n",
    "from \n",
    "    (\n",
    "    select\n",
    "        *\n",
    "    from\n",
    "        \"J/ApJ/835/173/table4\" as tmp\n",
    "    where\n",
    "        tmp.Pipe ='BASTA'\n",
    "        ) as modl\n",
    "\"\"\")\n",
    "\n",
    "vizier = tv()\n",
    "result = vizier.query(adql)\n",
    "result"
   ]
  },
  {
   "cell_type": "code",
   "execution_count": 33,
   "metadata": {},
   "outputs": [
    {
     "data": {
      "text/markdown": [
       "*ADQL query*\n",
       "```mysql\n",
       "\n",
       "SELECT\n",
       "    *\n",
       "FROM\n",
       "    \"J/ApJ/835/173/table4\" AS tmp\n",
       "WHERE\n",
       "    tmp.Pipe ='BASTA'\n",
       "\n",
       "```"
      ],
      "text/plain": [
       "\n",
       "SELECT\n",
       "    *\n",
       "FROM\n",
       "    \"J/ApJ/835/173/table4\" AS tmp\n",
       "WHERE\n",
       "    tmp.Pipe ='BASTA'"
      ]
     },
     "metadata": {},
     "output_type": "display_data"
    },
    {
     "data": {
      "text/html": [
       "<i>Table masked=True length=66</i>\n",
       "<table id=\"table139942105534648\" class=\"table-striped table-bordered table-condensed\">\n",
       "<thead><tr><th>recno</th><th>Pipe</th><th>KIC</th><th>Mass</th><th>E_Mass</th><th>e_Mass</th><th>Rad</th><th>E_Rad</th><th>e_Rad</th><th>log(g)</th><th>E_log(g)</th><th>e_log(g)</th><th>Age</th><th>E_Age</th><th>e_Age</th><th>Lum</th><th>E_Lum</th><th>e_Lum</th><th>rho</th><th>E_rho</th><th>e_rho</th><th>Dist</th><th>E_Dist</th><th>e_Dist</th><th>Xini</th><th>E_Xini</th><th>e_Xini</th><th>Yini</th><th>E_Yini</th><th>e_Yini</th><th>Xsup</th><th>E_Xsup</th><th>e_Xsup</th><th>Ysup</th><th>E_Ysup</th><th>e_Ysup</th><th>Xcen</th><th>E_Xcen</th><th>e_Xcen</th><th>Ycen</th><th>E_Ycen</th><th>e_Ycen</th><th>MCcore</th><th>E_MCcore</th><th>e_MCcore</th><th>Rbce</th><th>E_Rbce</th><th>e_Rbce</th><th>alpha</th><th>E_alpha</th><th>e_alpha</th><th>TAMS</th></tr></thead>\n",
       "<thead><tr><th></th><th></th><th></th><th>Msun</th><th>Msun</th><th>Msun</th><th>Rsun</th><th>Rsun</th><th>Rsun</th><th>[cm/s2]</th><th>[cm/s2]</th><th>[cm/s2]</th><th>Gyr</th><th>Gyr</th><th>Gyr</th><th>Lsun</th><th>Lsun</th><th>Lsun</th><th>g / cm3</th><th>g / cm3</th><th>g / cm3</th><th>pc</th><th>pc</th><th>pc</th><th></th><th></th><th></th><th></th><th></th><th></th><th></th><th></th><th></th><th></th><th></th><th></th><th></th><th></th><th></th><th></th><th></th><th></th><th></th><th></th><th></th><th></th><th></th><th></th><th></th><th></th><th></th><th></th></tr></thead>\n",
       "<thead><tr><th>int32</th><th>bytes6</th><th>int32</th><th>float64</th><th>float64</th><th>float64</th><th>float64</th><th>float64</th><th>float64</th><th>float64</th><th>float64</th><th>float64</th><th>float64</th><th>float64</th><th>float64</th><th>float64</th><th>float64</th><th>float64</th><th>float64</th><th>float64</th><th>float64</th><th>float64</th><th>float64</th><th>float64</th><th>float64</th><th>float64</th><th>float64</th><th>float64</th><th>float64</th><th>float64</th><th>float64</th><th>float64</th><th>float64</th><th>float64</th><th>float64</th><th>float64</th><th>float64</th><th>float64</th><th>float64</th><th>float64</th><th>float64</th><th>float64</th><th>float64</th><th>float64</th><th>float64</th><th>float64</th><th>float64</th><th>float64</th><th>float64</th><th>float64</th><th>float64</th><th>float64</th></tr></thead>\n",
       "<tr><td>67</td><td>BASTA</td><td>1435467</td><td>1.3189</td><td>0.0304</td><td>0.0513</td><td>1.6925</td><td>0.018</td><td>0.021</td><td>4.0997</td><td>0.0088</td><td>0.0088</td><td>3.0164</td><td>0.4951</td><td>0.3513</td><td>4.063</td><td>0.247</td><td>0.187</td><td>0.383008</td><td>0.007553</td><td>0.008419</td><td>136.37</td><td>4.34</td><td>4.43</td><td>0.708</td><td>0.004</td><td>0.011</td><td>0.274</td><td>0.006</td><td>0.003</td><td>0.708</td><td>0.004</td><td>0.011</td><td>0.274</td><td>0.006</td><td>0.003</td><td>0.126</td><td>0.055</td><td>0.098</td><td>0.855</td><td>0.101</td><td>0.056</td><td>0.06</td><td>0.006</td><td>0.015</td><td>0.828</td><td>0.024</td><td>0.014</td><td>1.791</td><td>--</td><td>--</td><td>3.4084</td></tr>\n",
       "<tr><td>68</td><td>BASTA</td><td>2837475</td><td>1.4291</td><td>0.019</td><td>0.0209</td><td>1.6385</td><td>0.015</td><td>0.018</td><td>4.1635</td><td>0.0066</td><td>0.0066</td><td>1.627</td><td>0.1118</td><td>0.1757</td><td>4.767</td><td>0.218</td><td>0.171</td><td>0.457674</td><td>0.010627</td><td>0.010702</td><td>119.61</td><td>3.75</td><td>3.82</td><td>0.698</td><td>0.006</td><td>0.006</td><td>0.28</td><td>0.004</td><td>0.003</td><td>0.698</td><td>0.006</td><td>0.006</td><td>0.28</td><td>0.004</td><td>0.003</td><td>0.379</td><td>0.025</td><td>0.021</td><td>0.599</td><td>0.018</td><td>0.027</td><td>0.076</td><td>0.003</td><td>0.003</td><td>0.909</td><td>0.018</td><td>0.012</td><td>1.791</td><td>--</td><td>--</td><td>2.7821</td></tr>\n",
       "<tr><td>69</td><td>BASTA</td><td>3427720</td><td>1.108</td><td>0.0209</td><td>0.0095</td><td>1.1167</td><td>0.009</td><td>0.009</td><td>4.3868</td><td>0.0044</td><td>0.0055</td><td>2.2339</td><td>0.2396</td><td>0.2396</td><td>1.579</td><td>0.047</td><td>0.05</td><td>1.121488</td><td>0.016747</td><td>0.020595</td><td>91.11</td><td>2.83</td><td>2.83</td><td>0.703</td><td>0.005</td><td>0.012</td><td>0.277</td><td>0.007</td><td>0.003</td><td>0.733</td><td>0.009</td><td>0.012</td><td>0.249</td><td>0.008</td><td>0.007</td><td>0.423</td><td>0.023</td><td>0.022</td><td>0.557</td><td>0.022</td><td>0.024</td><td>0.0</td><td>0.0</td><td>0.0</td><td>0.776</td><td>0.01</td><td>0.008</td><td>1.791</td><td>--</td><td>--</td><td>5.8631</td></tr>\n",
       "<tr><td>70</td><td>BASTA</td><td>3456181</td><td>1.4975</td><td>0.0304</td><td>0.019</td><td>2.1483</td><td>0.027</td><td>0.027</td><td>3.949</td><td>0.0088</td><td>0.0077</td><td>2.0901</td><td>0.1278</td><td>0.1278</td><td>7.215</td><td>0.243</td><td>0.295</td><td>0.212757</td><td>0.007395</td><td>0.005768</td><td>245.92</td><td>8.0</td><td>8.0</td><td>0.708</td><td>0.004</td><td>0.005</td><td>0.274</td><td>0.003</td><td>0.003</td><td>0.708</td><td>0.004</td><td>0.005</td><td>0.274</td><td>0.003</td><td>0.003</td><td>0.075</td><td>0.034</td><td>0.034</td><td>0.909</td><td>0.034</td><td>0.037</td><td>0.065</td><td>0.005</td><td>0.005</td><td>0.882</td><td>0.015</td><td>0.014</td><td>1.791</td><td>--</td><td>--</td><td>2.2184</td></tr>\n",
       "<tr><td>71</td><td>BASTA</td><td>3632418</td><td>1.4082</td><td>0.0209</td><td>0.0209</td><td>1.9114</td><td>0.021</td><td>0.024</td><td>4.0238</td><td>0.0077</td><td>0.0077</td><td>2.6331</td><td>0.1757</td><td>0.1757</td><td>5.14</td><td>0.209</td><td>0.2</td><td>0.284476</td><td>0.009267</td><td>0.007615</td><td>107.6</td><td>3.44</td><td>3.5</td><td>0.703</td><td>0.005</td><td>0.012</td><td>0.277</td><td>0.007</td><td>0.003</td><td>0.703</td><td>0.005</td><td>0.012</td><td>0.277</td><td>0.007</td><td>0.003</td><td>0.075</td><td>0.039</td><td>0.033</td><td>0.904</td><td>0.034</td><td>0.039</td><td>0.062</td><td>0.005</td><td>0.005</td><td>0.836</td><td>0.014</td><td>0.013</td><td>1.791</td><td>--</td><td>--</td><td>2.8254</td></tr>\n",
       "<tr><td>72</td><td>BASTA</td><td>3656476</td><td>1.0377</td><td>0.0513</td><td>0.0399</td><td>1.2996</td><td>0.021</td><td>0.018</td><td>4.2251</td><td>0.0099</td><td>0.0077</td><td>8.3663</td><td>1.7248</td><td>1.5651</td><td>1.574</td><td>0.117</td><td>0.113</td><td>0.666377</td><td>0.011998</td><td>0.012552</td><td>114.75</td><td>3.91</td><td>3.79</td><td>0.669</td><td>0.008</td><td>0.029</td><td>0.296</td><td>0.017</td><td>0.005</td><td>0.725</td><td>0.012</td><td>0.025</td><td>0.248</td><td>0.015</td><td>0.009</td><td>0.0</td><td>0.0</td><td>0.0</td><td>0.966</td><td>0.004</td><td>0.011</td><td>0.0</td><td>0.0</td><td>0.0</td><td>0.671</td><td>0.019</td><td>0.02</td><td>1.791</td><td>--</td><td>--</td><td>8.6269</td></tr>\n",
       "<tr><td>73</td><td>BASTA</td><td>3735871</td><td>1.089</td><td>0.0399</td><td>0.0399</td><td>1.0957</td><td>0.012</td><td>0.015</td><td>4.3956</td><td>0.0066</td><td>0.0066</td><td>2.3457</td><td>1.038</td><td>0.8464</td><td>1.504</td><td>0.092</td><td>0.088</td><td>1.169009</td><td>0.017081</td><td>0.016889</td><td>123.4</td><td>3.94</td><td>4.07</td><td>0.708</td><td>0.004</td><td>0.011</td><td>0.274</td><td>0.006</td><td>0.003</td><td>0.737</td><td>0.013</td><td>0.015</td><td>0.247</td><td>0.011</td><td>0.011</td><td>0.424</td><td>0.085</td><td>0.083</td><td>0.557</td><td>0.085</td><td>0.087</td><td>0.0</td><td>0.0</td><td>0.0</td><td>0.773</td><td>0.017</td><td>0.016</td><td>1.791</td><td>--</td><td>--</td><td>6.0517</td></tr>\n",
       "<tr><td>74</td><td>BASTA</td><td>4914923</td><td>1.0586</td><td>0.0589</td><td>0.0494</td><td>1.3566</td><td>0.024</td><td>0.024</td><td>4.1965</td><td>0.0099</td><td>0.0077</td><td>7.5678</td><td>1.6609</td><td>1.7886</td><td>1.885</td><td>0.153</td><td>0.142</td><td>0.597164</td><td>0.009075</td><td>0.009172</td><td>115.43</td><td>4.02</td><td>4.02</td><td>0.685</td><td>0.013</td><td>0.007</td><td>0.287</td><td>0.004</td><td>0.008</td><td>0.743</td><td>0.014</td><td>0.016</td><td>0.236</td><td>0.011</td><td>0.01</td><td>0.0</td><td>0.02</td><td>0.0</td><td>0.973</td><td>0.005</td><td>0.022</td><td>0.0</td><td>0.025</td><td>0.0</td><td>0.692</td><td>0.023</td><td>0.023</td><td>1.791</td><td>--</td><td>--</td><td>7.6862</td></tr>\n",
       "<tr><td>75</td><td>BASTA</td><td>5184732</td><td>1.1479</td><td>0.0399</td><td>0.0589</td><td>1.3206</td><td>0.015</td><td>0.021</td><td>4.2548</td><td>0.0077</td><td>0.0099</td><td>4.8529</td><td>1.5651</td><td>0.8784</td><td>1.806</td><td>0.128</td><td>0.128</td><td>0.701122</td><td>0.012144</td><td>0.012143</td><td>67.6</td><td>2.17</td><td>2.3</td><td>0.66</td><td>0.009</td><td>0.02</td><td>0.301</td><td>0.012</td><td>0.005</td><td>0.709</td><td>0.014</td><td>0.021</td><td>0.26</td><td>0.014</td><td>0.011</td><td>0.146</td><td>0.063</td><td>0.146</td><td>0.811</td><td>0.152</td><td>0.063</td><td>0.039</td><td>0.007</td><td>0.039</td><td>0.717</td><td>0.02</td><td>0.02</td><td>1.791</td><td>--</td><td>--</td><td>6.039</td></tr>\n",
       "<tr><td>...</td><td>...</td><td>...</td><td>...</td><td>...</td><td>...</td><td>...</td><td>...</td><td>...</td><td>...</td><td>...</td><td>...</td><td>...</td><td>...</td><td>...</td><td>...</td><td>...</td><td>...</td><td>...</td><td>...</td><td>...</td><td>...</td><td>...</td><td>...</td><td>...</td><td>...</td><td>...</td><td>...</td><td>...</td><td>...</td><td>...</td><td>...</td><td>...</td><td>...</td><td>...</td><td>...</td><td>...</td><td>...</td><td>...</td><td>...</td><td>...</td><td>...</td><td>...</td><td>...</td><td>...</td><td>...</td><td>...</td><td>...</td><td>...</td><td>...</td><td>...</td><td>...</td></tr>\n",
       "<tr><td>123</td><td>BASTA</td><td>10963065</td><td>0.9883</td><td>0.0608</td><td>0.0608</td><td>1.1946</td><td>0.021</td><td>0.021</td><td>4.2768</td><td>0.011</td><td>0.011</td><td>7.1526</td><td>1.9164</td><td>1.613</td><td>1.822</td><td>0.142</td><td>0.137</td><td>0.815059</td><td>0.016289</td><td>0.016527</td><td>85.13</td><td>2.96</td><td>2.96</td><td>0.727</td><td>0.005</td><td>0.006</td><td>0.263</td><td>0.004</td><td>0.003</td><td>0.727</td><td>0.005</td><td>0.006</td><td>0.263</td><td>0.004</td><td>0.003</td><td>0.02</td><td>0.046</td><td>0.016</td><td>0.969</td><td>0.017</td><td>0.047</td><td>0.0</td><td>0.0</td><td>0.0</td><td>0.76</td><td>0.023</td><td>0.024</td><td>1.791</td><td>--</td><td>--</td><td>8.3931</td></tr>\n",
       "<tr><td>124</td><td>BASTA</td><td>11081729</td><td>1.298</td><td>0.0399</td><td>0.0494</td><td>1.4226</td><td>0.015</td><td>0.018</td><td>4.2449</td><td>0.0088</td><td>0.0099</td><td>1.8825</td><td>0.5909</td><td>0.4152</td><td>3.277</td><td>0.214</td><td>0.157</td><td>0.63592</td><td>0.012491</td><td>0.013196</td><td>133.6</td><td>4.25</td><td>4.35</td><td>0.703</td><td>0.009</td><td>0.012</td><td>0.277</td><td>0.007</td><td>0.006</td><td>0.703</td><td>0.009</td><td>0.012</td><td>0.277</td><td>0.007</td><td>0.006</td><td>0.38</td><td>0.059</td><td>0.088</td><td>0.598</td><td>0.093</td><td>0.061</td><td>0.038</td><td>0.007</td><td>0.007</td><td>0.874</td><td>0.018</td><td>0.017</td><td>1.791</td><td>--</td><td>--</td><td>3.594</td></tr>\n",
       "<tr><td>125</td><td>BASTA</td><td>11253226</td><td>1.4082</td><td>0.0209</td><td>0.0095</td><td>1.6145</td><td>0.012</td><td>0.015</td><td>4.1734</td><td>0.0044</td><td>0.0055</td><td>1.5951</td><td>0.0639</td><td>0.1278</td><td>4.834</td><td>0.124</td><td>0.184</td><td>0.475516</td><td>0.008206</td><td>0.008218</td><td>118.06</td><td>3.65</td><td>3.71</td><td>0.703</td><td>0.005</td><td>0.006</td><td>0.277</td><td>0.003</td><td>0.003</td><td>0.703</td><td>0.005</td><td>0.006</td><td>0.277</td><td>0.003</td><td>0.003</td><td>0.387</td><td>0.02</td><td>0.014</td><td>0.592</td><td>0.015</td><td>0.022</td><td>0.073</td><td>0.002</td><td>0.003</td><td>0.926</td><td>0.01</td><td>0.019</td><td>1.791</td><td>--</td><td>--</td><td>2.7759</td></tr>\n",
       "<tr><td>126</td><td>BASTA</td><td>11772920</td><td>0.8287</td><td>0.0399</td><td>0.0399</td><td>0.8438</td><td>0.015</td><td>0.012</td><td>4.5001</td><td>0.0077</td><td>0.0055</td><td>10.666</td><td>2.7309</td><td>2.9704</td><td>0.487</td><td>0.059</td><td>0.047</td><td>1.926522</td><td>0.027736</td><td>0.029506</td><td>69.68</td><td>2.43</td><td>2.31</td><td>0.703</td><td>0.009</td><td>0.018</td><td>0.277</td><td>0.011</td><td>0.006</td><td>0.746</td><td>0.016</td><td>0.02</td><td>0.237</td><td>0.014</td><td>0.012</td><td>0.256</td><td>0.072</td><td>0.05</td><td>0.72</td><td>0.053</td><td>0.073</td><td>0.0</td><td>0.0</td><td>0.0</td><td>0.668</td><td>0.013</td><td>0.011</td><td>1.791</td><td>--</td><td>--</td><td>14.9888</td></tr>\n",
       "<tr><td>127</td><td>BASTA</td><td>12009504</td><td>1.1688</td><td>0.019</td><td>0.0399</td><td>1.4016</td><td>0.012</td><td>0.015</td><td>4.2108</td><td>0.0055</td><td>0.0066</td><td>3.9746</td><td>0.5749</td><td>0.4312</td><td>2.544</td><td>0.106</td><td>0.113</td><td>0.597379</td><td>0.009307</td><td>0.009793</td><td>134.25</td><td>4.19</td><td>4.28</td><td>0.703</td><td>0.009</td><td>0.006</td><td>0.277</td><td>0.003</td><td>0.006</td><td>0.775</td><td>0.011</td><td>0.012</td><td>0.211</td><td>0.01</td><td>0.009</td><td>0.15</td><td>0.039</td><td>0.063</td><td>0.832</td><td>0.061</td><td>0.042</td><td>0.036</td><td>0.004</td><td>0.005</td><td>0.785</td><td>0.015</td><td>0.017</td><td>1.791</td><td>--</td><td>--</td><td>4.9081</td></tr>\n",
       "<tr><td>128</td><td>BASTA</td><td>12069127</td><td>1.5678</td><td>0.0304</td><td>0.019</td><td>2.2983</td><td>0.021</td><td>0.021</td><td>3.9116</td><td>0.0044</td><td>0.0055</td><td>2.0103</td><td>0.1118</td><td>0.1278</td><td>7.656</td><td>0.301</td><td>0.247</td><td>0.182628</td><td>0.00344</td><td>0.003844</td><td>425.95</td><td>13.36</td><td>13.36</td><td>0.692</td><td>0.012</td><td>0.007</td><td>0.283</td><td>0.004</td><td>0.007</td><td>0.692</td><td>0.012</td><td>0.007</td><td>0.283</td><td>0.004</td><td>0.007</td><td>0.053</td><td>0.036</td><td>0.027</td><td>0.924</td><td>0.028</td><td>0.039</td><td>0.064</td><td>0.006</td><td>0.005</td><td>0.862</td><td>0.015</td><td>0.013</td><td>1.791</td><td>--</td><td>--</td><td>2.0967</td></tr>\n",
       "<tr><td>129</td><td>BASTA</td><td>12069424</td><td>1.0491</td><td>0.019</td><td>0.0209</td><td>1.2156</td><td>0.012</td><td>0.012</td><td>4.2867</td><td>0.0066</td><td>0.0066</td><td>6.6735</td><td>0.8145</td><td>0.7666</td><td>1.531</td><td>0.072</td><td>0.07</td><td>0.819863</td><td>0.015658</td><td>0.016937</td><td>21.03</td><td>0.66</td><td>0.66</td><td>0.685</td><td>0.007</td><td>0.0</td><td>0.287</td><td>0.0</td><td>0.004</td><td>0.738</td><td>0.007</td><td>0.002</td><td>0.24</td><td>0.002</td><td>0.005</td><td>0.013</td><td>0.015</td><td>0.007</td><td>0.96</td><td>0.008</td><td>0.015</td><td>0.0</td><td>0.0</td><td>0.0</td><td>0.706</td><td>0.012</td><td>0.011</td><td>1.791</td><td>--</td><td>--</td><td>8.0249</td></tr>\n",
       "<tr><td>130</td><td>BASTA</td><td>12069449</td><td>0.9883</td><td>0.0209</td><td>0.019</td><td>1.0957</td><td>0.009</td><td>0.009</td><td>4.3527</td><td>0.0055</td><td>0.0066</td><td>7.3922</td><td>0.8943</td><td>0.9103</td><td>1.173</td><td>0.058</td><td>0.049</td><td>1.056983</td><td>0.018548</td><td>0.021292</td><td>20.65</td><td>0.64</td><td>0.64</td><td>0.692</td><td>0.006</td><td>0.0</td><td>0.283</td><td>0.0</td><td>0.004</td><td>0.742</td><td>0.005</td><td>0.003</td><td>0.238</td><td>0.003</td><td>0.003</td><td>0.119</td><td>0.03</td><td>0.026</td><td>0.855</td><td>0.026</td><td>0.03</td><td>0.0</td><td>0.0</td><td>0.0</td><td>0.696</td><td>0.01</td><td>0.01</td><td>1.791</td><td>--</td><td>--</td><td>10.0192</td></tr>\n",
       "<tr><td>131</td><td>BASTA</td><td>12258514</td><td>1.2581</td><td>0.0095</td><td>0.0095</td><td>1.6055</td><td>0.012</td><td>0.009</td><td>4.1261</td><td>0.0033</td><td>0.0044</td><td>4.0544</td><td>0.1757</td><td>0.1597</td><td>3.162</td><td>0.104</td><td>0.09</td><td>0.428158</td><td>0.006404</td><td>0.006655</td><td>80.54</td><td>2.49</td><td>2.46</td><td>0.692</td><td>0.006</td><td>0.007</td><td>0.283</td><td>0.004</td><td>0.004</td><td>0.692</td><td>0.006</td><td>0.007</td><td>0.283</td><td>0.004</td><td>0.004</td><td>0.039</td><td>0.015</td><td>0.013</td><td>0.937</td><td>0.012</td><td>0.016</td><td>0.048</td><td>0.003</td><td>0.004</td><td>0.77</td><td>0.012</td><td>0.009</td><td>1.791</td><td>--</td><td>--</td><td>4.2633</td></tr>\n",
       "<tr><td>132</td><td>BASTA</td><td>12317678</td><td>1.3379</td><td>0.0399</td><td>0.0095</td><td>1.8154</td><td>0.018</td><td>0.018</td><td>4.048</td><td>0.0088</td><td>0.0077</td><td>2.4574</td><td>0.2236</td><td>0.1757</td><td>5.649</td><td>0.175</td><td>0.243</td><td>0.316265</td><td>0.009458</td><td>0.007578</td><td>143.5</td><td>4.53</td><td>4.53</td><td>0.724</td><td>0.003</td><td>0.003</td><td>0.265</td><td>0.002</td><td>0.002</td><td>0.724</td><td>0.003</td><td>0.003</td><td>0.265</td><td>0.002</td><td>0.002</td><td>0.094</td><td>0.052</td><td>0.043</td><td>0.896</td><td>0.041</td><td>0.054</td><td>0.059</td><td>0.007</td><td>0.005</td><td>0.903</td><td>0.014</td><td>0.016</td><td>1.791</td><td>--</td><td>--</td><td>2.6799</td></tr>\n",
       "</table>"
      ],
      "text/plain": [
       "<Table masked=True length=66>\n",
       "recno  Pipe    KIC      Mass   E_Mass ...  alpha  E_alpha e_alpha   TAMS \n",
       "                        Msun    Msun  ...                                \n",
       "int32 bytes6  int32   float64 float64 ... float64 float64 float64 float64\n",
       "----- ------ -------- ------- ------- ... ------- ------- ------- -------\n",
       "   67  BASTA  1435467  1.3189  0.0304 ...   1.791      --      --  3.4084\n",
       "   68  BASTA  2837475  1.4291   0.019 ...   1.791      --      --  2.7821\n",
       "   69  BASTA  3427720   1.108  0.0209 ...   1.791      --      --  5.8631\n",
       "   70  BASTA  3456181  1.4975  0.0304 ...   1.791      --      --  2.2184\n",
       "   71  BASTA  3632418  1.4082  0.0209 ...   1.791      --      --  2.8254\n",
       "   72  BASTA  3656476  1.0377  0.0513 ...   1.791      --      --  8.6269\n",
       "   73  BASTA  3735871   1.089  0.0399 ...   1.791      --      --  6.0517\n",
       "   74  BASTA  4914923  1.0586  0.0589 ...   1.791      --      --  7.6862\n",
       "   75  BASTA  5184732  1.1479  0.0399 ...   1.791      --      --   6.039\n",
       "  ...    ...      ...     ...     ... ...     ...     ...     ...     ...\n",
       "  123  BASTA 10963065  0.9883  0.0608 ...   1.791      --      --  8.3931\n",
       "  124  BASTA 11081729   1.298  0.0399 ...   1.791      --      --   3.594\n",
       "  125  BASTA 11253226  1.4082  0.0209 ...   1.791      --      --  2.7759\n",
       "  126  BASTA 11772920  0.8287  0.0399 ...   1.791      --      -- 14.9888\n",
       "  127  BASTA 12009504  1.1688   0.019 ...   1.791      --      --  4.9081\n",
       "  128  BASTA 12069127  1.5678  0.0304 ...   1.791      --      --  2.0967\n",
       "  129  BASTA 12069424  1.0491   0.019 ...   1.791      --      --  8.0249\n",
       "  130  BASTA 12069449  0.9883  0.0209 ...   1.791      --      -- 10.0192\n",
       "  131  BASTA 12258514  1.2581  0.0095 ...   1.791      --      --  4.2633\n",
       "  132  BASTA 12317678  1.3379  0.0399 ...   1.791      --      --  2.6799"
      ]
     },
     "execution_count": 33,
     "metadata": {},
     "output_type": "execute_result"
    }
   ],
   "source": [
    "adql = QueryStr(\"\"\"\n",
    "select\n",
    "    *\n",
    "from\n",
    "    \"J/ApJ/835/173/table4\" as tmp\n",
    "where\n",
    "    tmp.Pipe ='BASTA'\n",
    "\"\"\")\n",
    "\n",
    "vizier = tv()\n",
    "result = vizier.query(adql)\n",
    "result"
   ]
  },
  {
   "cell_type": "code",
   "execution_count": null,
   "metadata": {},
   "outputs": [],
   "source": []
  }
 ],
 "metadata": {
  "kernelspec": {
   "display_name": "Python 3",
   "language": "python",
   "name": "python3"
  },
  "language_info": {
   "codemirror_mode": {
    "name": "ipython",
    "version": 3
   },
   "file_extension": ".py",
   "mimetype": "text/x-python",
   "name": "python",
   "nbconvert_exporter": "python",
   "pygments_lexer": "ipython3",
   "version": "3.6.7"
  }
 },
 "nbformat": 4,
 "nbformat_minor": 2
}
