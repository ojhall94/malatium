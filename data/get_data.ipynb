{
 "cells": [
  {
   "cell_type": "markdown",
   "metadata": {},
   "source": [
    "I'm going to try and download the Kages and LEGACY data from Vizier using ADQL, and combine them into a single array."
   ]
  },
  {
   "cell_type": "code",
   "execution_count": 1,
   "metadata": {},
   "outputs": [],
   "source": [
    "import warnings\n",
    "warnings.catch_warnings()\n",
    "warnings.simplefilter(\"ignore\")\n",
    "import seaborn as sns\n",
    "import pylab as plt\n",
    "import numpy as np\n",
    "import pandas as pd"
   ]
  },
  {
   "cell_type": "code",
   "execution_count": 2,
   "metadata": {},
   "outputs": [],
   "source": [
    "from tap import TAPVizieR as tv\n",
    "from tap import QueryStr"
   ]
  },
  {
   "cell_type": "markdown",
   "metadata": {},
   "source": [
    "- Get all important information from both Legacy Tables\n",
    "- Get the same information from Kages tables"
   ]
  },
  {
   "cell_type": "markdown",
   "metadata": {},
   "source": [
    "# LEGACY Stars (66)\n",
    "## We will use the BASTA model parameters"
   ]
  },
  {
   "cell_type": "markdown",
   "metadata": {},
   "source": [
    "### Table 3, Paper 2: Global Seismic & Spectroscopic Properties\n",
    "We will take all our global properties from this catalogue"
   ]
  },
  {
   "cell_type": "code",
   "execution_count": 3,
   "metadata": {},
   "outputs": [
    {
     "data": {
      "text/markdown": [
       "*ADQL query*\n",
       "```mysql\n",
       "\n",
       "SELECT\n",
       "    obs.KIC, obs.numax, obs.\"E_numax\" AS enumax, obs.\"<dnu>\" AS dnu, obs.\"E_<dnu>\" AS ednu,\n",
       "    obs.Teff, obs.\"e_Teff\" AS eTeff, obs.\"[Fe/H]\" AS feh, obs.\"e_[Fe/H]\" AS efeh\n",
       "FROM\n",
       "    \"J/ApJ/835/173/table3\" AS obs\n",
       "\n",
       "```"
      ],
      "text/plain": [
       "\n",
       "SELECT\n",
       "    obs.KIC, obs.numax, obs.\"E_numax\" AS enumax, obs.\"<dnu>\" AS dnu, obs.\"E_<dnu>\" AS ednu,\n",
       "    obs.Teff, obs.\"e_Teff\" AS eTeff, obs.\"[Fe/H]\" AS feh, obs.\"e_[Fe/H]\" AS efeh\n",
       "FROM\n",
       "    \"J/ApJ/835/173/table3\" AS obs"
      ]
     },
     "metadata": {},
     "output_type": "display_data"
    }
   ],
   "source": [
    "adql = QueryStr(\"\"\"\n",
    "select \n",
    "    obs.KIC, obs.numax, obs.\"E_numax\" as enumax, obs.\"<dnu>\" as dnu, obs.\"E_<dnu>\" as ednu,\n",
    "    obs.Teff, obs.\"e_Teff\" as eTeff, obs.\"[Fe/H]\" as feh, obs.\"e_[Fe/H]\" as efeh\n",
    "from \n",
    "    \"J/ApJ/835/173/table3\" as obs\n",
    "\"\"\")\n",
    "\n",
    "vizier = tv()\n",
    "legacyobs = vizier.query(adql).to_pandas()"
   ]
  },
  {
   "cell_type": "markdown",
   "metadata": {},
   "source": [
    "## Table 4, Paper 2: BASTA model output\n",
    "We will take preliminary Masses, Radii, Logg and Ages from the BASTA fits in this catalogue"
   ]
  },
  {
   "cell_type": "code",
   "execution_count": 4,
   "metadata": {
    "scrolled": false
   },
   "outputs": [
    {
     "data": {
      "text/markdown": [
       "*ADQL query*\n",
       "```mysql\n",
       "\n",
       "SELECT\n",
       "    modl.KIC,\n",
       "    modl.Mass AS modmass, modl.\"E_Mass\" AS upmodmass, modl.\"e_Mass\" AS lomodmass,\n",
       "    modl.Rad AS modrad, modl.\"E_Rad\" AS upmodrad, modl.\"e_Rad\" AS lomodrad,\n",
       "    modl.\"log(g)\" AS modlogg, modl.\"E_log(g)\" AS upmodlogg, modl.\"e_log(g)\" AS lomodlogg,\n",
       "    modl.Age AS age, modl.\"E_Age\" AS upage, modl.\"e_Age\" AS loage\n",
       "\n",
       "FROM\n",
       "    \"J/ApJ/835/173/table4\" AS modl\n",
       "WHERE\n",
       "    modl.Pipe ='BASTA'\n",
       "\n",
       "```"
      ],
      "text/plain": [
       "\n",
       "SELECT\n",
       "    modl.KIC,\n",
       "    modl.Mass AS modmass, modl.\"E_Mass\" AS upmodmass, modl.\"e_Mass\" AS lomodmass,\n",
       "    modl.Rad AS modrad, modl.\"E_Rad\" AS upmodrad, modl.\"e_Rad\" AS lomodrad,\n",
       "    modl.\"log(g)\" AS modlogg, modl.\"E_log(g)\" AS upmodlogg, modl.\"e_log(g)\" AS lomodlogg,\n",
       "    modl.Age AS age, modl.\"E_Age\" AS upage, modl.\"e_Age\" AS loage\n",
       "\n",
       "FROM\n",
       "    \"J/ApJ/835/173/table4\" AS modl\n",
       "WHERE\n",
       "    modl.Pipe ='BASTA'"
      ]
     },
     "metadata": {},
     "output_type": "display_data"
    }
   ],
   "source": [
    "adql = QueryStr(\"\"\"\n",
    "select \n",
    "    modl.KIC,\n",
    "    modl.Mass as modmass, modl.\"E_Mass\" as upmodmass, modl.\"e_Mass\" as lomodmass,\n",
    "    modl.Rad as modrad, modl.\"E_Rad\" as upmodrad, modl.\"e_Rad\" as lomodrad,\n",
    "    modl.\"log(g)\" as modlogg, modl.\"E_log(g)\" as upmodlogg, modl.\"e_log(g)\" as lomodlogg,\n",
    "    modl.Age as age, modl.\"E_Age\" as upage, modl.\"e_Age\" as loage \n",
    "\n",
    "from\n",
    "    \"J/ApJ/835/173/table4\" as modl\n",
    "where\n",
    "    modl.Pipe ='BASTA'\n",
    "\"\"\")\n",
    "\n",
    "vizier = tv()\n",
    "legacymodels = vizier.query(adql).to_pandas()"
   ]
  },
  {
   "cell_type": "markdown",
   "metadata": {},
   "source": [
    "### Auxiliary table: Table 1, Paper 1: Parameters for studied stars\n",
    "From this catalogue we will take the Kepler magnitude, Category, vsini, and sources on atmospheric parameters.\n",
    "Note that the $\\nu_{\\rm max}$ and $\\Delta\\nu$ values in this catalogue differ slightly to those in Paper 2. We will use the values from Paper 2."
   ]
  },
  {
   "cell_type": "code",
   "execution_count": 5,
   "metadata": {},
   "outputs": [
    {
     "data": {
      "text/markdown": [
       "*ADQL query*\n",
       "```mysql\n",
       "\n",
       "SELECT\n",
       "    aux.KIC, aux.Name, aux.Kpmag, aux.Cat, aux.r_Teff AS Teffsource,\n",
       "    aux.\"r_[Fe/H]\" AS fehsource, aux.vsini, aux.e_vsini AS evsini\n",
       "\n",
       "FROM\n",
       "    \"J/ApJ/835/172/table1\" AS aux\n",
       "\n",
       "```"
      ],
      "text/plain": [
       "\n",
       "SELECT\n",
       "    aux.KIC, aux.Name, aux.Kpmag, aux.Cat, aux.r_Teff AS Teffsource,\n",
       "    aux.\"r_[Fe/H]\" AS fehsource, aux.vsini, aux.e_vsini AS evsini\n",
       "\n",
       "FROM\n",
       "    \"J/ApJ/835/172/table1\" AS aux"
      ]
     },
     "metadata": {},
     "output_type": "display_data"
    }
   ],
   "source": [
    "adql = QueryStr(\"\"\"\n",
    "select \n",
    "    aux.KIC, aux.Name, aux.Kpmag, aux.Cat, aux.r_Teff as Teffsource, \n",
    "    aux.\"r_[Fe/H]\" as fehsource, aux.vsini, aux.e_vsini as evsini\n",
    "\n",
    "from\n",
    "    \"J/ApJ/835/172/table1\" as aux\n",
    "\"\"\")\n",
    "\n",
    "vizier = tv()\n",
    "aux = vizier.query(adql).to_pandas()\n",
    "\n",
    "aux.KIC = pd.to_numeric(aux['KIC'].str.decode(\"utf-8\"))\n",
    "aux.Name = aux.Name.str.decode(\"utf-8\")\n",
    "aux.Cat = aux.Cat.str.decode(\"utf-8\")"
   ]
  },
  {
   "cell_type": "code",
   "execution_count": 6,
   "metadata": {},
   "outputs": [],
   "source": [
    "legacy = legacyobs.merge(legacymodels, on='KIC', how='left')\n",
    "legacy = legacy.merge(aux[['KIC','vsini','evsini']], on='KIC',how='left')"
   ]
  },
  {
   "cell_type": "code",
   "execution_count": 7,
   "metadata": {},
   "outputs": [
    {
     "data": {
      "text/html": [
       "<div>\n",
       "<style scoped>\n",
       "    .dataframe tbody tr th:only-of-type {\n",
       "        vertical-align: middle;\n",
       "    }\n",
       "\n",
       "    .dataframe tbody tr th {\n",
       "        vertical-align: top;\n",
       "    }\n",
       "\n",
       "    .dataframe thead th {\n",
       "        text-align: right;\n",
       "    }\n",
       "</style>\n",
       "<table border=\"1\" class=\"dataframe\">\n",
       "  <thead>\n",
       "    <tr style=\"text-align: right;\">\n",
       "      <th></th>\n",
       "      <th>KIC</th>\n",
       "      <th>numax</th>\n",
       "      <th>enumax</th>\n",
       "      <th>dnu</th>\n",
       "      <th>ednu</th>\n",
       "      <th>Teff</th>\n",
       "      <th>eTeff</th>\n",
       "      <th>feh</th>\n",
       "      <th>efeh</th>\n",
       "      <th>modmass</th>\n",
       "      <th>...</th>\n",
       "      <th>upmodrad</th>\n",
       "      <th>lomodrad</th>\n",
       "      <th>modlogg</th>\n",
       "      <th>upmodlogg</th>\n",
       "      <th>lomodlogg</th>\n",
       "      <th>age</th>\n",
       "      <th>upage</th>\n",
       "      <th>loage</th>\n",
       "      <th>vsini</th>\n",
       "      <th>evsini</th>\n",
       "    </tr>\n",
       "  </thead>\n",
       "  <tbody>\n",
       "    <tr>\n",
       "      <th>0</th>\n",
       "      <td>1435467</td>\n",
       "      <td>1406.7</td>\n",
       "      <td>6.3</td>\n",
       "      <td>70.369</td>\n",
       "      <td>0.034</td>\n",
       "      <td>6326</td>\n",
       "      <td>77</td>\n",
       "      <td>0.01</td>\n",
       "      <td>0.1</td>\n",
       "      <td>1.3189</td>\n",
       "      <td>...</td>\n",
       "      <td>0.018</td>\n",
       "      <td>0.021</td>\n",
       "      <td>4.0997</td>\n",
       "      <td>0.0088</td>\n",
       "      <td>0.0088</td>\n",
       "      <td>3.0164</td>\n",
       "      <td>0.4951</td>\n",
       "      <td>0.3513</td>\n",
       "      <td>11.9</td>\n",
       "      <td>0.5</td>\n",
       "    </tr>\n",
       "    <tr>\n",
       "      <th>1</th>\n",
       "      <td>2837475</td>\n",
       "      <td>1557.6</td>\n",
       "      <td>8.2</td>\n",
       "      <td>75.729</td>\n",
       "      <td>0.041</td>\n",
       "      <td>6614</td>\n",
       "      <td>77</td>\n",
       "      <td>0.01</td>\n",
       "      <td>0.1</td>\n",
       "      <td>1.4291</td>\n",
       "      <td>...</td>\n",
       "      <td>0.015</td>\n",
       "      <td>0.018</td>\n",
       "      <td>4.1635</td>\n",
       "      <td>0.0066</td>\n",
       "      <td>0.0066</td>\n",
       "      <td>1.6270</td>\n",
       "      <td>0.1118</td>\n",
       "      <td>0.1757</td>\n",
       "      <td>23.3</td>\n",
       "      <td>0.5</td>\n",
       "    </tr>\n",
       "    <tr>\n",
       "      <th>2</th>\n",
       "      <td>3427720</td>\n",
       "      <td>2737.0</td>\n",
       "      <td>10.7</td>\n",
       "      <td>120.068</td>\n",
       "      <td>0.031</td>\n",
       "      <td>6045</td>\n",
       "      <td>77</td>\n",
       "      <td>-0.06</td>\n",
       "      <td>0.1</td>\n",
       "      <td>1.1080</td>\n",
       "      <td>...</td>\n",
       "      <td>0.009</td>\n",
       "      <td>0.009</td>\n",
       "      <td>4.3868</td>\n",
       "      <td>0.0044</td>\n",
       "      <td>0.0055</td>\n",
       "      <td>2.2339</td>\n",
       "      <td>0.2396</td>\n",
       "      <td>0.2396</td>\n",
       "      <td>2.9</td>\n",
       "      <td>0.5</td>\n",
       "    </tr>\n",
       "    <tr>\n",
       "      <th>3</th>\n",
       "      <td>3456181</td>\n",
       "      <td>970.0</td>\n",
       "      <td>8.3</td>\n",
       "      <td>52.264</td>\n",
       "      <td>0.041</td>\n",
       "      <td>6384</td>\n",
       "      <td>77</td>\n",
       "      <td>-0.15</td>\n",
       "      <td>0.1</td>\n",
       "      <td>1.4975</td>\n",
       "      <td>...</td>\n",
       "      <td>0.027</td>\n",
       "      <td>0.027</td>\n",
       "      <td>3.9490</td>\n",
       "      <td>0.0088</td>\n",
       "      <td>0.0077</td>\n",
       "      <td>2.0901</td>\n",
       "      <td>0.1278</td>\n",
       "      <td>0.1278</td>\n",
       "      <td>8.5</td>\n",
       "      <td>0.5</td>\n",
       "    </tr>\n",
       "    <tr>\n",
       "      <th>4</th>\n",
       "      <td>3632418</td>\n",
       "      <td>1166.8</td>\n",
       "      <td>3.0</td>\n",
       "      <td>60.704</td>\n",
       "      <td>0.019</td>\n",
       "      <td>6193</td>\n",
       "      <td>77</td>\n",
       "      <td>-0.12</td>\n",
       "      <td>0.1</td>\n",
       "      <td>1.4082</td>\n",
       "      <td>...</td>\n",
       "      <td>0.021</td>\n",
       "      <td>0.024</td>\n",
       "      <td>4.0238</td>\n",
       "      <td>0.0077</td>\n",
       "      <td>0.0077</td>\n",
       "      <td>2.6331</td>\n",
       "      <td>0.1757</td>\n",
       "      <td>0.1757</td>\n",
       "      <td>8.5</td>\n",
       "      <td>0.5</td>\n",
       "    </tr>\n",
       "  </tbody>\n",
       "</table>\n",
       "<p>5 rows × 23 columns</p>\n",
       "</div>"
      ],
      "text/plain": [
       "       KIC   numax  enumax      dnu   ednu  Teff  eTeff   feh  efeh  modmass  \\\n",
       "0  1435467  1406.7     6.3   70.369  0.034  6326     77  0.01   0.1   1.3189   \n",
       "1  2837475  1557.6     8.2   75.729  0.041  6614     77  0.01   0.1   1.4291   \n",
       "2  3427720  2737.0    10.7  120.068  0.031  6045     77 -0.06   0.1   1.1080   \n",
       "3  3456181   970.0     8.3   52.264  0.041  6384     77 -0.15   0.1   1.4975   \n",
       "4  3632418  1166.8     3.0   60.704  0.019  6193     77 -0.12   0.1   1.4082   \n",
       "\n",
       "    ...    upmodrad  lomodrad  modlogg  upmodlogg  lomodlogg     age   upage  \\\n",
       "0   ...       0.018     0.021   4.0997     0.0088     0.0088  3.0164  0.4951   \n",
       "1   ...       0.015     0.018   4.1635     0.0066     0.0066  1.6270  0.1118   \n",
       "2   ...       0.009     0.009   4.3868     0.0044     0.0055  2.2339  0.2396   \n",
       "3   ...       0.027     0.027   3.9490     0.0088     0.0077  2.0901  0.1278   \n",
       "4   ...       0.021     0.024   4.0238     0.0077     0.0077  2.6331  0.1757   \n",
       "\n",
       "    loage  vsini  evsini  \n",
       "0  0.3513   11.9     0.5  \n",
       "1  0.1757   23.3     0.5  \n",
       "2  0.2396    2.9     0.5  \n",
       "3  0.1278    8.5     0.5  \n",
       "4  0.1757    8.5     0.5  \n",
       "\n",
       "[5 rows x 23 columns]"
      ]
     },
     "execution_count": 7,
     "metadata": {},
     "output_type": "execute_result"
    }
   ],
   "source": [
    "legacy.head(5)"
   ]
  },
  {
   "cell_type": "markdown",
   "metadata": {},
   "source": [
    "# Kages\n",
    "## We will use the BASTA model parameters"
   ]
  },
  {
   "cell_type": "markdown",
   "metadata": {},
   "source": [
    "### Table 3, Paper 1\n",
    "We will take the model parameters as well as the atmospheric parameters from here."
   ]
  },
  {
   "cell_type": "code",
   "execution_count": 8,
   "metadata": {},
   "outputs": [
    {
     "data": {
      "text/markdown": [
       "*ADQL query*\n",
       "```mysql\n",
       "\n",
       "SELECT\n",
       "    obs.KIC, obs.Teff, obs.\"e_Teff\" AS eTeff, obs.\"[Fe/H]\" AS feh, obs.\"e_[Fe/H]\" AS efeh,\n",
       "    obs.Mass AS modmass, obs.\"E_Mass\" AS upmodmass, obs.\"e_Mass\" AS lomodmass,\n",
       "    obs.Radius AS modrad, obs.\"E_Radius\" AS upmodrad, obs.\"e_Radius\" AS lomodrad,\n",
       "    obs.logg AS modlogg, obs.\"E_logg\" AS upmodlogg, obs.\"e_logg\" AS lomodlogg,\n",
       "    obs.Age AS age, obs.\"E_Age\" AS upage, obs.\"e_Age\" AS loage\n",
       "FROM\n",
       "    \"J/MNRAS/452/2127/table3\" AS obs\n",
       "\n",
       "```"
      ],
      "text/plain": [
       "\n",
       "SELECT\n",
       "    obs.KIC, obs.Teff, obs.\"e_Teff\" AS eTeff, obs.\"[Fe/H]\" AS feh, obs.\"e_[Fe/H]\" AS efeh,\n",
       "    obs.Mass AS modmass, obs.\"E_Mass\" AS upmodmass, obs.\"e_Mass\" AS lomodmass,\n",
       "    obs.Radius AS modrad, obs.\"E_Radius\" AS upmodrad, obs.\"e_Radius\" AS lomodrad,\n",
       "    obs.logg AS modlogg, obs.\"E_logg\" AS upmodlogg, obs.\"e_logg\" AS lomodlogg,\n",
       "    obs.Age AS age, obs.\"E_Age\" AS upage, obs.\"e_Age\" AS loage\n",
       "FROM\n",
       "    \"J/MNRAS/452/2127/table3\" AS obs"
      ]
     },
     "metadata": {},
     "output_type": "display_data"
    }
   ],
   "source": [
    "adql = QueryStr(\"\"\"\n",
    "select \n",
    "    obs.KIC, obs.Teff, obs.\"e_Teff\" as eTeff, obs.\"[Fe/H]\" as feh, obs.\"e_[Fe/H]\" as efeh,\n",
    "    obs.Mass as modmass, obs.\"E_Mass\" as upmodmass, obs.\"e_Mass\" as lomodmass,\n",
    "    obs.Radius as modrad, obs.\"E_Radius\" as upmodrad, obs.\"e_Radius\" as lomodrad,\n",
    "    obs.logg as modlogg, obs.\"E_logg\" as upmodlogg, obs.\"e_logg\" as lomodlogg,\n",
    "    obs.Age as age, obs.\"E_Age\" as upage, obs.\"e_Age\" as loage\n",
    "from \n",
    "    \"J/MNRAS/452/2127/table3\" as obs\n",
    "\"\"\")\n",
    "\n",
    "vizier = tv()\n",
    "kagesmodels = vizier.query(adql).to_pandas()"
   ]
  },
  {
   "cell_type": "markdown",
   "metadata": {},
   "source": [
    "### Table 1, Paper 2\n",
    "This table is not on Vizier, so we shall read it in. The $vsin(i)$ values are not reported in the publication of Davies+2016, but have been received via private communication."
   ]
  },
  {
   "cell_type": "code",
   "execution_count": 9,
   "metadata": {},
   "outputs": [],
   "source": [
    "kagesseis = pd.read_csv('kagesIIdata.dat', \n",
    "                      usecols=['KIC','num','snum','dnu','sdnu','vsini','svsini'],\n",
    "                      sep='\\s+').rename(columns={'num':'numax',\n",
    "                                                'snum':'enumax',\n",
    "                                                'sdnu':'ednu',\n",
    "                                                'svsini':'evsini'})"
   ]
  },
  {
   "cell_type": "code",
   "execution_count": 10,
   "metadata": {},
   "outputs": [],
   "source": [
    "kages = kagesmodels.merge(kagesseis, on='KIC',sort='left')"
   ]
  },
  {
   "cell_type": "code",
   "execution_count": 11,
   "metadata": {},
   "outputs": [
    {
     "data": {
      "text/html": [
       "<div>\n",
       "<style scoped>\n",
       "    .dataframe tbody tr th:only-of-type {\n",
       "        vertical-align: middle;\n",
       "    }\n",
       "\n",
       "    .dataframe tbody tr th {\n",
       "        vertical-align: top;\n",
       "    }\n",
       "\n",
       "    .dataframe thead th {\n",
       "        text-align: right;\n",
       "    }\n",
       "</style>\n",
       "<table border=\"1\" class=\"dataframe\">\n",
       "  <thead>\n",
       "    <tr style=\"text-align: right;\">\n",
       "      <th></th>\n",
       "      <th>KIC</th>\n",
       "      <th>Teff</th>\n",
       "      <th>eTeff</th>\n",
       "      <th>feh</th>\n",
       "      <th>efeh</th>\n",
       "      <th>modmass</th>\n",
       "      <th>upmodmass</th>\n",
       "      <th>lomodmass</th>\n",
       "      <th>modrad</th>\n",
       "      <th>upmodrad</th>\n",
       "      <th>...</th>\n",
       "      <th>lomodlogg</th>\n",
       "      <th>age</th>\n",
       "      <th>upage</th>\n",
       "      <th>loage</th>\n",
       "      <th>numax</th>\n",
       "      <th>enumax</th>\n",
       "      <th>dnu</th>\n",
       "      <th>ednu</th>\n",
       "      <th>vsini</th>\n",
       "      <th>evsini</th>\n",
       "    </tr>\n",
       "  </thead>\n",
       "  <tbody>\n",
       "    <tr>\n",
       "      <th>0</th>\n",
       "      <td>3425851</td>\n",
       "      <td>6343</td>\n",
       "      <td>85</td>\n",
       "      <td>-0.04</td>\n",
       "      <td>0.10</td>\n",
       "      <td>1.178</td>\n",
       "      <td>0.049</td>\n",
       "      <td>0.049</td>\n",
       "      <td>1.360</td>\n",
       "      <td>0.015</td>\n",
       "      <td>...</td>\n",
       "      <td>0.008</td>\n",
       "      <td>3.32</td>\n",
       "      <td>0.85</td>\n",
       "      <td>0.64</td>\n",
       "      <td>2038</td>\n",
       "      <td>60</td>\n",
       "      <td>92.60</td>\n",
       "      <td>1.50</td>\n",
       "      <td>9.5</td>\n",
       "      <td>0.5</td>\n",
       "    </tr>\n",
       "    <tr>\n",
       "      <th>1</th>\n",
       "      <td>3544595</td>\n",
       "      <td>5669</td>\n",
       "      <td>75</td>\n",
       "      <td>-0.18</td>\n",
       "      <td>0.10</td>\n",
       "      <td>0.899</td>\n",
       "      <td>0.009</td>\n",
       "      <td>0.009</td>\n",
       "      <td>0.916</td>\n",
       "      <td>0.006</td>\n",
       "      <td>...</td>\n",
       "      <td>0.003</td>\n",
       "      <td>6.63</td>\n",
       "      <td>0.62</td>\n",
       "      <td>0.57</td>\n",
       "      <td>3366</td>\n",
       "      <td>81</td>\n",
       "      <td>145.77</td>\n",
       "      <td>0.45</td>\n",
       "      <td>2.0</td>\n",
       "      <td>0.5</td>\n",
       "    </tr>\n",
       "    <tr>\n",
       "      <th>2</th>\n",
       "      <td>3632418</td>\n",
       "      <td>6305</td>\n",
       "      <td>50</td>\n",
       "      <td>-0.03</td>\n",
       "      <td>0.10</td>\n",
       "      <td>1.408</td>\n",
       "      <td>0.021</td>\n",
       "      <td>0.030</td>\n",
       "      <td>1.902</td>\n",
       "      <td>0.018</td>\n",
       "      <td>...</td>\n",
       "      <td>0.004</td>\n",
       "      <td>2.60</td>\n",
       "      <td>0.16</td>\n",
       "      <td>0.16</td>\n",
       "      <td>1153</td>\n",
       "      <td>32</td>\n",
       "      <td>60.86</td>\n",
       "      <td>0.55</td>\n",
       "      <td>7.7</td>\n",
       "      <td>1.0</td>\n",
       "    </tr>\n",
       "    <tr>\n",
       "      <th>3</th>\n",
       "      <td>4141376</td>\n",
       "      <td>6134</td>\n",
       "      <td>91</td>\n",
       "      <td>-0.24</td>\n",
       "      <td>0.10</td>\n",
       "      <td>1.019</td>\n",
       "      <td>0.021</td>\n",
       "      <td>0.030</td>\n",
       "      <td>1.039</td>\n",
       "      <td>0.009</td>\n",
       "      <td>...</td>\n",
       "      <td>0.004</td>\n",
       "      <td>3.27</td>\n",
       "      <td>0.59</td>\n",
       "      <td>0.64</td>\n",
       "      <td>2928</td>\n",
       "      <td>97</td>\n",
       "      <td>128.80</td>\n",
       "      <td>1.30</td>\n",
       "      <td>3.5</td>\n",
       "      <td>0.5</td>\n",
       "    </tr>\n",
       "    <tr>\n",
       "      <th>4</th>\n",
       "      <td>4143755</td>\n",
       "      <td>5622</td>\n",
       "      <td>106</td>\n",
       "      <td>-0.40</td>\n",
       "      <td>0.11</td>\n",
       "      <td>0.918</td>\n",
       "      <td>0.021</td>\n",
       "      <td>0.030</td>\n",
       "      <td>1.414</td>\n",
       "      <td>0.012</td>\n",
       "      <td>...</td>\n",
       "      <td>0.002</td>\n",
       "      <td>11.27</td>\n",
       "      <td>1.50</td>\n",
       "      <td>1.35</td>\n",
       "      <td>1458</td>\n",
       "      <td>57</td>\n",
       "      <td>77.20</td>\n",
       "      <td>1.30</td>\n",
       "      <td>2.2</td>\n",
       "      <td>0.6</td>\n",
       "    </tr>\n",
       "  </tbody>\n",
       "</table>\n",
       "<p>5 rows × 23 columns</p>\n",
       "</div>"
      ],
      "text/plain": [
       "       KIC  Teff  eTeff   feh  efeh  modmass  upmodmass  lomodmass  modrad  \\\n",
       "0  3425851  6343     85 -0.04  0.10    1.178      0.049      0.049   1.360   \n",
       "1  3544595  5669     75 -0.18  0.10    0.899      0.009      0.009   0.916   \n",
       "2  3632418  6305     50 -0.03  0.10    1.408      0.021      0.030   1.902   \n",
       "3  4141376  6134     91 -0.24  0.10    1.019      0.021      0.030   1.039   \n",
       "4  4143755  5622    106 -0.40  0.11    0.918      0.021      0.030   1.414   \n",
       "\n",
       "   upmodrad   ...    lomodlogg    age  upage  loage  numax  enumax     dnu  \\\n",
       "0     0.015   ...        0.008   3.32   0.85   0.64   2038      60   92.60   \n",
       "1     0.006   ...        0.003   6.63   0.62   0.57   3366      81  145.77   \n",
       "2     0.018   ...        0.004   2.60   0.16   0.16   1153      32   60.86   \n",
       "3     0.009   ...        0.004   3.27   0.59   0.64   2928      97  128.80   \n",
       "4     0.012   ...        0.002  11.27   1.50   1.35   1458      57   77.20   \n",
       "\n",
       "   ednu  vsini  evsini  \n",
       "0  1.50    9.5     0.5  \n",
       "1  0.45    2.0     0.5  \n",
       "2  0.55    7.7     1.0  \n",
       "3  1.30    3.5     0.5  \n",
       "4  1.30    2.2     0.6  \n",
       "\n",
       "[5 rows x 23 columns]"
      ]
     },
     "execution_count": 11,
     "metadata": {},
     "output_type": "execute_result"
    }
   ],
   "source": [
    "kages.head(5)"
   ]
  },
  {
   "cell_type": "markdown",
   "metadata": {},
   "source": [
    "# Now lets combine them!\n",
    "## We'll add a Legacy/Kages (L/K) source label also"
   ]
  },
  {
   "cell_type": "code",
   "execution_count": 12,
   "metadata": {},
   "outputs": [],
   "source": [
    "legacy['source'] = ['L'] * len(legacy)\n",
    "kages['source'] = ['K'] * len(kages)\n",
    "malatium = legacy.merge(kages, on='KIC', how='outer')"
   ]
  },
  {
   "cell_type": "markdown",
   "metadata": {},
   "source": [
    "Note that there are 4 duplicates across these catalogues. These stars are:\n",
    "* 3632418\n",
    "* 9414417\n",
    "* 9955598\t\n",
    "* 10963065\n",
    "\n",
    "In these cases we preserve the values reported in LEGACY and not in Kages."
   ]
  },
  {
   "cell_type": "code",
   "execution_count": 13,
   "metadata": {},
   "outputs": [],
   "source": [
    "malatium = legacy.append(kages).drop_duplicates('KIC', keep='first')"
   ]
  },
  {
   "cell_type": "code",
   "execution_count": 14,
   "metadata": {},
   "outputs": [
    {
     "name": "stdout",
     "output_type": "stream",
     "text": [
      "Our final sample contains: 95 stars\n"
     ]
    }
   ],
   "source": [
    "malatium.to_csv('malatium.csv')\n",
    "malatium['KIC'].to_csv('targetlist.txt',index=False)\n",
    "print('Our final sample contains: {} stars'.format(len(malatium)))"
   ]
  },
  {
   "cell_type": "markdown",
   "metadata": {},
   "source": [
    "# Lets make some fun plots!"
   ]
  },
  {
   "cell_type": "code",
   "execution_count": 15,
   "metadata": {
    "scrolled": false
   },
   "outputs": [
    {
     "data": {
      "text/plain": [
       "<seaborn.axisgrid.JointGrid at 0x7f1c93f186a0>"
      ]
     },
     "execution_count": 15,
     "metadata": {},
     "output_type": "execute_result"
    },
    {
     "data": {
      "image/png": "[encoded data removed]",
      "text/plain": [
       "<Figure size 432x432 with 3 Axes>"
      ]
     },
     "metadata": {
      "needs_background": "light"
     },
     "output_type": "display_data"
    },
    {
     "data": {
      "image/png": "[encoded data removed]",
      "text/plain": [
       "<Figure size 432x432 with 3 Axes>"
      ]
     },
     "metadata": {
      "needs_background": "light"
     },
     "output_type": "display_data"
    },
    {
     "data": {
      "image/png": "[encoded data removed]",
      "text/plain": [
       "<Figure size 432x432 with 3 Axes>"
      ]
     },
     "metadata": {
      "needs_background": "light"
     },
     "output_type": "display_data"
    },
    {
     "data": {
      "image/png": "[encoded data removed]",
      "text/plain": [
       "<Figure size 432x432 with 3 Axes>"
      ]
     },
     "metadata": {
      "needs_background": "light"
     },
     "output_type": "display_data"
    },
    {
     "data": {
      "image/png": "[encoded data removed]",
      "text/plain": [
       "<Figure size 432x432 with 3 Axes>"
      ]
     },
     "metadata": {
      "needs_background": "light"
     },
     "output_type": "display_data"
    }
   ],
   "source": [
    "sns.set_context('notebook',rc={\"font.size\":20,\"axes.titlesize\":20,\"axes.labelsize\":20})\n",
    "sns.jointplot('Teff', 'numax', data=malatium)\n",
    "sns.jointplot('numax','dnu',data=malatium)\n",
    "sns.jointplot('modmass','age',data=malatium)\n",
    "sns.jointplot('Teff','age',data=malatium)\n",
    "sns.jointplot('feh','age',data=malatium)"
   ]
  },
  {
   "cell_type": "code",
   "execution_count": null,
   "metadata": {},
   "outputs": [],
   "source": []
  }
 ],
 "metadata": {
  "kernelspec": {
   "display_name": "Python 3",
   "language": "python",
   "name": "python3"
  },
  "language_info": {
   "codemirror_mode": {
    "name": "ipython",
    "version": 3
   },
   "file_extension": ".py",
   "mimetype": "text/x-python",
   "name": "python",
   "nbconvert_exporter": "python",
   "pygments_lexer": "ipython3",
   "version": "3.6.7"
  }
 },
 "nbformat": 4,
 "nbformat_minor": 2
}
