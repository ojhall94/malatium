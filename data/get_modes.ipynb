{
 "cells": [
  {
   "cell_type": "markdown",
   "metadata": {},
   "source": [
    "The seismic modes are stored in various files. I'm going to put them all together in a single file."
   ]
  },
  {
   "cell_type": "code",
   "execution_count": 1,
   "metadata": {},
   "outputs": [],
   "source": [
    "import numpy as np\n",
    "import pandas as pd\n",
    "import glob\n",
    "from astropy.io import ascii"
   ]
  },
  {
   "cell_type": "markdown",
   "metadata": {},
   "source": [
    "## Add LEGACY modes\n",
    "The LEGACY modes are more accessible in a single file, so lets use that as the base."
   ]
  },
  {
   "cell_type": "code",
   "execution_count": 2,
   "metadata": {},
   "outputs": [
    {
     "name": "stderr",
     "output_type": "stream",
     "text": [
      "WARNING: UnitsWarning: '[-]' did not parse as cds unit: Invalid character at col 0 [astropy.units.core]\n"
     ]
    }
   ],
   "source": [
    "copper = ascii.read('legacy_modeids.txt').to_pandas()"
   ]
  },
  {
   "cell_type": "markdown",
   "metadata": {},
   "source": [
    "Add the source labels to the array"
   ]
  },
  {
   "cell_type": "code",
   "execution_count": 3,
   "metadata": {},
   "outputs": [
    {
     "data": {
      "text/html": [
       "<div>\n",
       "<style scoped>\n",
       "    .dataframe tbody tr th:only-of-type {\n",
       "        vertical-align: middle;\n",
       "    }\n",
       "\n",
       "    .dataframe tbody tr th {\n",
       "        vertical-align: top;\n",
       "    }\n",
       "\n",
       "    .dataframe thead th {\n",
       "        text-align: right;\n",
       "    }\n",
       "</style>\n",
       "<table border=\"1\" class=\"dataframe\">\n",
       "  <thead>\n",
       "    <tr style=\"text-align: right;\">\n",
       "      <th></th>\n",
       "      <th>KIC</th>\n",
       "      <th>n</th>\n",
       "      <th>l</th>\n",
       "      <th>Freq</th>\n",
       "      <th>e_Freq</th>\n",
       "      <th>E_Freq</th>\n",
       "      <th>Amp</th>\n",
       "      <th>e_Amp</th>\n",
       "      <th>E_Amp</th>\n",
       "      <th>Width</th>\n",
       "      <th>e_Width</th>\n",
       "      <th>E_Width</th>\n",
       "      <th>l_lnK</th>\n",
       "      <th>lnK</th>\n",
       "      <th>source</th>\n",
       "    </tr>\n",
       "  </thead>\n",
       "  <tbody>\n",
       "    <tr>\n",
       "      <th>0</th>\n",
       "      <td>1435467</td>\n",
       "      <td>11</td>\n",
       "      <td>1</td>\n",
       "      <td>889.25</td>\n",
       "      <td>0.47</td>\n",
       "      <td>0.53</td>\n",
       "      <td>NaN</td>\n",
       "      <td>NaN</td>\n",
       "      <td>NaN</td>\n",
       "      <td>NaN</td>\n",
       "      <td>NaN</td>\n",
       "      <td>NaN</td>\n",
       "      <td>&gt;</td>\n",
       "      <td>6.00</td>\n",
       "      <td>L</td>\n",
       "    </tr>\n",
       "    <tr>\n",
       "      <th>1</th>\n",
       "      <td>1435467</td>\n",
       "      <td>11</td>\n",
       "      <td>2</td>\n",
       "      <td>920.04</td>\n",
       "      <td>1.82</td>\n",
       "      <td>1.99</td>\n",
       "      <td>NaN</td>\n",
       "      <td>NaN</td>\n",
       "      <td>NaN</td>\n",
       "      <td>NaN</td>\n",
       "      <td>NaN</td>\n",
       "      <td>NaN</td>\n",
       "      <td>NaN</td>\n",
       "      <td>-0.43</td>\n",
       "      <td>L</td>\n",
       "    </tr>\n",
       "    <tr>\n",
       "      <th>2</th>\n",
       "      <td>1435467</td>\n",
       "      <td>12</td>\n",
       "      <td>0</td>\n",
       "      <td>928.22</td>\n",
       "      <td>0.94</td>\n",
       "      <td>0.71</td>\n",
       "      <td>2.39</td>\n",
       "      <td>0.14</td>\n",
       "      <td>0.13</td>\n",
       "      <td>4.79</td>\n",
       "      <td>0.57</td>\n",
       "      <td>0.96</td>\n",
       "      <td>NaN</td>\n",
       "      <td>2.11</td>\n",
       "      <td>L</td>\n",
       "    </tr>\n",
       "    <tr>\n",
       "      <th>3</th>\n",
       "      <td>1435467</td>\n",
       "      <td>12</td>\n",
       "      <td>1</td>\n",
       "      <td>957.04</td>\n",
       "      <td>0.50</td>\n",
       "      <td>0.46</td>\n",
       "      <td>NaN</td>\n",
       "      <td>NaN</td>\n",
       "      <td>NaN</td>\n",
       "      <td>NaN</td>\n",
       "      <td>NaN</td>\n",
       "      <td>NaN</td>\n",
       "      <td>&gt;</td>\n",
       "      <td>6.00</td>\n",
       "      <td>L</td>\n",
       "    </tr>\n",
       "    <tr>\n",
       "      <th>4</th>\n",
       "      <td>1435467</td>\n",
       "      <td>12</td>\n",
       "      <td>2</td>\n",
       "      <td>989.14</td>\n",
       "      <td>1.24</td>\n",
       "      <td>1.30</td>\n",
       "      <td>NaN</td>\n",
       "      <td>NaN</td>\n",
       "      <td>NaN</td>\n",
       "      <td>NaN</td>\n",
       "      <td>NaN</td>\n",
       "      <td>NaN</td>\n",
       "      <td>NaN</td>\n",
       "      <td>1.63</td>\n",
       "      <td>L</td>\n",
       "    </tr>\n",
       "  </tbody>\n",
       "</table>\n",
       "</div>"
      ],
      "text/plain": [
       "       KIC   n  l    Freq  e_Freq  E_Freq   Amp  e_Amp  E_Amp  Width  e_Width  \\\n",
       "0  1435467  11  1  889.25    0.47    0.53   NaN    NaN    NaN    NaN      NaN   \n",
       "1  1435467  11  2  920.04    1.82    1.99   NaN    NaN    NaN    NaN      NaN   \n",
       "2  1435467  12  0  928.22    0.94    0.71  2.39   0.14   0.13   4.79     0.57   \n",
       "3  1435467  12  1  957.04    0.50    0.46   NaN    NaN    NaN    NaN      NaN   \n",
       "4  1435467  12  2  989.14    1.24    1.30   NaN    NaN    NaN    NaN      NaN   \n",
       "\n",
       "   E_Width l_lnK   lnK source  \n",
       "0      NaN     >  6.00      L  \n",
       "1      NaN   NaN -0.43      L  \n",
       "2     0.96   NaN  2.11      L  \n",
       "3      NaN     >  6.00      L  \n",
       "4      NaN   NaN  1.63      L  "
      ]
     },
     "execution_count": 3,
     "metadata": {},
     "output_type": "execute_result"
    }
   ],
   "source": [
    "copper['source'] = ['L' for x in range(len(copper))]\n",
    "copper.head()"
   ]
  },
  {
   "cell_type": "markdown",
   "metadata": {},
   "source": [
    "## Add Kages modes"
   ]
  },
  {
   "cell_type": "markdown",
   "metadata": {},
   "source": [
    "Some stars are duplicated between LEGACY and Kages. In these cases, we have kept the stellar parameters reported in LEGACY, so we want to make sure we use the modes from legacy as well.\n",
    "\n",
    "We will read in our list of target stars and read in modes for Kages stars in that list."
   ]
  },
  {
   "cell_type": "code",
   "execution_count": 4,
   "metadata": {},
   "outputs": [],
   "source": [
    "malatium = pd.read_csv('malatium.csv',index_col=0)\n",
    "kics = malatium[malatium.source == 'K'].KIC.values"
   ]
  },
  {
   "cell_type": "code",
   "execution_count": 5,
   "metadata": {},
   "outputs": [],
   "source": [
    "for kic in kics:\n",
    "    sfile = glob.glob('kages_modeids/'+str(kic)+'/*/*.fre',recursive=True)[0]\n",
    "    modes = pd.read_csv(sfile, names=['n','l','Freq','e_Freq'], sep='\\s+')\n",
    "    modes['KIC'] = [kic for x in range(len(modes))]\n",
    "    modes['source'] = ['K' for x in range(len(modes))]\n",
    "    copper = pd.concat([copper, modes],sort=False, ignore_index=True).reset_index(drop=True)"
   ]
  },
  {
   "cell_type": "code",
   "execution_count": 8,
   "metadata": {},
   "outputs": [
    {
     "data": {
      "text/html": [
       "<div>\n",
       "<style scoped>\n",
       "    .dataframe tbody tr th:only-of-type {\n",
       "        vertical-align: middle;\n",
       "    }\n",
       "\n",
       "    .dataframe tbody tr th {\n",
       "        vertical-align: top;\n",
       "    }\n",
       "\n",
       "    .dataframe thead th {\n",
       "        text-align: right;\n",
       "    }\n",
       "</style>\n",
       "<table border=\"1\" class=\"dataframe\">\n",
       "  <thead>\n",
       "    <tr style=\"text-align: right;\">\n",
       "      <th></th>\n",
       "      <th>KIC</th>\n",
       "      <th>n</th>\n",
       "      <th>l</th>\n",
       "      <th>Freq</th>\n",
       "      <th>e_Freq</th>\n",
       "      <th>E_Freq</th>\n",
       "      <th>Amp</th>\n",
       "      <th>e_Amp</th>\n",
       "      <th>E_Amp</th>\n",
       "      <th>Width</th>\n",
       "      <th>e_Width</th>\n",
       "      <th>E_Width</th>\n",
       "      <th>l_lnK</th>\n",
       "      <th>lnK</th>\n",
       "      <th>source</th>\n",
       "    </tr>\n",
       "  </thead>\n",
       "  <tbody>\n",
       "    <tr>\n",
       "      <th>0</th>\n",
       "      <td>1435467</td>\n",
       "      <td>11</td>\n",
       "      <td>1</td>\n",
       "      <td>889.25</td>\n",
       "      <td>0.47</td>\n",
       "      <td>0.53</td>\n",
       "      <td>NaN</td>\n",
       "      <td>NaN</td>\n",
       "      <td>NaN</td>\n",
       "      <td>NaN</td>\n",
       "      <td>NaN</td>\n",
       "      <td>NaN</td>\n",
       "      <td>&gt;</td>\n",
       "      <td>6.00</td>\n",
       "      <td>L</td>\n",
       "    </tr>\n",
       "    <tr>\n",
       "      <th>1</th>\n",
       "      <td>1435467</td>\n",
       "      <td>11</td>\n",
       "      <td>2</td>\n",
       "      <td>920.04</td>\n",
       "      <td>1.82</td>\n",
       "      <td>1.99</td>\n",
       "      <td>NaN</td>\n",
       "      <td>NaN</td>\n",
       "      <td>NaN</td>\n",
       "      <td>NaN</td>\n",
       "      <td>NaN</td>\n",
       "      <td>NaN</td>\n",
       "      <td>NaN</td>\n",
       "      <td>-0.43</td>\n",
       "      <td>L</td>\n",
       "    </tr>\n",
       "    <tr>\n",
       "      <th>2</th>\n",
       "      <td>1435467</td>\n",
       "      <td>12</td>\n",
       "      <td>0</td>\n",
       "      <td>928.22</td>\n",
       "      <td>0.94</td>\n",
       "      <td>0.71</td>\n",
       "      <td>2.39</td>\n",
       "      <td>0.14</td>\n",
       "      <td>0.13</td>\n",
       "      <td>4.79</td>\n",
       "      <td>0.57</td>\n",
       "      <td>0.96</td>\n",
       "      <td>NaN</td>\n",
       "      <td>2.11</td>\n",
       "      <td>L</td>\n",
       "    </tr>\n",
       "    <tr>\n",
       "      <th>3</th>\n",
       "      <td>1435467</td>\n",
       "      <td>12</td>\n",
       "      <td>1</td>\n",
       "      <td>957.04</td>\n",
       "      <td>0.50</td>\n",
       "      <td>0.46</td>\n",
       "      <td>NaN</td>\n",
       "      <td>NaN</td>\n",
       "      <td>NaN</td>\n",
       "      <td>NaN</td>\n",
       "      <td>NaN</td>\n",
       "      <td>NaN</td>\n",
       "      <td>&gt;</td>\n",
       "      <td>6.00</td>\n",
       "      <td>L</td>\n",
       "    </tr>\n",
       "    <tr>\n",
       "      <th>4</th>\n",
       "      <td>1435467</td>\n",
       "      <td>12</td>\n",
       "      <td>2</td>\n",
       "      <td>989.14</td>\n",
       "      <td>1.24</td>\n",
       "      <td>1.30</td>\n",
       "      <td>NaN</td>\n",
       "      <td>NaN</td>\n",
       "      <td>NaN</td>\n",
       "      <td>NaN</td>\n",
       "      <td>NaN</td>\n",
       "      <td>NaN</td>\n",
       "      <td>NaN</td>\n",
       "      <td>1.63</td>\n",
       "      <td>L</td>\n",
       "    </tr>\n",
       "  </tbody>\n",
       "</table>\n",
       "</div>"
      ],
      "text/plain": [
       "       KIC   n  l    Freq  e_Freq  E_Freq   Amp  e_Amp  E_Amp  Width  e_Width  \\\n",
       "0  1435467  11  1  889.25    0.47    0.53   NaN    NaN    NaN    NaN      NaN   \n",
       "1  1435467  11  2  920.04    1.82    1.99   NaN    NaN    NaN    NaN      NaN   \n",
       "2  1435467  12  0  928.22    0.94    0.71  2.39   0.14   0.13   4.79     0.57   \n",
       "3  1435467  12  1  957.04    0.50    0.46   NaN    NaN    NaN    NaN      NaN   \n",
       "4  1435467  12  2  989.14    1.24    1.30   NaN    NaN    NaN    NaN      NaN   \n",
       "\n",
       "   E_Width l_lnK   lnK source  \n",
       "0      NaN     >  6.00      L  \n",
       "1      NaN   NaN -0.43      L  \n",
       "2     0.96   NaN  2.11      L  \n",
       "3      NaN     >  6.00      L  \n",
       "4      NaN   NaN  1.63      L  "
      ]
     },
     "execution_count": 8,
     "metadata": {},
     "output_type": "execute_result"
    }
   ],
   "source": [
    "copper.head()"
   ]
  },
  {
   "cell_type": "markdown",
   "metadata": {},
   "source": [
    "## Now lets save the output"
   ]
  },
  {
   "cell_type": "code",
   "execution_count": 9,
   "metadata": {},
   "outputs": [],
   "source": [
    "copper.to_csv('copper.csv')"
   ]
  }
 ],
 "metadata": {
  "kernelspec": {
   "display_name": "Python 3",
   "language": "python",
   "name": "python3"
  },
  "language_info": {
   "codemirror_mode": {
    "name": "ipython",
    "version": 3
   },
   "file_extension": ".py",
   "mimetype": "text/x-python",
   "name": "python",
   "nbconvert_exporter": "python",
   "pygments_lexer": "ipython3",
   "version": "3.6.7"
  }
 },
 "nbformat": 4,
 "nbformat_minor": 2
}
