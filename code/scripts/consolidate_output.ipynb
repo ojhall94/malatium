{
 "cells": [
  {
   "cell_type": "markdown",
   "metadata": {},
   "source": [
    "# Consolidate Output\n",
    "This program reads in the data from runs on the BlueBEAR cluster via RDS and appends them on to the existing `malatium` and `copper` dataframes, saving them as `atium` and `bronze` respectively."
   ]
  },
  {
   "cell_type": "code",
   "execution_count": 1,
   "metadata": {},
   "outputs": [
    {
     "name": "stderr",
     "output_type": "stream",
     "text": [
      "/Users/Oliver/Library/Python/3.7/lib/python/site-packages/statsmodels/tools/_testing.py:19: FutureWarning: pandas.util.testing is deprecated. Use the functions in the public API at pandas.testing instead.\n",
      "  import pandas.util.testing as tm\n"
     ]
    }
   ],
   "source": [
    "import numpy as np\n",
    "import lightkurve as lk\n",
    "import pandas as pd\n",
    "import fnmatch as fnm\n",
    "import seaborn as sns\n",
    "import astropy.units as u\n",
    "from tqdm import tqdm\n",
    "import glob\n",
    "import matplotlib.pyplot as plt\n",
    "pd.set_option('display.max_columns', None)\n"
   ]
  },
  {
   "cell_type": "markdown",
   "metadata": {},
   "source": [
    "Read in the existing dataframe"
   ]
  },
  {
   "cell_type": "code",
   "execution_count": 2,
   "metadata": {},
   "outputs": [],
   "source": [
    "cols = ['KIC','Teff','age','dnu','eTeff','ednu','efeh','enumax','feh','loage','lomodlogg','lomodmass','lomodrad','modlogg','modmass','modrad','numax','source','upage','upmodlogg', 'upmodmass','upmodrad','G','bprp']\n",
    "mal = pd.read_csv('../../data/malatium.csv', usecols=cols)\n",
    "cop = pd.read_csv('../../data/copper.csv', index_col=0)"
   ]
  },
  {
   "cell_type": "markdown",
   "metadata": {},
   "source": [
    "## Remove lines from `copper` for modes we don't use."
   ]
  },
  {
   "cell_type": "code",
   "execution_count": 4,
   "metadata": {},
   "outputs": [],
   "source": [
    "alt = [7970740, 8006161, 12069424, 12069449] # remove lnk<6\n",
    "alt2 = 8478994 # Remove n <= 21 & n >= 27\n",
    "\n",
    "for a in alt:\n",
    "    ids = cop[(cop.KIC == str(a)) & (cop.l != 3) & (cop.lnK < 6)].index.values\n",
    "    cop.drop(ids, inplace=True)\n",
    "\n",
    "lo = cop[(cop.KIC == str(alt2)) & (cop.l != 3) & (cop.n <= 21)].index.values\n",
    "hi = cop[(cop.KIC == str(alt2)) & (cop.l != 3) & (cop.n >= 27)].index.values\n",
    "cop.drop(lo, inplace=True)\n",
    "cop.drop(hi, inplace=True)"
   ]
  },
  {
   "cell_type": "code",
   "execution_count": 5,
   "metadata": {},
   "outputs": [],
   "source": [
    "cop.reset_index(inplace=True, drop=True)"
   ]
  },
  {
   "cell_type": "markdown",
   "metadata": {},
   "source": [
    "## Add the classification"
   ]
  },
  {
   "cell_type": "markdown",
   "metadata": {},
   "source": [
    "We use the classification from Garcia+2014"
   ]
  },
  {
   "cell_type": "code",
   "execution_count": 3,
   "metadata": {},
   "outputs": [],
   "source": [
    "mal['hrclass'] = ''\n",
    "s = np.where((mal.modlogg > 4.0) & (mal.Teff < 6250))[0]\n",
    "mal.loc[s, 'hrclass'] = 'MS'\n",
    "s = np.where((mal.modlogg < 4.0) & (mal.Teff < 6250))[0]\n",
    "mal.loc[s, 'hrclass'] = 'SG'\n",
    "s = np.where((mal.Teff > 6250))[0]\n",
    "mal.loc[s, 'hrclass'] = 'H'"
   ]
  },
  {
   "cell_type": "markdown",
   "metadata": {},
   "source": [
    "## Add the mode results"
   ]
  },
  {
   "cell_type": "markdown",
   "metadata": {},
   "source": [
    "Parse all the data, including some flags:\n",
    "\n",
    "`empty   : run not yet done`\n",
    "\n",
    "`rhat_1  : has at least one rhat > 1.1. Major concern, exclude from sample`\n",
    "\n",
    "`nosum   : there is no summary available for some reason`\n"
   ]
  },
  {
   "cell_type": "code",
   "execution_count": 7,
   "metadata": {},
   "outputs": [],
   "source": [
    "cop['f'] = np.nan\n",
    "cop['f_e'] = np.nan\n",
    "cop['g'] = np.nan\n",
    "cop['g_e'] = np.nan\n",
    "cop['A'] = np.nan\n",
    "cop['A_e'] = np.nan\n",
    "cop['H'] = np.nan\n",
    "cop['H_e'] = np.nan\n",
    "cop['flag'] = ''"
   ]
  },
  {
   "cell_type": "code",
   "execution_count": 10,
   "metadata": {},
   "outputs": [
    {
     "name": "stderr",
     "output_type": "stream",
     "text": [
      " 66%|██████▋   | 63/95 [01:04<00:31,  1.03it/s]"
     ]
    },
    {
     "name": "stdout",
     "output_type": "stream",
     "text": [
      "Rhats greater than 1.1 for KIC 12069424\n"
     ]
    },
    {
     "name": "stderr",
     "output_type": "stream",
     "text": [
      " 74%|███████▎  | 70/95 [01:10<00:20,  1.21it/s]"
     ]
    },
    {
     "name": "stdout",
     "output_type": "stream",
     "text": [
      "Rhats greater than 1.1 for KIC 4143755\n"
     ]
    },
    {
     "name": "stderr",
     "output_type": "stream",
     "text": [
      " 86%|████████▋ | 82/95 [01:20<00:09,  1.32it/s]"
     ]
    },
    {
     "name": "stdout",
     "output_type": "stream",
     "text": [
      "Rhats greater than 1.1 for KIC 8478994\n"
     ]
    },
    {
     "name": "stderr",
     "output_type": "stream",
     "text": [
      "100%|██████████| 95/95 [01:31<00:00,  1.28it/s]"
     ]
    },
    {
     "name": "stdout",
     "output_type": "stream",
     "text": [
      "There are 0 stars yet to run.\n"
     ]
    },
    {
     "name": "stderr",
     "output_type": "stream",
     "text": [
      "\n"
     ]
    }
   ],
   "source": [
    "incomplete = 0\n",
    "for idx in tqdm(range(95)):\n",
    "    kic = str(mal.loc[idx].KIC)\n",
    "    files = glob.glob('/home/oliver/PhD/mnt/RDS/malatium/peakbag/{}/*chains.csv'.format(str(kic)))\n",
    "\n",
    "    try:\n",
    "        chains = pd.read_csv(files[0],index_col=0)\n",
    "        lis = list(chains)\n",
    "    except IndexError:\n",
    "        incomplete += 1\n",
    "        cop.loc[cop.KIC == kic, 'flag'] = 'empty'\n",
    "        continue\n",
    "\n",
    "    # Lets do each mode in turn\n",
    "    for mode in [0,1,2]:\n",
    "        cop.loc[(cop.KIC==kic)&(cop.l==mode),'f'] = np.median(chains[fnm.filter(lis, f'f{mode}_*')], axis=0)\n",
    "        cop.loc[(cop.KIC==kic)&(cop.l==mode),'f_e'] = np.std(chains[fnm.filter(lis, f'f{mode}_*')], axis=0).values\n",
    "        cop.loc[(cop.KIC==kic)&(cop.l==mode),'g'] = np.median(chains[fnm.filter(lis, f'g{mode}_*')], axis=0)\n",
    "        cop.loc[(cop.KIC==kic)&(cop.l==mode),'g_e'] = np.std(chains[fnm.filter(lis, f'g{mode}_*')], axis=0).values\n",
    "        cop.loc[(cop.KIC==kic)&(cop.l==mode),'A'] = np.median(chains[fnm.filter(lis, f'a{mode}_*')], axis=0)\n",
    "        cop.loc[(cop.KIC==kic)&(cop.l==mode),'A_e'] = np.std(chains[fnm.filter(lis, f'a{mode}_*')], axis=0).values\n",
    "        cop.loc[(cop.KIC==kic)&(cop.l==mode),'H'] = np.median(chains[fnm.filter(lis, f'h{mode}_*')], axis=0)\n",
    "        cop.loc[(cop.KIC==kic)&(cop.l==mode),'H_e'] = np.std(chains[fnm.filter(lis, f'h{mode}_*')], axis=0).values    \n",
    "    \n",
    "    #Lets copy over the Rhats for each mode and flag if needed\n",
    "    try:\n",
    "        summary = pd.read_csv(files[0].replace('chains','summary'), index_col=0)\n",
    "        rhats = summary.loc[fnm.filter(lis, '*__*')].Rhat.values\n",
    "        \n",
    "        if any(np.abs(rhats - 1.) >= 0.1):\n",
    "            print('Rhats greater than 1.1 for KIC {}'.format(str(kic)))\n",
    "            cop.loc[cop.KIC==kic, 'flag'] = 'rhat_1'\n",
    "\n",
    "        \n",
    "    except FileNotFoundError:\n",
    "        print('No summary file for KIC {}'.format(str(kic)))\n",
    "        mal.loc[idx, 'flag'] = 'nosum'\n",
    "        pass\n",
    "print(f'There are {incomplete} stars yet to run.')    "
   ]
  },
  {
   "cell_type": "code",
   "execution_count": 11,
   "metadata": {},
   "outputs": [],
   "source": [
    "cop.to_csv('../../data/bronze.csv')"
   ]
  },
  {
   "cell_type": "markdown",
   "metadata": {},
   "source": [
    "### Add the parameters results"
   ]
  },
  {
   "cell_type": "markdown",
   "metadata": {},
   "source": [
    "Read in the existing dataframes"
   ]
  },
  {
   "cell_type": "code",
   "execution_count": 10,
   "metadata": {},
   "outputs": [],
   "source": [
    "#Add the necessary columns to malatium\n",
    "mal['nus*'] = np.nan\n",
    "mal['l_nus*'] = np.nan\n",
    "mal['u_nus*'] = np.nan\n",
    "\n",
    "mal['cosi'] = np.nan\n",
    "mal['l_cosi'] = np.nan\n",
    "mal['u_cosi'] = np.nan\n",
    "\n",
    "mal['i'] = np.nan\n",
    "mal['l_i'] = np.nan\n",
    "mal['u_i'] = np.nan\n",
    "\n",
    "mal['nus'] = np.nan\n",
    "mal['l_nus'] = np.nan\n",
    "mal['u_nus'] = np.nan\n",
    "\n",
    "mal['P'] = np.nan\n",
    "mal['l_P'] = np.nan\n",
    "mal['u_P'] = np.nan\n",
    "\n",
    "mal['vsini'] = np.nan\n",
    "mal['l_vsini'] = np.nan\n",
    "mal['u_vsini'] = np.nan\n",
    "\n",
    "mal['fit_numax'] = np.nan\n",
    "mal['efit_numax'] = np.nan\n",
    "mal['fit_d01'] = np.nan\n",
    "mal['efit_d01'] = np.nan\n",
    "mal['fit_d02'] = np.nan\n",
    "mal['efit_d02'] = np.nan\n",
    "mal['fit_epsilon'] = np.nan\n",
    "mal['efit_epsilon'] = np.nan\n",
    "\n",
    "mal['V1'] = np.nan\n",
    "mal['eV1'] = np.nan\n",
    "\n",
    "mal['V2'] = np.nan\n",
    "mal['eV2'] = np.nan\n",
    "\n",
    "mal['rhat_flag'] = ''\n",
    "mal['corner_flag'] = np.nan\n",
    "mal['neff_xsplit'] = np.nan\n",
    "mal['neff_cosi'] = np.nan\n",
    "mal['neff_split'] = np.nan\n",
    "mal['neff_i'] = np.nan"
   ]
  },
  {
   "cell_type": "code",
   "execution_count": 13,
   "metadata": {
    "scrolled": false
   },
   "outputs": [
    {
     "name": "stderr",
     "output_type": "stream",
     "text": [
      " 39%|███▉      | 37/95 [00:17<00:26,  2.16it/s]"
     ]
    },
    {
     "name": "stdout",
     "output_type": "stream",
     "text": [
      "Rhats greater than 1.01 for KIC 8760414\n"
     ]
    },
    {
     "name": "stderr",
     "output_type": "stream",
     "text": [
      "\r",
      " 40%|████      | 38/95 [00:17<00:26,  2.17it/s]"
     ]
    },
    {
     "name": "stdout",
     "output_type": "stream",
     "text": [
      "Rhats greater than 1.01 for KIC 8938364\n",
      "Rhats greater than 1.1 for KIC 8938364\n"
     ]
    },
    {
     "name": "stderr",
     "output_type": "stream",
     "text": [
      " 44%|████▍     | 42/95 [00:20<00:44,  1.18it/s]"
     ]
    },
    {
     "name": "stdout",
     "output_type": "stream",
     "text": [
      "Rhats greater than 1.01 for KIC 9139163\n"
     ]
    },
    {
     "name": "stderr",
     "output_type": "stream",
     "text": [
      " 65%|██████▌   | 62/95 [00:28<00:12,  2.72it/s]"
     ]
    },
    {
     "name": "stdout",
     "output_type": "stream",
     "text": [
      "Rhats greater than 1.01 for KIC 12069127\n"
     ]
    },
    {
     "name": "stderr",
     "output_type": "stream",
     "text": [
      "\r",
      " 66%|██████▋   | 63/95 [00:28<00:11,  2.67it/s]"
     ]
    },
    {
     "name": "stdout",
     "output_type": "stream",
     "text": [
      "Rhats greater than 1.01 for KIC 12069424\n",
      "Rhats greater than 1.1 for KIC 12069424\n"
     ]
    },
    {
     "name": "stderr",
     "output_type": "stream",
     "text": [
      " 86%|████████▋ | 82/95 [00:34<00:03,  4.03it/s]"
     ]
    },
    {
     "name": "stdout",
     "output_type": "stream",
     "text": [
      "Rhats greater than 1.01 for KIC 8349582\n",
      "Rhats greater than 1.01 for KIC 8478994\n",
      "Rhats greater than 1.1 for KIC 8478994\n"
     ]
    },
    {
     "name": "stderr",
     "output_type": "stream",
     "text": [
      "100%|██████████| 95/95 [00:38<00:00,  3.29it/s]"
     ]
    },
    {
     "name": "stdout",
     "output_type": "stream",
     "text": [
      "Rhats greater than 1.01 for KIC 11904151\n",
      "There are 0 stars still to run.\n",
      "Of these, 0 lie in the MS region.\n"
     ]
    },
    {
     "name": "stderr",
     "output_type": "stream",
     "text": [
      "\n"
     ]
    }
   ],
   "source": [
    "incomplete = 0\n",
    "for idx in tqdm(range(95)):\n",
    "    kic = mal.loc[idx].KIC\n",
    "    files = glob.glob('/home/oliver/PhD/mnt/RDS/malatium/peakbag/{}/*chains.csv'.format(str(kic)))\n",
    "\n",
    "    # Check to see if run is done\n",
    "    try:\n",
    "        chains = pd.read_csv(files[0],index_col=0)\n",
    "        niters = len(chains)\n",
    "    except IndexError:\n",
    "        incomplete += 1\n",
    "        mal.loc[idx, 'rhat_flag'] = 'empty'\n",
    "        continue\n",
    "\n",
    "    #Flag Rhat values & Neff values\n",
    "    try:\n",
    "        summary = pd.read_csv(files[0].replace('chains','summary'), index_col=0)\n",
    "        rhats = summary.loc[['xsplit','cosi','i','split']].Rhat.values\n",
    "        \n",
    "        if any(np.abs(rhats - 1.) >= 0.01):\n",
    "            print('Rhats greater than 1.01 for KIC {}'.format(str(kic)))\n",
    "            mal.loc[idx, 'rhat_flag'] = 'rhat_01'  \n",
    "        \n",
    "        if any(np.abs(rhats - 1.) >= 0.1):\n",
    "            print('Rhats greater than 1.1 for KIC {}'.format(str(kic)))\n",
    "            mal.loc[idx, 'rhat_flag'] = 'rhat_1'\n",
    "\n",
    "        neff = summary.loc[['xsplit','cosi','i','split']].n_eff\n",
    "        mal.loc[idx, 'neff_xsplit'] = int(neff['xsplit'])\n",
    "        mal.loc[idx, 'neff_cosi'] = int(neff['cosi'])\n",
    "        mal.loc[idx, 'neff_split'] = int(neff['split'])\n",
    "        mal.loc[idx, 'neff_i'] = int(neff['i'])\n",
    "            \n",
    "    except FileNotFoundError:\n",
    "        mal.loc[idx, 'flag'] = 'nosum'\n",
    "        pass\n",
    "    \n",
    "    l, m, up = np.percentile(chains['xsplit'].values,[15.9, 50, 84.1])\n",
    "    mal.loc[idx, 'l_nus*'], mal.loc[idx, 'nus*'], mal.loc[idx, 'u_nus*'] = m-l, m, up-m\n",
    "    \n",
    "    l, m, up = np.percentile(chains['cosi'].values, [15.9, 50, 84.1])\n",
    "    mal.loc[idx, 'l_cosi'], mal.loc[idx, 'cosi'], mal.loc[idx, 'u_cosi'] = m-l, m, up-m\n",
    "    \n",
    "    l, m, up = np.percentile(chains['split'].values,[15.9, 50, 84.1])\n",
    "    mal.loc[idx, 'l_nus'], mal.loc[idx, 'nus'], mal.loc[idx, 'u_nus'] = m-l, m, up-m\n",
    "    \n",
    "    l, m, up = np.percentile(chains['i'].values, [15.9, 50, 84.1])    \n",
    "    mal.loc[idx, 'l_i'], mal.loc[idx, 'i'], mal.loc[idx, 'u_i'] =  m-l, m, up-m\n",
    "    \n",
    "    m, up = np.percentile(chains['numax'].values, [50, 84.1])    \n",
    "    mal.loc[idx, 'fit_numax'], mal.loc[idx, 'efit_numax'] =  m, up-m\n",
    "\n",
    "    m, up = np.percentile(chains['d01'].values, [50, 84.1])    \n",
    "    mal.loc[idx, 'fit_d01'], mal.loc[idx, 'efit_d01'] =  m, up-m\n",
    "    \n",
    "    m, up = np.percentile(chains['d02'].values, [50, 84.1])    \n",
    "    mal.loc[idx, 'fit_d02'], mal.loc[idx, 'efit_d02'] =  m, up-m\n",
    "    \n",
    "    m, up = np.percentile(chains['epsilon'].values, [50, 84.1])    \n",
    "    mal.loc[idx, 'fit_epsilon'], mal.loc[idx, 'efit_epsilon'] =  m, up-m\n",
    "    \n",
    "    m, up = np.percentile(chains['V1'].values, [50, 84.1])    \n",
    "    mal.loc[idx, 'V1'], mal.loc[idx, 'eV1'] =  m, up-m\n",
    "    \n",
    "    m, up = np.percentile(chains['V2'].values, [50, 84.1])    \n",
    "    mal.loc[idx, 'V2'], mal.loc[idx, 'eV2'] =  m, up-m    \n",
    "    \n",
    "    nus = u.Quantity(chains['split'].values, u.microhertz)\n",
    "    Pchain = 1./nus.to(1./u.day).value\n",
    "    l, m, up = np.percentile(Pchain, [15.9, 50, 84.1])  \n",
    "    mal.loc[idx, 'l_P'], mal.loc[idx, 'P'], mal.loc[idx, 'u_P'] = m-l, m, up-m\n",
    "    \n",
    "    Rkm = u.Quantity(mal.loc[idx, 'modrad'], u.solRad).to(u.km)\n",
    "    vsinichain = chains['xsplit'].values * 2 * np.pi * Rkm.value / (1e6)\n",
    "    l, m, up = np.percentile(vsinichain, [15.9, 50, 84.1])  \n",
    "    mal.loc[idx, 'l_vsini'], mal.loc[idx, 'vsini'], mal.loc[idx, 'u_vsini'] = m-l, m, up-m\n",
    "    \n",
    "print(f'There are {incomplete} stars still to run.') \n",
    "print(f\"Of these, {len(np.where((mal.rhat_flag == 'empty') & (mal.hrclass == 'MS'))[0])} lie in the MS region.\")"
   ]
  },
  {
   "cell_type": "markdown",
   "metadata": {},
   "source": [
    "## Finally I'm going to calculate the BP-RP errors.\n",
    "SQL is broken and I can't add this script to get_data.ipynb, so I'm doing it here."
   ]
  },
  {
   "cell_type": "code",
   "execution_count": 15,
   "metadata": {},
   "outputs": [
    {
     "name": "stderr",
     "output_type": "stream",
     "text": [
      "/home/oliver/.local/lib/python3.7/site-packages/IPython/core/interactiveshell.py:3296: TableReplaceWarning: converted column 'teff_err1' from integer to float\n",
      "  exec(code_obj, self.user_global_ns, self.user_ns)\n",
      "/home/oliver/.local/lib/python3.7/site-packages/IPython/core/interactiveshell.py:3296: TableReplaceWarning: converted column 'teff_err2' from integer to float\n",
      "  exec(code_obj, self.user_global_ns, self.user_ns)\n"
     ]
    }
   ],
   "source": [
    "from astropy.table import Table\n",
    "gkf = Table.read('../../data/kepler_dr2_1arcsec.fits', format='fits').to_pandas()"
   ]
  },
  {
   "cell_type": "code",
   "execution_count": 16,
   "metadata": {},
   "outputs": [],
   "source": [
    "gkf = Table.read('../../data/kepler_dr2_1arcsec.fits', format='fits').to_pandas().rename(columns={\n",
    "                    'kepid':'KIC'})[['KIC','phot_bp_mean_flux',\n",
    "                                     'phot_bp_mean_flux_error',\n",
    "                                     'phot_rp_mean_flux',\n",
    "                                     'phot_rp_mean_flux_error']]"
   ]
  },
  {
   "cell_type": "code",
   "execution_count": 17,
   "metadata": {},
   "outputs": [],
   "source": [
    "ebp = gkf['phot_bp_mean_flux_error'] / ((gkf['phot_bp_mean_flux']) * np.log(10))\n",
    "erp = gkf['phot_rp_mean_flux_error'] / ((gkf['phot_rp_mean_flux']) * np.log(10))\n",
    "gkf['ebprp'] = np.sqrt(ebp**2 + erp**2)\n",
    "mal = pd.merge(mal, gkf[['KIC','ebprp']], on='KIC', how='left')"
   ]
  },
  {
   "cell_type": "code",
   "execution_count": 18,
   "metadata": {},
   "outputs": [],
   "source": [
    "mal.to_csv('~/PhD/malatium/data/atium.csv')"
   ]
  },
  {
   "cell_type": "markdown",
   "metadata": {},
   "source": [
    "## By-Eye investigations"
   ]
  },
  {
   "cell_type": "markdown",
   "metadata": {},
   "source": [
    "I'm going to add flags based on by-eye inspection of the corner plots as well.\n",
    "\n",
    "`-1 : no data`\n",
    "\n",
    "`0   : no issues`\n",
    "\n",
    "`1 : poorly constrained rotational parameters`\n",
    "\n",
    "`2  : bimodal distributions`\n",
    "\n",
    "`3   : divergence/poor sampling`"
   ]
  },
  {
   "cell_type": "code",
   "execution_count": 19,
   "metadata": {
    "scrolled": true
   },
   "outputs": [
    {
     "name": "stdout",
     "output_type": "stream",
     "text": [
      "Are we going to investigate the corners? (y/n) n\n"
     ]
    },
    {
     "ename": "ValueError",
     "evalue": "Usecols do not match columns, columns expected but not found: ['chainflag']",
     "output_type": "error",
     "traceback": [
      "\u001b[0;31m---------------------------------------------------------------------------\u001b[0m",
      "\u001b[0;31mValueError\u001b[0m                                Traceback (most recent call last)",
      "\u001b[0;32m<ipython-input-19-49d75aa43383>\u001b[0m in \u001b[0;36m<module>\u001b[0;34m\u001b[0m\n\u001b[1;32m     31\u001b[0m \u001b[0;34m\u001b[0m\u001b[0m\n\u001b[1;32m     32\u001b[0m \u001b[0;32melse\u001b[0m\u001b[0;34m:\u001b[0m\u001b[0;34m\u001b[0m\u001b[0;34m\u001b[0m\u001b[0m\n\u001b[0;32m---> 33\u001b[0;31m     \u001b[0mmal\u001b[0m\u001b[0;34m[\u001b[0m\u001b[0;34m'chainflag'\u001b[0m\u001b[0;34m]\u001b[0m \u001b[0;34m=\u001b[0m \u001b[0mpd\u001b[0m\u001b[0;34m.\u001b[0m\u001b[0mread_csv\u001b[0m\u001b[0;34m(\u001b[0m\u001b[0;34m'../../data/atium.csv'\u001b[0m\u001b[0;34m,\u001b[0m\u001b[0musecols\u001b[0m\u001b[0;34m=\u001b[0m\u001b[0;34m[\u001b[0m\u001b[0;34m'chainflag'\u001b[0m\u001b[0;34m]\u001b[0m\u001b[0;34m)\u001b[0m\u001b[0;34m\u001b[0m\u001b[0;34m\u001b[0m\u001b[0m\n\u001b[0m",
      "\u001b[0;32m~/.local/lib/python3.7/site-packages/pandas/io/parsers.py\u001b[0m in \u001b[0;36mparser_f\u001b[0;34m(filepath_or_buffer, sep, delimiter, header, names, index_col, usecols, squeeze, prefix, mangle_dupe_cols, dtype, engine, converters, true_values, false_values, skipinitialspace, skiprows, skipfooter, nrows, na_values, keep_default_na, na_filter, verbose, skip_blank_lines, parse_dates, infer_datetime_format, keep_date_col, date_parser, dayfirst, iterator, chunksize, compression, thousands, decimal, lineterminator, quotechar, quoting, doublequote, escapechar, comment, encoding, dialect, tupleize_cols, error_bad_lines, warn_bad_lines, delim_whitespace, low_memory, memory_map, float_precision)\u001b[0m\n\u001b[1;32m    700\u001b[0m                     skip_blank_lines=skip_blank_lines)\n\u001b[1;32m    701\u001b[0m \u001b[0;34m\u001b[0m\u001b[0m\n\u001b[0;32m--> 702\u001b[0;31m         \u001b[0;32mreturn\u001b[0m \u001b[0m_read\u001b[0m\u001b[0;34m(\u001b[0m\u001b[0mfilepath_or_buffer\u001b[0m\u001b[0;34m,\u001b[0m \u001b[0mkwds\u001b[0m\u001b[0;34m)\u001b[0m\u001b[0;34m\u001b[0m\u001b[0;34m\u001b[0m\u001b[0m\n\u001b[0m\u001b[1;32m    703\u001b[0m \u001b[0;34m\u001b[0m\u001b[0m\n\u001b[1;32m    704\u001b[0m     \u001b[0mparser_f\u001b[0m\u001b[0;34m.\u001b[0m\u001b[0m__name__\u001b[0m \u001b[0;34m=\u001b[0m \u001b[0mname\u001b[0m\u001b[0;34m\u001b[0m\u001b[0;34m\u001b[0m\u001b[0m\n",
      "\u001b[0;32m~/.local/lib/python3.7/site-packages/pandas/io/parsers.py\u001b[0m in \u001b[0;36m_read\u001b[0;34m(filepath_or_buffer, kwds)\u001b[0m\n\u001b[1;32m    427\u001b[0m \u001b[0;34m\u001b[0m\u001b[0m\n\u001b[1;32m    428\u001b[0m     \u001b[0;31m# Create the parser.\u001b[0m\u001b[0;34m\u001b[0m\u001b[0;34m\u001b[0m\u001b[0;34m\u001b[0m\u001b[0m\n\u001b[0;32m--> 429\u001b[0;31m     \u001b[0mparser\u001b[0m \u001b[0;34m=\u001b[0m \u001b[0mTextFileReader\u001b[0m\u001b[0;34m(\u001b[0m\u001b[0mfilepath_or_buffer\u001b[0m\u001b[0;34m,\u001b[0m \u001b[0;34m**\u001b[0m\u001b[0mkwds\u001b[0m\u001b[0;34m)\u001b[0m\u001b[0;34m\u001b[0m\u001b[0;34m\u001b[0m\u001b[0m\n\u001b[0m\u001b[1;32m    430\u001b[0m \u001b[0;34m\u001b[0m\u001b[0m\n\u001b[1;32m    431\u001b[0m     \u001b[0;32mif\u001b[0m \u001b[0mchunksize\u001b[0m \u001b[0;32mor\u001b[0m \u001b[0miterator\u001b[0m\u001b[0;34m:\u001b[0m\u001b[0;34m\u001b[0m\u001b[0;34m\u001b[0m\u001b[0m\n",
      "\u001b[0;32m~/.local/lib/python3.7/site-packages/pandas/io/parsers.py\u001b[0m in \u001b[0;36m__init__\u001b[0;34m(self, f, engine, **kwds)\u001b[0m\n\u001b[1;32m    893\u001b[0m             \u001b[0mself\u001b[0m\u001b[0;34m.\u001b[0m\u001b[0moptions\u001b[0m\u001b[0;34m[\u001b[0m\u001b[0;34m'has_index_names'\u001b[0m\u001b[0;34m]\u001b[0m \u001b[0;34m=\u001b[0m \u001b[0mkwds\u001b[0m\u001b[0;34m[\u001b[0m\u001b[0;34m'has_index_names'\u001b[0m\u001b[0;34m]\u001b[0m\u001b[0;34m\u001b[0m\u001b[0;34m\u001b[0m\u001b[0m\n\u001b[1;32m    894\u001b[0m \u001b[0;34m\u001b[0m\u001b[0m\n\u001b[0;32m--> 895\u001b[0;31m         \u001b[0mself\u001b[0m\u001b[0;34m.\u001b[0m\u001b[0m_make_engine\u001b[0m\u001b[0;34m(\u001b[0m\u001b[0mself\u001b[0m\u001b[0;34m.\u001b[0m\u001b[0mengine\u001b[0m\u001b[0;34m)\u001b[0m\u001b[0;34m\u001b[0m\u001b[0;34m\u001b[0m\u001b[0m\n\u001b[0m\u001b[1;32m    896\u001b[0m \u001b[0;34m\u001b[0m\u001b[0m\n\u001b[1;32m    897\u001b[0m     \u001b[0;32mdef\u001b[0m \u001b[0mclose\u001b[0m\u001b[0;34m(\u001b[0m\u001b[0mself\u001b[0m\u001b[0;34m)\u001b[0m\u001b[0;34m:\u001b[0m\u001b[0;34m\u001b[0m\u001b[0;34m\u001b[0m\u001b[0m\n",
      "\u001b[0;32m~/.local/lib/python3.7/site-packages/pandas/io/parsers.py\u001b[0m in \u001b[0;36m_make_engine\u001b[0;34m(self, engine)\u001b[0m\n\u001b[1;32m   1120\u001b[0m     \u001b[0;32mdef\u001b[0m \u001b[0m_make_engine\u001b[0m\u001b[0;34m(\u001b[0m\u001b[0mself\u001b[0m\u001b[0;34m,\u001b[0m \u001b[0mengine\u001b[0m\u001b[0;34m=\u001b[0m\u001b[0;34m'c'\u001b[0m\u001b[0;34m)\u001b[0m\u001b[0;34m:\u001b[0m\u001b[0;34m\u001b[0m\u001b[0;34m\u001b[0m\u001b[0m\n\u001b[1;32m   1121\u001b[0m         \u001b[0;32mif\u001b[0m \u001b[0mengine\u001b[0m \u001b[0;34m==\u001b[0m \u001b[0;34m'c'\u001b[0m\u001b[0;34m:\u001b[0m\u001b[0;34m\u001b[0m\u001b[0;34m\u001b[0m\u001b[0m\n\u001b[0;32m-> 1122\u001b[0;31m             \u001b[0mself\u001b[0m\u001b[0;34m.\u001b[0m\u001b[0m_engine\u001b[0m \u001b[0;34m=\u001b[0m \u001b[0mCParserWrapper\u001b[0m\u001b[0;34m(\u001b[0m\u001b[0mself\u001b[0m\u001b[0;34m.\u001b[0m\u001b[0mf\u001b[0m\u001b[0;34m,\u001b[0m \u001b[0;34m**\u001b[0m\u001b[0mself\u001b[0m\u001b[0;34m.\u001b[0m\u001b[0moptions\u001b[0m\u001b[0;34m)\u001b[0m\u001b[0;34m\u001b[0m\u001b[0;34m\u001b[0m\u001b[0m\n\u001b[0m\u001b[1;32m   1123\u001b[0m         \u001b[0;32melse\u001b[0m\u001b[0;34m:\u001b[0m\u001b[0;34m\u001b[0m\u001b[0;34m\u001b[0m\u001b[0m\n\u001b[1;32m   1124\u001b[0m             \u001b[0;32mif\u001b[0m \u001b[0mengine\u001b[0m \u001b[0;34m==\u001b[0m \u001b[0;34m'python'\u001b[0m\u001b[0;34m:\u001b[0m\u001b[0;34m\u001b[0m\u001b[0;34m\u001b[0m\u001b[0m\n",
      "\u001b[0;32m~/.local/lib/python3.7/site-packages/pandas/io/parsers.py\u001b[0m in \u001b[0;36m__init__\u001b[0;34m(self, src, **kwds)\u001b[0m\n\u001b[1;32m   1893\u001b[0m             if (self.usecols_dtype == 'string' and\n\u001b[1;32m   1894\u001b[0m                     not set(usecols).issubset(self.orig_names)):\n\u001b[0;32m-> 1895\u001b[0;31m                 \u001b[0m_validate_usecols_names\u001b[0m\u001b[0;34m(\u001b[0m\u001b[0musecols\u001b[0m\u001b[0;34m,\u001b[0m \u001b[0mself\u001b[0m\u001b[0;34m.\u001b[0m\u001b[0morig_names\u001b[0m\u001b[0;34m)\u001b[0m\u001b[0;34m\u001b[0m\u001b[0;34m\u001b[0m\u001b[0m\n\u001b[0m\u001b[1;32m   1896\u001b[0m \u001b[0;34m\u001b[0m\u001b[0m\n\u001b[1;32m   1897\u001b[0m             \u001b[0;32mif\u001b[0m \u001b[0mlen\u001b[0m\u001b[0;34m(\u001b[0m\u001b[0mself\u001b[0m\u001b[0;34m.\u001b[0m\u001b[0mnames\u001b[0m\u001b[0;34m)\u001b[0m \u001b[0;34m>\u001b[0m \u001b[0mlen\u001b[0m\u001b[0;34m(\u001b[0m\u001b[0musecols\u001b[0m\u001b[0;34m)\u001b[0m\u001b[0;34m:\u001b[0m\u001b[0;34m\u001b[0m\u001b[0;34m\u001b[0m\u001b[0m\n",
      "\u001b[0;32m~/.local/lib/python3.7/site-packages/pandas/io/parsers.py\u001b[0m in \u001b[0;36m_validate_usecols_names\u001b[0;34m(usecols, names)\u001b[0m\n\u001b[1;32m   1235\u001b[0m         raise ValueError(\n\u001b[1;32m   1236\u001b[0m             \u001b[0;34m\"Usecols do not match columns, \"\u001b[0m\u001b[0;34m\u001b[0m\u001b[0;34m\u001b[0m\u001b[0m\n\u001b[0;32m-> 1237\u001b[0;31m             \u001b[0;34m\"columns expected but not found: {missing}\"\u001b[0m\u001b[0;34m.\u001b[0m\u001b[0mformat\u001b[0m\u001b[0;34m(\u001b[0m\u001b[0mmissing\u001b[0m\u001b[0;34m=\u001b[0m\u001b[0mmissing\u001b[0m\u001b[0;34m)\u001b[0m\u001b[0;34m\u001b[0m\u001b[0;34m\u001b[0m\u001b[0m\n\u001b[0m\u001b[1;32m   1238\u001b[0m         )\n\u001b[1;32m   1239\u001b[0m \u001b[0;34m\u001b[0m\u001b[0m\n",
      "\u001b[0;31mValueError\u001b[0m: Usecols do not match columns, columns expected but not found: ['chainflag']"
     ]
    }
   ],
   "source": [
    "import corner\n",
    "choice = input('Are we going to investigate the corners? (y/n) ')\n",
    "\n",
    "if choice == 'y':\n",
    "    for idx in range(95):\n",
    "        kic = mal.loc[idx].KIC\n",
    "        files = glob.glob('/home/oliver/PhD/mnt/RDS/malatium/peakbag/{}/*chains.csv'.format(str(kic)))\n",
    "\n",
    "        try:\n",
    "            \n",
    "            chains = pd.read_csv(files[0],index_col=0)\n",
    "        except IndexError:\n",
    "            print('Star {} has not completed yet | idx {}'.format(str(kic), idx))\n",
    "            mal.loc[idx, 'flagch'] = -1\n",
    "            continue\n",
    "            \n",
    "        labels=['xsplit','cosi','i','split']\n",
    "        chain = np.array([chains[label] for label in labels])\n",
    "        \n",
    "        corner.corner(chain.T, labels=labels, quantiles=[0.16, 0.5, 0.84]\n",
    "                      ,show_titles=True)\n",
    "        plt.show()\n",
    "        \n",
    "        print('KIC {}\\n\\\n",
    "              0   : no issues \\n\\\n",
    "              1 : poorly constrained rotational parameters\\n\\\n",
    "              2  : bimodal distributions\\n\\\n",
    "              3   : not converged'.format(str(kic)))\n",
    "        flag = int(input('Flag: '))\n",
    "        mal.loc[idx, 'chainflag'] = flag\n",
    "        \n",
    "else:\n",
    "    mal['chainflag'] = pd.read_csv('../../data/atium.csv',usecols=['chainflag'])"
   ]
  }
 ],
 "metadata": {
  "kernelspec": {
   "display_name": "Python 3",
   "language": "python",
   "name": "python3"
  },
  "language_info": {
   "codemirror_mode": {
    "name": "ipython",
    "version": 3
   },
   "file_extension": ".py",
   "mimetype": "text/x-python",
   "name": "python",
   "nbconvert_exporter": "python",
   "pygments_lexer": "ipython3",
   "version": "3.8.3"
  }
 },
 "nbformat": 4,
 "nbformat_minor": 2
}
