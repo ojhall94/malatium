{
 "cells": [
  {
   "cell_type": "markdown",
   "metadata": {},
   "source": [
    "## Compare Results\n",
    "\n",
    "A couple of these stars have existing $\\nu\\sin(i)$ measurements. Let's compare them to see if we find ourselves in the right ballpark."
   ]
  },
  {
   "cell_type": "code",
   "execution_count": null,
   "metadata": {},
   "outputs": [],
   "source": [
    "import numpy as np\n",
    "import pandas as pd\n",
    "import matplotlib.pyplot as plt\n",
    "import seaborn as sns\n",
    "sns.set_palette('colorblind')\n",
    "import mystyle\n",
    "plt.style.use(mystyle.ms)\n",
    "\n",
    "ati = pd.read_csv('../../data/atium.csv',index_col=0)\n",
    "\n",
    "#Exclude those stars with a Rhat > 1.1 flag and no results otherwise\n",
    "ati = ati[np.isfinite(ati.nus.values)]\n",
    "ati = ati[ati.flag != 'rhat_1' ]\n",
    "print('We have {} stars'.format(len(ati)))"
   ]
  }
 ],
 "metadata": {
  "kernelspec": {
   "display_name": "Python 3",
   "language": "python",
   "name": "python3"
  },
  "language_info": {
   "codemirror_mode": {
    "name": "ipython",
    "version": 3
   },
   "file_extension": ".py",
   "mimetype": "text/x-python",
   "name": "python",
   "nbconvert_exporter": "python",
   "pygments_lexer": "ipython3",
   "version": "3.7.3"
  }
 },
 "nbformat": 4,
 "nbformat_minor": 2
}
