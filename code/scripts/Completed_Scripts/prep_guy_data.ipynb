{
 "cells": [
  {
   "cell_type": "code",
   "execution_count": 1,
   "metadata": {},
   "outputs": [],
   "source": [
    "import pandas as pd"
   ]
  },
  {
   "cell_type": "markdown",
   "metadata": {},
   "source": [
    "We need Mass, Teff, Age, Prot"
   ]
  },
  {
   "cell_type": "code",
   "execution_count": 2,
   "metadata": {},
   "outputs": [],
   "source": [
    "ati = pd.read_csv('../../../data/atium.csv', index_col=0)"
   ]
  },
  {
   "cell_type": "code",
   "execution_count": 4,
   "metadata": {},
   "outputs": [
    {
     "name": "stdout",
     "output_type": "stream",
     "text": [
      "Index(['KIC', 'Teff', 'age', 'dnu', 'eTeff', 'ednu', 'efeh', 'enumax', 'feh',\n",
      "       'loage', 'lomodlogg', 'lomodmass', 'lomodrad', 'modlogg', 'modmass',\n",
      "       'modrad', 'numax', 'source', 'upage', 'upmodlogg', 'upmodmass',\n",
      "       'upmodrad', 'G', 'bprp', 'hrclass', 'nus*', 'l_nus*', 'u_nus*', 'cosi',\n",
      "       'l_cosi', 'u_cosi', 'i', 'l_i', 'u_i', 'nus', 'l_nus', 'u_nus', 'P',\n",
      "       'l_P', 'u_P', 'vsini', 'l_vsini', 'u_vsini', 'fit_numax', 'efit_numax',\n",
      "       'fit_d01', 'efit_d01', 'fit_d02', 'efit_d02', 'fit_epsilon',\n",
      "       'efit_epsilon', 'V1', 'eV1', 'V2', 'eV2', 'rhat_flag', 'eye_flag',\n",
      "       'neff_xsplit', 'neff_cosi', 'neff_split', 'neff_i', 'ebprp'],\n",
      "      dtype='object')\n"
     ]
    }
   ],
   "source": [
    "print(ati.columns)"
   ]
  },
  {
   "cell_type": "code",
   "execution_count": null,
   "metadata": {},
   "outputs": [],
   "source": [
    "columns = ['KIC', 'Teff',  'eTeff', 'age', 'loage', 'upage', 'modmass', 'lomodmass', 'upmodmass',\n",
    "           'source', 'hrclass', 'nus*', 'l_nus*', 'u_nus*', 'cosi',\n",
    "       'l_cosi', 'u_cosi', 'i', 'l_i', 'u_i', 'nus', 'l_nus', 'u_nus', 'P',\n",
    "       'l_P', 'u_P', 'vsini', 'l_vsini', 'u_vsini', 'fit_numax', 'efit_numax',\n",
    "       'fit_d01', 'efit_d01', 'fit_d02', 'efit_d02', 'fit_epsilon',\n",
    "       'efit_epsilon', 'V1', 'eV1', 'V2', 'eV2', 'rhat_flag', 'eye_flag',\n",
    "       'neff_xsplit', 'neff_cosi', 'neff_split', 'neff_i', 'ebprp']"
   ]
  }
 ],
 "metadata": {
  "kernelspec": {
   "display_name": "Python 3",
   "language": "python",
   "name": "python3"
  },
  "language_info": {
   "codemirror_mode": {
    "name": "ipython",
    "version": 3
   },
   "file_extension": ".py",
   "mimetype": "text/x-python",
   "name": "python",
   "nbconvert_exporter": "python",
   "pygments_lexer": "ipython3",
   "version": "3.7.3"
  }
 },
 "nbformat": 4,
 "nbformat_minor": 2
}
