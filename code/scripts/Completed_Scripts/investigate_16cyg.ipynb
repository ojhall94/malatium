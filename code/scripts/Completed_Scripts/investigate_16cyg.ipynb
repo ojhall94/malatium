{
 "cells": [
  {
   "cell_type": "markdown",
   "metadata": {},
   "source": [
    "# Investigate 16 Cyg"
   ]
  },
  {
   "cell_type": "markdown",
   "metadata": {},
   "source": [
    "Rafa has given me two new lightcurves for Q7 through Q17 for 16 Cyg A & B. These are closer to the ones that Davies et al. (2015) used in their benchmark analysis of 16 Cyg A & B. I'm going to check:\n",
    "\n",
    "- How the baseline differs\n",
    "- Which modes we can exclude to improve the analysis speed"
   ]
  },
  {
   "cell_type": "code",
   "execution_count": 7,
   "metadata": {},
   "outputs": [],
   "source": [
    "import numpy as np\n",
    "from astropy.io import ascii\n",
    "from astropy.io import fits\n",
    "import glob\n",
    "import pandas as pd\n",
    "from tqdm import tqdm"
   ]
  },
  {
   "cell_type": "code",
   "execution_count": 57,
   "metadata": {},
   "outputs": [
    {
     "data": {
      "text/html": [
       "<div>\n",
       "<style scoped>\n",
       "    .dataframe tbody tr th:only-of-type {\n",
       "        vertical-align: middle;\n",
       "    }\n",
       "\n",
       "    .dataframe tbody tr th {\n",
       "        vertical-align: top;\n",
       "    }\n",
       "\n",
       "    .dataframe thead th {\n",
       "        text-align: right;\n",
       "    }\n",
       "</style>\n",
       "<table border=\"1\" class=\"dataframe\">\n",
       "  <thead>\n",
       "    <tr style=\"text-align: right;\">\n",
       "      <th></th>\n",
       "      <th>KIC</th>\n",
       "      <th>Teff</th>\n",
       "      <th>age</th>\n",
       "      <th>dnu</th>\n",
       "      <th>eTeff</th>\n",
       "      <th>ednu</th>\n",
       "      <th>efeh</th>\n",
       "      <th>enumax</th>\n",
       "      <th>evsini</th>\n",
       "      <th>feh</th>\n",
       "      <th>...</th>\n",
       "      <th>modrad</th>\n",
       "      <th>numax</th>\n",
       "      <th>source</th>\n",
       "      <th>upage</th>\n",
       "      <th>upmodlogg</th>\n",
       "      <th>upmodmass</th>\n",
       "      <th>upmodrad</th>\n",
       "      <th>vsini</th>\n",
       "      <th>G</th>\n",
       "      <th>bprp</th>\n",
       "    </tr>\n",
       "  </thead>\n",
       "  <tbody>\n",
       "    <tr>\n",
       "      <th>62</th>\n",
       "      <td>12069424</td>\n",
       "      <td>5825</td>\n",
       "      <td>6.6735</td>\n",
       "      <td>103.277</td>\n",
       "      <td>50</td>\n",
       "      <td>0.021</td>\n",
       "      <td>0.03</td>\n",
       "      <td>4.6</td>\n",
       "      <td>0.5</td>\n",
       "      <td>0.1</td>\n",
       "      <td>...</td>\n",
       "      <td>1.2156</td>\n",
       "      <td>2188.5</td>\n",
       "      <td>L</td>\n",
       "      <td>0.8145</td>\n",
       "      <td>0.0066</td>\n",
       "      <td>0.019</td>\n",
       "      <td>0.012</td>\n",
       "      <td>2.8</td>\n",
       "      <td>5.80321</td>\n",
       "      <td>0.820117</td>\n",
       "    </tr>\n",
       "  </tbody>\n",
       "</table>\n",
       "<p>1 rows × 26 columns</p>\n",
       "</div>"
      ],
      "text/plain": [
       "         KIC  Teff     age      dnu  eTeff   ednu  efeh  enumax  evsini  feh  \\\n",
       "62  12069424  5825  6.6735  103.277     50  0.021  0.03     4.6     0.5  0.1   \n",
       "\n",
       "    ...  modrad   numax  source   upage  upmodlogg  upmodmass  upmodrad  \\\n",
       "62  ...  1.2156  2188.5       L  0.8145     0.0066      0.019     0.012   \n",
       "\n",
       "    vsini        G      bprp  \n",
       "62    2.8  5.80321  0.820117  \n",
       "\n",
       "[1 rows x 26 columns]"
      ]
     },
     "execution_count": 57,
     "metadata": {},
     "output_type": "execute_result"
    }
   ],
   "source": [
    "mal.loc[mal.KIC == 12069424]"
   ]
  },
  {
   "cell_type": "markdown",
   "metadata": {},
   "source": [
    "Read in the data"
   ]
  },
  {
   "cell_type": "code",
   "execution_count": 104,
   "metadata": {},
   "outputs": [],
   "source": [
    "cop = pd.read_csv('../../data/copper.csv', index_col=0)\n",
    "cop = cop[cop.l != 3]\n",
    "mal = pd.read_csv('../../data/malatium.csv', index_col=0)\n",
    "dnuA = mal.loc[mal.KIC == 12069424].dnu.values\n",
    "dnuB = mal.loc[mal.KIC == 12069449].dnu.values\n",
    "A = cop.loc[cop.KIC == '12069424']\n",
    "B = cop.loc[cop.KIC == '12069449']"
   ]
  },
  {
   "cell_type": "code",
   "execution_count": 41,
   "metadata": {},
   "outputs": [],
   "source": [
    "AK = ascii.read(glob.glob(f'../../data/*12069424*.pow')[0]).to_pandas()\n",
    "BK = ascii.read(glob.glob(f'../../data/*12069449*.pow')[0]).to_pandas()"
   ]
  },
  {
   "cell_type": "code",
   "execution_count": 42,
   "metadata": {},
   "outputs": [],
   "source": [
    "AG = fits.open(glob.glob(f'../../data/16Cyg/*100002741*PSD*.fits')[0])[0].data\n",
    "BG = fits.open(glob.glob(f'../../data/16Cyg/*100002742*PSD*.fits')[0])[0].data"
   ]
  },
  {
   "cell_type": "code",
   "execution_count": 129,
   "metadata": {},
   "outputs": [
    {
     "data": {
      "text/html": [
       "<div>\n",
       "<style scoped>\n",
       "    .dataframe tbody tr th:only-of-type {\n",
       "        vertical-align: middle;\n",
       "    }\n",
       "\n",
       "    .dataframe tbody tr th {\n",
       "        vertical-align: top;\n",
       "    }\n",
       "\n",
       "    .dataframe thead th {\n",
       "        text-align: right;\n",
       "    }\n",
       "</style>\n",
       "<table border=\"1\" class=\"dataframe\">\n",
       "  <thead>\n",
       "    <tr style=\"text-align: right;\">\n",
       "      <th></th>\n",
       "      <th>KIC</th>\n",
       "      <th>Teff</th>\n",
       "      <th>age</th>\n",
       "      <th>dnu</th>\n",
       "      <th>eTeff</th>\n",
       "      <th>ednu</th>\n",
       "      <th>efeh</th>\n",
       "      <th>enumax</th>\n",
       "      <th>evsini</th>\n",
       "      <th>feh</th>\n",
       "      <th>...</th>\n",
       "      <th>modrad</th>\n",
       "      <th>numax</th>\n",
       "      <th>source</th>\n",
       "      <th>upage</th>\n",
       "      <th>upmodlogg</th>\n",
       "      <th>upmodmass</th>\n",
       "      <th>upmodrad</th>\n",
       "      <th>vsini</th>\n",
       "      <th>G</th>\n",
       "      <th>bprp</th>\n",
       "    </tr>\n",
       "  </thead>\n",
       "  <tbody>\n",
       "    <tr>\n",
       "      <th>60</th>\n",
       "      <td>12009504</td>\n",
       "      <td>6179</td>\n",
       "      <td>3.9746</td>\n",
       "      <td>88.217</td>\n",
       "      <td>77</td>\n",
       "      <td>0.026</td>\n",
       "      <td>0.10</td>\n",
       "      <td>7.7</td>\n",
       "      <td>0.5</td>\n",
       "      <td>-0.08</td>\n",
       "      <td>...</td>\n",
       "      <td>1.4016</td>\n",
       "      <td>1865.6</td>\n",
       "      <td>L</td>\n",
       "      <td>0.5749</td>\n",
       "      <td>0.0055</td>\n",
       "      <td>0.0190</td>\n",
       "      <td>0.012</td>\n",
       "      <td>7.7</td>\n",
       "      <td>9.255096</td>\n",
       "      <td>0.692866</td>\n",
       "    </tr>\n",
       "    <tr>\n",
       "      <th>61</th>\n",
       "      <td>12069127</td>\n",
       "      <td>6276</td>\n",
       "      <td>2.0103</td>\n",
       "      <td>48.400</td>\n",
       "      <td>77</td>\n",
       "      <td>0.048</td>\n",
       "      <td>0.10</td>\n",
       "      <td>10.1</td>\n",
       "      <td>0.5</td>\n",
       "      <td>0.08</td>\n",
       "      <td>...</td>\n",
       "      <td>2.2983</td>\n",
       "      <td>884.7</td>\n",
       "      <td>L</td>\n",
       "      <td>0.1118</td>\n",
       "      <td>0.0044</td>\n",
       "      <td>0.0304</td>\n",
       "      <td>0.021</td>\n",
       "      <td>6.0</td>\n",
       "      <td>10.620140</td>\n",
       "      <td>0.678072</td>\n",
       "    </tr>\n",
       "    <tr>\n",
       "      <th>62</th>\n",
       "      <td>12069424</td>\n",
       "      <td>5825</td>\n",
       "      <td>6.6735</td>\n",
       "      <td>103.277</td>\n",
       "      <td>50</td>\n",
       "      <td>0.021</td>\n",
       "      <td>0.03</td>\n",
       "      <td>4.6</td>\n",
       "      <td>0.5</td>\n",
       "      <td>0.10</td>\n",
       "      <td>...</td>\n",
       "      <td>1.2156</td>\n",
       "      <td>2188.5</td>\n",
       "      <td>L</td>\n",
       "      <td>0.8145</td>\n",
       "      <td>0.0066</td>\n",
       "      <td>0.0190</td>\n",
       "      <td>0.012</td>\n",
       "      <td>2.8</td>\n",
       "      <td>5.803210</td>\n",
       "      <td>0.820117</td>\n",
       "    </tr>\n",
       "    <tr>\n",
       "      <th>63</th>\n",
       "      <td>12069449</td>\n",
       "      <td>5750</td>\n",
       "      <td>7.3922</td>\n",
       "      <td>116.929</td>\n",
       "      <td>50</td>\n",
       "      <td>0.012</td>\n",
       "      <td>0.02</td>\n",
       "      <td>5.0</td>\n",
       "      <td>0.5</td>\n",
       "      <td>0.05</td>\n",
       "      <td>...</td>\n",
       "      <td>1.0957</td>\n",
       "      <td>2561.3</td>\n",
       "      <td>L</td>\n",
       "      <td>0.8943</td>\n",
       "      <td>0.0055</td>\n",
       "      <td>0.0209</td>\n",
       "      <td>0.009</td>\n",
       "      <td>2.1</td>\n",
       "      <td>6.056811</td>\n",
       "      <td>0.831866</td>\n",
       "    </tr>\n",
       "    <tr>\n",
       "      <th>64</th>\n",
       "      <td>12258514</td>\n",
       "      <td>5964</td>\n",
       "      <td>4.0544</td>\n",
       "      <td>74.799</td>\n",
       "      <td>77</td>\n",
       "      <td>0.016</td>\n",
       "      <td>0.10</td>\n",
       "      <td>3.3</td>\n",
       "      <td>0.5</td>\n",
       "      <td>0.00</td>\n",
       "      <td>...</td>\n",
       "      <td>1.6055</td>\n",
       "      <td>1512.7</td>\n",
       "      <td>L</td>\n",
       "      <td>0.1757</td>\n",
       "      <td>0.0033</td>\n",
       "      <td>0.0095</td>\n",
       "      <td>0.012</td>\n",
       "      <td>3.9</td>\n",
       "      <td>8.008107</td>\n",
       "      <td>0.744375</td>\n",
       "    </tr>\n",
       "  </tbody>\n",
       "</table>\n",
       "<p>5 rows × 26 columns</p>\n",
       "</div>"
      ],
      "text/plain": [
       "         KIC  Teff     age      dnu  eTeff   ednu  efeh  enumax  evsini   feh  \\\n",
       "60  12009504  6179  3.9746   88.217     77  0.026  0.10     7.7     0.5 -0.08   \n",
       "61  12069127  6276  2.0103   48.400     77  0.048  0.10    10.1     0.5  0.08   \n",
       "62  12069424  5825  6.6735  103.277     50  0.021  0.03     4.6     0.5  0.10   \n",
       "63  12069449  5750  7.3922  116.929     50  0.012  0.02     5.0     0.5  0.05   \n",
       "64  12258514  5964  4.0544   74.799     77  0.016  0.10     3.3     0.5  0.00   \n",
       "\n",
       "    ...  modrad   numax  source   upage  upmodlogg  upmodmass  upmodrad  \\\n",
       "60  ...  1.4016  1865.6       L  0.5749     0.0055     0.0190     0.012   \n",
       "61  ...  2.2983   884.7       L  0.1118     0.0044     0.0304     0.021   \n",
       "62  ...  1.2156  2188.5       L  0.8145     0.0066     0.0190     0.012   \n",
       "63  ...  1.0957  2561.3       L  0.8943     0.0055     0.0209     0.009   \n",
       "64  ...  1.6055  1512.7       L  0.1757     0.0033     0.0095     0.012   \n",
       "\n",
       "    vsini          G      bprp  \n",
       "60    7.7   9.255096  0.692866  \n",
       "61    6.0  10.620140  0.678072  \n",
       "62    2.8   5.803210  0.820117  \n",
       "63    2.1   6.056811  0.831866  \n",
       "64    3.9   8.008107  0.744375  \n",
       "\n",
       "[5 rows x 26 columns]"
      ]
     },
     "execution_count": 129,
     "metadata": {},
     "output_type": "execute_result"
    }
   ],
   "source": [
    "mal.iloc[60:65]"
   ]
  },
  {
   "cell_type": "markdown",
   "metadata": {},
   "source": [
    "Let's plot a comparison"
   ]
  },
  {
   "cell_type": "code",
   "execution_count": 43,
   "metadata": {},
   "outputs": [],
   "source": [
    "import seaborn as sns\n",
    "import matplotlib.pyplot as plt\n",
    "sns.set_context('poster')\n",
    "sns.set_palette('colorblind')"
   ]
  },
  {
   "cell_type": "code",
   "execution_count": 80,
   "metadata": {},
   "outputs": [
    {
     "data": {
      "image/png": "[encoded data removed]",
      "text/plain": [
       "<Figure size 1152x576 with 2 Axes>"
      ]
     },
     "metadata": {
      "needs_background": "light"
     },
     "output_type": "display_data"
    }
   ],
   "source": [
    "lo = A.Freq.min() - 0.1*dnuA[0]\n",
    "hi = A.Freq.max() + 0.1*dnuA[0]\n",
    "sK = (AK['col1'] > lo) & (AK['col1'] < hi)\n",
    "sG = (AG[:,0]*1e6 > lo) & (AG[:,0]*1e6 < hi)\n",
    "\n",
    "fig, axes = plt.subplots(1, 2, figsize=(16,8))\n",
    "ax=axes[0]\n",
    "ax.plot(AK['col1'][sK], AK['col2'][sK], alpha=.5, c='k', label='KASOC', lw=1)\n",
    "ax.plot(AG[:,0][sG]*1e6, AG[:,1][sG], c='k', label='KEPSEISMIC', lw=1)\n",
    "ax.legend(loc='upper right')\n",
    "sns.despine()\n",
    "ax.set_title('16 Cyg A')\n",
    "\n",
    "lo = B.Freq.min() - 0.1*dnuB[0]\n",
    "hi = B.Freq.max() + 0.1*dnuB[0]\n",
    "sK = (BK['col1'] > lo) & (BK['col1'] < hi)\n",
    "sG = (BG[:,0]*1e6 > lo) & (BG[:,0]*1e6 < hi)\n",
    "ax=axes[1]\n",
    "ax.plot(BK['col1'][sK], BK['col2'][sK], alpha=.5, c='k', label='KASOC', lw=1)\n",
    "ax.plot(BG[:,0][sG]*1e6, BG[:,1][sG], c='k', label='KEPSEISMIC', lw=1)\n",
    "ax.legend(loc='upper right')\n",
    "sns.despine()\n",
    "ax.set_title('16 Cyg B')\n",
    "plt.show()\n",
    "\n",
    "plt.show()"
   ]
  },
  {
   "cell_type": "markdown",
   "metadata": {},
   "source": [
    "Let's compare the baselines"
   ]
  },
  {
   "cell_type": "code",
   "execution_count": 84,
   "metadata": {},
   "outputs": [
    {
     "data": {
      "text/plain": [
       "2.8810159765763443"
      ]
     },
     "execution_count": 84,
     "metadata": {},
     "output_type": "execute_result"
    }
   ],
   "source": [
    "1e6/np.median(np.diff(AK['col1'])) / 3600 / 24 / 365"
   ]
  },
  {
   "cell_type": "code",
   "execution_count": 105,
   "metadata": {},
   "outputs": [
    {
     "name": "stdout",
     "output_type": "stream",
     "text": [
      "The time baseline for KASOC A is:      2.88 years\n",
      "The time baseline for KEPSEISMIC A is:      2.63 years\n"
     ]
    }
   ],
   "source": [
    "print(f\"The time baseline for KASOC A is:\\\n",
    "      {1e6/np.median(np.diff(AK['col1'])) / 3600 / 24 / 365:.2f} years\")\n",
    "\n",
    "print(f\"The time baseline for KEPSEISMIC A is:\\\n",
    "      {1./np.median(np.diff(AG[:,0])) /3600/24/365:.2f} years\")"
   ]
  },
  {
   "cell_type": "code",
   "execution_count": 106,
   "metadata": {},
   "outputs": [
    {
     "name": "stdout",
     "output_type": "stream",
     "text": [
      "The time baseline for KASOC B is:      2.88 years\n",
      "The time baseline for KEPSEISMIC B is:      2.63 years\n"
     ]
    }
   ],
   "source": [
    "print(f\"The time baseline for KASOC B is:\\\n",
    "      {1e6/np.median(np.diff(BK['col1'])) / 3600 / 24 / 365:.2f} years\")\n",
    "\n",
    "print(f\"The time baseline for KEPSEISMIC B is:\\\n",
    "      {1./np.median(np.diff(BG[:,0])) /3600/24/365:.2f} years\")"
   ]
  },
  {
   "cell_type": "markdown",
   "metadata": {},
   "source": [
    "Excluding modes"
   ]
  },
  {
   "cell_type": "code",
   "execution_count": 107,
   "metadata": {},
   "outputs": [
    {
     "name": "stdout",
     "output_type": "stream",
     "text": [
      "We will exclude 3 modes with lnK < 6 in 16 Cyg A\n",
      "We will exclude 6 modes with lnK < 6 in 16 Cyg B\n"
     ]
    }
   ],
   "source": [
    "print(f\"We will exclude {len(A.loc[A.lnK != 6])} modes with lnK < 6 in 16 Cyg A\")\n",
    "print(f\"We will exclude {len(B.loc[B.lnK != 6])} modes with lnK < 6 in 16 Cyg B\")"
   ]
  },
  {
   "cell_type": "markdown",
   "metadata": {},
   "source": [
    "What about for our other poorly running target stars?"
   ]
  },
  {
   "cell_type": "code",
   "execution_count": 108,
   "metadata": {},
   "outputs": [
    {
     "name": "stdout",
     "output_type": "stream",
     "text": [
      "We will exclude 12 modes with lnK < 6 in Doris\n"
     ]
    }
   ],
   "source": [
    "D = cop.loc[cop.KIC == '8006161']\n",
    "print(f\"We will exclude {len(D.loc[D.lnK != 6])} modes with lnK < 6 in Doris\")"
   ]
  },
  {
   "cell_type": "code",
   "execution_count": 112,
   "metadata": {},
   "outputs": [
    {
     "name": "stdout",
     "output_type": "stream",
     "text": [
      "We will exclude 10 modes with lnK < 6 in KIC 79707040, if it doesn't finish running.\n"
     ]
    }
   ],
   "source": [
    "R = cop.loc[cop.KIC == '7970740']\n",
    "print(f\"We will exclude {len(R.loc[R.lnK != 6])} modes with lnK < 6 in KIC 79707040, if it doesn't finish running.\")"
   ]
  },
  {
   "cell_type": "code",
   "execution_count": 120,
   "metadata": {},
   "outputs": [
    {
     "data": {
      "text/plain": [
       "1435"
      ]
     },
     "execution_count": 120,
     "metadata": {},
     "output_type": "execute_result"
    }
   ],
   "source": [
    "len(cop[(cop.l != 3) & (cop.lnK != 6)])"
   ]
  },
  {
   "cell_type": "code",
   "execution_count": 122,
   "metadata": {},
   "outputs": [
    {
     "name": "stdout",
     "output_type": "stream",
     "text": [
      "We will exclude 29 modes with lnK < 6 in KIC 8478994, if it doesn't finish running.\n"
     ]
    }
   ],
   "source": [
    "R = cop.loc[cop.KIC == '8478994']\n",
    "print(f\"We will exclude {len(R.loc[R.lnK != 6])} modes with lnK < 6 in KIC 8478994, if it doesn't finish running.\")"
   ]
  },
  {
   "cell_type": "code",
   "execution_count": 125,
   "metadata": {},
   "outputs": [
    {
     "data": {
      "text/plain": [
       "False"
      ]
     },
     "execution_count": 125,
     "metadata": {},
     "output_type": "execute_result"
    }
   ],
   "source": [
    "star = mal.loc[2]\n",
    "star.KIC == '12069424'"
   ]
  },
  {
   "cell_type": "code",
   "execution_count": 126,
   "metadata": {},
   "outputs": [
    {
     "name": "stdout",
     "output_type": "stream",
     "text": [
      "hi\n"
     ]
    }
   ],
   "source": [
    "allow = ['12069424', '12069449', '8006161', '79607040']\n",
    "if star.KIC not in allow:\n",
    "    print('hi')"
   ]
  },
  {
   "cell_type": "code",
   "execution_count": 127,
   "metadata": {},
   "outputs": [
    {
     "ename": "ValueError",
     "evalue": "This KIC not allowed",
     "output_type": "error",
     "traceback": [
      "\u001b[0;31m---------------------------------------------------------------------------\u001b[0m",
      "\u001b[0;31mValueError\u001b[0m                                Traceback (most recent call last)",
      "\u001b[0;32m<ipython-input-127-d3df51cff034>\u001b[0m in \u001b[0;36m<module>\u001b[0;34m\u001b[0m\n\u001b[1;32m      1\u001b[0m \u001b[0;32mif\u001b[0m \u001b[0mstar\u001b[0m\u001b[0;34m.\u001b[0m\u001b[0mKIC\u001b[0m \u001b[0;32mnot\u001b[0m \u001b[0;32min\u001b[0m \u001b[0mallow\u001b[0m\u001b[0;34m:\u001b[0m\u001b[0;34m\u001b[0m\u001b[0;34m\u001b[0m\u001b[0m\n\u001b[0;32m----> 2\u001b[0;31m     \u001b[0;32mraise\u001b[0m \u001b[0mValueError\u001b[0m\u001b[0;34m(\u001b[0m\u001b[0;34m\"This KIC not allowed\"\u001b[0m\u001b[0;34m)\u001b[0m\u001b[0;34m\u001b[0m\u001b[0;34m\u001b[0m\u001b[0m\n\u001b[0m",
      "\u001b[0;31mValueError\u001b[0m: This KIC not allowed"
     ]
    }
   ],
   "source": [
    "if star.KIC not in allow:\n",
    "    raise ValueError(\"This KIC not allowed\")"
   ]
  },
  {
   "cell_type": "code",
   "execution_count": null,
   "metadata": {},
   "outputs": [],
   "source": []
  }
 ],
 "metadata": {
  "kernelspec": {
   "display_name": "Python 3",
   "language": "python",
   "name": "python3"
  },
  "language_info": {
   "codemirror_mode": {
    "name": "ipython",
    "version": 3
   },
   "file_extension": ".py",
   "mimetype": "text/x-python",
   "name": "python",
   "nbconvert_exporter": "python",
   "pygments_lexer": "ipython3",
   "version": "3.7.3"
  }
 },
 "nbformat": 4,
 "nbformat_minor": 2
}
