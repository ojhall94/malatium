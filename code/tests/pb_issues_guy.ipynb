{
 "cells": [
  {
   "cell_type": "markdown",
   "metadata": {},
   "source": [
    "# We're going to try fitting a full asymptotic relation to some simulated data\n",
    "\n",
    "We'll do Gaussian noise cos it makes my life easier"
   ]
  },
  {
   "cell_type": "code",
   "execution_count": 1,
   "metadata": {},
   "outputs": [
    {
     "name": "stderr",
     "output_type": "stream",
     "text": [
      "WARNING (theano.tensor.blas): Using NumPy C-API based implementation for BLAS functions.\n"
     ]
    }
   ],
   "source": [
    "import numpy as np\n",
    "import matplotlib.pyplot as plt\n",
    "import theano.tensor as tt\n",
    "\n",
    "import lightkurve as lk\n",
    "from astropy.units import cds\n",
    "from astropy import units as u\n",
    "import seaborn as sns\n",
    "# import mystyle as ms\n",
    "\n",
    "import corner\n",
    "import pystan\n",
    "import pandas as pd\n",
    "import pickle\n",
    "import glob\n",
    "from astropy.io import ascii\n",
    "import os\n",
    "\n",
    "import pymc3 as pm\n",
    "import arviz"
   ]
  },
  {
   "cell_type": "markdown",
   "metadata": {},
   "source": [
    "## Build the model"
   ]
  },
  {
   "cell_type": "code",
   "execution_count": 2,
   "metadata": {},
   "outputs": [],
   "source": [
    "class model():\n",
    "    def __init__(self, f, n0_, n1_, n2_):\n",
    "        self.f = f\n",
    "        self.n0 = n0_\n",
    "        self.n1 = n1_\n",
    "        self.n2 = n2_\n",
    "        self.npts = len(f)\n",
    "        self.M = [len(n0_), len(n1_), len(n2_)]\n",
    "        \n",
    "    def epsilon(self, i, theano=True):\n",
    "        eps = tt.zeros((3,3))\n",
    "        eps0 = tt.set_subtensor(eps[0][0], 1.)\n",
    "        eps1 = tt.set_subtensor(eps[1][0], tt.cos(i)**2)\n",
    "        eps1 = tt.set_subtensor(eps1[1], 0.5 * tt.sin(i)**2)\n",
    "        eps2 = tt.set_subtensor(eps[2][0], 0.25 * (3. * tt.cos(i)**2 - 1.)**2)\n",
    "        eps2 = tt.set_subtensor(eps2[1], (3./8.)*tt.sin(2*i)**2)\n",
    "        eps2 = tt.set_subtensor(eps2[2], (3./8.) * tt.sin(i)**4)\n",
    "\n",
    "        eps = tt.set_subtensor(eps[0], eps0)\n",
    "        eps = tt.set_subtensor(eps[1], eps1)\n",
    "        eps = tt.set_subtensor(eps[2], eps2)\n",
    "        \n",
    "        if not theano:\n",
    "            return eps.eval()\n",
    "        return eps\n",
    "            \n",
    "\n",
    "    def lor(self, freq, h, w):\n",
    "        return h / (1.0 + 4.0/w**2*(self.f - freq)**2)\n",
    "    \n",
    "    def mode(self, l, freqs, hs, ws, eps, split=0):\n",
    "        for idx in range(self.M[l]):\n",
    "            for m in range(-l, l+1, 1):\n",
    "                self.modes += self.lor(freqs[idx] + (m*split), \n",
    "                                     hs[idx] * eps[l,abs(m)], \n",
    "                                     ws[idx])\n",
    "  \n",
    "    def model(self, p, theano=True):\n",
    "        f0, f1, f2, g0, g1, g2, h0, h1, h2, split, i, b = p\n",
    "               \n",
    "        # Calculate the modes\n",
    "        eps = self.epsilon(i, theano)        \n",
    "        self.modes = np.zeros(self.npts)\n",
    "        self.mode(0, f0, h0, g0, eps)\n",
    "        self.mode(1, f1, h1, g1, eps, split)\n",
    "        self.mode(2, f2, h2, g2, eps, split)\n",
    "               \n",
    "        #Create the model\n",
    "        self.mod = self.modes + b\n",
    "        return self.mod\n",
    "\n",
    "    def asymptotic(self, n, numax, deltanu, alpha, epsilon):       \n",
    "        nmax = (numax / deltanu) - epsilon\n",
    "        over = (n + epsilon + ((alpha/2)*(nmax - n)**2))\n",
    "        return over * deltanu\n",
    "    \n",
    "    def f0(self, p):\n",
    "        numax, deltanu, alpha, epsilon, d01, d02 = p\n",
    "        \n",
    "        return self.asymptotic(self.n0, numax, deltanu, alpha, epsilon)\n",
    "    \n",
    "    def f1(self, p):\n",
    "        numax, deltanu, alpha, epsilon, d01, d02 = p\n",
    "        \n",
    "        f0 = self.asymptotic(self.n1, numax, deltanu, alpha, epsilon)\n",
    "        return f0 + d01\n",
    "    \n",
    "    def f2(self, p):\n",
    "        numax, deltanu, alpha, epsilon, d01, d02 = p\n",
    "        \n",
    "        f0 = self.asymptotic(self.n2+1, numax, deltanu, alpha, epsilon)\n",
    "        return f0 - d02"
   ]
  },
  {
   "cell_type": "code",
   "execution_count": 3,
   "metadata": {},
   "outputs": [],
   "source": [
    "nmodes = 2   # Two overtones\n",
    "nbase = 18   # Starting at n = 18\n",
    "n0_ = np.arange(nmodes)+nbase\n",
    "n1_ = np.copy(n0_)\n",
    "n2_ = np.copy(n0_) - 1.\n",
    "fs = .05     # Data has a frequency spacing of 0.05 microhertz\n",
    "nyq = (0.5 * (1./58.6) * u.hertz).to(u.microhertz).value  # Setting a sensible nyquist value\n",
    "ff = np.arange(fs, nyq, fs)  # Generating the full frequency range"
   ]
  },
  {
   "cell_type": "markdown",
   "metadata": {},
   "source": [
    "Set the asymptotic parameters"
   ]
  },
  {
   "cell_type": "code",
   "execution_count": 4,
   "metadata": {},
   "outputs": [],
   "source": [
    "deltanu_  =  60.\n",
    "numax_= 1150.\n",
    "alpha_ = 0.\n",
    "epsilon_ = 0.\n",
    "d01_ = deltanu_/2.\n",
    "d02_ = 6."
   ]
  },
  {
   "cell_type": "markdown",
   "metadata": {},
   "source": [
    "Generate the model for the full range"
   ]
  },
  {
   "cell_type": "code",
   "execution_count": 5,
   "metadata": {},
   "outputs": [],
   "source": [
    "mod = model(ff, n0_, n1_, n2_)"
   ]
  },
  {
   "cell_type": "markdown",
   "metadata": {},
   "source": [
    "Calculate the predicted mode frequencies"
   ]
  },
  {
   "cell_type": "code",
   "execution_count": 6,
   "metadata": {},
   "outputs": [],
   "source": [
    "init_f = [numax_, deltanu_, alpha_, epsilon_, d01_, d02_]\n",
    "f0_ = mod.f0(init_f)\n",
    "f1_ = mod.f1(init_f)\n",
    "f2_ = mod.f2(init_f)"
   ]
  },
  {
   "cell_type": "markdown",
   "metadata": {},
   "source": [
    "Slice up the data to just be around the mode frequencies"
   ]
  },
  {
   "cell_type": "code",
   "execution_count": 7,
   "metadata": {},
   "outputs": [],
   "source": [
    "lo = f2_.min() - .25*deltanu_\n",
    "hi = f1_.max() + .25*deltanu_\n",
    "\n",
    "sel = (ff > lo) & (ff < hi)\n",
    "f = ff[sel]"
   ]
  },
  {
   "cell_type": "markdown",
   "metadata": {},
   "source": [
    "And now lets reset the model for the new frequency range..."
   ]
  },
  {
   "cell_type": "code",
   "execution_count": 8,
   "metadata": {},
   "outputs": [],
   "source": [
    "mod = model(f, n0_, n1_, n2_)"
   ]
  },
  {
   "cell_type": "markdown",
   "metadata": {},
   "source": [
    "Set up initial guesses for the model parameters"
   ]
  },
  {
   "cell_type": "code",
   "execution_count": 9,
   "metadata": {},
   "outputs": [],
   "source": [
    "def gaussian(locs, l, numax, Hmax0):\n",
    "    fwhm = 0.25 * numax\n",
    "    std = fwhm/2.355\n",
    "\n",
    "    Vl = [1.0, 1.22, 0.71, 0.14]\n",
    "\n",
    "    return Hmax0 * Vl[l] * np.exp(-0.5 * (locs - numax)**2 / std**2)"
   ]
  },
  {
   "cell_type": "code",
   "execution_count": 10,
   "metadata": {},
   "outputs": [],
   "source": [
    "init_m =[f0_,                         # l0 modes\n",
    "           f1_,                         # l1 modes\n",
    "           f2_,                         # l2 modes\n",
    "           np.ones(len(f0_)) * 2.0,     # l0 widths\n",
    "           np.ones(len(f1_)) * 2.0,     # l1 widths\n",
    "           np.ones(len(f2_)) * 2.0,     # l2 widths\n",
    "           np.sqrt(gaussian(f0_, 0, numax_, 1000.) * 2.0 * np.pi / 2.0) ,# l0 heights\n",
    "           np.sqrt(gaussian(f1_, 1, numax_, 1000.) * 2.0 * np.pi / 2.0) ,# l1 heights\n",
    "           np.sqrt(gaussian(f2_, 2, numax_, 1000.) * 2.0 * np.pi / 2.0) ,# l2 heights\n",
    "           1.,       # splitting\n",
    "           np.pi/4.,                    # inclination angle\n",
    "           1.                           # background parameters\n",
    "        ]\n",
    "\n",
    "# Add on the chisquare 2 dof noise\n",
    "p = mod.model(init_m, theano=False)*np.random.chisquare(2., size=len(f))/2"
   ]
  },
  {
   "cell_type": "markdown",
   "metadata": {},
   "source": [
    "Plot what our data looks like"
   ]
  },
  {
   "cell_type": "code",
   "execution_count": 11,
   "metadata": {},
   "outputs": [
    {
     "data": {
      "image/png": "[encoded data removed]",
      "text/plain": [
       "<Figure size 848.5x400 with 1 Axes>"
      ]
     },
     "metadata": {},
     "output_type": "display_data"
    },
    {
     "data": {
      "image/png": "[encoded data removed]",
      "text/plain": [
       "<Figure size 848.5x400 with 1 Axes>"
      ]
     },
     "metadata": {},
     "output_type": "display_data"
    }
   ],
   "source": [
    "with plt.style.context(ms.ms):\n",
    "    plt.plot(f, p)\n",
    "    plt.plot(f, mod.model(init_m, theano=False), lw=3)\n",
    "    plt.show()\n",
    "    \n",
    "    fig, ax = plt.subplots()\n",
    "    ax.scatter(f0_%deltanu_, n0_, marker='^',label='0', s=20)\n",
    "    ax.scatter(f1_%deltanu_, n1_, marker='>',label='1', s=20)\n",
    "    ax.scatter(f2_%deltanu_, n2_, marker='o',label='2', s=20)\n",
    "\n",
    "    ax.legend()\n",
    "    plt.show()    "
   ]
  },
  {
   "cell_type": "markdown",
   "metadata": {},
   "source": [
    "# Fitting the model:"
   ]
  },
  {
   "cell_type": "code",
   "execution_count": 12,
   "metadata": {},
   "outputs": [
    {
     "ename": "NameError",
     "evalue": "name 'f0' is not defined",
     "output_type": "error",
     "traceback": [
      "\u001b[0;31m---------------------------------------------------------------------------\u001b[0m",
      "\u001b[0;31mNameError\u001b[0m                                 Traceback (most recent call last)",
      "\u001b[0;32m<ipython-input-12-ac2429d6d7d1>\u001b[0m in \u001b[0;36m<module>\u001b[0;34m\u001b[0m\n\u001b[1;32m     14\u001b[0m     \u001b[0mb\u001b[0m \u001b[0;34m=\u001b[0m \u001b[0mpm\u001b[0m\u001b[0;34m.\u001b[0m\u001b[0mBound\u001b[0m\u001b[0;34m(\u001b[0m\u001b[0mpm\u001b[0m\u001b[0;34m.\u001b[0m\u001b[0mNormal\u001b[0m\u001b[0;34m,\u001b[0m \u001b[0mlower\u001b[0m\u001b[0;34m=\u001b[0m\u001b[0;36m0.\u001b[0m\u001b[0;34m)\u001b[0m\u001b[0;34m(\u001b[0m\u001b[0;34m'b'\u001b[0m\u001b[0;34m,\u001b[0m \u001b[0mmu\u001b[0m\u001b[0;34m=\u001b[0m\u001b[0;36m1.\u001b[0m\u001b[0;34m,\u001b[0m \u001b[0msigma\u001b[0m\u001b[0;34m=\u001b[0m\u001b[0;36m.1\u001b[0m\u001b[0;34m,\u001b[0m \u001b[0mtestval\u001b[0m\u001b[0;34m=\u001b[0m\u001b[0;36m1.\u001b[0m\u001b[0;34m)\u001b[0m\u001b[0;34m\u001b[0m\u001b[0;34m\u001b[0m\u001b[0m\n\u001b[1;32m     15\u001b[0m \u001b[0;34m\u001b[0m\u001b[0m\n\u001b[0;32m---> 16\u001b[0;31m     \u001b[0mfit\u001b[0m \u001b[0;34m=\u001b[0m \u001b[0mmod\u001b[0m\u001b[0;34m.\u001b[0m\u001b[0mmodel\u001b[0m\u001b[0;34m(\u001b[0m\u001b[0;34m[\u001b[0m\u001b[0mf0\u001b[0m\u001b[0;34m,\u001b[0m \u001b[0mf1\u001b[0m\u001b[0;34m,\u001b[0m \u001b[0mf2\u001b[0m\u001b[0;34m,\u001b[0m \u001b[0mg0\u001b[0m\u001b[0;34m,\u001b[0m \u001b[0mg1\u001b[0m\u001b[0;34m,\u001b[0m \u001b[0mg2\u001b[0m\u001b[0;34m,\u001b[0m \u001b[0mh0\u001b[0m\u001b[0;34m,\u001b[0m \u001b[0mh1\u001b[0m\u001b[0;34m,\u001b[0m \u001b[0mh2\u001b[0m\u001b[0;34m,\u001b[0m \u001b[0msplit\u001b[0m\u001b[0;34m,\u001b[0m \u001b[0mi\u001b[0m\u001b[0;34m,\u001b[0m \u001b[0mb\u001b[0m\u001b[0;34m]\u001b[0m\u001b[0;34m)\u001b[0m\u001b[0;34m\u001b[0m\u001b[0;34m\u001b[0m\u001b[0m\n\u001b[0m\u001b[1;32m     17\u001b[0m \u001b[0;34m\u001b[0m\u001b[0m\n\u001b[1;32m     18\u001b[0m     \u001b[0mlike\u001b[0m \u001b[0;34m=\u001b[0m \u001b[0mpm\u001b[0m\u001b[0;34m.\u001b[0m\u001b[0mGamma\u001b[0m\u001b[0;34m(\u001b[0m\u001b[0;34m'like'\u001b[0m\u001b[0;34m,\u001b[0m \u001b[0malpha\u001b[0m\u001b[0;34m=\u001b[0m\u001b[0;36m1.\u001b[0m\u001b[0;34m,\u001b[0m \u001b[0mbeta\u001b[0m\u001b[0;34m=\u001b[0m\u001b[0;36m1.\u001b[0m\u001b[0;34m/\u001b[0m\u001b[0mfit\u001b[0m\u001b[0;34m,\u001b[0m \u001b[0mobserved\u001b[0m\u001b[0;34m=\u001b[0m\u001b[0mp\u001b[0m\u001b[0;34m)\u001b[0m\u001b[0;34m\u001b[0m\u001b[0;34m\u001b[0m\u001b[0m\n",
      "\u001b[0;31mNameError\u001b[0m: name 'f0' is not defined"
     ]
    }
   ],
   "source": [
    "pm_model = pm.Model()\n",
    "\n",
    "with pm_model:   \n",
    "    #.. whatever you think sensible here\n",
    "    \n",
    "    \n",
    "    # I've left these below for you to use if you want because I trust these parameterizations\n",
    "    xsplit = pm.HalfNormal('xsplit', sigma=2.0, testval=init_m[9] * np.sin(init_m[10]))\n",
    "    cosi = pm.Uniform('cosi', 0., 1., testval=np.cos(init_m[10]))\n",
    "    \n",
    "    i = pm.Deterministic('i', tt.arccos(cosi))\n",
    "    split = pm.Deterministic('split', xsplit/tt.sin(i))\n",
    "    \n",
    "    b = pm.Bound(pm.Normal, lower=0.)('b', mu=1., sigma=.1, testval=1.)\n",
    "    \n",
    "    fit = mod.model([f0, f1, f2, g0, g1, g2, h0, h1, h2, split, i, b])\n",
    "    \n",
    "    like = pm.Gamma('like', alpha=1., beta=1./fit, observed=p)"
   ]
  }
 ],
 "metadata": {
  "kernelspec": {
   "display_name": "Python 3",
   "language": "python",
   "name": "python3"
  },
  "language_info": {
   "codemirror_mode": {
    "name": "ipython",
    "version": 3
   },
   "file_extension": ".py",
   "mimetype": "text/x-python",
   "name": "python",
   "nbconvert_exporter": "python",
   "pygments_lexer": "ipython3",
   "version": "3.7.3"
  }
 },
 "nbformat": 4,
 "nbformat_minor": 2
}
