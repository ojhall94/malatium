{
 "cells": [
  {
   "cell_type": "markdown",
   "metadata": {},
   "source": [
    "# We're going to add a background to our previous simple model"
   ]
  },
  {
   "cell_type": "code",
   "execution_count": 1,
   "metadata": {},
   "outputs": [
    {
     "name": "stderr",
     "output_type": "stream",
     "text": [
      "WARNING (theano.tensor.blas): Using NumPy C-API based implementation for BLAS functions.\n"
     ]
    }
   ],
   "source": [
    "import numpy as np\n",
    "import matplotlib.pyplot as plt\n",
    "import theano.tensor as tt\n",
    "\n",
    "import lightkurve as lk\n",
    "from astropy.units import cds\n",
    "from astropy import units as u\n",
    "import seaborn as sns\n",
    "\n",
    "import corner\n",
    "import pystan\n",
    "import pandas as pd\n",
    "import pickle\n",
    "import glob\n",
    "from astropy.io import ascii\n",
    "import os\n",
    "import sys\n",
    "\n",
    "import pymc3 as pm\n",
    "from pymc3.gp.util import plot_gp_dist\n",
    "import arviz\n",
    "import warnings\n",
    "warnings.filterwarnings('ignore')\n",
    "\n",
    "cpu = 'bear'"
   ]
  },
  {
   "cell_type": "markdown",
   "metadata": {},
   "source": [
    "## Build the model"
   ]
  },
  {
   "cell_type": "code",
   "execution_count": 2,
   "metadata": {},
   "outputs": [],
   "source": [
    "class model():\n",
    "    def __init__(self, f, n0_, n1_, n2_, deltanu_):\n",
    "        self.f = f\n",
    "        self.n0 = n0_\n",
    "        self.n1 = n1_\n",
    "        self.n2 = n2_\n",
    "        self.npts = len(f)\n",
    "        self.M = [len(n0_), len(n1_), len(n2_)]\n",
    "        self.deltanu = deltanu_\n",
    "        \n",
    "    def epsilon(self, i):\n",
    "        eps = tt.zeros((3,3))\n",
    "        eps0 = tt.set_subtensor(eps[0][0], 1.)\n",
    "        eps1 = tt.set_subtensor(eps[1][0], tt.sqr(tt.cos(i)))\n",
    "        eps1 = tt.set_subtensor(eps1[1], 0.5 * tt.sqr(tt.sin(i)))\n",
    "        eps2 = tt.set_subtensor(eps[2][0], 0.25 * tt.sqr((3. * tt.sqr(tt.cos(i)) - 1.)))\n",
    "        eps2 = tt.set_subtensor(eps2[1], (3./8.) * tt.sqr(tt.sin(2*i)))\n",
    "        eps2 = tt.set_subtensor(eps2[2], (3./8.) * tt.sin(i)**4)\n",
    "\n",
    "        eps = tt.set_subtensor(eps[0], eps0)\n",
    "        eps = tt.set_subtensor(eps[1], eps1)\n",
    "        eps = tt.set_subtensor(eps[2], eps2)\n",
    "        \n",
    "        return eps\n",
    "            \n",
    "    def lor(self, freq, h, w):\n",
    "        return h / (1.0 + 4.0/tt.sqr(w)*tt.sqr((self.f - freq)))\n",
    "    \n",
    "    def mode(self, l, freqs, hs, ws, eps, split=0):\n",
    "        for idx in range(self.M[l]):\n",
    "            for m in range(-l, l+1, 1):\n",
    "                self.modes += self.lor(freqs[idx] + (m*split), \n",
    "                                     hs[idx] * eps[l,abs(m)], \n",
    "                                     ws[idx])\n",
    "  \n",
    "    def model(self, p, theano=True):\n",
    "        f0, f1, f2, g0, g1, g2, h0, h1, h2, split, i, phi = p\n",
    "\n",
    "        # Unpack background parameters\n",
    "        loga = phi[0]\n",
    "        logb = phi[1]\n",
    "        logc = phi[2]\n",
    "        logd = phi[3]\n",
    "        logj = phi[4]\n",
    "        logk = phi[5]\n",
    "        white = phi[6]\n",
    "        scale = phi[7]\n",
    "        nyq = phi[8]\n",
    "        \n",
    "        # Calculate the modes\n",
    "        eps = self.epsilon(i)        \n",
    "        self.modes = np.zeros(self.npts)\n",
    "        self.mode(0, f0, h0, g0, eps)\n",
    "        self.mode(1, f1, h1, g1, eps, split)\n",
    "        self.mode(2, f2, h2, g2, eps, split)\n",
    "        self.modes *= self.get_apodization(nyq)\n",
    "            \n",
    "        #Calculate the background\n",
    "        self.back = self.get_background(loga, logb, logc, logd, logj, logk,\n",
    "                                       white, scale, nyq)            \n",
    "            \n",
    "        #Create the model\n",
    "        self.mod = self.modes + self.back\n",
    "        if theano:\n",
    "            return self.mod\n",
    "        else:\n",
    "            return self.mod.eval()\n",
    "\n",
    "    # Small separations are fractional\n",
    "    def asymptotic(self, n, numax, alpha, epsilon, d=0.): \n",
    "        nmax = (numax / self.deltanu) - epsilon\n",
    "        curve = (alpha/2.)*(n-nmax)*(n-nmax)\n",
    "        return (n + epsilon + d + curve) * self.deltanu\n",
    "\n",
    "    def f0(self, p):\n",
    "        numax, alpha, epsilon, d01, d02 = p\n",
    "        \n",
    "        return self.asymptotic(self.n0, numax, alpha, epsilon, 0.)\n",
    "    \n",
    "    def f1(self, p):\n",
    "        numax, alpha, epsilon, d01, d02 = p\n",
    "        \n",
    "        return self.asymptotic(self.n1, numax, alpha, epsilon, d01)\n",
    "    \n",
    "    def f2(self, p):\n",
    "        numax, alpha, epsilon, d01, d02 = p\n",
    "        \n",
    "        return self.asymptotic(self.n2+1, numax, alpha, epsilon, -d02)\n",
    "\n",
    "    def gaussian(self, freq, numax, w, A):\n",
    "        return A * tt.exp(-0.5 * tt.sqr((freq - numax)) / tt.sqr(w))\n",
    "\n",
    "    def A0(self, f, p, theano=True):\n",
    "        numax, w, A, V1, V2 = p\n",
    "        height = self.gaussian(f, numax, w, A)\n",
    "        if theano:\n",
    "            return height\n",
    "        else:\n",
    "            return height.eval()\n",
    "    \n",
    "    def A1(self, f, p, theano=True):\n",
    "        numax, w, A, V1, V2 = p\n",
    "        height = self.gaussian(f, numax, w, A)*V1        \n",
    "        if theano:\n",
    "            return height\n",
    "        else:\n",
    "            return height.eval()\n",
    "    \n",
    "    def A2(self, f, p, theano=True):\n",
    "        numax, w, A, V1, V2 = p\n",
    "        height = self.gaussian(f, numax, w, A)*V2      \n",
    "        if theano:\n",
    "            return height\n",
    "        else:\n",
    "            return height.eval()\n",
    "        \n",
    "    def harvey(self, a, b, c):\n",
    "        harvey = 0.9*tt.sqr(a)/b/(1.0 + tt.pow((self.f/b), c))\n",
    "        return harvey\n",
    "\n",
    "    def get_apodization(self, nyquist):\n",
    "        x = (np.pi * self.f) / (2 * nyquist)\n",
    "        return tt.sqr((tt.sin(x)/x))\n",
    "\n",
    "    def get_background(self, loga, logb, logc, logd, logj, logk, white, scale, nyq):\n",
    "        background = np.zeros(len(self.f))\n",
    "        background += self.get_apodization(nyq) * scale  \\\n",
    "                        * (self.harvey(tt.pow(10, loga), tt.pow(10, logb), 4.) \\\n",
    "                        +  self.harvey(tt.pow(10, logc), tt.pow(10, logd), 4.) \\\n",
    "                        +  self.harvey(tt.pow(10, logj), tt.pow(10, logk), 2.))\\\n",
    "                        +  white\n",
    "        return background              "
   ]
  },
  {
   "cell_type": "markdown",
   "metadata": {},
   "source": [
    "### Build the range"
   ]
  },
  {
   "cell_type": "code",
   "execution_count": 3,
   "metadata": {},
   "outputs": [],
   "source": [
    "nmodes = 10\n",
    "nbase = 13\n",
    "n0_ = np.arange(nmodes)+nbase\n",
    "n1_ = np.copy(n0_)\n",
    "n2_ = np.copy(n0_) - 1.\n",
    "fs = .1\n",
    "nyq = (0.5 * (1./58.6) * u.hertz).to(u.microhertz).value\n",
    "ff = np.arange(fs, nyq, fs)"
   ]
  },
  {
   "cell_type": "markdown",
   "metadata": {},
   "source": [
    "### Build the frequencies"
   ]
  },
  {
   "cell_type": "code",
   "execution_count": 4,
   "metadata": {},
   "outputs": [],
   "source": [
    "deltanu_  =  60.\n",
    "numax_= 1150.\n",
    "alpha_ = 0.01\n",
    "epsilon_ = 1.1\n",
    "d01_ = deltanu_/2. / deltanu_\n",
    "d02_ = 6. / deltanu_"
   ]
  },
  {
   "cell_type": "code",
   "execution_count": 5,
   "metadata": {},
   "outputs": [],
   "source": [
    "mod = model(ff, n0_, n1_, n2_, deltanu_)"
   ]
  },
  {
   "cell_type": "code",
   "execution_count": 6,
   "metadata": {},
   "outputs": [],
   "source": [
    "init_f = [numax_, alpha_, epsilon_, d01_, d02_]\n",
    "\n",
    "f0_true = mod.f0(init_f)\n",
    "f1_true = mod.f1(init_f)\n",
    "f2_true = mod.f2(init_f)\n",
    "\n",
    "sigma0_ = 1.5\n",
    "sigma1_ = 2.0\n",
    "sigma2_ = .5\n",
    "f0_ = mod.f0(init_f) + np.random.randn(len(f0_true)) * sigma0_\n",
    "f1_ = mod.f1(init_f) + np.random.randn(len(f1_true)) * sigma1_\n",
    "f2_ = mod.f2(init_f) + np.random.randn(len(f2_true)) * sigma2_"
   ]
  },
  {
   "cell_type": "code",
   "execution_count": 7,
   "metadata": {},
   "outputs": [],
   "source": [
    "lo = f2_.min() - .25*deltanu_\n",
    "hi = f1_.max() + .25*deltanu_\n",
    "\n",
    "sel = (ff > lo) & (ff < hi)\n",
    "f = ff[sel]"
   ]
  },
  {
   "cell_type": "markdown",
   "metadata": {},
   "source": [
    "### Reset model for new frequency range"
   ]
  },
  {
   "cell_type": "code",
   "execution_count": 8,
   "metadata": {},
   "outputs": [],
   "source": [
    "mod = model(f, n0_, n1_, n2_, deltanu_)"
   ]
  },
  {
   "cell_type": "markdown",
   "metadata": {},
   "source": [
    "### Build the linewidths"
   ]
  },
  {
   "cell_type": "code",
   "execution_count": 9,
   "metadata": {},
   "outputs": [],
   "source": [
    "def kernel(n, rho, L):\n",
    "    return rho**2 * np.exp(-0.5 * np.subtract.outer(n,n)**2 / L**2)"
   ]
  },
  {
   "cell_type": "code",
   "execution_count": 10,
   "metadata": {},
   "outputs": [],
   "source": [
    "m_ = .5\n",
    "c_ = .5\n",
    "rho_ = 0.1\n",
    "L_ = 0.3\n",
    "\n",
    "fs = np.concatenate((f0_, f1_, f2_))\n",
    "fs -= fs.min()\n",
    "nf = fs/fs.max()\n",
    "mu_ = m_ * nf + c_\n",
    "\n",
    "Sigma_ = kernel(nf, rho_, L_)\n",
    "\n",
    "lng0_ = np.random.multivariate_normal(mu_, Sigma_)\n",
    "widths = [np.exp(lng0_)[0:len(f0_)],\n",
    "          np.exp(lng0_)[len(f0_):len(f0_)+len(f1_)],\n",
    "          np.exp(lng0_)[len(f0_)+len(f1_):]]\n",
    "\n",
    "nf_ = nf[:,None]"
   ]
  },
  {
   "cell_type": "markdown",
   "metadata": {},
   "source": [
    "### Build the mode amplitudes"
   ]
  },
  {
   "cell_type": "code",
   "execution_count": 11,
   "metadata": {},
   "outputs": [],
   "source": [
    "w_ = (0.25 * numax_)/2.355\n",
    "V1_ = 1.2\n",
    "V2_ = 0.7\n",
    "A_ = 10.\n",
    "init_h =[numax_,   #numax\n",
    "         w_,       #envelope width\n",
    "         A_,       #envelope amplitude\n",
    "         V1_,      #dipole visibility\n",
    "         V2_       #ocotopole visibility\n",
    "        ]\n",
    "sigmaA_ = .2\n",
    "amps = [mod.A0(f0_, init_h, theano=False) + np.random.randn(len(f0_)) * sigmaA_,\n",
    "        mod.A1(f1_, init_h, theano=False) + np.random.randn(len(f0_)) * sigmaA_,\n",
    "        mod.A2(f2_, init_h, theano=False) + np.random.randn(len(f0_)) * sigmaA_]"
   ]
  },
  {
   "cell_type": "markdown",
   "metadata": {},
   "source": [
    "### Build the background"
   ]
  },
  {
   "cell_type": "code",
   "execution_count": 53,
   "metadata": {},
   "outputs": [],
   "source": [
    "labels=['loga','logb','logc','logd','logj','logk','white','scale','nyq']\n",
    "phi_ =  [   1.6,   2.6,   1.6,   3.0,   1.7,   0.5,    0.4,     1., nyq]\n",
    "phi_sigma = np.genfromtxt('phi_sigma.txt')\n",
    "phi_cholesky = np.linalg.cholesky(phi_sigma)"
   ]
  },
  {
   "cell_type": "markdown",
   "metadata": {},
   "source": [
    "### Construct the model"
   ]
  },
  {
   "cell_type": "code",
   "execution_count": 54,
   "metadata": {},
   "outputs": [],
   "source": [
    "split_ = 1.\n",
    "incl_ = np.pi/4.\n",
    "init =[f0_,                         # l0 modes\n",
    "       f1_,                         # l1 modes\n",
    "       f2_,                         # l2 modes\n",
    "       widths[0],             # l0 widths\n",
    "       widths[1],             # l1 widths\n",
    "       widths[2],             # l2 widths\n",
    "       amps[0]**2 * 2.0 / np.pi / widths[0] ,# l0 heights\n",
    "       amps[1]**2 * 2.0 / np.pi / widths[1] ,# l1 heights\n",
    "       amps[2]**2 * 2.0 / np.pi / widths[2] ,# l2 heights\n",
    "       split_,       # splitting\n",
    "       incl_,                    # inclination angle\n",
    "       phi_                           # background parameters\n",
    "        ]\n",
    "p = mod.model(init, theano=False)*np.random.chisquare(2., size=len(f))/2"
   ]
  },
  {
   "cell_type": "code",
   "execution_count": 55,
   "metadata": {
    "scrolled": false
   },
   "outputs": [
    {
     "data": {
      "image/png": "[encoded data removed]",
      "text/plain": [
       "<Figure size 848.5x400 with 1 Axes>"
      ]
     },
     "metadata": {},
     "output_type": "display_data"
    }
   ],
   "source": [
    "with plt.style.context(lk.MPLSTYLE):\n",
    "    plt.plot(f, p)\n",
    "    plt.plot(f, mod.model(init, theano=False), lw=3)\n",
    "    plt.yscale('log')\n",
    "    plt.xscale('log')\n",
    "    if cpu == 'bear':\n",
    "        plt.savefig('data.png')\n",
    "    else: plt.show()"
   ]
  },
  {
   "cell_type": "markdown",
   "metadata": {},
   "source": [
    "# Now lets try and fit this"
   ]
  },
  {
   "cell_type": "code",
   "execution_count": 56,
   "metadata": {
    "scrolled": false
   },
   "outputs": [],
   "source": [
    "pm_model = pm.Model()\n",
    "\n",
    "with pm_model:   \n",
    "    # Mode locations\n",
    "    f0 = pm.Normal('f0', mu = f0_, sigma = sigma0_*10., testval = f0_, shape = len(f0_))\n",
    "    f1 = pm.Normal('f1', mu = f1_, sigma = sigma1_*10., testval = f1_, shape = len(f1_))\n",
    "    f2 = pm.Normal('f2', mu = f2_, sigma = sigma2_*10., testval = f2_, shape = len(f2_))\n",
    "\n",
    "     # Mode linewidths\n",
    "    g0 = pm.HalfNormal('g0', sigma=2.0, testval=init[3], shape=len(init[3]))\n",
    "    g1 = pm.HalfNormal('g1', sigma=2.0, testval=init[4], shape=len(init[4]))\n",
    "    g2 = pm.HalfNormal('g2', sigma=2.0, testval=init[5], shape=len(init[5]))\n",
    "    \n",
    "    # Mode amplitudes\n",
    "    a0 = pm.HalfNormal('a0', sigma=20., testval=amps[0], shape=len(amps[0]))\n",
    "    a1 = pm.HalfNormal('a1', sigma=20., testval=amps[1], shape=len(amps[1]))\n",
    "    a2 = pm.HalfNormal('a2', sigma=20., testval=amps[2], shape=len(amps[2]))\n",
    "    \n",
    "    h0 = pm.Deterministic('h0', 2*tt.sqr(a0)/np.pi/g0)\n",
    "    h1 = pm.Deterministic('h1', 2*tt.sqr(a1)/np.pi/g1)\n",
    "    h2 = pm.Deterministic('h2', 2*tt.sqr(a2)/np.pi/g2)\n",
    "    \n",
    "    # Mode splitting\n",
    "    xsplit = pm.HalfNormal('xsplit', sigma=2.0, testval=init[9] * np.sin(init[10]))\n",
    "    cosi = pm.Uniform('cosi', 0., 1., testval=np.cos(init[10]))\n",
    "    \n",
    "    i = pm.Deterministic('i', tt.arccos(cosi))\n",
    "    split = pm.Deterministic('split', xsplit/tt.sin(i))\n",
    "    \n",
    "    # Background treatment\n",
    "    phi = pm.MvNormal('phi', mu=phi_, chol=phi_cholesky, testval=phi_, shape=len(phi_))\n",
    "    \n",
    "    # Construct model\n",
    "    fit = mod.model([f0, f1, f2, g0, g1, g2, h0, h1, h2, split, i, phi])\n",
    "    \n",
    "    like = pm.Gamma('like', alpha=1., beta=1./fit, observed=p)"
   ]
  },
  {
   "cell_type": "code",
   "execution_count": 58,
   "metadata": {},
   "outputs": [
    {
     "name": "stdout",
     "output_type": "stream",
     "text": [
      "f0 -36.26988734306884\n",
      "f1 -39.14670806758664\n",
      "f2 -25.283764456387733\n",
      "g0_log__ -7.650155124293125\n",
      "g1_log__ -7.769634534945512\n",
      "g2_log__ -7.626406661550481\n",
      "a0_log__ -21.26158398004733\n",
      "a1_log__ -18.023601317998704\n",
      "a2_log__ -25.95931393556346\n",
      "xsplit_log__ -1.3280121234846454\n",
      "cosi_interval__ -1.5745207675794886\n",
      "phi 32.08864514052494\n",
      "like -9778.495137934195\n"
     ]
    }
   ],
   "source": [
    "for RV in pm_model.basic_RVs:\n",
    "    print(RV.name, RV.logp(pm_model.test_point))"
   ]
  },
  {
   "cell_type": "code",
   "execution_count": 59,
   "metadata": {
    "scrolled": false
   },
   "outputs": [
    {
     "name": "stderr",
     "output_type": "stream",
     "text": [
      "INFO:pymc3:Auto-assigning NUTS sampler...\n",
      "INFO:pymc3:Initializing NUTS using jitter+adapt_diag...\n",
      "INFO:pymc3:Multiprocess sampling (4 chains in 4 jobs)\n",
      "INFO:pymc3:NUTS: [phi, cosi, xsplit, a2, a1, a0, g2, g1, g0, f2, f1, f0]\n",
      "Sampling 4 chains:   7%|▋         | 278/4000 [01:10<1:07:45,  1.09s/draws]\n"
     ]
    },
    {
     "ename": "ValueError",
     "evalue": "Not enough samples to build a trace.",
     "output_type": "error",
     "traceback": [
      "\u001b[0;31m---------------------------------------------------------------------------\u001b[0m",
      "\u001b[0;31mKeyboardInterrupt\u001b[0m                         Traceback (most recent call last)",
      "\u001b[0;32m~/.local/lib/python3.7/site-packages/pymc3/sampling.py\u001b[0m in \u001b[0;36m_mp_sample\u001b[0;34m(draws, tune, step, chains, cores, chain, random_seed, start, progressbar, trace, model, **kwargs)\u001b[0m\n\u001b[1;32m    968\u001b[0m             \u001b[0;32mwith\u001b[0m \u001b[0msampler\u001b[0m\u001b[0;34m:\u001b[0m\u001b[0;34m\u001b[0m\u001b[0;34m\u001b[0m\u001b[0m\n\u001b[0;32m--> 969\u001b[0;31m                 \u001b[0;32mfor\u001b[0m \u001b[0mdraw\u001b[0m \u001b[0;32min\u001b[0m \u001b[0msampler\u001b[0m\u001b[0;34m:\u001b[0m\u001b[0;34m\u001b[0m\u001b[0;34m\u001b[0m\u001b[0m\n\u001b[0m\u001b[1;32m    970\u001b[0m                     \u001b[0mtrace\u001b[0m \u001b[0;34m=\u001b[0m \u001b[0mtraces\u001b[0m\u001b[0;34m[\u001b[0m\u001b[0mdraw\u001b[0m\u001b[0;34m.\u001b[0m\u001b[0mchain\u001b[0m \u001b[0;34m-\u001b[0m \u001b[0mchain\u001b[0m\u001b[0;34m]\u001b[0m\u001b[0;34m\u001b[0m\u001b[0;34m\u001b[0m\u001b[0m\n",
      "\u001b[0;32m~/.local/lib/python3.7/site-packages/pymc3/parallel_sampling.py\u001b[0m in \u001b[0;36m__iter__\u001b[0;34m(self)\u001b[0m\n\u001b[1;32m    392\u001b[0m         \u001b[0;32mwhile\u001b[0m \u001b[0mself\u001b[0m\u001b[0;34m.\u001b[0m\u001b[0m_active\u001b[0m\u001b[0;34m:\u001b[0m\u001b[0;34m\u001b[0m\u001b[0;34m\u001b[0m\u001b[0m\n\u001b[0;32m--> 393\u001b[0;31m             \u001b[0mdraw\u001b[0m \u001b[0;34m=\u001b[0m \u001b[0mProcessAdapter\u001b[0m\u001b[0;34m.\u001b[0m\u001b[0mrecv_draw\u001b[0m\u001b[0;34m(\u001b[0m\u001b[0mself\u001b[0m\u001b[0;34m.\u001b[0m\u001b[0m_active\u001b[0m\u001b[0;34m)\u001b[0m\u001b[0;34m\u001b[0m\u001b[0;34m\u001b[0m\u001b[0m\n\u001b[0m\u001b[1;32m    394\u001b[0m             \u001b[0mproc\u001b[0m\u001b[0;34m,\u001b[0m \u001b[0mis_last\u001b[0m\u001b[0;34m,\u001b[0m \u001b[0mdraw\u001b[0m\u001b[0;34m,\u001b[0m \u001b[0mtuning\u001b[0m\u001b[0;34m,\u001b[0m \u001b[0mstats\u001b[0m\u001b[0;34m,\u001b[0m \u001b[0mwarns\u001b[0m \u001b[0;34m=\u001b[0m \u001b[0mdraw\u001b[0m\u001b[0;34m\u001b[0m\u001b[0;34m\u001b[0m\u001b[0m\n",
      "\u001b[0;32m~/.local/lib/python3.7/site-packages/pymc3/parallel_sampling.py\u001b[0m in \u001b[0;36mrecv_draw\u001b[0;34m(processes, timeout)\u001b[0m\n\u001b[1;32m    283\u001b[0m         \u001b[0mpipes\u001b[0m \u001b[0;34m=\u001b[0m \u001b[0;34m[\u001b[0m\u001b[0mproc\u001b[0m\u001b[0;34m.\u001b[0m\u001b[0m_msg_pipe\u001b[0m \u001b[0;32mfor\u001b[0m \u001b[0mproc\u001b[0m \u001b[0;32min\u001b[0m \u001b[0mprocesses\u001b[0m\u001b[0;34m]\u001b[0m\u001b[0;34m\u001b[0m\u001b[0;34m\u001b[0m\u001b[0m\n\u001b[0;32m--> 284\u001b[0;31m         \u001b[0mready\u001b[0m \u001b[0;34m=\u001b[0m \u001b[0mmultiprocessing\u001b[0m\u001b[0;34m.\u001b[0m\u001b[0mconnection\u001b[0m\u001b[0;34m.\u001b[0m\u001b[0mwait\u001b[0m\u001b[0;34m(\u001b[0m\u001b[0mpipes\u001b[0m\u001b[0;34m)\u001b[0m\u001b[0;34m\u001b[0m\u001b[0;34m\u001b[0m\u001b[0m\n\u001b[0m\u001b[1;32m    285\u001b[0m         \u001b[0;32mif\u001b[0m \u001b[0;32mnot\u001b[0m \u001b[0mready\u001b[0m\u001b[0;34m:\u001b[0m\u001b[0;34m\u001b[0m\u001b[0;34m\u001b[0m\u001b[0m\n",
      "\u001b[0;32m/usr/lib/python3.7/multiprocessing/connection.py\u001b[0m in \u001b[0;36mwait\u001b[0;34m(object_list, timeout)\u001b[0m\n\u001b[1;32m    919\u001b[0m             \u001b[0;32mwhile\u001b[0m \u001b[0;32mTrue\u001b[0m\u001b[0;34m:\u001b[0m\u001b[0;34m\u001b[0m\u001b[0;34m\u001b[0m\u001b[0m\n\u001b[0;32m--> 920\u001b[0;31m                 \u001b[0mready\u001b[0m \u001b[0;34m=\u001b[0m \u001b[0mselector\u001b[0m\u001b[0;34m.\u001b[0m\u001b[0mselect\u001b[0m\u001b[0;34m(\u001b[0m\u001b[0mtimeout\u001b[0m\u001b[0;34m)\u001b[0m\u001b[0;34m\u001b[0m\u001b[0;34m\u001b[0m\u001b[0m\n\u001b[0m\u001b[1;32m    921\u001b[0m                 \u001b[0;32mif\u001b[0m \u001b[0mready\u001b[0m\u001b[0;34m:\u001b[0m\u001b[0;34m\u001b[0m\u001b[0;34m\u001b[0m\u001b[0m\n",
      "\u001b[0;32m/usr/lib/python3.7/selectors.py\u001b[0m in \u001b[0;36mselect\u001b[0;34m(self, timeout)\u001b[0m\n\u001b[1;32m    414\u001b[0m         \u001b[0;32mtry\u001b[0m\u001b[0;34m:\u001b[0m\u001b[0;34m\u001b[0m\u001b[0;34m\u001b[0m\u001b[0m\n\u001b[0;32m--> 415\u001b[0;31m             \u001b[0mfd_event_list\u001b[0m \u001b[0;34m=\u001b[0m \u001b[0mself\u001b[0m\u001b[0;34m.\u001b[0m\u001b[0m_selector\u001b[0m\u001b[0;34m.\u001b[0m\u001b[0mpoll\u001b[0m\u001b[0;34m(\u001b[0m\u001b[0mtimeout\u001b[0m\u001b[0;34m)\u001b[0m\u001b[0;34m\u001b[0m\u001b[0;34m\u001b[0m\u001b[0m\n\u001b[0m\u001b[1;32m    416\u001b[0m         \u001b[0;32mexcept\u001b[0m \u001b[0mInterruptedError\u001b[0m\u001b[0;34m:\u001b[0m\u001b[0;34m\u001b[0m\u001b[0;34m\u001b[0m\u001b[0m\n",
      "\u001b[0;31mKeyboardInterrupt\u001b[0m: ",
      "\nDuring handling of the above exception, another exception occurred:\n",
      "\u001b[0;31mValueError\u001b[0m                                Traceback (most recent call last)",
      "\u001b[0;32m<ipython-input-59-368b85253019>\u001b[0m in \u001b[0;36m<module>\u001b[0;34m\u001b[0m\n\u001b[1;32m      1\u001b[0m \u001b[0;32mwith\u001b[0m \u001b[0mpm_model\u001b[0m\u001b[0;34m:\u001b[0m\u001b[0;34m\u001b[0m\u001b[0;34m\u001b[0m\u001b[0m\n\u001b[0;32m----> 2\u001b[0;31m     \u001b[0mtrace\u001b[0m \u001b[0;34m=\u001b[0m \u001b[0mpm\u001b[0m\u001b[0;34m.\u001b[0m\u001b[0msample\u001b[0m\u001b[0;34m(\u001b[0m\u001b[0mchains\u001b[0m\u001b[0;34m=\u001b[0m\u001b[0;36m4\u001b[0m\u001b[0;34m,\u001b[0m \u001b[0mtarget_accept\u001b[0m\u001b[0;34m=\u001b[0m\u001b[0;36m.99\u001b[0m\u001b[0;34m)\u001b[0m\u001b[0;34m\u001b[0m\u001b[0;34m\u001b[0m\u001b[0m\n\u001b[0m",
      "\u001b[0;32m~/.local/lib/python3.7/site-packages/pymc3/sampling.py\u001b[0m in \u001b[0;36msample\u001b[0;34m(draws, step, init, n_init, start, trace, chain_idx, chains, cores, tune, progressbar, model, random_seed, discard_tuned_samples, compute_convergence_checks, **kwargs)\u001b[0m\n\u001b[1;32m    435\u001b[0m             \u001b[0m_print_step_hierarchy\u001b[0m\u001b[0;34m(\u001b[0m\u001b[0mstep\u001b[0m\u001b[0;34m)\u001b[0m\u001b[0;34m\u001b[0m\u001b[0;34m\u001b[0m\u001b[0m\n\u001b[1;32m    436\u001b[0m             \u001b[0;32mtry\u001b[0m\u001b[0;34m:\u001b[0m\u001b[0;34m\u001b[0m\u001b[0;34m\u001b[0m\u001b[0m\n\u001b[0;32m--> 437\u001b[0;31m                 \u001b[0mtrace\u001b[0m \u001b[0;34m=\u001b[0m \u001b[0m_mp_sample\u001b[0m\u001b[0;34m(\u001b[0m\u001b[0;34m**\u001b[0m\u001b[0msample_args\u001b[0m\u001b[0;34m)\u001b[0m\u001b[0;34m\u001b[0m\u001b[0;34m\u001b[0m\u001b[0m\n\u001b[0m\u001b[1;32m    438\u001b[0m             \u001b[0;32mexcept\u001b[0m \u001b[0mpickle\u001b[0m\u001b[0;34m.\u001b[0m\u001b[0mPickleError\u001b[0m\u001b[0;34m:\u001b[0m\u001b[0;34m\u001b[0m\u001b[0;34m\u001b[0m\u001b[0m\n\u001b[1;32m    439\u001b[0m                 \u001b[0m_log\u001b[0m\u001b[0;34m.\u001b[0m\u001b[0mwarning\u001b[0m\u001b[0;34m(\u001b[0m\u001b[0;34m\"Could not pickle model, sampling singlethreaded.\"\u001b[0m\u001b[0;34m)\u001b[0m\u001b[0;34m\u001b[0m\u001b[0;34m\u001b[0m\u001b[0m\n",
      "\u001b[0;32m~/.local/lib/python3.7/site-packages/pymc3/sampling.py\u001b[0m in \u001b[0;36m_mp_sample\u001b[0;34m(draws, tune, step, chains, cores, chain, random_seed, start, progressbar, trace, model, **kwargs)\u001b[0m\n\u001b[1;32m    989\u001b[0m         \u001b[0;32mreturn\u001b[0m \u001b[0mMultiTrace\u001b[0m\u001b[0;34m(\u001b[0m\u001b[0mtraces\u001b[0m\u001b[0;34m)\u001b[0m\u001b[0;34m\u001b[0m\u001b[0;34m\u001b[0m\u001b[0m\n\u001b[1;32m    990\u001b[0m     \u001b[0;32mexcept\u001b[0m \u001b[0mKeyboardInterrupt\u001b[0m\u001b[0;34m:\u001b[0m\u001b[0;34m\u001b[0m\u001b[0;34m\u001b[0m\u001b[0m\n\u001b[0;32m--> 991\u001b[0;31m         \u001b[0mtraces\u001b[0m\u001b[0;34m,\u001b[0m \u001b[0mlength\u001b[0m \u001b[0;34m=\u001b[0m \u001b[0m_choose_chains\u001b[0m\u001b[0;34m(\u001b[0m\u001b[0mtraces\u001b[0m\u001b[0;34m,\u001b[0m \u001b[0mtune\u001b[0m\u001b[0;34m)\u001b[0m\u001b[0;34m\u001b[0m\u001b[0;34m\u001b[0m\u001b[0m\n\u001b[0m\u001b[1;32m    992\u001b[0m         \u001b[0;32mreturn\u001b[0m \u001b[0mMultiTrace\u001b[0m\u001b[0;34m(\u001b[0m\u001b[0mtraces\u001b[0m\u001b[0;34m)\u001b[0m\u001b[0;34m[\u001b[0m\u001b[0;34m:\u001b[0m\u001b[0mlength\u001b[0m\u001b[0;34m]\u001b[0m\u001b[0;34m\u001b[0m\u001b[0;34m\u001b[0m\u001b[0m\n\u001b[1;32m    993\u001b[0m     \u001b[0;32mfinally\u001b[0m\u001b[0;34m:\u001b[0m\u001b[0;34m\u001b[0m\u001b[0;34m\u001b[0m\u001b[0m\n",
      "\u001b[0;32m~/.local/lib/python3.7/site-packages/pymc3/sampling.py\u001b[0m in \u001b[0;36m_choose_chains\u001b[0;34m(traces, tune)\u001b[0m\n\u001b[1;32m   1005\u001b[0m     \u001b[0mlengths\u001b[0m \u001b[0;34m=\u001b[0m \u001b[0;34m[\u001b[0m\u001b[0mmax\u001b[0m\u001b[0;34m(\u001b[0m\u001b[0;36m0\u001b[0m\u001b[0;34m,\u001b[0m \u001b[0mlen\u001b[0m\u001b[0;34m(\u001b[0m\u001b[0mtrace\u001b[0m\u001b[0;34m)\u001b[0m \u001b[0;34m-\u001b[0m \u001b[0mtune\u001b[0m\u001b[0;34m)\u001b[0m \u001b[0;32mfor\u001b[0m \u001b[0mtrace\u001b[0m \u001b[0;32min\u001b[0m \u001b[0mtraces\u001b[0m\u001b[0;34m]\u001b[0m\u001b[0;34m\u001b[0m\u001b[0;34m\u001b[0m\u001b[0m\n\u001b[1;32m   1006\u001b[0m     \u001b[0;32mif\u001b[0m \u001b[0;32mnot\u001b[0m \u001b[0msum\u001b[0m\u001b[0;34m(\u001b[0m\u001b[0mlengths\u001b[0m\u001b[0;34m)\u001b[0m\u001b[0;34m:\u001b[0m\u001b[0;34m\u001b[0m\u001b[0;34m\u001b[0m\u001b[0m\n\u001b[0;32m-> 1007\u001b[0;31m         \u001b[0;32mraise\u001b[0m \u001b[0mValueError\u001b[0m\u001b[0;34m(\u001b[0m\u001b[0;34m'Not enough samples to build a trace.'\u001b[0m\u001b[0;34m)\u001b[0m\u001b[0;34m\u001b[0m\u001b[0;34m\u001b[0m\u001b[0m\n\u001b[0m\u001b[1;32m   1008\u001b[0m \u001b[0;34m\u001b[0m\u001b[0m\n\u001b[1;32m   1009\u001b[0m     \u001b[0midxs\u001b[0m \u001b[0;34m=\u001b[0m \u001b[0mnp\u001b[0m\u001b[0;34m.\u001b[0m\u001b[0margsort\u001b[0m\u001b[0;34m(\u001b[0m\u001b[0mlengths\u001b[0m\u001b[0;34m)\u001b[0m\u001b[0;34m[\u001b[0m\u001b[0;34m:\u001b[0m\u001b[0;34m:\u001b[0m\u001b[0;34m-\u001b[0m\u001b[0;36m1\u001b[0m\u001b[0;34m]\u001b[0m\u001b[0;34m\u001b[0m\u001b[0;34m\u001b[0m\u001b[0m\n",
      "\u001b[0;31mValueError\u001b[0m: Not enough samples to build a trace."
     ]
    }
   ],
   "source": [
    "with pm_model:\n",
    "    trace = pm.sample(chains=4, target_accept=.99)"
   ]
  },
  {
   "cell_type": "code",
   "execution_count": null,
   "metadata": {},
   "outputs": [],
   "source": [
    "pm.summary(trace)"
   ]
  },
  {
   "cell_type": "code",
   "execution_count": null,
   "metadata": {
    "scrolled": false
   },
   "outputs": [],
   "source": [
    "labels = ['xsplit','cosi','split','i']\n",
    "chain = np.array([trace[label] for label in labels])\n",
    "truths = [init[9] * np.sin(init[10]), np.cos(init[10]), init[9], init[10]]\n",
    "corner.corner(chain.T, labels=labels, truths=truths, quantiles=[.16, .5, .84], truth_color='r',show_titles=True)\n",
    "if cpu == 'bear':\n",
    "    plt.savefig('corner.png')\n",
    "else: plt.show()"
   ]
  },
  {
   "cell_type": "code",
   "execution_count": null,
   "metadata": {},
   "outputs": [],
   "source": [
    "with plt.style.context(lk.MPLSTYLE):\n",
    "    res_m = [np.median(trace[label], axis=0) for label in ['f0','f1','f2','g0','g1','g2',\n",
    "                                                         'h0','h1','h2','split','i','phi']]\n",
    "    plt.plot(f, p)\n",
    "    plt.plot(f, mod.model(res_m, theano=False), lw=3)\n",
    "    if cpu == 'bear':\n",
    "        plt.savefig('modelfit.png')\n",
    "    else: plt.show()"
   ]
  },
  {
   "cell_type": "code",
   "execution_count": null,
   "metadata": {},
   "outputs": [],
   "source": [
    "labels=['loga','logb','logc','logd','logj','logk',\n",
    "        'white','scale','nyq']\n",
    "verbose=[r'$\\log_{10}a$',r'$\\log_{10}b$',\n",
    "        r'$\\log_{10}c$',r'$\\log_{10}d$',\n",
    "        r'$\\log_{10}j$',r'$\\log_{10}k$',\n",
    "        'white','scale',r'$\\nu_{\\rm nyq}$']\n",
    "\n",
    "phichain = np.array([trace['phi'][:,idx] for idx in range(len(phi_))]).T\n",
    "truth = phi_\n",
    "\n",
    "corner.corner(phichain, truths=truth, show_titles=True, labels=verbose)\n",
    "if cpu == 'bear':\n",
    "    plt.savefig('backcorner.png')\n",
    "else: plt.show() "
   ]
  },
  {
   "cell_type": "code",
   "execution_count": null,
   "metadata": {},
   "outputs": [],
   "source": [
    "residual = p/mod.model(res_m, theano=False)\n",
    "sns.distplot(residual, label='Model')\n",
    "sns.distplot(np.random.chisquare(2, size=10000)/2, label=r'Chi22')\n",
    "plt.legend()"
   ]
  },
  {
   "cell_type": "code",
   "execution_count": null,
   "metadata": {},
   "outputs": [],
   "source": [
    "sys.exit()"
   ]
  },
  {
   "cell_type": "code",
   "execution_count": null,
   "metadata": {},
   "outputs": [],
   "source": []
  }
 ],
 "metadata": {
  "kernelspec": {
   "display_name": "Python 3",
   "language": "python",
   "name": "python3"
  },
  "language_info": {
   "codemirror_mode": {
    "name": "ipython",
    "version": 3
   },
   "file_extension": ".py",
   "mimetype": "text/x-python",
   "name": "python",
   "nbconvert_exporter": "python",
   "pygments_lexer": "ipython3",
   "version": "3.7.3"
  }
 },
 "nbformat": 4,
 "nbformat_minor": 2
}
