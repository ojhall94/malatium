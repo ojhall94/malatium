{
 "cells": [
  {
   "cell_type": "markdown",
   "metadata": {},
   "source": [
    "# Method 1: Using Pystan\n",
    "\n",
    "I'll do this for a single n, and treat the mode locations as fixed for now."
   ]
  },
  {
   "cell_type": "code",
   "execution_count": 1,
   "metadata": {},
   "outputs": [],
   "source": [
    "import numpy as np\n",
    "import matplotlib.pyplot as plt\n",
    "import lightkurve as lk\n",
    "from astropy.units import cds\n",
    "from astropy import units as u\n",
    "import corner\n",
    "import matplotlib\n",
    "matplotlib.rc('xtick', labelsize=20)\n",
    "matplotlib.rc('ytick', labelsize=20)\n",
    "matplotlib.rc('axes',labelsize=20)\n",
    "\n",
    "\n",
    "#The stellar parameters are for 16 Cyg A\n",
    "nus = 0.411 #uHz\n",
    "i = np.deg2rad(56.) #rad\n",
    "d02 = 6.8 #uHz\n",
    "dnu = 102. #uHz"
   ]
  },
  {
   "cell_type": "code",
   "execution_count": 2,
   "metadata": {},
   "outputs": [],
   "source": [
    "locs = np.genfromtxt('locs.txt')\n",
    "l0 = locs[int(np.floor(len(locs)/2)), 0]\n",
    "l1 = locs[int(np.floor(len(locs)/2)), 1]\n",
    "l2 = locs[int(np.floor(len(locs)/2)-1), 2]\n",
    "l3 = locs[int(np.floor(len(locs)/2)-1), 3]\n",
    "ff = np.genfromtxt('freqs.txt')\n",
    "pp = np.genfromtxt('model.txt')"
   ]
  },
  {
   "cell_type": "code",
   "execution_count": 3,
   "metadata": {},
   "outputs": [],
   "source": [
    "sel = [(ff >= l0 - 0.3*dnu) & (ff <= l0 + 0.7*dnu)]\n",
    "f = ff[tuple(sel)]\n",
    "p = pp[tuple(sel)] "
   ]
  },
  {
   "cell_type": "code",
   "execution_count": 5,
   "metadata": {},
   "outputs": [
    {
     "data": {
      "image/png": "[encoded data removed]",
      "text/plain": [
       "<Figure size 848.5x400 with 1 Axes>"
      ]
     },
     "metadata": {},
     "output_type": "display_data"
    }
   ],
   "source": [
    "pg = lk.Periodogram(f*u.microhertz, p*(cds.ppm**2/u.microhertz))\n",
    "ax = pg.plot(alpha=.5)\n",
    "pg.smooth(filter_width=2.).plot(ax=ax, linewidth=2)\n",
    "plt.scatter([l0,l1,l2,l3],[15,15,15,15],s=30)\n",
    "plt.show()"
   ]
  },
  {
   "cell_type": "markdown",
   "metadata": {},
   "source": [
    "Lets fit a group of lorentzians to these data!"
   ]
  },
  {
   "cell_type": "code",
   "execution_count": null,
   "metadata": {},
   "outputs": [
    {
     "name": "stderr",
     "output_type": "stream",
     "text": [
      "INFO:pystan:COMPILING THE C++ CODE FOR MODEL anon_model_95838d74eb731b601156ddd5af93413d NOW.\n"
     ]
    }
   ],
   "source": [
    "import pystan\n",
    "model = '''\n",
    "functions{      \n",
    "    real lorentzian(real loc, int l, int m, real f, real eps, real H, real w, real nus){\n",
    "        return (eps * H) ./ (1 + (4/w^2) * (f - loc + m*nus)^2);\n",
    "    }\n",
    "\n",
    "    real[] multiplets(int N, real[] locs, real[] f, matrix eps, real[] H, real[] w, real nus){\n",
    "        real mod[N]; \n",
    "        mod = rep_array(1., N);   // Give the model a fixed background of 1.\n",
    "        \n",
    "        for (l in 0:3){           // Iterate over all l in a given n\n",
    "            for (m in -l:l){      // Iterate over all m in a given l\n",
    "                for (n in 1:N){   // Generate the value of a lorentzian for this l and m at a given f\n",
    "                    mod[n] += lorentzian(locs[l+1], l, m, f[n], eps[l+1,abs(m)+1], H[l+1], w[l+1], nus);\n",
    "                }\n",
    "            }\n",
    "        }\n",
    "        return mod;\n",
    "    }\n",
    "}\n",
    "data{\n",
    "    int N;            // Number of data points\n",
    "    int M;            // Number of modes\n",
    "    real f[N];        // Frequency\n",
    "    real p[N];        // Power\n",
    "    real asy_locs[M]; // Mode locations (this will have to change for multiple n modes)\n",
    "}\n",
    "parameters{\n",
    "    real logAmp[M];      // Mode amplitude in log space\n",
    "    real logGamma[M];    // Mode linewidth in log space\n",
    "    real locs[M];        // True mode locations\n",
    "    real<lower=0> vsini; // Line of sight rotational frequency\n",
    "    real<lower=0> nus;   // Rotational frequency splitting\n",
    "}\n",
    "transformed parameters{\n",
    "    real i;          // Angle of inclination (rad)\n",
    "    real H[M];       // Mode height\n",
    "    real w[M];       // Mode linewidth\n",
    "    matrix[4,4] eps; // Matrix of legendre polynomials\n",
    "    eps = rep_matrix(i, 4, 4);\n",
    "     \n",
    "    i = asin(vsini / nus); // Transform angle of inclination from line of sight rotation frequency\n",
    "    for (m in 1:M){\n",
    "        w[m] = 10^logGamma[m];             // Transform mode linewidth from log space\n",
    "        H[m] = 10^logAmp[m] / pi() / w[m]; // Transform mode amplitude to mode height\n",
    "    }\n",
    "    \n",
    "    // Now I'll calculate all the legendre polynomials for this i\n",
    "    eps[0+1,0+1] = 1.;\n",
    "    eps[1+1,0+1] = cos(i)^2;\n",
    "    eps[1+1,1+1] = 0.5 * sin(i)^2;\n",
    "    eps[2+1,0+1] = 0.25 * (3. * (i)^2 - 1.)^2;\n",
    "    eps[2+1,1+1] = (3./8.)*sin(2*i)^2;\n",
    "    eps[2+1,2+1] = (3./8.) * sin(i)^4;\n",
    "    eps[3+1,0+1] = (1./64.)*(5.*cos(3.*i) + 3.*cos(i))^2;\n",
    "    eps[3+1,1+1] = (3./64.)*(5.*cos(2.*i) + 3.)^2 * sin(i)^2;\n",
    "    eps[3+1,2+1] = (15./8.)*cos(i)^2 * sin(i)^4;\n",
    "    eps[3+1,3+1] = (5./16.)*sin(i)^6;\n",
    "    \n",
    "}\n",
    "model{\n",
    "    real modes[N];\n",
    "\n",
    "    modes = multiplets(N, locs, f, eps, H, w, nus);\n",
    "    modes ~ normal(p, 0.1);  // This will eventually have to be expanded to deal with Chi^2dof noise\n",
    "    \n",
    "    //priors on the parameters\n",
    "    logAmp ~ normal(1, 1);\n",
    "    logGamma ~ normal(0, 0.1);\n",
    "    locs ~ normal(asy_locs, 1);\n",
    "    i ~ uniform(0.1, pi()/2);\n",
    "    nus ~ normal(0.411, 0.1);\n",
    "}\n",
    "'''\n",
    "sm = pystan.StanModel(model_code=model)"
   ]
  },
  {
   "cell_type": "code",
   "execution_count": null,
   "metadata": {},
   "outputs": [],
   "source": [
    "data = {'N':len(f),\n",
    "        'M': 4,\n",
    "        'f':f,\n",
    "        'p':p,\n",
    "        'asy_locs':[l0,l1,l2,l3]}\n",
    "\n",
    "init = {'logAmp' :   np.ones(4),\n",
    "        'logGamma' : np.zeros(4),\n",
    "        'vsini':nus*np.sin(i),\n",
    "        'nus':nus,\n",
    "        'locs' : [l0, l1, l2, l3]}"
   ]
  },
  {
   "cell_type": "code",
   "execution_count": null,
   "metadata": {},
   "outputs": [],
   "source": [
    "nchains = 4\n",
    "fit = sm.sampling(data=data, iter=1000, chains=nchains, init = [init for n in range(nchains)])"
   ]
  },
  {
   "cell_type": "code",
   "execution_count": null,
   "metadata": {},
   "outputs": [],
   "source": [
    "print(fit)"
   ]
  },
  {
   "cell_type": "code",
   "execution_count": null,
   "metadata": {},
   "outputs": [],
   "source": [
    "fit.plot(pars=['vsini','i','nus','H','logAmp','logGamma','w'])\n",
    "plt.show()"
   ]
  },
  {
   "cell_type": "code",
   "execution_count": null,
   "metadata": {},
   "outputs": [],
   "source": [
    "truths= [init['vsini'],14., np.nan,init['nus']]"
   ]
  },
  {
   "cell_type": "code",
   "execution_count": null,
   "metadata": {
    "scrolled": false
   },
   "outputs": [],
   "source": [
    "labels=['vsini','H','w','nus']\n",
    "chain = np.array([fit[labels[0]], fit[labels[1]].T[0], fit[labels[2]].T[0], fit[labels[3]]])\n",
    "corner.corner(chain.T, labels=labels, quantiles=[0.16, 0.5, 0.84],\n",
    "            truths=truths,show_titles=True)\n",
    "plt.show()"
   ]
  },
  {
   "cell_type": "code",
   "execution_count": null,
   "metadata": {},
   "outputs": [],
   "source": [
    "def get_epsilon(i, l, m):\n",
    "#I use the prescriptions from Gizon & Solank 2003 and Handberg & Campante 2012\n",
    "    if l == 0:\n",
    "        return 1\n",
    "    if l == 1:\n",
    "        if m == 0:\n",
    "            return np.cos(i)**2\n",
    "        if np.abs(m) == 1:\n",
    "            return 0.5 * np.sin(i)**2\n",
    "    if l == 2:\n",
    "        if m == 0:\n",
    "            return 0.25 * (3 * np.cos(i)**2 - 1)**2\n",
    "        if np.abs(m) ==1:\n",
    "            return (3/8)*np.sin(2*i)**2\n",
    "        if np.abs(m) == 2:\n",
    "            return (3/8) * np.sin(i)**4\n",
    "    if l == 3:\n",
    "        if m == 0:\n",
    "            return (1/64)*(5*np.cos(3*i) + 3*np.cos(i))**2\n",
    "        if np.abs(m) == 1:\n",
    "            return (3/64)*(5*np.cos(2*i) + 3)**2 * np.sin(i)**2\n",
    "        if np.abs(m) == 2:\n",
    "            return (15/8) * np.cos(i)**2 * np.sin(i)**4\n",
    "        if np.abs(m) == 3:\n",
    "            return (5/16)*np.sin(i)**6\n",
    "    \n",
    "def lorentzian(f, l, m, loc, i, H, w, nus):\n",
    "    eps = get_epsilon(i,l,m)\n",
    "    model = eps * H / (1 + (4/w**2)*(f - loc + m * nus)**2)\n",
    "    return model\n",
    "\n",
    "model = np.ones(len(f))\n",
    "i = np.median(fit['i'])\n",
    "nus = np.median(fit['nus'])\n",
    "for l in np.arange(3+1):\n",
    "    for m in range(-l, l+1):\n",
    "        loc = np.median(fit['locs'].T[l])\n",
    "        H = np.median(fit['H'].T[l])\n",
    "        w = np.median(fit['w'].T[l])\n",
    "        model += lorentzian(f, l, m, loc, i, H, w, nus)"
   ]
  },
  {
   "cell_type": "code",
   "execution_count": null,
   "metadata": {},
   "outputs": [],
   "source": [
    "pg = lk.Periodogram(f*u.microhertz, p*(cds.ppm**2/u.microhertz))\n",
    "ax = pg.plot(alpha=.5, label='Data')\n",
    "plt.scatter([l0,l1,l2,l3],[15,15,15,15], label='Modes', s= 10)\n",
    "plt.plot(f, model, linewidth=2, label='Model')\n",
    "plt.legend()"
   ]
  },
  {
   "cell_type": "code",
   "execution_count": null,
   "metadata": {},
   "outputs": [],
   "source": []
  }
 ],
 "metadata": {
  "kernelspec": {
   "display_name": "Python 3",
   "language": "python",
   "name": "python3"
  },
  "language_info": {
   "codemirror_mode": {
    "name": "ipython",
    "version": 3
   },
   "file_extension": ".py",
   "mimetype": "text/x-python",
   "name": "python",
   "nbconvert_exporter": "python",
   "pygments_lexer": "ipython3",
   "version": "3.6.7"
  }
 },
 "nbformat": 4,
 "nbformat_minor": 2
}
