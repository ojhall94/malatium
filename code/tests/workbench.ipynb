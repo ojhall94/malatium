{
 "cells": [
  {
   "cell_type": "code",
   "execution_count": 1,
   "metadata": {},
   "outputs": [],
   "source": [
    "import numpy as np"
   ]
  },
  {
   "cell_type": "markdown",
   "metadata": {},
   "source": [
    "Now with a kernel"
   ]
  },
  {
   "cell_type": "code",
   "execution_count": 2,
   "metadata": {},
   "outputs": [],
   "source": [
    "def kernel(x, alpha=.1, rho=.1):\n",
    "    return np.matrix(np.round(alpha**2 * np.exp(-x**2/(2*rho**2)),2))"
   ]
  },
  {
   "cell_type": "code",
   "execution_count": 3,
   "metadata": {},
   "outputs": [],
   "source": [
    "npts = 5\n",
    "xn = np.arange(5)\n",
    "x = np.subtract.outer(xn, xn)\n",
    "Kx = kernel(x, alpha=.1, rho=2.)\n",
    "Kz = kernel(x, alpha=.1, rho=1.5)"
   ]
  },
  {
   "cell_type": "code",
   "execution_count": 4,
   "metadata": {
    "scrolled": false
   },
   "outputs": [
    {
     "name": "stdout",
     "output_type": "stream",
     "text": [
      "[[ 0 -1 -2 -3 -4]\n",
      " [ 1  0 -1 -2 -3]\n",
      " [ 2  1  0 -1 -2]\n",
      " [ 3  2  1  0 -1]\n",
      " [ 4  3  2  1  0]]\n",
      "\n",
      "\n",
      "[[0.01 0.01 0.01 0.   0.  ]\n",
      " [0.01 0.01 0.01 0.01 0.  ]\n",
      " [0.01 0.01 0.01 0.01 0.01]\n",
      " [0.   0.01 0.01 0.01 0.01]\n",
      " [0.   0.   0.01 0.01 0.01]]\n",
      "\n",
      "\n",
      "[[0.01 0.01 0.   0.   0.  ]\n",
      " [0.01 0.01 0.01 0.   0.  ]\n",
      " [0.   0.01 0.01 0.01 0.  ]\n",
      " [0.   0.   0.01 0.01 0.01]\n",
      " [0.   0.   0.   0.01 0.01]]\n"
     ]
    }
   ],
   "source": [
    "print(x)\n",
    "print('\\n')\n",
    "print(Kx)\n",
    "print('\\n')\n",
    "print(Kz)"
   ]
  },
  {
   "cell_type": "code",
   "execution_count": 5,
   "metadata": {},
   "outputs": [
    {
     "name": "stdout",
     "output_type": "stream",
     "text": [
      "[[0.0002 0.0003 0.0002 0.0001 0.    ]\n",
      " [0.0002 0.0003 0.0003 0.0002 0.0001]\n",
      " [0.0002 0.0003 0.0003 0.0003 0.0002]\n",
      " [0.0001 0.0002 0.0003 0.0003 0.0002]\n",
      " [0.     0.0001 0.0002 0.0003 0.0002]]\n"
     ]
    }
   ],
   "source": [
    "print(Kx * Kz)"
   ]
  },
  {
   "cell_type": "code",
   "execution_count": 6,
   "metadata": {},
   "outputs": [
    {
     "name": "stdout",
     "output_type": "stream",
     "text": [
      "[[0.0002 0.0003 0.0002 0.0001 0.    ]\n",
      " [0.0002 0.0003 0.0003 0.0002 0.0001]\n",
      " [0.0002 0.0003 0.0003 0.0003 0.0002]\n",
      " [0.0001 0.0002 0.0003 0.0003 0.0002]\n",
      " [0.     0.0001 0.0002 0.0003 0.0002]]\n"
     ]
    }
   ],
   "source": [
    "print(np.dot(Kx, Kz))"
   ]
  },
  {
   "cell_type": "markdown",
   "metadata": {},
   "source": [
    "Now lets build a proper multiplied kernel"
   ]
  },
  {
   "cell_type": "code",
   "execution_count": 7,
   "metadata": {},
   "outputs": [],
   "source": [
    "def kprod(x, y, ax, lx, ay, ly):\n",
    "    kx = ax**2 * np.exp(-np.subtract.outer(x,x)**2 / (2*lx**2))\n",
    "    ky = ay**2 * np.exp(-np.subtract.outer(y,y)**2 / (2*ly**2))\n",
    "    return np.matrix(np.round(kx * ky,2))"
   ]
  },
  {
   "cell_type": "code",
   "execution_count": 8,
   "metadata": {},
   "outputs": [],
   "source": [
    "xn = np.arange(5)\n",
    "x = np.subtract.outer(xn, xn)\n",
    "Kprod = kprod(xn, xn, 1., 10., 4., 10.)"
   ]
  },
  {
   "cell_type": "code",
   "execution_count": 9,
   "metadata": {},
   "outputs": [
    {
     "data": {
      "text/plain": [
       "matrix([[16.  , 15.84, 15.37, 14.62, 13.63],\n",
       "        [15.84, 16.  , 15.84, 15.37, 14.62],\n",
       "        [15.37, 15.84, 16.  , 15.84, 15.37],\n",
       "        [14.62, 15.37, 15.84, 16.  , 15.84],\n",
       "        [13.63, 14.62, 15.37, 15.84, 16.  ]])"
      ]
     },
     "execution_count": 9,
     "metadata": {},
     "output_type": "execute_result"
    }
   ],
   "source": [
    "Kprod"
   ]
  },
  {
   "cell_type": "code",
   "execution_count": 10,
   "metadata": {},
   "outputs": [],
   "source": [
    "Kx = kernel(x, 1., 10.)\n",
    "Ky = kernel(x, 4., 10.)"
   ]
  },
  {
   "cell_type": "code",
   "execution_count": 11,
   "metadata": {},
   "outputs": [
    {
     "data": {
      "text/plain": [
       "matrix([[75.5628, 76.6504, 76.9888, 76.588 , 75.4396],\n",
       "        [76.7732, 77.8944, 78.2544, 77.8632, 76.7116],\n",
       "        [77.0546, 78.1956, 78.5728, 78.1956, 77.0546],\n",
       "        [76.7116, 77.8632, 78.2544, 77.8944, 76.7732],\n",
       "        [75.4396, 76.588 , 76.9888, 76.6504, 75.5628]])"
      ]
     },
     "execution_count": 11,
     "metadata": {},
     "output_type": "execute_result"
    }
   ],
   "source": [
    "np.dot(Kx, Ky)"
   ]
  },
  {
   "cell_type": "code",
   "execution_count": 12,
   "metadata": {},
   "outputs": [
    {
     "data": {
      "text/plain": [
       "matrix([[16.    , 15.92  , 15.3664, 14.688 , 13.5884],\n",
       "        [15.92  , 16.    , 15.92  , 15.3664, 14.688 ],\n",
       "        [15.3664, 15.92  , 16.    , 15.92  , 15.3664],\n",
       "        [14.688 , 15.3664, 15.92  , 16.    , 15.92  ],\n",
       "        [13.5884, 14.688 , 15.3664, 15.92  , 16.    ]])"
      ]
     },
     "execution_count": 12,
     "metadata": {},
     "output_type": "execute_result"
    }
   ],
   "source": [
    "np.exp(np.log(Kx) + np.log(Ky))"
   ]
  },
  {
   "cell_type": "code",
   "execution_count": null,
   "metadata": {},
   "outputs": [],
   "source": []
  }
 ],
 "metadata": {
  "kernelspec": {
   "display_name": "Python 3",
   "language": "python",
   "name": "python3"
  },
  "language_info": {
   "codemirror_mode": {
    "name": "ipython",
    "version": 3
   },
   "file_extension": ".py",
   "mimetype": "text/x-python",
   "name": "python",
   "nbconvert_exporter": "python",
   "pygments_lexer": "ipython3",
   "version": "3.7.3"
  }
 },
 "nbformat": 4,
 "nbformat_minor": 2
}
