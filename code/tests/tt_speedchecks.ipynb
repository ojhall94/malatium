{
 "cells": [
  {
   "cell_type": "code",
   "execution_count": 1,
   "metadata": {},
   "outputs": [
    {
     "name": "stderr",
     "output_type": "stream",
     "text": [
      "WARNING (theano.tensor.blas): Using NumPy C-API based implementation for BLAS functions.\n"
     ]
    }
   ],
   "source": [
    "import numpy as np\n",
    "import matplotlib.pyplot as plt\n",
    "import theano.tensor as tt\n",
    "import astropy.units as u\n",
    "import seaborn as sns\n",
    "import pystan\n",
    "import pandas as pd\n",
    "import warnings\n",
    "warnings.filterwarnings('ignore')\n",
    "sns.set_context('poster')\n",
    "sns.set_palette('colorblind')\n",
    "\n",
    "\n",
    "import pymc3 as pm\n"
   ]
  },
  {
   "cell_type": "code",
   "execution_count": 2,
   "metadata": {},
   "outputs": [],
   "source": [
    "class model_reg():\n",
    "    def __init__(self, f, n0_, n1_, n2_, deltanu_):\n",
    "        self.f = f\n",
    "        self.n0 = n0_\n",
    "        self.n1 = n1_\n",
    "        self.n2 = n2_\n",
    "        self.npts = len(f)\n",
    "        self.M = [len(n0_), len(n1_), len(n2_)]\n",
    "        self.deltanu = deltanu_\n",
    "        \n",
    "    def epsilon(self, i):\n",
    "        eps = tt.zeros((3,3))\n",
    "        eps0 = tt.set_subtensor(eps[0][0], 1.)\n",
    "        eps1 = tt.set_subtensor(eps[1][0], tt.sqr(tt.cos(i)))\n",
    "        eps1 = tt.set_subtensor(eps1[1], 0.5 * tt.sqr(tt.sin(i)))\n",
    "        eps2 = tt.set_subtensor(eps[2][0], 0.25 * tt.sqr((3. * tt.sqr(tt.cos(i)) - 1.)))\n",
    "        eps2 = tt.set_subtensor(eps2[1], (3./8.) * tt.sqr(tt.sin(2*i)))\n",
    "        eps2 = tt.set_subtensor(eps2[2], (3./8.) * tt.sin(i)**4)\n",
    "\n",
    "        eps = tt.set_subtensor(eps[0], eps0)\n",
    "        eps = tt.set_subtensor(eps[1], eps1)\n",
    "        eps = tt.set_subtensor(eps[2], eps2)\n",
    "        \n",
    "        return eps\n",
    "            \n",
    "    def lor(self, freq, h, w):\n",
    "        return h / (1.0 + 4.0/tt.sqr(w)*tt.sqr((self.f - freq)))\n",
    "    \n",
    "    def mode(self, l, freqs, hs, ws, eps, split=0):\n",
    "        for idx in range(self.M[l]):\n",
    "            for m in range(-l, l+1, 1):\n",
    "                self.modes += self.lor(freqs[idx] + (m*split), \n",
    "                                     hs[idx] * eps[l,abs(m)], \n",
    "                                     ws[idx])\n",
    "  \n",
    "    def model(self, p, theano=True):\n",
    "        f0, f1, f2, g0, g1, g2, h0, h1, h2, split, i, aphi, bphi = p\n",
    "\n",
    "        # Unpack background parameters\n",
    "        loga = aphi[0]\n",
    "        logb = aphi[1]\n",
    "        logc = aphi[2]\n",
    "        logd = aphi[3]\n",
    "        logj = aphi[4]\n",
    "        logk = aphi[5]\n",
    "        white = bphi[0]\n",
    "        scale = bphi[1]\n",
    "        nyq = bphi[2]\n",
    "        \n",
    "        # Calculate the modes\n",
    "        eps = self.epsilon(i)        \n",
    "        self.modes = np.zeros(self.npts)\n",
    "        self.mode(0, f0, h0, g0, eps)\n",
    "        self.mode(1, f1, h1, g1, eps, split)\n",
    "        self.mode(2, f2, h2, g2, eps, split)\n",
    "        self.modes *= self.get_apodization(nyq)\n",
    "            \n",
    "        #Calculate the background\n",
    "        self.back = self.get_background(loga, logb, logc, logd, logj, logk,\n",
    "                                       white, scale, nyq)            \n",
    "            \n",
    "        #Create the model\n",
    "        self.mod = self.modes + self.back\n",
    "        if theano:\n",
    "            return self.mod\n",
    "        else:\n",
    "            return self.mod.eval()\n",
    "\n",
    "    # Small separations are fractional\n",
    "    def asymptotic(self, n, numax, alpha, epsilon, d=0.): \n",
    "        nmax = (numax / self.deltanu) - epsilon\n",
    "        curve = (alpha/2.)*(n-nmax)*(n-nmax)\n",
    "        return (n + epsilon + d + curve) * self.deltanu\n",
    "\n",
    "    def f0(self, p):\n",
    "        numax, alpha, epsilon, d01, d02 = p\n",
    "        \n",
    "        return self.asymptotic(self.n0, numax, alpha, epsilon, 0.)\n",
    "    \n",
    "    def f1(self, p):\n",
    "        numax, alpha, epsilon, d01, d02 = p\n",
    "        \n",
    "        return self.asymptotic(self.n1, numax, alpha, epsilon, d01)\n",
    "    \n",
    "    def f2(self, p):\n",
    "        numax, alpha, epsilon, d01, d02 = p\n",
    "        \n",
    "        return self.asymptotic(self.n2+1, numax, alpha, epsilon, -d02)\n",
    "\n",
    "    def gaussian(self, freq, numax, w, A):\n",
    "        return A * tt.exp(-0.5 * tt.sqr((freq - numax)) / tt.sqr(w))\n",
    "\n",
    "    def A0(self, f, p, theano=True):\n",
    "        numax, w, A, V1, V2 = p\n",
    "        height = self.gaussian(f, numax, w, A)\n",
    "        if theano:\n",
    "            return height\n",
    "        else:\n",
    "            return height.eval()\n",
    "    \n",
    "    def A1(self, f, p, theano=True):\n",
    "        numax, w, A, V1, V2 = p\n",
    "        height = self.gaussian(f, numax, w, A)*V1        \n",
    "        if theano:\n",
    "            return height\n",
    "        else:\n",
    "            return height.eval()\n",
    "    \n",
    "    def A2(self, f, p, theano=True):\n",
    "        numax, w, A, V1, V2 = p\n",
    "        height = self.gaussian(f, numax, w, A)*V2      \n",
    "        if theano:\n",
    "            return height\n",
    "        else:\n",
    "            return height.eval()\n",
    "        \n",
    "    def harvey(self, a, b, c):\n",
    "        harvey = 0.9*tt.sqr(a)/b/(1.0 + tt.pow((self.f/b), c))\n",
    "        return harvey\n",
    "\n",
    "    def get_apodization(self, nyquist):\n",
    "        x = (np.pi * self.f) / (2 * nyquist)\n",
    "        return tt.sqr((tt.sin(x)/x))\n",
    "\n",
    "    def get_background(self, loga, logb, logc, logd, logj, logk, white, scale, nyq):\n",
    "        background = np.zeros(len(self.f))\n",
    "        background += self.get_apodization(nyq) * scale  \\\n",
    "                        * (self.harvey(tt.pow(10, loga), tt.pow(10, logb), 4.) \\\n",
    "                        +  self.harvey(tt.pow(10, logc), tt.pow(10, logd), 4.) \\\n",
    "                        +  self.harvey(tt.pow(10, logj), tt.pow(10, logk), 2.))\\\n",
    "                        +  white\n",
    "        return background              "
   ]
  },
  {
   "cell_type": "markdown",
   "metadata": {},
   "source": [
    "# Set up the simulated data"
   ]
  },
  {
   "cell_type": "code",
   "execution_count": 3,
   "metadata": {},
   "outputs": [],
   "source": [
    "### Build the range\n",
    "\n",
    "nmodes = 10\n",
    "nbase = 13\n",
    "n0_ = np.arange(nmodes)+nbase\n",
    "n1_ = np.copy(n0_)\n",
    "n2_ = np.copy(n0_) - 1.\n",
    "fs = .05\n",
    "nyq = (0.5 * (1./58.6) * u.hertz).to(u.microhertz).value\n",
    "ff = np.arange(fs, nyq, fs)\n",
    "\n",
    "### Build the frequencies\n",
    "\n",
    "deltanu_  =  60.\n",
    "numax_= 1150.\n",
    "alpha_ = 0.01\n",
    "epsilon_ = 1.1\n",
    "d01_ = deltanu_/2. / deltanu_\n",
    "d02_ = 6. / deltanu_\n",
    "\n",
    "mod = model_reg(ff, n0_, n1_, n2_, deltanu_)\n",
    "\n",
    "init_f = [numax_, alpha_, epsilon_, d01_, d02_]\n",
    "\n",
    "f0_true = mod.f0(init_f)\n",
    "f1_true = mod.f1(init_f)\n",
    "f2_true = mod.f2(init_f)\n",
    "\n",
    "sigma0_ = 1.5\n",
    "sigma1_ = 2.0\n",
    "sigma2_ = .5\n",
    "f0_ = mod.f0(init_f) + np.random.randn(len(f0_true)) * sigma0_\n",
    "f1_ = mod.f1(init_f) + np.random.randn(len(f1_true)) * sigma1_\n",
    "f2_ = mod.f2(init_f) + np.random.randn(len(f2_true)) * sigma2_\n",
    "\n",
    "lo = f2_.min() - .25*deltanu_\n",
    "hi = f1_.max() + .25*deltanu_\n",
    "\n",
    "sel = (ff > lo) & (ff < hi)\n",
    "f = ff[sel]\n",
    "\n",
    "### Reset model for new frequency range\n",
    "\n",
    "mod = model_reg(f, n0_, n1_, n2_, deltanu_)\n",
    "\n",
    "### Build the linewidths\n",
    "\n",
    "def kernel(n, rho, L):\n",
    "    return rho**2 * np.exp(-0.5 * np.subtract.outer(n,n)**2 / L**2)\n",
    "\n",
    "m_ = .5\n",
    "c_ = .5\n",
    "rho_ = 0.1\n",
    "L_ = 0.3\n",
    "\n",
    "fs = np.concatenate((f0_, f1_, f2_))\n",
    "fs -= fs.min()\n",
    "nf = fs/fs.max()\n",
    "mu_ = m_ * nf + c_\n",
    "\n",
    "Sigma_ = kernel(nf, rho_, L_)\n",
    "\n",
    "lng0_ = np.random.multivariate_normal(mu_, Sigma_)\n",
    "widths = [np.exp(lng0_)[0:len(f0_)],\n",
    "          np.exp(lng0_)[len(f0_):len(f0_)+len(f1_)],\n",
    "          np.exp(lng0_)[len(f0_)+len(f1_):]]\n",
    "\n",
    "nf_ = nf[:,None]\n",
    "\n",
    "### Build the mode amplitudes\n",
    "\n",
    "w_ = (0.25 * numax_)/2.355\n",
    "V1_ = 1.2\n",
    "V2_ = 0.7\n",
    "A_ = 10.\n",
    "init_h =[numax_,   #numax\n",
    "         w_,       #envelope width\n",
    "         A_,       #envelope amplitude\n",
    "         V1_,      #dipole visibility\n",
    "         V2_       #ocotopole visibility\n",
    "        ]\n",
    "sigmaA_ = .2\n",
    "amps = [mod.A0(f0_, init_h, theano=False) + np.random.randn(len(f0_)) * sigmaA_,\n",
    "        mod.A1(f1_, init_h, theano=False) + np.random.randn(len(f0_)) * sigmaA_,\n",
    "        mod.A2(f2_, init_h, theano=False) + np.random.randn(len(f0_)) * sigmaA_]\n",
    "\n",
    "### Build the background\n",
    "\n",
    "labels=['loga','logb','logc','logd','logj','logk',\n",
    "        'white','scale','nyq']\n",
    "aphi_ =[   1.6,   2.6,   1.6,   3.0,   1.7,   0.5]\n",
    "bphi_ = [0.4,     1., nyq]\n",
    "phi_sigma = np.genfromtxt('phi_sigma.txt')\n",
    "aphi_cholesky = np.linalg.cholesky(phi_sigma[:6,:6])\n",
    "bphi_sigma = np.sqrt(np.diag(phi_sigma)[6:])\n",
    "\n",
    "### Construct the model\n",
    "\n",
    "split_ = 1.\n",
    "incl_ = np.pi/4.\n",
    "init_m =[f0_,                         # l0 modes\n",
    "       f1_,                         # l1 modes\n",
    "       f2_,                         # l2 modes\n",
    "       widths[0],             # l0 widths\n",
    "       widths[1],             # l1 widths\n",
    "       widths[2],             # l2 widths\n",
    "       amps[0]**2 * 2.0 / np.pi / widths[0] ,# l0 heights\n",
    "       amps[1]**2 * 2.0 / np.pi / widths[1] ,# l1 heights\n",
    "       amps[2]**2 * 2.0 / np.pi / widths[2] ,# l2 heights\n",
    "       split_,       # splitting\n",
    "       incl_,                    # inclination angle\n",
    "       aphi_,                           # background parameters\n",
    "       bphi_ ]"
   ]
  },
  {
   "cell_type": "markdown",
   "metadata": {},
   "source": [
    "## First construction of the regular build"
   ]
  },
  {
   "cell_type": "code",
   "execution_count": 4,
   "metadata": {},
   "outputs": [],
   "source": [
    "import time"
   ]
  },
  {
   "cell_type": "code",
   "execution_count": 5,
   "metadata": {},
   "outputs": [
    {
     "name": "stdout",
     "output_type": "stream",
     "text": [
      "First construction took: 0.00 s\n"
     ]
    }
   ],
   "source": [
    "t0 = time.time()\n",
    "mod = model_reg(f, n0_, n1_, n2_, deltanu_)\n",
    "t1 = time.time()\n",
    "print(f'First construction took: {(t1-t0):.2f} s')"
   ]
  },
  {
   "cell_type": "code",
   "execution_count": 6,
   "metadata": {},
   "outputs": [
    {
     "name": "stdout",
     "output_type": "stream",
     "text": [
      "First call took: 0.25 s\n"
     ]
    }
   ],
   "source": [
    "t0 = time.time()\n",
    "p = mod.model(init_m, theano=True)\n",
    "t1 = time.time()\n",
    "print(f'First call took: {(t1-t0):.2f} s')"
   ]
  },
  {
   "cell_type": "code",
   "execution_count": 7,
   "metadata": {},
   "outputs": [
    {
     "name": "stdout",
     "output_type": "stream",
     "text": [
      "Second call took: 0.26 s\n"
     ]
    }
   ],
   "source": [
    "t0 = time.time()\n",
    "p = mod.model(init_m, theano=True)\n",
    "t1 = time.time()\n",
    "print(f'Second call took: {(t1-t0):.2f} s')"
   ]
  },
  {
   "cell_type": "code",
   "execution_count": 8,
   "metadata": {},
   "outputs": [
    {
     "name": "stdout",
     "output_type": "stream",
     "text": [
      "Non-theano call took: 113.67 s\n"
     ]
    }
   ],
   "source": [
    "t0 = time.time()\n",
    "p = mod.model(init_m, theano=False)\n",
    "t1 = time.time()\n",
    "print(f'Non-theano call took: {(t1-t0):.2f} s')"
   ]
  },
  {
   "cell_type": "code",
   "execution_count": 9,
   "metadata": {},
   "outputs": [
    {
     "data": {
      "text/plain": [
       "[<matplotlib.lines.Line2D at 0x7f4d706d3cc0>]"
      ]
     },
     "execution_count": 9,
     "metadata": {},
     "output_type": "execute_result"
    },
    {
     "data": {
      "image/png": "[encoded data removed]",
      "text/plain": [
       "<Figure size 432x288 with 1 Axes>"
      ]
     },
     "metadata": {
      "needs_background": "light"
     },
     "output_type": "display_data"
    }
   ],
   "source": [
    "plt.plot(p)"
   ]
  },
  {
   "cell_type": "markdown",
   "metadata": {},
   "source": [
    "# Adapted build"
   ]
  },
  {
   "cell_type": "code",
   "execution_count": 10,
   "metadata": {},
   "outputs": [],
   "source": [
    "class model_if():\n",
    "    def __init__(self, f, n0_, n1_, n2_, deltanu_):\n",
    "        self.f = f\n",
    "        self.n0 = n0_\n",
    "        self.n1 = n1_\n",
    "        self.n2 = n2_\n",
    "        self.npts = len(f)\n",
    "        self.M = [len(n0_), len(n1_), len(n2_)]\n",
    "        self.deltanu = deltanu_\n",
    "        \n",
    "    def epsilon(self, i, l, m):\n",
    "        if l == 0:\n",
    "            return 1\n",
    "        if l == 1:\n",
    "            if m == 0:\n",
    "                return tt.sqr(tt.cos(i))\n",
    "            if np.abs(m) == 1:\n",
    "                return 0.5 * tt.sqr(tt.sin(i))\n",
    "        if l == 2:\n",
    "            if m == 0:\n",
    "                return 0.25 * tt.sqr((3. * tt.sqr(tt.cos(i)) - 1.))\n",
    "            if np.abs(m) ==1:\n",
    "                return (3./8.) * tt.sqr(tt.sin(2*i))\n",
    "            if np.abs(m) == 2:\n",
    "                return (3./8.) * tt.sin(i)**4\n",
    "\n",
    "    def lor(self, freq, h, w):\n",
    "        return h / (1.0 + 4.0/tt.sqr(w)*tt.sqr((self.f - freq)))\n",
    "    \n",
    "    def mode(self, l, freqs, hs, ws, i, split=0):\n",
    "        for idx in range(self.M[l]):\n",
    "            for m in range(-l, l+1, 1):\n",
    "                self.modes += self.lor(freqs[idx] + (m*split), \n",
    "                                     hs[idx] * self.epsilon(i, l,abs(m)), \n",
    "                                     ws[idx])\n",
    "  \n",
    "    def model(self, p, theano=True):\n",
    "        f0, f1, f2, g0, g1, g2, h0, h1, h2, split, i, aphi, bphi = p\n",
    "\n",
    "        # Unpack background parameters\n",
    "        loga = aphi[0]\n",
    "        logb = aphi[1]\n",
    "        logc = aphi[2]\n",
    "        logd = aphi[3]\n",
    "        logj = aphi[4]\n",
    "        logk = aphi[5]\n",
    "        white = bphi[0]\n",
    "        scale = bphi[1]\n",
    "        nyq = bphi[2]\n",
    "        \n",
    "        # Calculate the modes\n",
    "        self.modes = np.zeros(self.npts)\n",
    "        self.mode(0, f0, h0, g0, i)\n",
    "        self.mode(1, f1, h1, g1, i, split)\n",
    "        self.mode(2, f2, h2, g2, i, split)\n",
    "        self.modes *= self.get_apodization(nyq)\n",
    "            \n",
    "        #Calculate the background\n",
    "        self.back = self.get_background(loga, logb, logc, logd, logj, logk,\n",
    "                                       white, scale, nyq)            \n",
    "            \n",
    "        #Create the model\n",
    "        self.mod = self.modes + self.back\n",
    "        if theano:\n",
    "            return self.mod\n",
    "        else:\n",
    "            return self.mod.eval()\n",
    "\n",
    "    def harvey(self, a, b, c):\n",
    "        harvey = 0.9*tt.sqr(a)/b/(1.0 + tt.pow((self.f/b), c))\n",
    "        return harvey\n",
    "\n",
    "    def get_apodization(self, nyquist):\n",
    "        x = (np.pi * self.f) / (2 * nyquist)\n",
    "        return tt.sqr((tt.sin(x)/x))\n",
    "\n",
    "    def get_background(self, loga, logb, logc, logd, logj, logk, white, scale, nyq):\n",
    "        background = np.zeros(len(self.f))\n",
    "        background += self.get_apodization(nyq) * scale  \\\n",
    "                        * (self.harvey(tt.pow(10, loga), tt.pow(10, logb), 4.) \\\n",
    "                        +  self.harvey(tt.pow(10, logc), tt.pow(10, logd), 4.) \\\n",
    "                        +  self.harvey(tt.pow(10, logj), tt.pow(10, logk), 2.))\\\n",
    "                        +  white\n",
    "        return background              "
   ]
  },
  {
   "cell_type": "code",
   "execution_count": 11,
   "metadata": {},
   "outputs": [
    {
     "name": "stdout",
     "output_type": "stream",
     "text": [
      "First construction took: 0.00 s\n"
     ]
    }
   ],
   "source": [
    "t0 = time.time()\n",
    "mod = model_if(f, n0_, n1_, n2_, deltanu_)\n",
    "t1 = time.time()\n",
    "print(f'First construction took: {(t1-t0):.2f} s')"
   ]
  },
  {
   "cell_type": "code",
   "execution_count": 12,
   "metadata": {},
   "outputs": [
    {
     "name": "stdout",
     "output_type": "stream",
     "text": [
      "First call took: 0.28 s\n"
     ]
    }
   ],
   "source": [
    "t0 = time.time()\n",
    "p = mod.model(init_m, theano=True)\n",
    "t1 = time.time()\n",
    "print(f'First call took: {(t1-t0):.2f} s')"
   ]
  },
  {
   "cell_type": "code",
   "execution_count": 13,
   "metadata": {},
   "outputs": [
    {
     "name": "stdout",
     "output_type": "stream",
     "text": [
      "Second call took: 0.28 s\n"
     ]
    }
   ],
   "source": [
    "t0 = time.time()\n",
    "p = mod.model(init_m, theano=True)\n",
    "t1 = time.time()\n",
    "print(f'Second call took: {(t1-t0):.2f} s')"
   ]
  },
  {
   "cell_type": "code",
   "execution_count": 14,
   "metadata": {},
   "outputs": [
    {
     "name": "stdout",
     "output_type": "stream",
     "text": [
      "Non-theano call took: 22.75 s\n"
     ]
    }
   ],
   "source": [
    "t0 = time.time()\n",
    "p = mod.model(init_m, theano=False)\n",
    "t1 = time.time()\n",
    "print(f'Non-theano call took: {(t1-t0):.2f} s')"
   ]
  },
  {
   "cell_type": "code",
   "execution_count": 15,
   "metadata": {},
   "outputs": [
    {
     "data": {
      "text/plain": [
       "[<matplotlib.lines.Line2D at 0x7f4d700f7ac8>]"
      ]
     },
     "execution_count": 15,
     "metadata": {},
     "output_type": "execute_result"
    },
    {
     "data": {
      "image/png": "[encoded data removed]",
      "text/plain": [
       "<Figure size 432x288 with 1 Axes>"
      ]
     },
     "metadata": {
      "needs_background": "light"
     },
     "output_type": "display_data"
    }
   ],
   "source": [
    "plt.plot(p)"
   ]
  },
  {
   "cell_type": "markdown",
   "metadata": {},
   "source": [
    "# Numpy build"
   ]
  },
  {
   "cell_type": "code",
   "execution_count": 16,
   "metadata": {},
   "outputs": [],
   "source": [
    "class model_np():\n",
    "    def __init__(self, f, n0_, n1_, n2_, deltanu_):\n",
    "        self.f = f\n",
    "        self.n0 = n0_\n",
    "        self.n1 = n1_\n",
    "        self.n2 = n2_\n",
    "        self.npts = len(f)\n",
    "        self.M = [len(n0_), len(n1_), len(n2_)]\n",
    "        self.deltanu = deltanu_\n",
    "        \n",
    "    def epsilon(self, i, l, m):\n",
    "        if l == 0:\n",
    "            return 1\n",
    "        if l == 1:\n",
    "            if m == 0:\n",
    "                return np.cos(i)**2\n",
    "            if np.abs(m) == 1:\n",
    "                return 0.5 * np.sin(i)**2\n",
    "        if l == 2:\n",
    "            if m == 0:\n",
    "                return 0.25 * (3 * np.cos(i)**2 - 1)**2\n",
    "            if np.abs(m) ==1:\n",
    "                return (3/8)*np.sin(2*i)**2\n",
    "            if np.abs(m) == 2:\n",
    "                return (3/8) * np.sin(i)**4\n",
    "\n",
    "    def lor(self, freq, h, w):\n",
    "        return h / (1.0 + 4.0/w**2*(self.f - freq)**2)\n",
    "    \n",
    "    def mode(self, l, freqs, hs, ws, i, split=0):\n",
    "        for idx in range(self.M[l]):\n",
    "            for m in range(-l, l+1, 1):\n",
    "                self.modes += self.lor(freqs[idx] + (m*split), \n",
    "                                     hs[idx] * self.epsilon(i, l,abs(m)), \n",
    "                                     ws[idx])\n",
    "  \n",
    "    def model(self, p, theano=True):\n",
    "        f0, f1, f2, g0, g1, g2, h0, h1, h2, split, i, aphi, bphi = p\n",
    "\n",
    "        # Unpack background parameters\n",
    "        loga = aphi[0]\n",
    "        logb = aphi[1]\n",
    "        logc = aphi[2]\n",
    "        logd = aphi[3]\n",
    "        logj = aphi[4]\n",
    "        logk = aphi[5]\n",
    "        white = bphi[0]\n",
    "        scale = bphi[1]\n",
    "        nyq = bphi[2]\n",
    "        \n",
    "        # Calculate the modes\n",
    "        self.modes = np.zeros(self.npts)\n",
    "        self.mode(0, f0, h0, g0, i)\n",
    "        self.mode(1, f1, h1, g1, i, split)\n",
    "        self.mode(2, f2, h2, g2, i, split)\n",
    "        self.modes *= self.get_apodization(nyq)\n",
    "            \n",
    "        #Calculate the background\n",
    "        self.back = self.get_background(loga, logb, logc, logd, logj, logk,\n",
    "                                       white, scale, nyq)            \n",
    "            \n",
    "        #Create the model\n",
    "        self.mod = self.modes + self.back\n",
    "        if theano:\n",
    "            return self.mod\n",
    "        else:\n",
    "            return self.mod.eval()\n",
    "\n",
    "    def harvey(self, a, b, c):\n",
    "        harvey = 0.9*a**2/b/(1.0 + (self.f/b)**c)\n",
    "        return harvey\n",
    "\n",
    "    def get_apodization(self, nyquist):\n",
    "        x = (np.pi * self.f) / (2 * nyquist)\n",
    "        return (np.sin(x)/x)**2\n",
    "\n",
    "    def get_background(self, loga, logb, logc, logd, logj, logk, white, scale, nyq):\n",
    "        background = np.zeros(len(self.f))\n",
    "        background += self.get_apodization(nyq) * scale  \\\n",
    "                        * (self.harvey(10**loga, 10**logb, 4.) \\\n",
    "                        +  self.harvey(10**logc, 10**logd, 4.) \\\n",
    "                        +  self.harvey(10**logj, 10**logk, 2.))\\\n",
    "                        +  white\n",
    "        return background              "
   ]
  },
  {
   "cell_type": "code",
   "execution_count": 17,
   "metadata": {},
   "outputs": [
    {
     "name": "stdout",
     "output_type": "stream",
     "text": [
      "First construction took: 0.00 s\n"
     ]
    }
   ],
   "source": [
    "t0 = time.time()\n",
    "mod = model_np(f, n0_, n1_, n2_, deltanu_)\n",
    "t1 = time.time()\n",
    "print(f'First construction took: {(t1-t0):.2f} s')"
   ]
  },
  {
   "cell_type": "code",
   "execution_count": 18,
   "metadata": {},
   "outputs": [
    {
     "name": "stdout",
     "output_type": "stream",
     "text": [
      "First call took: 0.02 s\n"
     ]
    }
   ],
   "source": [
    "t0 = time.time()\n",
    "p = mod.model(init_m, theano=True)\n",
    "t1 = time.time()\n",
    "print(f'First call took: {(t1-t0):.2f} s')"
   ]
  },
  {
   "cell_type": "code",
   "execution_count": 19,
   "metadata": {},
   "outputs": [
    {
     "name": "stdout",
     "output_type": "stream",
     "text": [
      "Second call took: 0.01 s\n"
     ]
    }
   ],
   "source": [
    "t0 = time.time()\n",
    "p = mod.model(init_m, theano=True)\n",
    "t1 = time.time()\n",
    "print(f'Second call took: {(t1-t0):.2f} s')"
   ]
  },
  {
   "cell_type": "code",
   "execution_count": 20,
   "metadata": {},
   "outputs": [
    {
     "ename": "AttributeError",
     "evalue": "'numpy.ndarray' object has no attribute 'eval'",
     "output_type": "error",
     "traceback": [
      "\u001b[0;31m---------------------------------------------------------------------------\u001b[0m",
      "\u001b[0;31mAttributeError\u001b[0m                            Traceback (most recent call last)",
      "\u001b[0;32m<ipython-input-20-fd23cee01adb>\u001b[0m in \u001b[0;36m<module>\u001b[0;34m\u001b[0m\n\u001b[1;32m      1\u001b[0m \u001b[0mt0\u001b[0m \u001b[0;34m=\u001b[0m \u001b[0mtime\u001b[0m\u001b[0;34m.\u001b[0m\u001b[0mtime\u001b[0m\u001b[0;34m(\u001b[0m\u001b[0;34m)\u001b[0m\u001b[0;34m\u001b[0m\u001b[0;34m\u001b[0m\u001b[0m\n\u001b[0;32m----> 2\u001b[0;31m \u001b[0mp\u001b[0m \u001b[0;34m=\u001b[0m \u001b[0mmod\u001b[0m\u001b[0;34m.\u001b[0m\u001b[0mmodel\u001b[0m\u001b[0;34m(\u001b[0m\u001b[0minit_m\u001b[0m\u001b[0;34m,\u001b[0m \u001b[0mtheano\u001b[0m\u001b[0;34m=\u001b[0m\u001b[0;32mFalse\u001b[0m\u001b[0;34m)\u001b[0m\u001b[0;34m\u001b[0m\u001b[0;34m\u001b[0m\u001b[0m\n\u001b[0m\u001b[1;32m      3\u001b[0m \u001b[0mt1\u001b[0m \u001b[0;34m=\u001b[0m \u001b[0mtime\u001b[0m\u001b[0;34m.\u001b[0m\u001b[0mtime\u001b[0m\u001b[0;34m(\u001b[0m\u001b[0;34m)\u001b[0m\u001b[0;34m\u001b[0m\u001b[0;34m\u001b[0m\u001b[0m\n\u001b[1;32m      4\u001b[0m \u001b[0mprint\u001b[0m\u001b[0;34m(\u001b[0m\u001b[0;34mf'Non-theano call took: {(t1-t0):.2f} s'\u001b[0m\u001b[0;34m)\u001b[0m\u001b[0;34m\u001b[0m\u001b[0;34m\u001b[0m\u001b[0m\n",
      "\u001b[0;32m<ipython-input-16-2e51b490acc7>\u001b[0m in \u001b[0;36mmodel\u001b[0;34m(self, p, theano)\u001b[0m\n\u001b[1;32m     65\u001b[0m             \u001b[0;32mreturn\u001b[0m \u001b[0mself\u001b[0m\u001b[0;34m.\u001b[0m\u001b[0mmod\u001b[0m\u001b[0;34m\u001b[0m\u001b[0;34m\u001b[0m\u001b[0m\n\u001b[1;32m     66\u001b[0m         \u001b[0;32melse\u001b[0m\u001b[0;34m:\u001b[0m\u001b[0;34m\u001b[0m\u001b[0;34m\u001b[0m\u001b[0m\n\u001b[0;32m---> 67\u001b[0;31m             \u001b[0;32mreturn\u001b[0m \u001b[0mself\u001b[0m\u001b[0;34m.\u001b[0m\u001b[0mmod\u001b[0m\u001b[0;34m.\u001b[0m\u001b[0meval\u001b[0m\u001b[0;34m(\u001b[0m\u001b[0;34m)\u001b[0m\u001b[0;34m\u001b[0m\u001b[0;34m\u001b[0m\u001b[0m\n\u001b[0m\u001b[1;32m     68\u001b[0m \u001b[0;34m\u001b[0m\u001b[0m\n\u001b[1;32m     69\u001b[0m     \u001b[0;32mdef\u001b[0m \u001b[0mharvey\u001b[0m\u001b[0;34m(\u001b[0m\u001b[0mself\u001b[0m\u001b[0;34m,\u001b[0m \u001b[0ma\u001b[0m\u001b[0;34m,\u001b[0m \u001b[0mb\u001b[0m\u001b[0;34m,\u001b[0m \u001b[0mc\u001b[0m\u001b[0;34m)\u001b[0m\u001b[0;34m:\u001b[0m\u001b[0;34m\u001b[0m\u001b[0;34m\u001b[0m\u001b[0m\n",
      "\u001b[0;31mAttributeError\u001b[0m: 'numpy.ndarray' object has no attribute 'eval'"
     ]
    }
   ],
   "source": [
    "t0 = time.time()\n",
    "p = mod.model(init_m, theano=False)\n",
    "t1 = time.time()\n",
    "print(f'Non-theano call took: {(t1-t0):.2f} s')"
   ]
  },
  {
   "cell_type": "code",
   "execution_count": null,
   "metadata": {},
   "outputs": [],
   "source": [
    "plt.plot(p)"
   ]
  },
  {
   "cell_type": "markdown",
   "metadata": {},
   "source": [
    "## Np math, tensorflow epsilon"
   ]
  },
  {
   "cell_type": "code",
   "execution_count": 16,
   "metadata": {},
   "outputs": [],
   "source": [
    "class model_np():\n",
    "    def __init__(self, f, n0_, n1_, n2_, deltanu_):\n",
    "        self.f = f\n",
    "        self.n0 = n0_\n",
    "        self.n1 = n1_\n",
    "        self.n2 = n2_\n",
    "        self.npts = len(f)\n",
    "        self.M = [len(n0_), len(n1_), len(n2_)]\n",
    "        self.deltanu = deltanu_\n",
    "        \n",
    "    def epsilon(self, i, l, m):\n",
    "        if l == 0:\n",
    "            return 1\n",
    "        if l == 1:\n",
    "            if m == 0:\n",
    "                return np.cos(i)**2\n",
    "            if np.abs(m) == 1:\n",
    "                return 0.5 * np.sin(i)**2\n",
    "        if l == 2:\n",
    "            if m == 0:\n",
    "                return 0.25 * (3 * np.cos(i)**2 - 1)**2\n",
    "            if np.abs(m) ==1:\n",
    "                return (3/8)*np.sin(2*i)**2\n",
    "            if np.abs(m) == 2:\n",
    "                return (3/8) * np.sin(i)**4\n",
    "\n",
    "    def lor(self, freq, h, w):\n",
    "        return h / (1.0 + 4.0/w**2*(self.f - freq)**2)\n",
    "    \n",
    "    def mode(self, l, freqs, hs, ws, i, split=0):\n",
    "        for idx in range(self.M[l]):\n",
    "            for m in range(-l, l+1, 1):\n",
    "                self.modes += self.lor(freqs[idx] + (m*split), \n",
    "                                     hs[idx] * self.epsilon(i, l,abs(m)), \n",
    "                                     ws[idx])\n",
    "  \n",
    "    def model(self, p, theano=True):\n",
    "        f0, f1, f2, g0, g1, g2, h0, h1, h2, split, i, aphi, bphi = p\n",
    "\n",
    "        # Unpack background parameters\n",
    "        loga = aphi[0]\n",
    "        logb = aphi[1]\n",
    "        logc = aphi[2]\n",
    "        logd = aphi[3]\n",
    "        logj = aphi[4]\n",
    "        logk = aphi[5]\n",
    "        white = bphi[0]\n",
    "        scale = bphi[1]\n",
    "        nyq = bphi[2]\n",
    "        \n",
    "        # Calculate the modes\n",
    "        self.modes = np.zeros(self.npts)\n",
    "        self.mode(0, f0, h0, g0, i)\n",
    "        self.mode(1, f1, h1, g1, i, split)\n",
    "        self.mode(2, f2, h2, g2, i, split)\n",
    "        self.modes *= self.get_apodization(nyq)\n",
    "            \n",
    "        #Calculate the background\n",
    "        self.back = self.get_background(loga, logb, logc, logd, logj, logk,\n",
    "                                       white, scale, nyq)            \n",
    "            \n",
    "        #Create the model\n",
    "        self.mod = self.modes + self.back\n",
    "        if theano:\n",
    "            return self.mod\n",
    "        else:\n",
    "            return self.mod.eval()\n",
    "\n",
    "    def harvey(self, a, b, c):\n",
    "        harvey = 0.9*a**2/b/(1.0 + (self.f/b)**c)\n",
    "        return harvey\n",
    "\n",
    "    def get_apodization(self, nyquist):\n",
    "        x = (np.pi * self.f) / (2 * nyquist)\n",
    "        return (np.sin(x)/x)**2\n",
    "\n",
    "    def get_background(self, loga, logb, logc, logd, logj, logk, white, scale, nyq):\n",
    "        background = np.zeros(len(self.f))\n",
    "        background += self.get_apodization(nyq) * scale  \\\n",
    "                        * (self.harvey(10**loga, 10**logb, 4.) \\\n",
    "                        +  self.harvey(10**logc, 10**logd, 4.) \\\n",
    "                        +  self.harvey(10**logj, 10**logk, 2.))\\\n",
    "                        +  white\n",
    "        return background              "
   ]
  },
  {
   "cell_type": "code",
   "execution_count": 17,
   "metadata": {},
   "outputs": [
    {
     "name": "stdout",
     "output_type": "stream",
     "text": [
      "First construction took: 0.00 s\n"
     ]
    }
   ],
   "source": [
    "t0 = time.time()\n",
    "mod = model_np(f, n0_, n1_, n2_, deltanu_)\n",
    "t1 = time.time()\n",
    "print(f'First construction took: {(t1-t0):.2f} s')"
   ]
  },
  {
   "cell_type": "code",
   "execution_count": 18,
   "metadata": {},
   "outputs": [
    {
     "name": "stdout",
     "output_type": "stream",
     "text": [
      "First call took: 0.02 s\n"
     ]
    }
   ],
   "source": [
    "t0 = time.time()\n",
    "p = mod.model(init_m, theano=True)\n",
    "t1 = time.time()\n",
    "print(f'First call took: {(t1-t0):.2f} s')"
   ]
  },
  {
   "cell_type": "code",
   "execution_count": 19,
   "metadata": {},
   "outputs": [
    {
     "name": "stdout",
     "output_type": "stream",
     "text": [
      "Second call took: 0.01 s\n"
     ]
    }
   ],
   "source": [
    "t0 = time.time()\n",
    "p = mod.model(init_m, theano=True)\n",
    "t1 = time.time()\n",
    "print(f'Second call took: {(t1-t0):.2f} s')"
   ]
  },
  {
   "cell_type": "code",
   "execution_count": 20,
   "metadata": {},
   "outputs": [
    {
     "ename": "AttributeError",
     "evalue": "'numpy.ndarray' object has no attribute 'eval'",
     "output_type": "error",
     "traceback": [
      "\u001b[0;31m---------------------------------------------------------------------------\u001b[0m",
      "\u001b[0;31mAttributeError\u001b[0m                            Traceback (most recent call last)",
      "\u001b[0;32m<ipython-input-20-fd23cee01adb>\u001b[0m in \u001b[0;36m<module>\u001b[0;34m\u001b[0m\n\u001b[1;32m      1\u001b[0m \u001b[0mt0\u001b[0m \u001b[0;34m=\u001b[0m \u001b[0mtime\u001b[0m\u001b[0;34m.\u001b[0m\u001b[0mtime\u001b[0m\u001b[0;34m(\u001b[0m\u001b[0;34m)\u001b[0m\u001b[0;34m\u001b[0m\u001b[0;34m\u001b[0m\u001b[0m\n\u001b[0;32m----> 2\u001b[0;31m \u001b[0mp\u001b[0m \u001b[0;34m=\u001b[0m \u001b[0mmod\u001b[0m\u001b[0;34m.\u001b[0m\u001b[0mmodel\u001b[0m\u001b[0;34m(\u001b[0m\u001b[0minit_m\u001b[0m\u001b[0;34m,\u001b[0m \u001b[0mtheano\u001b[0m\u001b[0;34m=\u001b[0m\u001b[0;32mFalse\u001b[0m\u001b[0;34m)\u001b[0m\u001b[0;34m\u001b[0m\u001b[0;34m\u001b[0m\u001b[0m\n\u001b[0m\u001b[1;32m      3\u001b[0m \u001b[0mt1\u001b[0m \u001b[0;34m=\u001b[0m \u001b[0mtime\u001b[0m\u001b[0;34m.\u001b[0m\u001b[0mtime\u001b[0m\u001b[0;34m(\u001b[0m\u001b[0;34m)\u001b[0m\u001b[0;34m\u001b[0m\u001b[0;34m\u001b[0m\u001b[0m\n\u001b[1;32m      4\u001b[0m \u001b[0mprint\u001b[0m\u001b[0;34m(\u001b[0m\u001b[0;34mf'Non-theano call took: {(t1-t0):.2f} s'\u001b[0m\u001b[0;34m)\u001b[0m\u001b[0;34m\u001b[0m\u001b[0;34m\u001b[0m\u001b[0m\n",
      "\u001b[0;32m<ipython-input-16-2e51b490acc7>\u001b[0m in \u001b[0;36mmodel\u001b[0;34m(self, p, theano)\u001b[0m\n\u001b[1;32m     65\u001b[0m             \u001b[0;32mreturn\u001b[0m \u001b[0mself\u001b[0m\u001b[0;34m.\u001b[0m\u001b[0mmod\u001b[0m\u001b[0;34m\u001b[0m\u001b[0;34m\u001b[0m\u001b[0m\n\u001b[1;32m     66\u001b[0m         \u001b[0;32melse\u001b[0m\u001b[0;34m:\u001b[0m\u001b[0;34m\u001b[0m\u001b[0;34m\u001b[0m\u001b[0m\n\u001b[0;32m---> 67\u001b[0;31m             \u001b[0;32mreturn\u001b[0m \u001b[0mself\u001b[0m\u001b[0;34m.\u001b[0m\u001b[0mmod\u001b[0m\u001b[0;34m.\u001b[0m\u001b[0meval\u001b[0m\u001b[0;34m(\u001b[0m\u001b[0;34m)\u001b[0m\u001b[0;34m\u001b[0m\u001b[0;34m\u001b[0m\u001b[0m\n\u001b[0m\u001b[1;32m     68\u001b[0m \u001b[0;34m\u001b[0m\u001b[0m\n\u001b[1;32m     69\u001b[0m     \u001b[0;32mdef\u001b[0m \u001b[0mharvey\u001b[0m\u001b[0;34m(\u001b[0m\u001b[0mself\u001b[0m\u001b[0;34m,\u001b[0m \u001b[0ma\u001b[0m\u001b[0;34m,\u001b[0m \u001b[0mb\u001b[0m\u001b[0;34m,\u001b[0m \u001b[0mc\u001b[0m\u001b[0;34m)\u001b[0m\u001b[0;34m:\u001b[0m\u001b[0;34m\u001b[0m\u001b[0;34m\u001b[0m\u001b[0m\n",
      "\u001b[0;31mAttributeError\u001b[0m: 'numpy.ndarray' object has no attribute 'eval'"
     ]
    }
   ],
   "source": [
    "t0 = time.time()\n",
    "p = mod.model(init_m, theano=False)\n",
    "t1 = time.time()\n",
    "print(f'Non-theano call took: {(t1-t0):.2f} s')"
   ]
  },
  {
   "cell_type": "code",
   "execution_count": null,
   "metadata": {},
   "outputs": [],
   "source": [
    "plt.plot(p)"
   ]
  },
  {
   "cell_type": "code",
   "execution_count": 25,
   "metadata": {},
   "outputs": [],
   "source": [
    "class model_np():\n",
    "    def __init__(self, f, n0_, n1_, n2_, deltanu_):\n",
    "        self.f = f\n",
    "        self.n0 = n0_\n",
    "        self.n1 = n1_\n",
    "        self.n2 = n2_\n",
    "        self.npts = len(f)\n",
    "        self.M = [len(n0_), len(n1_), len(n2_)]\n",
    "        self.deltanu = deltanu_\n",
    "        \n",
    "    def epsilon(self, i):\n",
    "        eps = tt.zeros((3,3))\n",
    "        eps0 = tt.set_subtensor(eps[0][0], 1.)\n",
    "        eps1 = tt.set_subtensor(eps[1][0], np.cos(i)**2)\n",
    "        eps1 = tt.set_subtensor(eps1[1], 0.5 * np.sin(i)**2)\n",
    "        eps2 = tt.set_subtensor(eps[2][0], 0.25 * (3 * np.cos(i)**2 - 1)**2)\n",
    "        eps2 = tt.set_subtensor(eps2[1], (3/8)*np.sin(2*i)**2)\n",
    "        eps2 = tt.set_subtensor(eps2[2], (3/8) * np.sin(i)**4)\n",
    "\n",
    "        eps = tt.set_subtensor(eps[0], eps0)\n",
    "        eps = tt.set_subtensor(eps[1], eps1)\n",
    "        eps = tt.set_subtensor(eps[2], eps2)       \n",
    "        return eps\n",
    "        \n",
    "    def lor(self, freq, h, w):\n",
    "        return h / (1.0 + 4.0/w**2*(self.f - freq)**2)\n",
    "    \n",
    "    def mode(self, l, freqs, hs, ws, eps, split=0):\n",
    "        for idx in range(self.M[l]):\n",
    "            for m in range(-l, l+1, 1):\n",
    "                self.modes += self.lor(freqs[idx] + (m*split), \n",
    "                                     hs[idx] * eps[l,abs(m)], \n",
    "                                     ws[idx])\n",
    "  \n",
    "    def model(self, p, theano=True):\n",
    "        f0, f1, f2, g0, g1, g2, h0, h1, h2, split, i, aphi, bphi = p\n",
    "\n",
    "        # Unpack background parameters\n",
    "        loga = aphi[0]\n",
    "        logb = aphi[1]\n",
    "        logc = aphi[2]\n",
    "        logd = aphi[3]\n",
    "        logj = aphi[4]\n",
    "        logk = aphi[5]\n",
    "        white = bphi[0]\n",
    "        scale = bphi[1]\n",
    "        nyq = bphi[2]\n",
    "        \n",
    "        # Calculate the modes\n",
    "        eps = self.epsilon(i)\n",
    "        self.modes = np.zeros(self.npts)\n",
    "        self.mode(0, f0, h0, g0, eps)\n",
    "        self.mode(1, f1, h1, g1, eps, split)\n",
    "        self.mode(2, f2, h2, g2, eps, split)\n",
    "        self.modes *= self.get_apodization(nyq)\n",
    "            \n",
    "        #Calculate the background\n",
    "        self.back = self.get_background(loga, logb, logc, logd, logj, logk,\n",
    "                                       white, scale, nyq)            \n",
    "            \n",
    "        #Create the model\n",
    "        self.mod = self.modes + self.back\n",
    "        if theano:\n",
    "            return self.mod\n",
    "        else:\n",
    "            return self.mod.eval()\n",
    "\n",
    "    def harvey(self, a, b, c):\n",
    "        harvey = 0.9*a**2/b/(1.0 + (self.f/b)**c)\n",
    "        return harvey\n",
    "\n",
    "    def get_apodization(self, nyquist):\n",
    "        x = (np.pi * self.f) / (2 * nyquist)\n",
    "        return (np.sin(x)/x)**2\n",
    "\n",
    "    def get_background(self, loga, logb, logc, logd, logj, logk, white, scale, nyq):\n",
    "        background = np.zeros(len(self.f))\n",
    "        background += self.get_apodization(nyq) * scale  \\\n",
    "                        * (self.harvey(10**loga, 10**logb, 4.) \\\n",
    "                        +  self.harvey(10**logc, 10**logd, 4.) \\\n",
    "                        +  self.harvey(10**logj, 10**logk, 2.))\\\n",
    "                        +  white\n",
    "        return background              "
   ]
  },
  {
   "cell_type": "code",
   "execution_count": 26,
   "metadata": {},
   "outputs": [
    {
     "name": "stdout",
     "output_type": "stream",
     "text": [
      "First construction took: 0.00 s\n"
     ]
    }
   ],
   "source": [
    "t0 = time.time()\n",
    "mod = model_np(f, n0_, n1_, n2_, deltanu_)\n",
    "t1 = time.time()\n",
    "print(f'First construction took: {(t1-t0):.2f} s')\n"
   ]
  },
  {
   "cell_type": "code",
   "execution_count": 27,
   "metadata": {},
   "outputs": [
    {
     "name": "stdout",
     "output_type": "stream",
     "text": [
      "First call took: 0.13 s\n"
     ]
    }
   ],
   "source": [
    "\n",
    "t0 = time.time()\n",
    "p = mod.model(init_m, theano=True)\n",
    "t1 = time.time()\n",
    "print(f'First call took: {(t1-t0):.2f} s')\n"
   ]
  },
  {
   "cell_type": "code",
   "execution_count": 28,
   "metadata": {},
   "outputs": [
    {
     "name": "stdout",
     "output_type": "stream",
     "text": [
      "Second call took: 0.15 s\n"
     ]
    }
   ],
   "source": [
    "\n",
    "t0 = time.time()\n",
    "p = mod.model(init_m, theano=True)\n",
    "t1 = time.time()\n",
    "print(f'Second call took: {(t1-t0):.2f} s')\n"
   ]
  },
  {
   "cell_type": "code",
   "execution_count": 29,
   "metadata": {},
   "outputs": [
    {
     "name": "stdout",
     "output_type": "stream",
     "text": [
      "Non-theano call took: 17.11 s\n"
     ]
    },
    {
     "data": {
      "text/plain": [
       "[<matplotlib.lines.Line2D at 0x7f4d724373c8>]"
      ]
     },
     "execution_count": 29,
     "metadata": {},
     "output_type": "execute_result"
    },
    {
     "data": {
      "image/png": "[encoded data removed]",
      "text/plain": [
       "<Figure size 432x288 with 1 Axes>"
      ]
     },
     "metadata": {
      "needs_background": "light"
     },
     "output_type": "display_data"
    }
   ],
   "source": [
    "\n",
    "t0 = time.time()\n",
    "p = mod.model(init_m, theano=False)\n",
    "t1 = time.time()\n",
    "print(f'Non-theano call took: {(t1-t0):.2f} s')\n",
    "\n",
    "plt.plot(p)"
   ]
  }
 ],
 "metadata": {
  "kernelspec": {
   "display_name": "Python 3",
   "language": "python",
   "name": "python3"
  },
  "language_info": {
   "codemirror_mode": {
    "name": "ipython",
    "version": 3
   },
   "file_extension": ".py",
   "mimetype": "text/x-python",
   "name": "python",
   "nbconvert_exporter": "python",
   "pygments_lexer": "ipython3",
   "version": "3.7.3"
  }
 },
 "nbformat": 4,
 "nbformat_minor": 2
}
