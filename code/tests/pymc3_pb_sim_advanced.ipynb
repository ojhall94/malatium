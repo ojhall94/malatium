{
 "cells": [
  {
   "cell_type": "markdown",
   "metadata": {},
   "source": [
    "# We're going to combine all components into a single model"
   ]
  },
  {
   "cell_type": "code",
   "execution_count": 1,
   "metadata": {},
   "outputs": [
    {
     "name": "stderr",
     "output_type": "stream",
     "text": [
      "WARNING (theano.tensor.blas): Using NumPy C-API based implementation for BLAS functions.\n"
     ]
    }
   ],
   "source": [
    "import numpy as np\n",
    "import matplotlib.pyplot as plt\n",
    "import theano.tensor as tt\n",
    "\n",
    "import lightkurve as lk\n",
    "from astropy.units import cds\n",
    "from astropy import units as u\n",
    "import seaborn as sns\n",
    "\n",
    "import corner\n",
    "import pystan\n",
    "import pandas as pd\n",
    "import pickle\n",
    "import glob\n",
    "from astropy.io import ascii\n",
    "import os\n",
    "import sys\n",
    "\n",
    "import pymc3 as pm\n",
    "from pymc3.gp.util import plot_gp_dist\n",
    "import arviz\n",
    "import warnings\n",
    "warnings.filterwarnings('ignore')\n",
    "\n",
    "cpu = 'bear'"
   ]
  },
  {
   "cell_type": "markdown",
   "metadata": {},
   "source": [
    "## Build the model"
   ]
  },
  {
   "cell_type": "code",
   "execution_count": 2,
   "metadata": {},
   "outputs": [],
   "source": [
    "class model():\n",
    "    def __init__(self, f, n0_, n1_, n2_, deltanu_):\n",
    "        self.f = f\n",
    "        self.n0 = n0_\n",
    "        self.n1 = n1_\n",
    "        self.n2 = n2_\n",
    "        self.npts = len(f)\n",
    "        self.M = [len(n0_), len(n1_), len(n2_)]\n",
    "        self.deltanu = deltanu_\n",
    "        \n",
    "    def epsilon(self, i):\n",
    "        eps = tt.zeros((3,3))\n",
    "        eps0 = tt.set_subtensor(eps[0][0], 1.)\n",
    "        eps1 = tt.set_subtensor(eps[1][0], tt.sqr(tt.cos(i)))\n",
    "        eps1 = tt.set_subtensor(eps1[1], 0.5 * tt.sqr(tt.sin(i)))\n",
    "        eps2 = tt.set_subtensor(eps[2][0], 0.25 * tt.sqr((3. * tt.sqr(tt.cos(i)) - 1.)))\n",
    "        eps2 = tt.set_subtensor(eps2[1], (3./8.) * tt.sqr(tt.sin(2*i)))\n",
    "        eps2 = tt.set_subtensor(eps2[2], (3./8.) * tt.sin(i)**4)\n",
    "\n",
    "        eps = tt.set_subtensor(eps[0], eps0)\n",
    "        eps = tt.set_subtensor(eps[1], eps1)\n",
    "        eps = tt.set_subtensor(eps[2], eps2)\n",
    "        \n",
    "        return eps\n",
    "            \n",
    "    def lor(self, freq, h, w):\n",
    "        return h / (1.0 + 4.0/tt.sqr(w)*tt.sqr((self.f - freq)))\n",
    "    \n",
    "    def mode(self, l, freqs, hs, ws, eps, split=0):\n",
    "        for idx in range(self.M[l]):\n",
    "            for m in range(-l, l+1, 1):\n",
    "                self.modes += self.lor(freqs[idx] + (m*split), \n",
    "                                     hs[idx] * eps[l,abs(m)], \n",
    "                                     ws[idx])\n",
    "  \n",
    "    def model(self, p, theano=True):\n",
    "        f0, f1, f2, g0, g1, g2, h0, h1, h2, split, i, phi = p\n",
    "\n",
    "        # Unpack background parameters\n",
    "        loga = phi[0]\n",
    "        logb = phi[1]\n",
    "        logc = phi[2]\n",
    "        logd = phi[3]\n",
    "        logj = phi[4]\n",
    "        logk = phi[5]\n",
    "        white = phi[6]\n",
    "        scale = phi[7]\n",
    "        nyq = phi[8]\n",
    "        \n",
    "        # Calculate the modes\n",
    "        eps = self.epsilon(i)        \n",
    "        self.modes = np.zeros(self.npts)\n",
    "        self.mode(0, f0, h0, g0, eps)\n",
    "        self.mode(1, f1, h1, g1, eps, split)\n",
    "        self.mode(2, f2, h2, g2, eps, split)\n",
    "        self.modes *= self.get_apodization(nyq)\n",
    "            \n",
    "        #Calculate the background\n",
    "        self.back = self.get_background(loga, logb, logc, logd, logj, logk,\n",
    "                                       white, scale, nyq)            \n",
    "            \n",
    "        #Create the model\n",
    "        self.mod = self.modes + self.back\n",
    "        if theano:\n",
    "            return self.mod\n",
    "        else:\n",
    "            return self.mod.eval()\n",
    "\n",
    "    # Small separations are fractional\n",
    "    def asymptotic(self, n, numax, alpha, epsilon, d=0.): \n",
    "        nmax = (numax / self.deltanu) - epsilon\n",
    "        curve = (alpha/2.)*(n-nmax)*(n-nmax)\n",
    "        return (n + epsilon + d + curve) * self.deltanu\n",
    "\n",
    "    def f0(self, p):\n",
    "        numax, alpha, epsilon, d01, d02 = p\n",
    "        \n",
    "        return self.asymptotic(self.n0, numax, alpha, epsilon, 0.)\n",
    "    \n",
    "    def f1(self, p):\n",
    "        numax, alpha, epsilon, d01, d02 = p\n",
    "        \n",
    "        return self.asymptotic(self.n1, numax, alpha, epsilon, d01)\n",
    "    \n",
    "    def f2(self, p):\n",
    "        numax, alpha, epsilon, d01, d02 = p\n",
    "        \n",
    "        return self.asymptotic(self.n2+1, numax, alpha, epsilon, -d02)\n",
    "\n",
    "    def gaussian(self, freq, numax, w, A):\n",
    "        return A * tt.exp(-0.5 * tt.sqr((freq - numax)) / tt.sqr(w))\n",
    "\n",
    "    def A0(self, f, p, theano=True):\n",
    "        numax, w, A, V1, V2 = p\n",
    "        height = self.gaussian(f, numax, w, A)\n",
    "        if theano:\n",
    "            return height\n",
    "        else:\n",
    "            return height.eval()\n",
    "    \n",
    "    def A1(self, f, p, theano=True):\n",
    "        numax, w, A, V1, V2 = p\n",
    "        height = self.gaussian(f, numax, w, A)*V1        \n",
    "        if theano:\n",
    "            return height\n",
    "        else:\n",
    "            return height.eval()\n",
    "    \n",
    "    def A2(self, f, p, theano=True):\n",
    "        numax, w, A, V1, V2 = p\n",
    "        height = self.gaussian(f, numax, w, A)*V2      \n",
    "        if theano:\n",
    "            return height\n",
    "        else:\n",
    "            return height.eval()\n",
    "        \n",
    "    def harvey(self, a, b, c):\n",
    "        harvey = 0.9*tt.sqr(a)/b/(1.0 + tt.pow((self.f/b), c))\n",
    "        return harvey\n",
    "\n",
    "    def get_apodization(self, nyquist):\n",
    "        x = (np.pi * self.f) / (2 * nyquist)\n",
    "        return tt.sqr((tt.sin(x)/x))\n",
    "\n",
    "    def get_background(self, loga, logb, logc, logd, logj, logk, white, scale, nyq):\n",
    "        background = np.zeros(len(self.f))\n",
    "        background += self.get_apodization(nyq) * scale  \\\n",
    "                        * (self.harvey(tt.pow(10, loga), tt.pow(10, logb), 4.) \\\n",
    "                        +  self.harvey(tt.pow(10, logc), tt.pow(10, logd), 4.) \\\n",
    "                        +  self.harvey(tt.pow(10, logj), tt.pow(10, logk), 2.))\\\n",
    "                        +  white\n",
    "        return background              "
   ]
  },
  {
   "cell_type": "markdown",
   "metadata": {},
   "source": [
    "### Build the range"
   ]
  },
  {
   "cell_type": "code",
   "execution_count": 3,
   "metadata": {},
   "outputs": [],
   "source": [
    "nmodes = 10\n",
    "nbase = 13\n",
    "n0_ = np.arange(nmodes)+nbase\n",
    "n1_ = np.copy(n0_)\n",
    "n2_ = np.copy(n0_) - 1.\n",
    "fs = .1\n",
    "nyq = (0.5 * (1./58.6) * u.hertz).to(u.microhertz).value\n",
    "ff = np.arange(fs, nyq, fs)"
   ]
  },
  {
   "cell_type": "markdown",
   "metadata": {},
   "source": [
    "### Build the frequencies"
   ]
  },
  {
   "cell_type": "code",
   "execution_count": 4,
   "metadata": {},
   "outputs": [],
   "source": [
    "deltanu_  =  60.\n",
    "numax_= 1150.\n",
    "alpha_ = 0.01\n",
    "epsilon_ = 1.1\n",
    "d01_ = deltanu_/2. / deltanu_\n",
    "d02_ = 6. / deltanu_"
   ]
  },
  {
   "cell_type": "code",
   "execution_count": 5,
   "metadata": {},
   "outputs": [],
   "source": [
    "mod = model(ff, n0_, n1_, n2_, deltanu_)"
   ]
  },
  {
   "cell_type": "code",
   "execution_count": 6,
   "metadata": {},
   "outputs": [],
   "source": [
    "init_f = [numax_, alpha_, epsilon_, d01_, d02_]\n",
    "\n",
    "f0_true = mod.f0(init_f)\n",
    "f1_true = mod.f1(init_f)\n",
    "f2_true = mod.f2(init_f)\n",
    "\n",
    "sigma0_ = 1.5\n",
    "sigma1_ = 2.0\n",
    "sigma2_ = .5\n",
    "f0_ = mod.f0(init_f) + np.random.randn(len(f0_true)) * sigma0_\n",
    "f1_ = mod.f1(init_f) + np.random.randn(len(f1_true)) * sigma1_\n",
    "f2_ = mod.f2(init_f) + np.random.randn(len(f2_true)) * sigma2_"
   ]
  },
  {
   "cell_type": "code",
   "execution_count": 7,
   "metadata": {},
   "outputs": [],
   "source": [
    "lo = f2_.min() - .25*deltanu_\n",
    "hi = f1_.max() + .25*deltanu_\n",
    "\n",
    "sel = (ff > lo) & (ff < hi)\n",
    "f = ff[sel]"
   ]
  },
  {
   "cell_type": "markdown",
   "metadata": {},
   "source": [
    "### Reset model for new frequency range"
   ]
  },
  {
   "cell_type": "code",
   "execution_count": 8,
   "metadata": {},
   "outputs": [],
   "source": [
    "mod = model(f, n0_, n1_, n2_, deltanu_)"
   ]
  },
  {
   "cell_type": "markdown",
   "metadata": {},
   "source": [
    "### Build the linewidths"
   ]
  },
  {
   "cell_type": "code",
   "execution_count": 9,
   "metadata": {},
   "outputs": [],
   "source": [
    "def kernel(n, rho, L):\n",
    "    return rho**2 * np.exp(-0.5 * np.subtract.outer(n,n)**2 / L**2)"
   ]
  },
  {
   "cell_type": "code",
   "execution_count": 10,
   "metadata": {},
   "outputs": [],
   "source": [
    "m_ = .5\n",
    "c_ = .5\n",
    "rho_ = 0.1\n",
    "L_ = 0.3\n",
    "\n",
    "fs = np.concatenate((f0_, f1_, f2_))\n",
    "fs -= fs.min()\n",
    "nf = fs/fs.max()\n",
    "mu_ = m_ * nf + c_\n",
    "\n",
    "Sigma_ = kernel(nf, rho_, L_)\n",
    "\n",
    "lng0_ = np.random.multivariate_normal(mu_, Sigma_)\n",
    "widths = [np.exp(lng0_)[0:len(f0_)],\n",
    "          np.exp(lng0_)[len(f0_):len(f0_)+len(f1_)],\n",
    "          np.exp(lng0_)[len(f0_)+len(f1_):]]\n",
    "\n",
    "nf_ = nf[:,None]"
   ]
  },
  {
   "cell_type": "markdown",
   "metadata": {},
   "source": [
    "### Build the mode amplitudes"
   ]
  },
  {
   "cell_type": "code",
   "execution_count": 11,
   "metadata": {},
   "outputs": [],
   "source": [
    "w_ = (0.25 * numax_)/2.355\n",
    "V1_ = 1.2\n",
    "V2_ = 0.7\n",
    "A_ = 10.\n",
    "init_h =[numax_,   #numax\n",
    "         w_,       #envelope width\n",
    "         A_,       #envelope amplitude\n",
    "         V1_,      #dipole visibility\n",
    "         V2_       #ocotopole visibility\n",
    "        ]\n",
    "sigmaA_ = .2\n",
    "amps = [mod.A0(f0_, init_h, theano=False) + np.random.randn(len(f0_)) * sigmaA_,\n",
    "        mod.A1(f1_, init_h, theano=False) + np.random.randn(len(f0_)) * sigmaA_,\n",
    "        mod.A2(f2_, init_h, theano=False) + np.random.randn(len(f0_)) * sigmaA_]"
   ]
  },
  {
   "cell_type": "markdown",
   "metadata": {},
   "source": [
    "### Build the background"
   ]
  },
  {
   "cell_type": "code",
   "execution_count": 12,
   "metadata": {},
   "outputs": [],
   "source": [
    "labels=['loga','logb','logc','logd','logj','logk','white','scale','nyq']\n",
    "phi_ =  [   1.6,   2.6,   1.6,   3.0,   1.7,   0.5,    0.4,     1., nyq]\n",
    "phi_sigma = np.genfromtxt('phi_sigma.txt')\n",
    "phi_cholesky = np.linalg.cholesky(phi_sigma)"
   ]
  },
  {
   "cell_type": "markdown",
   "metadata": {},
   "source": [
    "### Construct the model"
   ]
  },
  {
   "cell_type": "code",
   "execution_count": 13,
   "metadata": {},
   "outputs": [
    {
     "name": "stderr",
     "output_type": "stream",
     "text": [
      "INFO (theano.gof.compilelock): Waiting for existing lock by process '28025' (I am process '27780')\n",
      "INFO:theano.gof.compilelock:Waiting for existing lock by process '28025' (I am process '27780')\n",
      "INFO (theano.gof.compilelock): To manually release the lock, delete /home/oliver/.theano/compiledir_Linux-5.0--generic-x86_64-with-Ubuntu-19.04-disco-x86_64-3.7.3-64/lock_dir\n",
      "INFO:theano.gof.compilelock:To manually release the lock, delete /home/oliver/.theano/compiledir_Linux-5.0--generic-x86_64-with-Ubuntu-19.04-disco-x86_64-3.7.3-64/lock_dir\n",
      "INFO (theano.gof.compilelock): Waiting for existing lock by process '28025' (I am process '27780')\n",
      "INFO:theano.gof.compilelock:Waiting for existing lock by process '28025' (I am process '27780')\n",
      "INFO (theano.gof.compilelock): To manually release the lock, delete /home/oliver/.theano/compiledir_Linux-5.0--generic-x86_64-with-Ubuntu-19.04-disco-x86_64-3.7.3-64/lock_dir\n",
      "INFO:theano.gof.compilelock:To manually release the lock, delete /home/oliver/.theano/compiledir_Linux-5.0--generic-x86_64-with-Ubuntu-19.04-disco-x86_64-3.7.3-64/lock_dir\n",
      "INFO (theano.gof.compilelock): Waiting for existing lock by process '28025' (I am process '27780')\n",
      "INFO:theano.gof.compilelock:Waiting for existing lock by process '28025' (I am process '27780')\n",
      "INFO (theano.gof.compilelock): To manually release the lock, delete /home/oliver/.theano/compiledir_Linux-5.0--generic-x86_64-with-Ubuntu-19.04-disco-x86_64-3.7.3-64/lock_dir\n",
      "INFO:theano.gof.compilelock:To manually release the lock, delete /home/oliver/.theano/compiledir_Linux-5.0--generic-x86_64-with-Ubuntu-19.04-disco-x86_64-3.7.3-64/lock_dir\n",
      "INFO (theano.gof.compilelock): Waiting for existing lock by process '28025' (I am process '27780')\n",
      "INFO:theano.gof.compilelock:Waiting for existing lock by process '28025' (I am process '27780')\n",
      "INFO (theano.gof.compilelock): To manually release the lock, delete /home/oliver/.theano/compiledir_Linux-5.0--generic-x86_64-with-Ubuntu-19.04-disco-x86_64-3.7.3-64/lock_dir\n",
      "INFO:theano.gof.compilelock:To manually release the lock, delete /home/oliver/.theano/compiledir_Linux-5.0--generic-x86_64-with-Ubuntu-19.04-disco-x86_64-3.7.3-64/lock_dir\n",
      "INFO (theano.gof.compilelock): Waiting for existing lock by process '28025' (I am process '27780')\n",
      "INFO:theano.gof.compilelock:Waiting for existing lock by process '28025' (I am process '27780')\n",
      "INFO (theano.gof.compilelock): To manually release the lock, delete /home/oliver/.theano/compiledir_Linux-5.0--generic-x86_64-with-Ubuntu-19.04-disco-x86_64-3.7.3-64/lock_dir\n",
      "INFO:theano.gof.compilelock:To manually release the lock, delete /home/oliver/.theano/compiledir_Linux-5.0--generic-x86_64-with-Ubuntu-19.04-disco-x86_64-3.7.3-64/lock_dir\n",
      "INFO (theano.gof.compilelock): Waiting for existing lock by process '28025' (I am process '27780')\n",
      "INFO:theano.gof.compilelock:Waiting for existing lock by process '28025' (I am process '27780')\n",
      "INFO (theano.gof.compilelock): To manually release the lock, delete /home/oliver/.theano/compiledir_Linux-5.0--generic-x86_64-with-Ubuntu-19.04-disco-x86_64-3.7.3-64/lock_dir\n",
      "INFO:theano.gof.compilelock:To manually release the lock, delete /home/oliver/.theano/compiledir_Linux-5.0--generic-x86_64-with-Ubuntu-19.04-disco-x86_64-3.7.3-64/lock_dir\n",
      "INFO (theano.gof.compilelock): Waiting for existing lock by process '28025' (I am process '27780')\n",
      "INFO:theano.gof.compilelock:Waiting for existing lock by process '28025' (I am process '27780')\n",
      "INFO (theano.gof.compilelock): To manually release the lock, delete /home/oliver/.theano/compiledir_Linux-5.0--generic-x86_64-with-Ubuntu-19.04-disco-x86_64-3.7.3-64/lock_dir\n",
      "INFO:theano.gof.compilelock:To manually release the lock, delete /home/oliver/.theano/compiledir_Linux-5.0--generic-x86_64-with-Ubuntu-19.04-disco-x86_64-3.7.3-64/lock_dir\n",
      "INFO (theano.gof.compilelock): Waiting for existing lock by process '28025' (I am process '27780')\n",
      "INFO:theano.gof.compilelock:Waiting for existing lock by process '28025' (I am process '27780')\n",
      "INFO (theano.gof.compilelock): To manually release the lock, delete /home/oliver/.theano/compiledir_Linux-5.0--generic-x86_64-with-Ubuntu-19.04-disco-x86_64-3.7.3-64/lock_dir\n",
      "INFO:theano.gof.compilelock:To manually release the lock, delete /home/oliver/.theano/compiledir_Linux-5.0--generic-x86_64-with-Ubuntu-19.04-disco-x86_64-3.7.3-64/lock_dir\n",
      "INFO (theano.gof.compilelock): Waiting for existing lock by process '28025' (I am process '27780')\n",
      "INFO:theano.gof.compilelock:Waiting for existing lock by process '28025' (I am process '27780')\n",
      "INFO (theano.gof.compilelock): To manually release the lock, delete /home/oliver/.theano/compiledir_Linux-5.0--generic-x86_64-with-Ubuntu-19.04-disco-x86_64-3.7.3-64/lock_dir\n",
      "INFO:theano.gof.compilelock:To manually release the lock, delete /home/oliver/.theano/compiledir_Linux-5.0--generic-x86_64-with-Ubuntu-19.04-disco-x86_64-3.7.3-64/lock_dir\n",
      "INFO (theano.gof.compilelock): Waiting for existing lock by process '28025' (I am process '27780')\n",
      "INFO:theano.gof.compilelock:Waiting for existing lock by process '28025' (I am process '27780')\n",
      "INFO (theano.gof.compilelock): To manually release the lock, delete /home/oliver/.theano/compiledir_Linux-5.0--generic-x86_64-with-Ubuntu-19.04-disco-x86_64-3.7.3-64/lock_dir\n",
      "INFO:theano.gof.compilelock:To manually release the lock, delete /home/oliver/.theano/compiledir_Linux-5.0--generic-x86_64-with-Ubuntu-19.04-disco-x86_64-3.7.3-64/lock_dir\n"
     ]
    }
   ],
   "source": [
    "split_ = 1.\n",
    "incl_ = np.pi/4.\n",
    "init_m =[f0_,                         # l0 modes\n",
    "       f1_,                         # l1 modes\n",
    "       f2_,                         # l2 modes\n",
    "       widths[0],             # l0 widths\n",
    "       widths[1],             # l1 widths\n",
    "       widths[2],             # l2 widths\n",
    "       amps[0]**2 * 2.0 / np.pi / widths[0] ,# l0 heights\n",
    "       amps[1]**2 * 2.0 / np.pi / widths[1] ,# l1 heights\n",
    "       amps[2]**2 * 2.0 / np.pi / widths[2] ,# l2 heights\n",
    "       split_,       # splitting\n",
    "       incl_,                    # inclination angle\n",
    "       phi_                           # background parameters\n",
    "        ]\n",
    "p = mod.model(init_m, theano=False)*np.random.chisquare(2., size=len(f))/2"
   ]
  },
  {
   "cell_type": "code",
   "execution_count": 14,
   "metadata": {
    "scrolled": false
   },
   "outputs": [
    {
     "data": {
      "image/png": "[encoded data removed]",
      "text/plain": [
       "<Figure size 848.5x400 with 1 Axes>"
      ]
     },
     "metadata": {},
     "output_type": "display_data"
    }
   ],
   "source": [
    "with plt.style.context(lk.MPLSTYLE):\n",
    "    plt.plot(f, p)\n",
    "    plt.plot(f, mod.model(init_m, theano=False), lw=3)\n",
    "    plt.yscale('log')\n",
    "    plt.xscale('log')\n",
    "    if cpu == 'bear':\n",
    "        plt.savefig('data.png')\n",
    "    else: plt.show()"
   ]
  },
  {
   "cell_type": "markdown",
   "metadata": {},
   "source": [
    "## First lets fit the background alone..."
   ]
  },
  {
   "cell_type": "code",
   "execution_count": 15,
   "metadata": {
    "scrolled": false
   },
   "outputs": [],
   "source": [
    "if cpu != 'bear':\n",
    "    pm_model = pm.Model()\n",
    "\n",
    "    with pm_model:   \n",
    "        # Background treatment\n",
    "        phi = pm.MvNormal('phi', mu=phi_, chol=phi_cholesky, testval=phi_, shape=len(phi_))\n",
    "\n",
    "        # Construct the model\n",
    "        fit = mod.model([*init_m[:11], phi])\n",
    "        like = pm.Gamma('like', alpha=1, beta=1.0/fit, observed=p)\n",
    "\n",
    "        trace = pm.sample(target_accept=.99)"
   ]
  },
  {
   "cell_type": "code",
   "execution_count": 16,
   "metadata": {
    "scrolled": true
   },
   "outputs": [],
   "source": [
    "if cpu != 'bear':\n",
    "    pm.summary(trace)"
   ]
  },
  {
   "cell_type": "code",
   "execution_count": 17,
   "metadata": {},
   "outputs": [],
   "source": [
    "if cpu != 'bear':\n",
    "    labels=['loga','logb','logc','logd','logj','logk',\n",
    "            'white','scale','nyq']\n",
    "    verbose=[r'$\\log_{10}a$',r'$\\log_{10}b$',\n",
    "            r'$\\log_{10}c$',r'$\\log_{10}d$',\n",
    "            r'$\\log_{10}j$',r'$\\log_{10}k$',\n",
    "            'white','scale',r'$\\nu_{\\rm nyq}$']\n",
    "\n",
    "    phichain = np.array([trace['phi'][:,idx] for idx in range(len(phi_))]).T\n",
    "    truth = phi_\n",
    "\n",
    "    corner.corner(phichain, truths=truth, show_titles=True, labels=verbose)\n",
    "    plt.show()"
   ]
  },
  {
   "cell_type": "markdown",
   "metadata": {},
   "source": [
    "# Now lets try and fit this"
   ]
  },
  {
   "cell_type": "code",
   "execution_count": 18,
   "metadata": {
    "scrolled": false
   },
   "outputs": [],
   "source": [
    "pm_model = pm.Model()\n",
    "\n",
    "with pm_model:   \n",
    "    # Mode locations\n",
    "    numax = pm.Normal('numax', numax_, 10., testval=numax_)\n",
    "    alpha = pm.Normal('alpha', alpha_, 0.01, testval=alpha_)\n",
    "    epsilon = pm.Normal('epsilon', epsilon_, 1., testval=epsilon_)\n",
    "    d01     = pm.Normal('d01', d01_, 0.1, testval=d01_)   \n",
    "    d02     = pm.Normal('d02', d02_, 0.1, testval=d02_)\n",
    "    \n",
    "    sigma0 = pm.HalfCauchy('sigma0', 2., testval=1.5)\n",
    "    sigma1 = pm.HalfCauchy('sigma1', 2., testval=2.)\n",
    "    sigma2 = pm.HalfCauchy('sigma2', 2., testval=.5)\n",
    "    \n",
    "    f0 = pm.Normal('f0', mod.f0([numax, alpha, epsilon, d01, d02]), sigma0, shape=len(f0_))\n",
    "    f1 = pm.Normal('f1', mod.f1([numax, alpha, epsilon, d01, d02]), sigma1, shape=len(f1_))\n",
    "    f2 = pm.Normal('f2', mod.f2([numax, alpha, epsilon, d01, d02]), sigma2, shape=len(f2_))\n",
    "\n",
    "    # Mode Linewidths\n",
    "    m = pm.Normal('m', m_, 1., testval=m_) \n",
    "    c = pm.Normal('c', c_, 1., testval=c_)\n",
    "    rho = pm.Normal('rho', rho_, 0.1, testval=rho_) \n",
    "    ls = pm.Normal('ls', 0.3, 0.1, testval=L_)\n",
    "    \n",
    "    mu = pm.gp.mean.Linear(coeffs=m, intercept=c)\n",
    "    cov = tt.sqr(rho) * pm.gp.cov.ExpQuad(1, ls=ls)     \n",
    "\n",
    "    gp = pm.gp.Latent(cov_func = cov, mean_func=mu)    \n",
    "    lng = gp.prior('lng', X=nf_)\n",
    "\n",
    "    g0 = pm.Deterministic('g0', tt.exp(lng)[0:len(f0_)])\n",
    "    g1 = pm.Deterministic('g1', tt.exp(lng)[len(f0_):len(f0_)+len(f1_)])\n",
    "    g2 = pm.Deterministic('g2', tt.exp(lng)[len(f0_)+len(f1_):])          \n",
    "\n",
    "    # Mode Amplitude & Height\n",
    "    w = pm.Normal('w', w_, 10., testval=w_)\n",
    "    A = pm.Normal('A', A_, 1., testval=A_)\n",
    "    V1 = pm.Normal('V1', V1_, 0.1, testval=V1_)\n",
    "    V2 = pm.Normal('V2', V2_, 0.1, testval=V2_)\n",
    "    \n",
    "    sigmaA = pm.HalfCauchy('sigmaA', 1., testval=0.2)\n",
    "    Da0 = pm.Normal('Da0',0, 1, shape=len(f0_))\n",
    "    Da1 = pm.Normal('Da1',0, 1, shape=len(f1_))\n",
    "    Da2 = pm.Normal('Da2',0, 1, shape=len(f2_))\n",
    "                    \n",
    "    a0 = pm.Deterministic('a0', sigmaA * Da0 + mod.A0(f0_, [numax, w, A, V1, V2])) \n",
    "    a1 = pm.Deterministic('a1', sigmaA * Da1 + mod.A1(f1_, [numax, w, A, V1, V2])) \n",
    "    a2 = pm.Deterministic('a2', sigmaA * Da2 + mod.A2(f2_, [numax, w, A, V1, V2]))   \n",
    "    \n",
    "    h0 = pm.Deterministic('h0', 2*tt.sqr(a0)/np.pi/g0)\n",
    "    h1 = pm.Deterministic('h1', 2*tt.sqr(a1)/np.pi/g1)\n",
    "    h2 = pm.Deterministic('h2', 2*tt.sqr(a2)/np.pi/g2)\n",
    "    \n",
    "    # Mode splitting\n",
    "    xsplit = pm.HalfNormal('xsplit', sigma=2.0, testval=init_m[9] * np.sin(init_m[10]))\n",
    "    cosi = pm.Uniform('cosi', 0., 1., testval=np.cos(init_m[10]))\n",
    "    \n",
    "    i = pm.Deterministic('i', tt.arccos(cosi))\n",
    "    split = pm.Deterministic('split', xsplit/tt.sin(i))\n",
    "    \n",
    "    # Background treatment\n",
    "    phi = pm.MvNormal('phi', mu=phi_, chol=phi_cholesky, testval=phi_, shape=len(phi_))\n",
    "    \n",
    "    # Construct model\n",
    "    fit = mod.model([f0, f1, f2, g0, g1, g2, h0, h1, h2, split, i, phi])\n",
    "    \n",
    "    like = pm.Gamma('like', alpha=1., beta=1./fit, observed=p)"
   ]
  },
  {
   "cell_type": "code",
   "execution_count": 19,
   "metadata": {},
   "outputs": [
    {
     "name": "stdout",
     "output_type": "stream",
     "text": [
      "numax -3.2215236261987186\n",
      "alpha 3.6862316527834187\n",
      "epsilon -0.9189385332046727\n",
      "d01 1.3836465597893728\n",
      "d02 1.3836465597893728\n",
      "sigma0_log__ -1.1855518784650008\n",
      "sigma1_log__ -1.1447298839447457\n",
      "sigma2_log__ -1.8985016863211257\n",
      "f0 -13.244036413128372\n",
      "f1 -16.12085713764618\n",
      "f2 -2.257913526447274\n",
      "m -0.9189385332046727\n",
      "c -0.9189385332046727\n",
      "rho 1.3836465597893728\n",
      "ls 1.3836465597893728\n",
      "lng_rotated_ -27.56815599614019\n",
      "w -3.2215236261987186\n",
      "A -0.9189385332046727\n",
      "V1 1.3836465597893728\n",
      "V2 1.3836465597893728\n",
      "sigmaA_log__ -2.100241328972182\n",
      "Da0 -9.189385332046724\n",
      "Da1 -9.189385332046724\n",
      "Da2 -9.189385332046724\n",
      "xsplit_log__ -1.3280121234846454\n",
      "cosi_interval__ -1.5745207675794886\n",
      "phi 32.08864514052494\n",
      "like -10340.851331588554\n"
     ]
    }
   ],
   "source": [
    "for RV in pm_model.basic_RVs:\n",
    "    print(RV.name, RV.logp(pm_model.test_point))"
   ]
  },
  {
   "cell_type": "code",
   "execution_count": 20,
   "metadata": {},
   "outputs": [],
   "source": [
    "start = {'numax' : numax_, 'alpha' : alpha_, 'epsilon' : epsilon_, 'd01' : d01_, 'd02' : d02_,\n",
    "        'sigma0' : sigma0_, 'sigma1' : sigma1_, 'sigma2' : sigma2_, 'f0' : f0_, 'f1' : f1_, 'f2' : f2_,\n",
    "        'm' : m_, 'c' : c_, 'rho' : rho_, 'ls' : L_, 'w' : w_, 'A' : A_, 'V1' : V1_, 'V2' : V2_, 'sigmaA' : sigmaA_,\n",
    "        'xsplit' : split_ * incl_, 'cosi' : np.cos(incl_), 'phi' : phi_,\n",
    "        'g0' : widths[0], 'g1' : widths[1], 'g2' : widths[2], 'a0' : amps[0], 'a1' : amps[1], 'a2' : amps[2]}"
   ]
  },
  {
   "cell_type": "code",
   "execution_count": 21,
   "metadata": {
    "scrolled": false
   },
   "outputs": [
    {
     "name": "stderr",
     "output_type": "stream",
     "text": [
      "WARNING:pymc3:Only 5 samples in chain.\n",
      "INFO:pymc3:Auto-assigning NUTS sampler...\n",
      "INFO:pymc3:Initializing NUTS using advi+adapt_diag...\n",
      "Average Loss = 9,940.8:  77%|███████▋  | 154998/200000 [54:16<16:13, 46.25it/s]   \n",
      "INFO:pymc3.variational.inference:Convergence achieved at 155000\n",
      "INFO:pymc3.variational.inference:Interrupted at 154,999 [77%]: Average Loss = 72,405\n"
     ]
    },
    {
     "ename": "TypeError",
     "evalue": "function() got an unexpected keyword argument 'n'",
     "output_type": "error",
     "traceback": [
      "\u001b[0;31m---------------------------------------------------------------------------\u001b[0m",
      "\u001b[0;31mTypeError\u001b[0m                                 Traceback (most recent call last)",
      "\u001b[0;32m<ipython-input-21-d6ff33ad8760>\u001b[0m in \u001b[0;36m<module>\u001b[0;34m\u001b[0m\n\u001b[1;32m      4\u001b[0m                       \u001b[0mtarget_accept\u001b[0m\u001b[0;34m=\u001b[0m\u001b[0;36m.99\u001b[0m\u001b[0;34m,\u001b[0m\u001b[0;34m\u001b[0m\u001b[0;34m\u001b[0m\u001b[0m\n\u001b[1;32m      5\u001b[0m                       \u001b[0mstart\u001b[0m \u001b[0;34m=\u001b[0m \u001b[0mstart\u001b[0m\u001b[0;34m,\u001b[0m\u001b[0;34m\u001b[0m\u001b[0;34m\u001b[0m\u001b[0m\n\u001b[0;32m----> 6\u001b[0;31m                       init = 'advi+adapt_diag')\n\u001b[0m",
      "\u001b[0;32m~/.local/lib/python3.7/site-packages/pymc3/sampling.py\u001b[0m in \u001b[0;36msample\u001b[0;34m(draws, step, init, n_init, start, trace, chain_idx, chains, cores, tune, progressbar, model, random_seed, discard_tuned_samples, compute_convergence_checks, **kwargs)\u001b[0m\n\u001b[1;32m    394\u001b[0m                 start_, step = init_nuts(init=init, chains=chains, n_init=n_init,\n\u001b[1;32m    395\u001b[0m                                          \u001b[0mmodel\u001b[0m\u001b[0;34m=\u001b[0m\u001b[0mmodel\u001b[0m\u001b[0;34m,\u001b[0m \u001b[0mrandom_seed\u001b[0m\u001b[0;34m=\u001b[0m\u001b[0mrandom_seed\u001b[0m\u001b[0;34m,\u001b[0m\u001b[0;34m\u001b[0m\u001b[0;34m\u001b[0m\u001b[0m\n\u001b[0;32m--> 396\u001b[0;31m                                          progressbar=progressbar, **kwargs)\n\u001b[0m\u001b[1;32m    397\u001b[0m                 \u001b[0;32mif\u001b[0m \u001b[0mstart\u001b[0m \u001b[0;32mis\u001b[0m \u001b[0;32mNone\u001b[0m\u001b[0;34m:\u001b[0m\u001b[0;34m\u001b[0m\u001b[0;34m\u001b[0m\u001b[0m\n\u001b[1;32m    398\u001b[0m                     \u001b[0mstart\u001b[0m \u001b[0;34m=\u001b[0m \u001b[0mstart_\u001b[0m\u001b[0;34m\u001b[0m\u001b[0;34m\u001b[0m\u001b[0m\n",
      "\u001b[0;32m~/.local/lib/python3.7/site-packages/pymc3/sampling.py\u001b[0m in \u001b[0;36minit_nuts\u001b[0;34m(init, chains, n_init, model, random_seed, progressbar, **kwargs)\u001b[0m\n\u001b[1;32m   1513\u001b[0m             'Unknown initializer: {}.'.format(init))\n\u001b[1;32m   1514\u001b[0m \u001b[0;34m\u001b[0m\u001b[0m\n\u001b[0;32m-> 1515\u001b[0;31m     \u001b[0mstep\u001b[0m \u001b[0;34m=\u001b[0m \u001b[0mpm\u001b[0m\u001b[0;34m.\u001b[0m\u001b[0mNUTS\u001b[0m\u001b[0;34m(\u001b[0m\u001b[0mpotential\u001b[0m\u001b[0;34m=\u001b[0m\u001b[0mpotential\u001b[0m\u001b[0;34m,\u001b[0m \u001b[0mmodel\u001b[0m\u001b[0;34m=\u001b[0m\u001b[0mmodel\u001b[0m\u001b[0;34m,\u001b[0m \u001b[0;34m**\u001b[0m\u001b[0mkwargs\u001b[0m\u001b[0;34m)\u001b[0m\u001b[0;34m\u001b[0m\u001b[0;34m\u001b[0m\u001b[0m\n\u001b[0m\u001b[1;32m   1516\u001b[0m \u001b[0;34m\u001b[0m\u001b[0m\n\u001b[1;32m   1517\u001b[0m     \u001b[0;32mreturn\u001b[0m \u001b[0mstart\u001b[0m\u001b[0;34m,\u001b[0m \u001b[0mstep\u001b[0m\u001b[0;34m\u001b[0m\u001b[0;34m\u001b[0m\u001b[0m\n",
      "\u001b[0;32m~/.local/lib/python3.7/site-packages/pymc3/step_methods/hmc/nuts.py\u001b[0m in \u001b[0;36m__init__\u001b[0;34m(self, vars, max_treedepth, early_max_treedepth, **kwargs)\u001b[0m\n\u001b[1;32m    150\u001b[0m         \u001b[0;31m`\u001b[0m\u001b[0mpm\u001b[0m\u001b[0;34m.\u001b[0m\u001b[0msample\u001b[0m\u001b[0;31m`\u001b[0m \u001b[0mto\u001b[0m \u001b[0mthe\u001b[0m \u001b[0mdesired\u001b[0m \u001b[0mnumber\u001b[0m \u001b[0mof\u001b[0m \u001b[0mtuning\u001b[0m \u001b[0msteps\u001b[0m\u001b[0;34m.\u001b[0m\u001b[0;34m\u001b[0m\u001b[0;34m\u001b[0m\u001b[0m\n\u001b[1;32m    151\u001b[0m         \"\"\"\n\u001b[0;32m--> 152\u001b[0;31m         \u001b[0msuper\u001b[0m\u001b[0;34m(\u001b[0m\u001b[0;34m)\u001b[0m\u001b[0;34m.\u001b[0m\u001b[0m__init__\u001b[0m\u001b[0;34m(\u001b[0m\u001b[0mvars\u001b[0m\u001b[0;34m,\u001b[0m \u001b[0;34m**\u001b[0m\u001b[0mkwargs\u001b[0m\u001b[0;34m)\u001b[0m\u001b[0;34m\u001b[0m\u001b[0;34m\u001b[0m\u001b[0m\n\u001b[0m\u001b[1;32m    153\u001b[0m \u001b[0;34m\u001b[0m\u001b[0m\n\u001b[1;32m    154\u001b[0m         \u001b[0mself\u001b[0m\u001b[0;34m.\u001b[0m\u001b[0mmax_treedepth\u001b[0m \u001b[0;34m=\u001b[0m \u001b[0mmax_treedepth\u001b[0m\u001b[0;34m\u001b[0m\u001b[0;34m\u001b[0m\u001b[0m\n",
      "\u001b[0;32m~/.local/lib/python3.7/site-packages/pymc3/step_methods/hmc/base_hmc.py\u001b[0m in \u001b[0;36m__init__\u001b[0;34m(self, vars, scaling, step_scale, is_cov, model, blocked, potential, dtype, Emax, target_accept, gamma, k, t0, adapt_step_size, step_rand, **theano_kwargs)\u001b[0m\n\u001b[1;32m     70\u001b[0m         \u001b[0mvars\u001b[0m \u001b[0;34m=\u001b[0m \u001b[0minputvars\u001b[0m\u001b[0;34m(\u001b[0m\u001b[0mvars\u001b[0m\u001b[0;34m)\u001b[0m\u001b[0;34m\u001b[0m\u001b[0;34m\u001b[0m\u001b[0m\n\u001b[1;32m     71\u001b[0m \u001b[0;34m\u001b[0m\u001b[0m\n\u001b[0;32m---> 72\u001b[0;31m         \u001b[0msuper\u001b[0m\u001b[0;34m(\u001b[0m\u001b[0;34m)\u001b[0m\u001b[0;34m.\u001b[0m\u001b[0m__init__\u001b[0m\u001b[0;34m(\u001b[0m\u001b[0mvars\u001b[0m\u001b[0;34m,\u001b[0m \u001b[0mblocked\u001b[0m\u001b[0;34m=\u001b[0m\u001b[0mblocked\u001b[0m\u001b[0;34m,\u001b[0m \u001b[0mmodel\u001b[0m\u001b[0;34m=\u001b[0m\u001b[0mmodel\u001b[0m\u001b[0;34m,\u001b[0m \u001b[0mdtype\u001b[0m\u001b[0;34m=\u001b[0m\u001b[0mdtype\u001b[0m\u001b[0;34m,\u001b[0m \u001b[0;34m**\u001b[0m\u001b[0mtheano_kwargs\u001b[0m\u001b[0;34m)\u001b[0m\u001b[0;34m\u001b[0m\u001b[0;34m\u001b[0m\u001b[0m\n\u001b[0m\u001b[1;32m     73\u001b[0m \u001b[0;34m\u001b[0m\u001b[0m\n\u001b[1;32m     74\u001b[0m         \u001b[0mself\u001b[0m\u001b[0;34m.\u001b[0m\u001b[0madapt_step_size\u001b[0m \u001b[0;34m=\u001b[0m \u001b[0madapt_step_size\u001b[0m\u001b[0;34m\u001b[0m\u001b[0;34m\u001b[0m\u001b[0m\n",
      "\u001b[0;32m~/.local/lib/python3.7/site-packages/pymc3/step_methods/arraystep.py\u001b[0m in \u001b[0;36m__init__\u001b[0;34m(self, vars, model, blocked, dtype, **theano_kwargs)\u001b[0m\n\u001b[1;32m    226\u001b[0m \u001b[0;34m\u001b[0m\u001b[0m\n\u001b[1;32m    227\u001b[0m         func = model.logp_dlogp_function(\n\u001b[0;32m--> 228\u001b[0;31m             vars, dtype=dtype, **theano_kwargs)\n\u001b[0m\u001b[1;32m    229\u001b[0m \u001b[0;34m\u001b[0m\u001b[0m\n\u001b[1;32m    230\u001b[0m         \u001b[0;31m# handle edge case discovered in #2948\u001b[0m\u001b[0;34m\u001b[0m\u001b[0;34m\u001b[0m\u001b[0;34m\u001b[0m\u001b[0m\n",
      "\u001b[0;32m~/.local/lib/python3.7/site-packages/pymc3/model.py\u001b[0m in \u001b[0;36mlogp_dlogp_function\u001b[0;34m(self, grad_vars, **kwargs)\u001b[0m\n\u001b[1;32m    721\u001b[0m         \u001b[0mvarnames\u001b[0m \u001b[0;34m=\u001b[0m \u001b[0;34m[\u001b[0m\u001b[0mvar\u001b[0m\u001b[0;34m.\u001b[0m\u001b[0mname\u001b[0m \u001b[0;32mfor\u001b[0m \u001b[0mvar\u001b[0m \u001b[0;32min\u001b[0m \u001b[0mgrad_vars\u001b[0m\u001b[0;34m]\u001b[0m\u001b[0;34m\u001b[0m\u001b[0;34m\u001b[0m\u001b[0m\n\u001b[1;32m    722\u001b[0m         \u001b[0mextra_vars\u001b[0m \u001b[0;34m=\u001b[0m \u001b[0;34m[\u001b[0m\u001b[0mvar\u001b[0m \u001b[0;32mfor\u001b[0m \u001b[0mvar\u001b[0m \u001b[0;32min\u001b[0m \u001b[0mself\u001b[0m\u001b[0;34m.\u001b[0m\u001b[0mfree_RVs\u001b[0m \u001b[0;32mif\u001b[0m \u001b[0mvar\u001b[0m\u001b[0;34m.\u001b[0m\u001b[0mname\u001b[0m \u001b[0;32mnot\u001b[0m \u001b[0;32min\u001b[0m \u001b[0mvarnames\u001b[0m\u001b[0;34m]\u001b[0m\u001b[0;34m\u001b[0m\u001b[0;34m\u001b[0m\u001b[0m\n\u001b[0;32m--> 723\u001b[0;31m         \u001b[0;32mreturn\u001b[0m \u001b[0mValueGradFunction\u001b[0m\u001b[0;34m(\u001b[0m\u001b[0mself\u001b[0m\u001b[0;34m.\u001b[0m\u001b[0mlogpt\u001b[0m\u001b[0;34m,\u001b[0m \u001b[0mgrad_vars\u001b[0m\u001b[0;34m,\u001b[0m \u001b[0mextra_vars\u001b[0m\u001b[0;34m,\u001b[0m \u001b[0;34m**\u001b[0m\u001b[0mkwargs\u001b[0m\u001b[0;34m)\u001b[0m\u001b[0;34m\u001b[0m\u001b[0;34m\u001b[0m\u001b[0m\n\u001b[0m\u001b[1;32m    724\u001b[0m \u001b[0;34m\u001b[0m\u001b[0m\n\u001b[1;32m    725\u001b[0m     \u001b[0;34m@\u001b[0m\u001b[0mproperty\u001b[0m\u001b[0;34m\u001b[0m\u001b[0;34m\u001b[0m\u001b[0m\n",
      "\u001b[0;32m~/.local/lib/python3.7/site-packages/pymc3/model.py\u001b[0m in \u001b[0;36m__init__\u001b[0;34m(self, cost, grad_vars, extra_vars, dtype, casting, **kwargs)\u001b[0m\n\u001b[1;32m    460\u001b[0m \u001b[0;34m\u001b[0m\u001b[0m\n\u001b[1;32m    461\u001b[0m         self._theano_function = theano.function(\n\u001b[0;32m--> 462\u001b[0;31m             inputs, [self._cost_joined, grad], givens=givens, **kwargs)\n\u001b[0m\u001b[1;32m    463\u001b[0m \u001b[0;34m\u001b[0m\u001b[0m\n\u001b[1;32m    464\u001b[0m     \u001b[0;32mdef\u001b[0m \u001b[0mset_extra_values\u001b[0m\u001b[0;34m(\u001b[0m\u001b[0mself\u001b[0m\u001b[0;34m,\u001b[0m \u001b[0mextra_vars\u001b[0m\u001b[0;34m)\u001b[0m\u001b[0;34m:\u001b[0m\u001b[0;34m\u001b[0m\u001b[0;34m\u001b[0m\u001b[0m\n",
      "\u001b[0;31mTypeError\u001b[0m: function() got an unexpected keyword argument 'n'"
     ]
    }
   ],
   "source": [
    "with pm_model:\n",
    "    trace = pm.sample(tune=5, draws=5,\n",
    "                      chains=4,\n",
    "                      target_accept=.99,\n",
    "                      start = start,\n",
    "                      init = 'advi+adapt_diag')"
   ]
  },
  {
   "cell_type": "code",
   "execution_count": null,
   "metadata": {},
   "outputs": [],
   "source": [
    "df = pm.backends.tracetab.trace_to_dataframe(trace)\n",
    "df.to_csv('testchains.csv')"
   ]
  },
  {
   "cell_type": "code",
   "execution_count": null,
   "metadata": {},
   "outputs": [],
   "source": [
    "pm.summary(trace)"
   ]
  },
  {
   "cell_type": "code",
   "execution_count": null,
   "metadata": {
    "scrolled": false
   },
   "outputs": [],
   "source": [
    "labels = ['numax','alpha','epsilon','d01','d02',\n",
    "          'split','i']\n",
    "chain = np.array([trace[label] for label in labels])\n",
    "truths = [numax_, alpha_, epsilon_, d01_, d02_,\n",
    "         split_, incl_]\n",
    "corner.corner(chain.T, labels=labels, truths=truths, quantiles=[.16, .5, .84], truth_color='r',show_titles=True)\n",
    "if cpu == 'bear':\n",
    "    plt.savefig('corner1.png')\n",
    "else: plt.show()"
   ]
  },
  {
   "cell_type": "code",
   "execution_count": null,
   "metadata": {},
   "outputs": [],
   "source": [
    "labels = ['sigma0','sigma1','sigma2','w','A','V1','V2','sigmaA']\n",
    "chain = np.array([trace[label] for label in labels])\n",
    "truths = [sigma0_, sigma1_, sigma2_,w_, A_, V1_, V2_, 0.2]\n",
    "corner.corner(chain.T, labels=labels, truths=truths, quantiles=[.16, .5, .84], truth_color='r',show_titles=True)\n",
    "if cpu == 'bear':\n",
    "    plt.savefig('corner2.png')\n",
    "else: plt.show()"
   ]
  },
  {
   "cell_type": "code",
   "execution_count": null,
   "metadata": {},
   "outputs": [],
   "source": [
    "with plt.style.context(lk.MPLSTYLE):\n",
    "    res_m = [np.median(trace[label], axis=0) for label in ['f0','f1','f2','g0','g1','g2',\n",
    "                                                         'h0','h1','h2','split','i','b']]\n",
    "    plt.plot(f, p)\n",
    "    plt.plot(f, mod.model(res_m, theano=False), lw=3)\n",
    "    if cpu == 'bear':\n",
    "        plt.savefig('modelfit.png')\n",
    "    else: plt.show()\n",
    "    \n",
    "    fig, ax = plt.subplots()\n",
    "    res = [np.median(trace[label]) for label in ['numax', 'w', 'A', 'V1','V2']]\n",
    "    resls = [np.median(trace[label],axis=0) for label in ['a0','a1','a2']]\n",
    "       \n",
    "    ax.plot(f0_, mod.A0(f0_, res,theano=False), label='0 Trend',lw=2, zorder=1)\n",
    "    ax.plot(f1_, mod.A1(f1_, res,theano=False), label='1 Trend',lw=2, zorder=1)\n",
    "    ax.plot(f2_, mod.A2(f2_, res,theano=False), label='2 Trend',lw=2, zorder=1)\n",
    "\n",
    "    ax.scatter(f0_, amps[0], marker='^',label='0 Errd',  s=50, zorder=2)\n",
    "    ax.scatter(f1_, amps[1], marker='*',label='1 Errd',  s=50, zorder=2)\n",
    "    ax.scatter(f2_, amps[2], marker='o',label='2 Errd',  s=50, zorder=2)   \n",
    "  \n",
    "    ax.plot(f0_, mod.A0(f0_, init_h, theano=False), label='0 Pure',lw=2, zorder=1)\n",
    "    ax.plot(f1_, mod.A1(f1_, init_h, theano=False), label='1 Pure',lw=2, zorder=1)\n",
    "    ax.plot(f2_, mod.A2(f2_, init_h, theano=False), label='2 Pure',lw=2, zorder=1)\n",
    "\n",
    "    ax.scatter(f0_, resls[0], marker='^',label='0 mod', s=10, zorder=3)\n",
    "    ax.scatter(f1_, resls[1], marker='*',label='1 mod', s=10, zorder=3)\n",
    "    ax.scatter(f2_, resls[2], marker='o',label='2 mod', s=10, zorder=3)    \n",
    "    \n",
    "    ax.legend(loc='upper center', ncol=4, bbox_to_anchor=(0.5, 1.3))      \n",
    "    ax.set_xlabel('Frequency')\n",
    "    ax.set_ylabel('Amplitude')\n",
    "    \n",
    "    if cpu == 'bear':\n",
    "        plt.savefig('amplitudefit.png')\n",
    "    else: plt.show()\n",
    "    \n",
    "    fig, ax = plt.subplots()\n",
    "    res = [np.median(trace[label]) for label in ['numax', 'alpha', 'epsilon','d01','d02']]\n",
    "    resls = [np.median(trace[label],axis=0) for label in ['f0','f1','f2']]\n",
    "    stdls = [np.std(trace[label],axis=0) for label in ['f0','f1','f2']]\n",
    "       \n",
    "    ax.plot(mod.f0(res)%deltanu_, n0_, label='0 Trend',lw=2, zorder=1)\n",
    "    ax.plot(mod.f1(res)%deltanu_, n1_, label='1 Trend',lw=2, zorder=1)\n",
    "    ax.plot(mod.f2(res)%deltanu_, n2_, label='2 Trend',lw=2, zorder=1)\n",
    "\n",
    "    ax.scatter(f0_%deltanu_, n0_, marker='^',label='0 Truth (glitch)',  s=50, zorder=2)\n",
    "    ax.scatter(f1_%deltanu_, n1_, marker='*',label='1 Truth (glitch)',  s=50, zorder=2)\n",
    "    ax.scatter(f2_%deltanu_, n2_, marker='o',label='2 Truth (glitch)',  s=50, zorder=2)   \n",
    "    \n",
    "    ax.plot(f0_true%deltanu_, n0_, alpha=.5, label='0 Truth (pure)',  lw=2, zorder=1)\n",
    "    ax.plot(f1_true%deltanu_, n1_, alpha=.5, label='1 Truth (pure)',  lw=2, zorder=1)\n",
    "    ax.plot(f2_true%deltanu_, n2_, alpha=.5, label='2 Truth (pure)',  lw=2, zorder=1)      \n",
    "    \n",
    "    ax.scatter(resls[0]%deltanu_, n0_, marker='^',label='0 mod', s=10, zorder=3)\n",
    "    ax.scatter(resls[1]%deltanu_, n1_, marker='*',label='1 mod', s=10, zorder=3)\n",
    "    ax.scatter(resls[2]%deltanu_, n2_, marker='o',label='2 mod', s=10, zorder=3)    \n",
    "    \n",
    "    ax.set_xlabel(r'Frequency mod $\\Delta\\nu$')\n",
    "    ax.set_ylabel('Overtone order n')\n",
    "    ax.legend(loc='upper center', ncol=4, bbox_to_anchor=(0.5, 1.3))    \n",
    "    \n",
    "    if cpu == 'bear':\n",
    "        plt.savefig('frequencyfit.png')\n",
    "    else: plt.show()    "
   ]
  },
  {
   "cell_type": "code",
   "execution_count": null,
   "metadata": {},
   "outputs": [],
   "source": [
    "nflin = np.linspace(nf.min(), nf.max(), 100)\n",
    "fslin = np.linspace(fs.min(), fs.max(), 100)+f2_.min()\n",
    "mulin = nflin * np.median(trace['m']) + np.median(trace['c'])\n",
    "\n",
    "with pm_model:\n",
    "    f_pred = gp.conditional(\"f_pred\", nflin[:,None])\n",
    "    expf_pred = pm.Deterministic('expf_pred', tt.exp(f_pred))\n",
    "    pred_samples = pm.sample_posterior_predictive(trace, vars=[expf_pred], samples=1000)\n"
   ]
  },
  {
   "cell_type": "code",
   "execution_count": null,
   "metadata": {},
   "outputs": [],
   "source": [
    "with plt.style.context(lk.MPLSTYLE):\n",
    "    fig, ax = plt.subplots()\n",
    "    plot_gp_dist(ax, pred_samples['expf_pred'], fslin, palette='viridis', fill_alpha=.05)\n",
    "\n",
    "    ax.plot(fslin, np.exp(mulin), label='Mean Trend', lw=2, ls='-.', alpha=.5, zorder=0)\n",
    "\n",
    "    ax.scatter(f0_, widths[0], label='truth', ec='k',s=50,zorder=5)\n",
    "    ax.scatter(f1_, widths[1], label='truth 1', ec='k',s=50,zorder=5)\n",
    "    ax.scatter(f2_, widths[2], label='truth 2', ec='k',s=50,zorder=5) \n",
    "    \n",
    "    ax.scatter(f0_, np.median(trace['g0'],axis=0), marker='^', label='mod', s=10,zorder=5)\n",
    "    ax.scatter(f1_, np.median(trace['g1'],axis=0), marker='*', label='mod 1', s=10,zorder=5)\n",
    "    ax.scatter(f2_, np.median(trace['g2'],axis=0), marker='o', label='mod 2', s=10,zorder=5)        \n",
    "    \n",
    "    ax.errorbar(f0_, np.median(trace['g0'],axis=0), yerr=np.std(trace['g0'],axis=0), fmt='|', c='k', lw=3, alpha=.5)\n",
    "    ax.errorbar(f1_, np.median(trace['g1'],axis=0), yerr=np.std(trace['g1'],axis=0), fmt='|', c='k', lw=3, alpha=.5)\n",
    "    ax.errorbar(f2_, np.median(trace['g2'],axis=0), yerr=np.std(trace['g2'],axis=0), fmt='|', c='k', lw=3, alpha=.5)          \n",
    "     \n",
    "    ax.legend(loc='upper center', ncol=2, bbox_to_anchor=(0.5, 1.3))    \n",
    "    if cpu == 'bear':\n",
    "        plt.savefig('widthfit.png')\n",
    "    else: plt.show()        "
   ]
  },
  {
   "cell_type": "code",
   "execution_count": null,
   "metadata": {},
   "outputs": [],
   "source": [
    "labels=['loga','logb','logc','logd','logj','logk',\n",
    "        'white','scale','nyq']\n",
    "verbose=[r'$\\log_{10}a$',r'$\\log_{10}b$',\n",
    "        r'$\\log_{10}c$',r'$\\log_{10}d$',\n",
    "        r'$\\log_{10}j$',r'$\\log_{10}k$',\n",
    "        'white','scale',r'$\\nu_{\\rm nyq}$']\n",
    "\n",
    "phichain = np.array([trace['phi'][:,idx] for idx in range(len(phi_))]).T\n",
    "truth = phi_\n",
    "\n",
    "corner.corner(phichain, truths=truth, show_titles=True, labels=verbose)\n",
    "if cpu == 'bear':\n",
    "    plt.savefig('backcorner.png')\n",
    "else: plt.show() "
   ]
  },
  {
   "cell_type": "code",
   "execution_count": null,
   "metadata": {},
   "outputs": [],
   "source": [
    "residual = p/mod.model(res_m, theano=False)\n",
    "sns.distplot(residual, label='Model')\n",
    "sns.distplot(np.random.chisquare(2, size=10000)/2, label=r'Chi22')\n",
    "plt.legend()"
   ]
  },
  {
   "cell_type": "code",
   "execution_count": null,
   "metadata": {},
   "outputs": [],
   "source": [
    "sys.exit()"
   ]
  }
 ],
 "metadata": {
  "kernelspec": {
   "display_name": "Python 3",
   "language": "python",
   "name": "python3"
  },
  "language_info": {
   "codemirror_mode": {
    "name": "ipython",
    "version": 3
   },
   "file_extension": ".py",
   "mimetype": "text/x-python",
   "name": "python",
   "nbconvert_exporter": "python",
   "pygments_lexer": "ipython3",
   "version": "3.7.3"
  }
 },
 "nbformat": 4,
 "nbformat_minor": 2
}
