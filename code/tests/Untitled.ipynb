{
 "cells": [
  {
   "cell_type": "markdown",
   "metadata": {},
   "source": [
    "We know empirically that the amplitudes of the seismic mode envelope roughly takes the shape of a Gaussian function. I say 'roughly', because departures from this are possible (much how glitches can cause departers from the curved asymptotic relation for mode frequencies previously). We will use the same method to account for noise in the mode amplitudes.\n",
    "\n",
    "If we define a Gaussian function, centered at $\\nu_{\\rm max}$ with a width $w$ and an amplitude $A$ as\n",
    "\n",
    "$\\mathcal{G}(n, \\nu_{\\rm max}, w, A)$,\n",
    "\n",
    "we can say that the amplitudes of our radial modes follow the following distribution:\n",
    "\n",
    "$A_{n, l=0} = \\mathcal{G}(n, \\nu_{\\rm max}, w, A) + \\mathcal{N}(0, \\sigma_{A})$,\n",
    "\n",
    "where $\\sigma_A$ is the noise on the amplitudes.\n",
    "\n",
    "In general, we can describe the $A_{n, l=1,2}$ amplitude heights as a function of the radial mode amplitude height. We're going to assume that all modes amplitudes are subject to the same noise level $\\sigma_{A}$, but are some fraction $V_{1, 2}$ of the radial mode amplitude. Using the nomenclature from Lund et al. (2017). Ignoring the splitting of modes due to rotation, we can describe the height of a mode as:\n",
    "\n",
    "$H_{nl} = V_{l}^2 \\mathcal{S}_{n,0} = V_{l}^2 \\frac{2A_{nl}^2}{\\pi\\Gamma_{nl}} = \\frac{2}{\\pi\\Gamma_{nl}} \\times (V_{l} A_{nl})^2$ ,\n",
    "\n",
    "where $\\Gamma$ is the linewidth. We already perform the transformation from amplitude to height in our model as it stands. So instead of using $V_{l}^2$ to modulate $\\mathcal{S}$, we'll use $V_{l}$ to directly modulate $A_{nl}$.\n",
    "\n",
    "$A_{n, l=1} = V_{1} \\mathcal{G}(n, \\nu_{\\rm max}, w, A) + \\mathcal{N}(0, \\sigma_{A})$,\n",
    "\n",
    "$A_{n, l=2} = V_{2} \\mathcal{G}(n, \\nu_{\\rm max}, w, A) + \\mathcal{N}(0, \\sigma_{A})$,\n",
    "\n",
    "We'll set up some sensible priors for this. Something like:\n",
    "\n",
    "$\\nu_{\\rm max} \\sim \\mathcal{N}(\\nu_{\\rm max, \\rm prior}, 100.)$\n",
    "\n",
    "$w \\sim \\mathcal{N}(0.1\\times\\nu_{\\rm max, prior}, 10.)$\n",
    "\n",
    "$A \\sim \\mathcal{N}(0.8\\times p_{\\rm max}, 10)$\n",
    "\n",
    "$V_1 \\sim \\mathcal{N}(1.2, .5)$\n",
    "\n",
    "$V_2 \\sim \\mathcal{N}(0.7, .5)$\n",
    "\n",
    "$\\sigma_{A} \\sim \\gamma(\\alpha=1., beta=0.5)$\n",
    "\n",
    "where we've taken the mean values for $V_{1, 2}$ from what we roughly expect them to be for the *Kepler* mission from the LEGACY data, and $p_{\\rm max}$ is the maximum power value in the data we're fitting to. If we're having trouble with these values we can do a proper fit for them from the literature amplitudes, but I expect we'll be okay.\n",
    "\n",
    "Note: The $\\nu_{\\rm max}$ here doubles as an entry in the asympotic mode frequency model.\n"
   ]
  },
  {
   "cell_type": "code",
   "execution_count": null,
   "metadata": {},
   "outputs": [],
   "source": [
    "mod = model(f, n0, n1, n2, f0_, f1_, f2_)\n",
    "\n",
    "init_f =[numax_,                       # numax\n",
    "       dnu_,                         # deltanu\n",
    "       alpha_,                      # curvature term\n",
    "       epsilon_,                    # phase term\n",
    "       d01_ ,                       # small separation l=0,1\n",
    "       d02_                        # small separation l=0,2\n",
    "        ]\n",
    "\n",
    "init_h =[numax_,   #numax\n",
    "         w_,       #envelope width\n",
    "         A_,       #envelope amplitude\n",
    "         V1_,      #dipole visibility\n",
    "         V2_       #ocotopole visibility\n",
    "        ]\n",
    "\n",
    "init_m =[f0_,                       # l0 modes\n",
    "       f1_,                         # l1 modes\n",
    "       f2_,                         # l2 modes\n",
    "       np.ones(len(f0_)) * 2.0,     # l0 widths\n",
    "       np.ones(len(f1_)) * 2.0,     # l1 widths\n",
    "       np.ones(len(f2_)) * 2.0,     # l2 widths\n",
    "       mod.A0([f0_, *init_h])**2 * 2.0 / np.pi / 2.0 ,# l0 heights\n",
    "       mod.A1([f1_, *init_h])**2 * 2.0 / np.pi / 2.0 ,# l1 heights\n",
    "       mod.A2([f2_, *init_h])**2 * 2.0 / np.pi / 2.0 ,# l2 heights\n",
    "       1.0,       # splitting\n",
    "       np.pi/2.,                    # inclination angle\n",
    "       1.                           # background parameters\n",
    "        ]   "
   ]
  }
 ],
 "metadata": {
  "kernelspec": {
   "display_name": "Python 3",
   "language": "python",
   "name": "python3"
  },
  "language_info": {
   "codemirror_mode": {
    "name": "ipython",
    "version": 3
   },
   "file_extension": ".py",
   "mimetype": "text/x-python",
   "name": "python",
   "nbconvert_exporter": "python",
   "pygments_lexer": "ipython3",
   "version": "3.7.3"
  }
 },
 "nbformat": 4,
 "nbformat_minor": 2
}
