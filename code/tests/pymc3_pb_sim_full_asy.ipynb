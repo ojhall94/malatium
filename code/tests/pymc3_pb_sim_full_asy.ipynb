{
 "cells": [
  {
   "cell_type": "markdown",
   "metadata": {},
   "source": [
    "# We're going to try fitting a full asymptotic relation to some simulated data\n",
    "\n",
    "We'll do Gaussian noise cos it makes my life easier"
   ]
  },
  {
   "cell_type": "code",
   "execution_count": 1,
   "metadata": {},
   "outputs": [
    {
     "name": "stderr",
     "output_type": "stream",
     "text": [
      "WARNING (theano.tensor.blas): Using NumPy C-API based implementation for BLAS functions.\n"
     ]
    }
   ],
   "source": [
    "import numpy as np\n",
    "import matplotlib.pyplot as plt\n",
    "import theano.tensor as tt\n",
    "\n",
    "import lightkurve as lk\n",
    "from astropy.units import cds\n",
    "from astropy import units as u\n",
    "import seaborn as sns\n",
    "import mystyle as ms\n",
    "\n",
    "import corner\n",
    "import pystan\n",
    "import pandas as pd\n",
    "import pickle\n",
    "import glob\n",
    "from astropy.io import ascii\n",
    "import os\n",
    "\n",
    "from utils import *\n",
    "\n",
    "import pymc3 as pm\n",
    "import arviz"
   ]
  },
  {
   "cell_type": "markdown",
   "metadata": {},
   "source": [
    "## Build the model"
   ]
  },
  {
   "cell_type": "code",
   "execution_count": 19,
   "metadata": {},
   "outputs": [],
   "source": [
    "class model():\n",
    "    def __init__(self, f, n0_, n1_, n2_):\n",
    "        self.f = f\n",
    "        self.n0 = n0_\n",
    "        self.n1 = n1_\n",
    "        self.n2 = n2_\n",
    "        self.npts = len(f)\n",
    "        self.M = [len(n0_), len(n1_), len(n2_)]\n",
    "        \n",
    "    def epsilon(self, i, l, m):\n",
    "    #We use the prescriptions from Gizon & Solanki 2003 and Handberg & Campante 2012\n",
    "        if l == 0:\n",
    "            return 1\n",
    "        if l == 1:\n",
    "            if m == 0:\n",
    "                return np.cos(i)**2\n",
    "            if np.abs(m) == 1:\n",
    "                return 0.5 * np.sin(i)**2\n",
    "        if l == 2:\n",
    "            if m == 0:\n",
    "                return 0.25 * (3 * np.cos(i)**2 - 1)**2\n",
    "            if np.abs(m) ==1:\n",
    "                return (3/8)*np.sin(2*i)**2\n",
    "            if np.abs(m) == 2:\n",
    "                return (3/8) * np.sin(i)**4\n",
    "        if l == 3:\n",
    "            if m == 0:\n",
    "                return (1/64)*(5*np.cos(3*i) + 3*np.cos(i))**2\n",
    "            if np.abs(m) == 1:\n",
    "                return (3/64)*(5*np.cos(2*i) + 3)**2 * np.sin(i)**2\n",
    "            if np.abs(m) == 2:\n",
    "                return (15/8) * np.cos(i)**2 * np.sin(i)**4\n",
    "            if np.abs(m) == 3:\n",
    "                return (5/16)*np.sin(i)**6\n",
    "\n",
    "    def epsilon(self, i, mm=tt):\n",
    "       \n",
    "        eps = np.zeros([3,3])\n",
    "        \n",
    "        eps[0,0] = 1.\n",
    "        eps[1,0] = mm.cos(i)**2\n",
    "        eps[1,1] = 0.5 * mm.sin(i)**2\n",
    "        eps[2,0] = 0.25 * (3. * mm.cos(i)**2 - 1.)**2\n",
    "        eps[2,1] = (3./8.)*mm.sin(2*i)**2\n",
    "        eps[2,2] = (3./8.) * mm.sin(i)**4\n",
    "    \n",
    "        return eps\n",
    "\n",
    "\n",
    "    def lor(self, freq, h, w):\n",
    "        return h / (1.0 + 4.0/w**2*(self.f - freq)**2)\n",
    "    \n",
    "    def mode(self, l, freqs, hs, ws, i, split=0, mm=tt):\n",
    "        eps = self.epsilon(i, mm)\n",
    "        for idx in range(self.M[l]):\n",
    "            for m in range(-l, l+1, 1):\n",
    "                self.modes += self.lor(freqs[idx] + (m*split), \n",
    "                                     hs[idx] * eps[l,abs(m)], \n",
    "                                     ws[idx])\n",
    "  \n",
    "    def model(self, p, mm=tt):\n",
    "        f0, f1, f2, g0, g1, g2, h0, h1, h2, split, i, b = p\n",
    "               \n",
    "        # Calculate the modes\n",
    "        self.modes = np.zeros(self.npts)\n",
    "        self.mode(0, f0, h0, g0, i, mm=mm)\n",
    "        self.mode(1, f1, h1, g1, i, split, mm=mm)\n",
    "        self.mode(2, f2, h2, g2, i, split, mm=mm)\n",
    "               \n",
    "        #Create the model\n",
    "        self.mod = self.modes + b\n",
    "        return self.mod\n",
    "\n",
    "    def asymptotic(self, n, numax, deltanu, alpha, epsilon):       \n",
    "        nmax = (numax / deltanu) - epsilon\n",
    "        over = (n + epsilon + ((alpha/2)*(nmax - n)**2))\n",
    "        return over * deltanu\n",
    "    \n",
    "    def f0(self, p):\n",
    "        numax, deltanu, alpha, epsilon, d01, d02 = p\n",
    "        \n",
    "        return self.asymptotic(self.n0, numax, deltanu, alpha, epsilon)\n",
    "    \n",
    "    def f1(self, p):\n",
    "        numax, deltanu, alpha, epsilon, d01, d02 = p\n",
    "        \n",
    "        f0 = self.asymptotic(self.n1, numax, deltanu, alpha, epsilon)\n",
    "        return f0 + d01\n",
    "    \n",
    "    def f2(self, p):\n",
    "        numax, deltanu, alpha, epsilon, d01, d02 = p\n",
    "        \n",
    "        f0 = self.asymptotic(self.n2+1, numax, deltanu, alpha, epsilon)\n",
    "        return f0 - d02"
   ]
  },
  {
   "cell_type": "code",
   "execution_count": 20,
   "metadata": {},
   "outputs": [],
   "source": [
    "nmodes = 1\n",
    "nbase = 13\n",
    "n0_ = np.arange(nmodes)+nbase\n",
    "n1_ = np.copy(n0_)\n",
    "n2_ = np.copy(n0_) - 1.\n",
    "fs = .1\n",
    "nyq = (0.5 * (1./58.6) * u.hertz).to(u.microhertz).value\n",
    "ff = np.arange(fs, nyq, fs)"
   ]
  },
  {
   "cell_type": "code",
   "execution_count": 21,
   "metadata": {},
   "outputs": [],
   "source": [
    "deltanu_  =  60.\n",
    "numax_= 1150.\n",
    "alpha_ = 0.\n",
    "epsilon_ = 1.\n",
    "d01_ = deltanu_/2.\n",
    "d02_ = 6."
   ]
  },
  {
   "cell_type": "code",
   "execution_count": 22,
   "metadata": {},
   "outputs": [],
   "source": [
    "mod = model(ff, n0_, n1_, n2_)"
   ]
  },
  {
   "cell_type": "code",
   "execution_count": 23,
   "metadata": {},
   "outputs": [],
   "source": [
    "init_f = [numax_, deltanu_, alpha_, epsilon_, d01_, d02_]\n",
    "f0_ = mod.f0(init_f)\n",
    "f1_ = mod.f1(init_f)\n",
    "f2_ = mod.f2(init_f)"
   ]
  },
  {
   "cell_type": "code",
   "execution_count": 24,
   "metadata": {},
   "outputs": [],
   "source": [
    "lo = f2_.min() - .25*deltanu_\n",
    "hi = f1_.max() + .25*deltanu_\n",
    "\n",
    "sel = (ff > lo) & (ff < hi)\n",
    "f = ff[sel]"
   ]
  },
  {
   "cell_type": "markdown",
   "metadata": {},
   "source": [
    "And now lets reset the model for the new frequency range..."
   ]
  },
  {
   "cell_type": "code",
   "execution_count": 25,
   "metadata": {},
   "outputs": [],
   "source": [
    "mod = model(f, n0_, n1_, n2_)"
   ]
  },
  {
   "cell_type": "code",
   "execution_count": 26,
   "metadata": {},
   "outputs": [],
   "source": [
    "init_m =[f0_,                         # l0 modes\n",
    "           f1_,                         # l1 modes\n",
    "           f2_,                         # l2 modes\n",
    "           np.ones(len(f0_)) * 2.0,     # l0 widths\n",
    "           np.ones(len(f1_)) * 2.0,     # l1 widths\n",
    "           np.ones(len(f2_)) * 2.0,     # l2 widths\n",
    "           np.sqrt(gaussian(f0_, 0, numax_, 15.) * 2.0 * np.pi / 2.0) ,# l0 heights\n",
    "           np.sqrt(gaussian(f1_, 1, numax_, 15.) * 2.0 * np.pi / 2.0) ,# l1 heights\n",
    "           np.sqrt(gaussian(f2_, 2, numax_, 15.) * 2.0 * np.pi / 2.0) ,# l2 heights\n",
    "           1,       # splitting\n",
    "           np.pi/2.,                    # inclination angle\n",
    "           1.                           # background parameters\n",
    "        ]\n",
    "p = mod.model(init_m, mm=np, nump=True)#+np.random.normal(0., 0.1, size=len(f))"
   ]
  },
  {
   "cell_type": "code",
   "execution_count": 27,
   "metadata": {},
   "outputs": [
    {
     "data": {
      "image/png": "[encoded data removed]",
      "text/plain": [
       "<Figure size 848.5x400 with 1 Axes>"
      ]
     },
     "metadata": {},
     "output_type": "display_data"
    },
    {
     "data": {
      "image/png": "[encoded data removed]",
      "text/plain": [
       "<Figure size 848.5x400 with 1 Axes>"
      ]
     },
     "metadata": {},
     "output_type": "display_data"
    }
   ],
   "source": [
    "with plt.style.context(ms.ms):\n",
    "    plt.plot(f, p)\n",
    "    plt.show()\n",
    "    \n",
    "    fig, ax = plt.subplots()\n",
    "    ax.scatter(f0_%deltanu_, n0_, marker='^',label='0', s=20)\n",
    "    ax.scatter(f1_%deltanu_, n1_, marker='>',label='1', s=20)\n",
    "    ax.scatter(f2_%deltanu_, n2_, marker='o',label='2', s=20)\n",
    "\n",
    "    ax.legend()\n",
    "    plt.show()    "
   ]
  },
  {
   "cell_type": "markdown",
   "metadata": {},
   "source": [
    "# Now lets try and fit this"
   ]
  },
  {
   "cell_type": "code",
   "execution_count": 28,
   "metadata": {
    "scrolled": false
   },
   "outputs": [
    {
     "ename": "TypeError",
     "evalue": "'TensorConstant' object does not support item assignment",
     "output_type": "error",
     "traceback": [
      "\u001b[0;31m---------------------------------------------------------------------------\u001b[0m",
      "\u001b[0;31mTypeError\u001b[0m                                 Traceback (most recent call last)",
      "\u001b[0;32m<ipython-input-28-317b29376cf4>\u001b[0m in \u001b[0;36m<module>\u001b[0;34m\u001b[0m\n\u001b[1;32m     38\u001b[0m     \u001b[0mb\u001b[0m \u001b[0;34m=\u001b[0m \u001b[0mBNormal\u001b[0m\u001b[0;34m(\u001b[0m\u001b[0;34m'b'\u001b[0m\u001b[0;34m,\u001b[0m \u001b[0mmu\u001b[0m\u001b[0;34m=\u001b[0m\u001b[0;36m1.\u001b[0m\u001b[0;34m,\u001b[0m \u001b[0msigma\u001b[0m\u001b[0;34m=\u001b[0m\u001b[0;36m.1\u001b[0m\u001b[0;34m,\u001b[0m \u001b[0mtestval\u001b[0m\u001b[0;34m=\u001b[0m\u001b[0;36m1.\u001b[0m\u001b[0;34m)\u001b[0m\u001b[0;34m\u001b[0m\u001b[0;34m\u001b[0m\u001b[0m\n\u001b[1;32m     39\u001b[0m \u001b[0;34m\u001b[0m\u001b[0m\n\u001b[0;32m---> 40\u001b[0;31m     \u001b[0mfit\u001b[0m \u001b[0;34m=\u001b[0m \u001b[0mmod\u001b[0m\u001b[0;34m.\u001b[0m\u001b[0mmodel\u001b[0m\u001b[0;34m(\u001b[0m\u001b[0;34m[\u001b[0m\u001b[0mf0\u001b[0m\u001b[0;34m,\u001b[0m \u001b[0mf1\u001b[0m\u001b[0;34m,\u001b[0m \u001b[0mf2\u001b[0m\u001b[0;34m,\u001b[0m \u001b[0mg0\u001b[0m\u001b[0;34m,\u001b[0m \u001b[0mg1\u001b[0m\u001b[0;34m,\u001b[0m \u001b[0mg2\u001b[0m\u001b[0;34m,\u001b[0m \u001b[0mh0\u001b[0m\u001b[0;34m,\u001b[0m \u001b[0mh1\u001b[0m\u001b[0;34m,\u001b[0m \u001b[0mh2\u001b[0m\u001b[0;34m,\u001b[0m \u001b[0msplit\u001b[0m\u001b[0;34m,\u001b[0m \u001b[0mi\u001b[0m\u001b[0;34m,\u001b[0m \u001b[0mb\u001b[0m\u001b[0;34m]\u001b[0m\u001b[0;34m)\u001b[0m\u001b[0;34m\u001b[0m\u001b[0;34m\u001b[0m\u001b[0m\n\u001b[0m\u001b[1;32m     41\u001b[0m \u001b[0;34m\u001b[0m\u001b[0m\n\u001b[1;32m     42\u001b[0m     \u001b[0mlike\u001b[0m \u001b[0;34m=\u001b[0m \u001b[0mpm\u001b[0m\u001b[0;34m.\u001b[0m\u001b[0mNormal\u001b[0m\u001b[0;34m(\u001b[0m\u001b[0;34m'like'\u001b[0m\u001b[0;34m,\u001b[0m \u001b[0mmu\u001b[0m\u001b[0;34m=\u001b[0m\u001b[0mfit\u001b[0m\u001b[0;34m,\u001b[0m \u001b[0msd\u001b[0m\u001b[0;34m=\u001b[0m\u001b[0;36m.1\u001b[0m\u001b[0;34m,\u001b[0m \u001b[0mobserved\u001b[0m\u001b[0;34m=\u001b[0m\u001b[0mp\u001b[0m\u001b[0;34m)\u001b[0m\u001b[0;34m\u001b[0m\u001b[0;34m\u001b[0m\u001b[0m\n",
      "\u001b[0;32m<ipython-input-19-b77dc31fba9d>\u001b[0m in \u001b[0;36mmodel\u001b[0;34m(self, p, mm, nump)\u001b[0m\n\u001b[1;32m     66\u001b[0m         \u001b[0;31m# Calculate the modes\u001b[0m\u001b[0;34m\u001b[0m\u001b[0;34m\u001b[0m\u001b[0;34m\u001b[0m\u001b[0m\n\u001b[1;32m     67\u001b[0m         \u001b[0mself\u001b[0m\u001b[0;34m.\u001b[0m\u001b[0mmodes\u001b[0m \u001b[0;34m=\u001b[0m \u001b[0mnp\u001b[0m\u001b[0;34m.\u001b[0m\u001b[0mzeros\u001b[0m\u001b[0;34m(\u001b[0m\u001b[0mself\u001b[0m\u001b[0;34m.\u001b[0m\u001b[0mnpts\u001b[0m\u001b[0;34m)\u001b[0m\u001b[0;34m\u001b[0m\u001b[0;34m\u001b[0m\u001b[0m\n\u001b[0;32m---> 68\u001b[0;31m         \u001b[0mself\u001b[0m\u001b[0;34m.\u001b[0m\u001b[0mmode\u001b[0m\u001b[0;34m(\u001b[0m\u001b[0;36m0\u001b[0m\u001b[0;34m,\u001b[0m \u001b[0mf0\u001b[0m\u001b[0;34m,\u001b[0m \u001b[0mh0\u001b[0m\u001b[0;34m,\u001b[0m \u001b[0mg0\u001b[0m\u001b[0;34m,\u001b[0m \u001b[0mi\u001b[0m\u001b[0;34m,\u001b[0m \u001b[0mmm\u001b[0m\u001b[0;34m=\u001b[0m\u001b[0mmm\u001b[0m\u001b[0;34m,\u001b[0m \u001b[0mnump\u001b[0m\u001b[0;34m=\u001b[0m\u001b[0mnump\u001b[0m\u001b[0;34m)\u001b[0m\u001b[0;34m\u001b[0m\u001b[0;34m\u001b[0m\u001b[0m\n\u001b[0m\u001b[1;32m     69\u001b[0m         \u001b[0mself\u001b[0m\u001b[0;34m.\u001b[0m\u001b[0mmode\u001b[0m\u001b[0;34m(\u001b[0m\u001b[0;36m1\u001b[0m\u001b[0;34m,\u001b[0m \u001b[0mf1\u001b[0m\u001b[0;34m,\u001b[0m \u001b[0mh1\u001b[0m\u001b[0;34m,\u001b[0m \u001b[0mg1\u001b[0m\u001b[0;34m,\u001b[0m \u001b[0mi\u001b[0m\u001b[0;34m,\u001b[0m \u001b[0msplit\u001b[0m\u001b[0;34m,\u001b[0m \u001b[0mmm\u001b[0m\u001b[0;34m=\u001b[0m\u001b[0mmm\u001b[0m\u001b[0;34m,\u001b[0m \u001b[0mnump\u001b[0m\u001b[0;34m=\u001b[0m\u001b[0mnump\u001b[0m\u001b[0;34m)\u001b[0m\u001b[0;34m\u001b[0m\u001b[0;34m\u001b[0m\u001b[0m\n\u001b[1;32m     70\u001b[0m         \u001b[0mself\u001b[0m\u001b[0;34m.\u001b[0m\u001b[0mmode\u001b[0m\u001b[0;34m(\u001b[0m\u001b[0;36m2\u001b[0m\u001b[0;34m,\u001b[0m \u001b[0mf2\u001b[0m\u001b[0;34m,\u001b[0m \u001b[0mh2\u001b[0m\u001b[0;34m,\u001b[0m \u001b[0mg2\u001b[0m\u001b[0;34m,\u001b[0m \u001b[0mi\u001b[0m\u001b[0;34m,\u001b[0m \u001b[0msplit\u001b[0m\u001b[0;34m,\u001b[0m \u001b[0mmm\u001b[0m\u001b[0;34m=\u001b[0m\u001b[0mmm\u001b[0m\u001b[0;34m,\u001b[0m \u001b[0mnump\u001b[0m\u001b[0;34m=\u001b[0m\u001b[0mnump\u001b[0m\u001b[0;34m)\u001b[0m\u001b[0;34m\u001b[0m\u001b[0;34m\u001b[0m\u001b[0m\n",
      "\u001b[0;32m<ipython-input-19-b77dc31fba9d>\u001b[0m in \u001b[0;36mmode\u001b[0;34m(self, l, freqs, hs, ws, i, split, mm, nump)\u001b[0m\n\u001b[1;32m     54\u001b[0m \u001b[0;34m\u001b[0m\u001b[0m\n\u001b[1;32m     55\u001b[0m     \u001b[0;32mdef\u001b[0m \u001b[0mmode\u001b[0m\u001b[0;34m(\u001b[0m\u001b[0mself\u001b[0m\u001b[0;34m,\u001b[0m \u001b[0ml\u001b[0m\u001b[0;34m,\u001b[0m \u001b[0mfreqs\u001b[0m\u001b[0;34m,\u001b[0m \u001b[0mhs\u001b[0m\u001b[0;34m,\u001b[0m \u001b[0mws\u001b[0m\u001b[0;34m,\u001b[0m \u001b[0mi\u001b[0m\u001b[0;34m,\u001b[0m \u001b[0msplit\u001b[0m\u001b[0;34m=\u001b[0m\u001b[0;36m0\u001b[0m\u001b[0;34m,\u001b[0m \u001b[0mmm\u001b[0m\u001b[0;34m=\u001b[0m\u001b[0mtt\u001b[0m\u001b[0;34m,\u001b[0m \u001b[0mnump\u001b[0m\u001b[0;34m=\u001b[0m\u001b[0;32mFalse\u001b[0m\u001b[0;34m)\u001b[0m\u001b[0;34m:\u001b[0m\u001b[0;34m\u001b[0m\u001b[0;34m\u001b[0m\u001b[0m\n\u001b[0;32m---> 56\u001b[0;31m         \u001b[0meps\u001b[0m \u001b[0;34m=\u001b[0m \u001b[0mself\u001b[0m\u001b[0;34m.\u001b[0m\u001b[0mepsilon\u001b[0m\u001b[0;34m(\u001b[0m\u001b[0mi\u001b[0m\u001b[0;34m,\u001b[0m \u001b[0mmm\u001b[0m\u001b[0;34m,\u001b[0m \u001b[0mnump\u001b[0m\u001b[0;34m=\u001b[0m\u001b[0mnump\u001b[0m\u001b[0;34m)\u001b[0m\u001b[0;34m\u001b[0m\u001b[0;34m\u001b[0m\u001b[0m\n\u001b[0m\u001b[1;32m     57\u001b[0m         \u001b[0;32mfor\u001b[0m \u001b[0midx\u001b[0m \u001b[0;32min\u001b[0m \u001b[0mrange\u001b[0m\u001b[0;34m(\u001b[0m\u001b[0mself\u001b[0m\u001b[0;34m.\u001b[0m\u001b[0mM\u001b[0m\u001b[0;34m[\u001b[0m\u001b[0ml\u001b[0m\u001b[0;34m]\u001b[0m\u001b[0;34m)\u001b[0m\u001b[0;34m:\u001b[0m\u001b[0;34m\u001b[0m\u001b[0;34m\u001b[0m\u001b[0m\n\u001b[1;32m     58\u001b[0m             \u001b[0;32mfor\u001b[0m \u001b[0mm\u001b[0m \u001b[0;32min\u001b[0m \u001b[0mrange\u001b[0m\u001b[0;34m(\u001b[0m\u001b[0;34m-\u001b[0m\u001b[0ml\u001b[0m\u001b[0;34m,\u001b[0m \u001b[0ml\u001b[0m\u001b[0;34m+\u001b[0m\u001b[0;36m1\u001b[0m\u001b[0;34m,\u001b[0m \u001b[0;36m1\u001b[0m\u001b[0;34m)\u001b[0m\u001b[0;34m:\u001b[0m\u001b[0;34m\u001b[0m\u001b[0;34m\u001b[0m\u001b[0m\n",
      "\u001b[0;32m<ipython-input-19-b77dc31fba9d>\u001b[0m in \u001b[0;36mepsilon\u001b[0;34m(self, i, mm, nump)\u001b[0m\n\u001b[1;32m     40\u001b[0m             \u001b[0meps\u001b[0m \u001b[0;34m=\u001b[0m \u001b[0mnp\u001b[0m\u001b[0;34m.\u001b[0m\u001b[0mzeros\u001b[0m\u001b[0;34m(\u001b[0m\u001b[0;34m[\u001b[0m\u001b[0;36m3\u001b[0m\u001b[0;34m,\u001b[0m\u001b[0;36m3\u001b[0m\u001b[0;34m]\u001b[0m\u001b[0;34m)\u001b[0m\u001b[0;34m\u001b[0m\u001b[0;34m\u001b[0m\u001b[0m\n\u001b[1;32m     41\u001b[0m \u001b[0;34m\u001b[0m\u001b[0m\n\u001b[0;32m---> 42\u001b[0;31m         \u001b[0meps\u001b[0m\u001b[0;34m[\u001b[0m\u001b[0;36m0\u001b[0m\u001b[0;34m,\u001b[0m\u001b[0;36m0\u001b[0m\u001b[0;34m]\u001b[0m \u001b[0;34m=\u001b[0m \u001b[0;36m1.\u001b[0m\u001b[0;34m\u001b[0m\u001b[0;34m\u001b[0m\u001b[0m\n\u001b[0m\u001b[1;32m     43\u001b[0m         \u001b[0meps\u001b[0m\u001b[0;34m[\u001b[0m\u001b[0;36m1\u001b[0m\u001b[0;34m,\u001b[0m\u001b[0;36m0\u001b[0m\u001b[0;34m]\u001b[0m \u001b[0;34m=\u001b[0m \u001b[0mmm\u001b[0m\u001b[0;34m.\u001b[0m\u001b[0mcos\u001b[0m\u001b[0;34m(\u001b[0m\u001b[0mi\u001b[0m\u001b[0;34m)\u001b[0m\u001b[0;34m**\u001b[0m\u001b[0;36m2\u001b[0m\u001b[0;34m\u001b[0m\u001b[0;34m\u001b[0m\u001b[0m\n\u001b[1;32m     44\u001b[0m         \u001b[0meps\u001b[0m\u001b[0;34m[\u001b[0m\u001b[0;36m1\u001b[0m\u001b[0;34m,\u001b[0m\u001b[0;36m1\u001b[0m\u001b[0;34m]\u001b[0m \u001b[0;34m=\u001b[0m \u001b[0;36m0.5\u001b[0m \u001b[0;34m*\u001b[0m \u001b[0mmm\u001b[0m\u001b[0;34m.\u001b[0m\u001b[0msin\u001b[0m\u001b[0;34m(\u001b[0m\u001b[0mi\u001b[0m\u001b[0;34m)\u001b[0m\u001b[0;34m**\u001b[0m\u001b[0;36m2\u001b[0m\u001b[0;34m\u001b[0m\u001b[0;34m\u001b[0m\u001b[0m\n",
      "\u001b[0;31mTypeError\u001b[0m: 'TensorConstant' object does not support item assignment"
     ]
    }
   ],
   "source": [
    "pm_model = pm.Model()\n",
    "\n",
    "BNormal = pm.Bound(pm.Normal, lower=0.)\n",
    "\n",
    "with pm_model:   \n",
    "    numax = BNormal('numax', mu=numax_, sd=100., testval=numax_)\n",
    "    deltanu = BNormal('deltanu', mu=deltanu_, sd=1., testval=deltanu_)\n",
    "    epsilon = BNormal('epsilon', mu=epsilon_, sd=1., testval=epsilon_)\n",
    "    d01 = BNormal('d01', mu=d01_, sd=10., testval=d01_)\n",
    "    d02 = BNormal('d02', mu=d02_, sd=2., testval=d02_)\n",
    "    \n",
    "    f0 = pm.Deterministic('f0', mod.f0([numax, deltanu, 0., epsilon, d01, d02]))\n",
    "    f1 = pm.Deterministic('f1', mod.f1([numax, deltanu, 0., epsilon, d01, d02]))\n",
    "    f2 = pm.Deterministic('f2', mod.f2([numax, deltanu, 0., epsilon, d01, d02]))\n",
    "\n",
    "#     f0 = pm.Normal('f0', mu=f0_, sigma=1., testval=f0_, shape=(len(f0_)))\n",
    "#     f1 = pm.Normal('f1', mu=f1_, sigma=1., testval=f1_, shape=(len(f1_)))\n",
    "#     f2 = pm.Normal('f2', mu=f2_, sigma=1., testval=f2_, shape=(len(f2_)))\n",
    "\n",
    "    g0 = pm.HalfNormal('g0', sigma=2.0, testval=init_m[3], shape=len(init_m[3]))\n",
    "    g1 = pm.HalfNormal('g1', sigma=2.0, testval=init_m[4], shape=len(init_m[4]))\n",
    "    g2 = pm.HalfNormal('g2', sigma=2.0, testval=init_m[5], shape=len(init_m[5]))\n",
    "\n",
    "    a0 = pm.HalfNormal('a0', sigma=20., testval=init_m[6], shape=len(init_m[6]))\n",
    "    a1 = pm.HalfNormal('a1', sigma=20., testval=init_m[7], shape=len(init_m[7]))\n",
    "    a2 = pm.HalfNormal('a2', sigma=20., testval=init_m[8], shape=len(init_m[8]))\n",
    "    \n",
    "    h0 = pm.Deterministic('h0', 2*a0**2/np.pi/g0)\n",
    "    h1 = pm.Deterministic('h1', 2*a1**2/np.pi/g1)\n",
    "    h2 = pm.Deterministic('h2', 2*a2**2/np.pi/g2)\n",
    "    \n",
    "    xsplit = pm.HalfNormal('xsplit', sigma=2.0, testval=init_m[9] * np.sin(init_m[10]))\n",
    "    cosi = pm.Uniform('cosi', 0., 1., testval=np.cos(init_m[10]))\n",
    "    \n",
    "    i = pm.Deterministic('i', tt.arccos(cosi))\n",
    "    split = pm.Deterministic('split', xsplit/tt.sin(i))\n",
    "    \n",
    "    b = BNormal('b', mu=1., sigma=.1, testval=1.)\n",
    "    \n",
    "    fit = mod.model([f0, f1, f2, g0, g1, g2, h0, h1, h2, split, i, b])\n",
    "    \n",
    "    like = pm.Normal('like', mu=fit, sd=.1, observed=p)"
   ]
  },
  {
   "cell_type": "code",
   "execution_count": null,
   "metadata": {
    "scrolled": false
   },
   "outputs": [],
   "source": [
    "with pm_model:\n",
    "    trace = pm.sample(chains=4, tune=100, draws=200)"
   ]
  },
  {
   "cell_type": "code",
   "execution_count": null,
   "metadata": {
    "scrolled": false
   },
   "outputs": [],
   "source": [
    "pm.traceplot(trace)\n",
    "plt.show()"
   ]
  },
  {
   "cell_type": "code",
   "execution_count": null,
   "metadata": {
    "scrolled": true
   },
   "outputs": [],
   "source": [
    "pm.summary(trace)"
   ]
  },
  {
   "cell_type": "markdown",
   "metadata": {},
   "source": [
    "# Now lets plot some diagnostics..."
   ]
  },
  {
   "cell_type": "code",
   "execution_count": null,
   "metadata": {
    "scrolled": false
   },
   "outputs": [],
   "source": [
    "labels=['xsplit','cosi','split','i','b',\n",
    "        'numax','deltanu','epsilon','d01','d02']\n",
    "verbose = [r'$\\delta\\nu_s^*$',r'$\\cos(i)$',r'$\\delta\\nu_{\\rm s}$', r'$i$','b',\n",
    "           r'$\\nu_{\\rm max}$',r'$\\Delta\\nu$',r'$\\epsilon$',r'$\\delta\\nu_{01}$',r'$\\delta\\nu_{02}$']"
   ]
  },
  {
   "cell_type": "code",
   "execution_count": null,
   "metadata": {},
   "outputs": [],
   "source": [
    "truths = [init_m[9] * np.sin(init_m[10]), np.cos(init_m[10]), init_m[9], init_m[10], 1.,\n",
    "          numax_, deltanu_, epsilon_, d01_, d02_]\n",
    "chain = np.array([trace[label] for label in labels])\n",
    "\n",
    "corner.corner(chain.T, labels=verbose, quantiles=[0.16, 0.5, 0.84]\n",
    "              ,truths=truths, show_titles=True)\n",
    "plt.show()"
   ]
  }
 ],
 "metadata": {
  "kernelspec": {
   "display_name": "Python 3",
   "language": "python",
   "name": "python3"
  },
  "language_info": {
   "codemirror_mode": {
    "name": "ipython",
    "version": 3
   },
   "file_extension": ".py",
   "mimetype": "text/x-python",
   "name": "python",
   "nbconvert_exporter": "python",
   "pygments_lexer": "ipython3",
   "version": "3.7.3"
  }
 },
 "nbformat": 4,
 "nbformat_minor": 2
}
