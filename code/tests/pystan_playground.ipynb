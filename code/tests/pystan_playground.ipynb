{
 "cells": [
  {
   "cell_type": "code",
   "execution_count": 1,
   "metadata": {},
   "outputs": [],
   "source": [
    "import numpy as np\n",
    "import matplotlib.pyplot as plt\n",
    "import lightkurve as lk\n",
    "from astropy.units import cds\n",
    "from astropy import units as u\n",
    "import matplotlib\n",
    "matplotlib.rc('xtick', labelsize=20)\n",
    "matplotlib.rc('ytick', labelsize=20)\n",
    "matplotlib.rc('axes',labelsize=20)\n",
    "\n",
    "\n",
    "#The stellar parameters are for 16 Cyg A\n",
    "nus = 0.411 #uHz\n",
    "i = np.deg2rad(56.) #rad\n",
    "d02 = 6.8 #uHz\n",
    "dnu = 102. #uHz"
   ]
  },
  {
   "cell_type": "code",
   "execution_count": 2,
   "metadata": {},
   "outputs": [],
   "source": [
    "locs = np.genfromtxt('locs.txt')\n",
    "l0 = locs[int(np.floor(len(locs)/2)+1), 0]\n",
    "l1 = locs[int(np.floor(len(locs)/2)), 1]\n",
    "l2 = locs[int(np.floor(len(locs)/2)), 2]\n",
    "l3 = locs[int(np.floor(len(locs)/2)-1), 3]\n",
    "ff = np.genfromtxt('freqs.txt')\n",
    "pp = np.genfromtxt('model.txt')"
   ]
  },
  {
   "cell_type": "code",
   "execution_count": 3,
   "metadata": {},
   "outputs": [],
   "source": [
    "sel = [(ff < l1+.6*dnu) & (ff > l1-2*d02)]\n",
    "f = ff[tuple(sel)]\n",
    "p = pp[tuple(sel)] "
   ]
  },
  {
   "cell_type": "code",
   "execution_count": 4,
   "metadata": {},
   "outputs": [
    {
     "data": {
      "text/plain": [
       "<matplotlib.collections.PathCollection at 0x7fae67ece4a8>"
      ]
     },
     "execution_count": 4,
     "metadata": {},
     "output_type": "execute_result"
    },
    {
     "name": "stderr",
     "output_type": "stream",
     "text": [
      "/home/oliver/.local/lib/python3.6/site-packages/matplotlib/font_manager.py:1241: UserWarning: findfont: Font family ['serif'] not found. Falling back to DejaVu Sans.\n",
      "  (prop.get_family(), self.defaultFamily[fontext]))\n",
      "/home/oliver/.local/lib/python3.6/site-packages/matplotlib/font_manager.py:1241: UserWarning: findfont: Font family ['serif'] not found. Falling back to DejaVu Sans.\n",
      "  (prop.get_family(), self.defaultFamily[fontext]))\n"
     ]
    },
    {
     "data": {
      "image/png": "[encoded data removed]",
      "text/plain": [
       "<Figure size 848.5x400 with 1 Axes>"
      ]
     },
     "metadata": {},
     "output_type": "display_data"
    }
   ],
   "source": [
    "pg = lk.Periodogram(f*u.microhertz, p*(cds.ppm**2/u.microhertz))\n",
    "ax = pg.plot(alpha=.5)\n",
    "pg.smooth(filter_width=2.).plot(ax=ax, linewidth=2)\n",
    "plt.scatter([l0,l1,l2,l3],[150,150,150,150])"
   ]
  },
  {
   "cell_type": "code",
   "execution_count": 5,
   "metadata": {},
   "outputs": [
    {
     "name": "stderr",
     "output_type": "stream",
     "text": [
      "INFO:pystan:COMPILING THE C++ CODE FOR MODEL anon_model_73260da69ade00e561dab46311d4695f NOW.\n"
     ]
    }
   ],
   "source": [
    "import pystan\n",
    "model = '''\n",
    "functions{\n",
    "    real get_epsilon(real i, int l, int m){\n",
    "        if (l == 0){\n",
    "            return 1.;\n",
    "        }\n",
    "        else if (l == 1){\n",
    "           if (m == 0){\n",
    "               return cos(i)^2;\n",
    "           }\n",
    "           else if (abs(m) == 1){\n",
    "               return 0.5 * sin(i)^2;\n",
    "           }\n",
    "           else return 1.;\n",
    "        }\n",
    "        else if (l == 2){\n",
    "            if (m == 0){\n",
    "                return 0.25 * (3. * (i)^2 - 1.)^2;\n",
    "            }\n",
    "            else if (abs(m) == 1){\n",
    "                return (3./8.)*sin(2*i)^2;\n",
    "            }\n",
    "            else if (abs(m) == 2){\n",
    "                return (3./8.) * sin(i)^4;\n",
    "            }\n",
    "            else return 1.;\n",
    "        }\n",
    "        else if (l == 3){\n",
    "            if (m == 0){\n",
    "                return (1./64.)*(5.*cos(3.*i) + 3.*cos(i))^2;\n",
    "            }\n",
    "            else if (abs(m) == 1){\n",
    "                return (3./64.)*(5.*cos(2.*i) + 3.)^2 * sin(i)^2;\n",
    "            }\n",
    "            else if (abs(m) == 2){\n",
    "                return (15./8.) * cos(i)^2 * sin(i)^4;\n",
    "            }\n",
    "            else if (abs(m) == 3){\n",
    "                return (5./16.)*sin(i)^6;\n",
    "            }\n",
    "            else return 1.;\n",
    "        }\n",
    "        else return 1.;\n",
    "    }\n",
    "    \n",
    "    real get_Vl(int l){\n",
    "        if (l==0){\n",
    "            return 1.0;\n",
    "        }\n",
    "        else if (l==1){\n",
    "            return 1.22;\n",
    "        }\n",
    "        else if (l==2){\n",
    "            return 0.71;\n",
    "        }\n",
    "        else if (l==3){\n",
    "            return 0.14;\n",
    "        }\n",
    "        else return 1.;\n",
    "    }\n",
    "    \n",
    "    real lorentzian(real loc, int l, int m, real f, real i, real H, real w, real nus){\n",
    "        return (get_epsilon(i, l, m) * get_Vl(l) * H) ./ (1 + (4/w^2) * (f - loc + m*nus)^2);\n",
    "    }\n",
    "\n",
    "    real[] multiplet(int N, real[] locs, real[] f, real i, real H, real w, real nus){\n",
    "        real mod[N];\n",
    "        mod = rep_array(1., N);\n",
    "        \n",
    "        for (l in 0:3){\n",
    "            for (m in -l:l){\n",
    "                for (n in 1:N){\n",
    "                    mod[n] += lorentzian(locs[l+1], l, m, f[n], i, H, w, nus);\n",
    "                }\n",
    "            }\n",
    "        }\n",
    "        return mod;\n",
    "    }\n",
    "\n",
    "}\n",
    "data{\n",
    "    int N;\n",
    "    real f[N];\n",
    "    real i;\n",
    "    real H;\n",
    "    real w;\n",
    "    real nus;\n",
    "    real locs[4];\n",
    "}\n",
    "generated quantities{\n",
    "    real lor[N];\n",
    "    real mult[N];\n",
    "       \n",
    "    for (n in 1:N){\n",
    "        lor[n] = lorentzian(0., 1, 0, f[n], i, H, w, nus);\n",
    "    }    \n",
    "    \n",
    "    mult = multiplet(N, locs, f, i, H, w, nus);\n",
    "}\n",
    "\n",
    "'''\n",
    "sm = pystan.StanModel(model_code=model)"
   ]
  },
  {
   "cell_type": "code",
   "execution_count": 6,
   "metadata": {},
   "outputs": [],
   "source": [
    "data = {'N':len(f),\n",
    "        'locs':[l0,l1,l2,l3],\n",
    "       'f':f,\n",
    "       'i':np.deg2rad(56.),\n",
    "       'H':14,\n",
    "       'w':1.,\n",
    "       'nus':0.411}\n",
    "\n",
    "fit = sm.sampling(data=data, iter=1, chains=1,algorithm='Fixed_param')"
   ]
  },
  {
   "cell_type": "markdown",
   "metadata": {},
   "source": [
    "- the for (m in -l:l) works great\n",
    "\n",
    "- I can select from locs fine, by the looks of it\n",
    "\n",
    "- We can generate a lorentzian\n",
    "\n",
    "- When passing a real array to a function, pass as real[]\n",
    "\n",
    "- You cant' raise vectors to a power, so need to use real[]\n",
    "\n",
    "- Looks like I may have multiplet working\n",
    "\n",
    "- Can't invert a real array, need to do it value by value as usual"
   ]
  },
  {
   "cell_type": "code",
   "execution_count": 7,
   "metadata": {},
   "outputs": [],
   "source": [
    "m = fit['mult']"
   ]
  },
  {
   "cell_type": "code",
   "execution_count": 8,
   "metadata": {},
   "outputs": [
    {
     "name": "stderr",
     "output_type": "stream",
     "text": [
      "INFO:matplotlib.texmanager:No LaTeX-compatible font found for the serif font family in rcParams. Using default.\n",
      "INFO:matplotlib.texmanager:No LaTeX-compatible font found for the serif font family in rcParams. Using default.\n",
      "/home/oliver/.local/lib/python3.6/site-packages/matplotlib/font_manager.py:1241: UserWarning: findfont: Font family ['serif'] not found. Falling back to DejaVu Sans.\n",
      "  (prop.get_family(), self.defaultFamily[fontext]))\n",
      "INFO:matplotlib.texmanager:No LaTeX-compatible font found for the serif font family in rcParams. Using default.\n",
      "INFO:matplotlib.texmanager:No LaTeX-compatible font found for the serif font family in rcParams. Using default.\n"
     ]
    },
    {
     "data": {
      "image/png": "[encoded data removed]",
      "text/plain": [
       "<Figure size 848.5x400 with 1 Axes>"
      ]
     },
     "metadata": {},
     "output_type": "display_data"
    }
   ],
   "source": [
    "pg = lk.Periodogram(f*u.microhertz, p*(cds.ppm**2/u.microhertz))\n",
    "ax = pg.plot(alpha=.5)\n",
    "pg.smooth(filter_width=2.).plot(ax=ax, linewidth=2)\n",
    "ax.scatter([l0,l1,l2,l3],[150,150,150,150])\n",
    "ax.scatter(l0, 150, label=0)\n",
    "ax.scatter(l1, 150, label=1)\n",
    "ax.scatter(l2, 150, label=2)\n",
    "ax.scatter(l3, 150, label=3)\n",
    "ax.legend()\n",
    "ax.plot(f, m.T, label='multiplet')\n",
    "plt.show()"
   ]
  },
  {
   "cell_type": "code",
   "execution_count": null,
   "metadata": {},
   "outputs": [],
   "source": []
  }
 ],
 "metadata": {
  "kernelspec": {
   "display_name": "Python 3",
   "language": "python",
   "name": "python3"
  },
  "language_info": {
   "codemirror_mode": {
    "name": "ipython",
    "version": 3
   },
   "file_extension": ".py",
   "mimetype": "text/x-python",
   "name": "python",
   "nbconvert_exporter": "python",
   "pygments_lexer": "ipython3",
   "version": "3.6.7"
  }
 },
 "nbformat": 4,
 "nbformat_minor": 2
}
