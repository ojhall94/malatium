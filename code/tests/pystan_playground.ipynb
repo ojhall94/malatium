{
 "cells": [
  {
   "cell_type": "code",
   "execution_count": 1,
   "metadata": {},
   "outputs": [],
   "source": [
    "import numpy as np\n",
    "import matplotlib.pyplot as plt\n",
    "import lightkurve as lk\n",
    "from astropy.units import cds\n",
    "from astropy import units as u\n",
    "import matplotlib\n",
    "matplotlib.rc('xtick', labelsize=20)\n",
    "matplotlib.rc('ytick', labelsize=20)\n",
    "matplotlib.rc('axes',labelsize=20)\n",
    "\n",
    "\n",
    "#The stellar parameters are for 16 Cyg A\n",
    "nus = 0.411 #uHz\n",
    "i = np.deg2rad(56.) #rad\n",
    "d02 = 6.8 #uHz\n",
    "dnu = 102. #uHz"
   ]
  },
  {
   "cell_type": "code",
   "execution_count": 2,
   "metadata": {},
   "outputs": [
    {
     "name": "stderr",
     "output_type": "stream",
     "text": [
      "INFO:pystan:COMPILING THE C++ CODE FOR MODEL anon_model_8f83f21c15f4461b3fdcf582efcd2adb NOW.\n"
     ]
    }
   ],
   "source": [
    "import pystan\n",
    "model = '''\n",
    "functions{\n",
    "    real lorentzian(real loc, int l, int m, real f, real i, real H, real w, real nus){\n",
    "        return H ./ (1 + (4/w^2) * (f - loc + m*nus)^2);\n",
    "    }\n",
    "\n",
    "    real[] multiplet(int N, real[] locs, real[] f, real i, real H, real w, real nus){\n",
    "        real mod[N];\n",
    "        mod = rep_array(1., N);\n",
    "        \n",
    "        for (l in 0:3){\n",
    "            for (m in -l:l){\n",
    "                for (n in 1:N){\n",
    "                    mod[n] += lorentzian(locs[l+1], l, m, f[n], i, H, w, nus);\n",
    "                }\n",
    "            }\n",
    "        }\n",
    "        return mod;\n",
    "    }\n",
    "\n",
    "    real testing(real[] locs){\n",
    "        real mod;\n",
    "        mod = 1.;\n",
    "        mod += locs[1];\n",
    "        return mod;\n",
    "    }\n",
    "}\n",
    "data{\n",
    "    int N;\n",
    "    real f[N];\n",
    "    real i;\n",
    "    real H;\n",
    "    real w;\n",
    "    real nus;\n",
    "    real locs[4];\n",
    "}\n",
    "generated quantities{\n",
    "    real mod;\n",
    "    real lor[N];\n",
    "    real mult[N];\n",
    "    real test;\n",
    "    real beta[N];\n",
    "    real beta2[N];\n",
    "    mod = 1.;\n",
    "    \n",
    "    for (l in 0:3){\n",
    "        for (m in -l:l){\n",
    "            mod += locs[l+1];\n",
    "        }\n",
    "    }\n",
    "    test = testing(locs);\n",
    "    \n",
    "    for (n in 1:N){\n",
    "        lor[n] = lorentzian(0., 1, 0, f[n], i, H, w, nus);\n",
    "    }    \n",
    "    \n",
    "    mult = multiplet(N, locs, f, i, H, w, nus);\n",
    "    \n",
    "    for (n in 1:N){\n",
    "        beta[n] = 1.0 / mult[n];\n",
    "    }\n",
    "\n",
    "}\n",
    "\n",
    "'''\n",
    "sm = pystan.StanModel(model_code=model)"
   ]
  },
  {
   "cell_type": "code",
   "execution_count": 5,
   "metadata": {},
   "outputs": [
    {
     "name": "stdout",
     "output_type": "stream",
     "text": [
      "100.0\n"
     ]
    }
   ],
   "source": [
    "data = {'N':100,\n",
    "        'locs':[1,4,6,8],\n",
    "       'f':np.linspace(0., 100., 100),\n",
    "       'i':np.deg2rad(56.),\n",
    "       'H':14,\n",
    "       'w':1.,\n",
    "       'nus':0.411}\n",
    "\n",
    "fit = sm.sampling(data=data, iter=1, chains=1,algorithm='Fixed_param')\n",
    "print(fit['mod'])"
   ]
  },
  {
   "cell_type": "markdown",
   "metadata": {},
   "source": [
    "- the for (m in -l:l) works great\n",
    "\n",
    "- I can select from locs fine, by the looks of it\n",
    "\n",
    "- We can generate a lorentzian\n",
    "\n",
    "- When passing a real array to a function, pass as real[]\n",
    "\n",
    "- You cant' raise vectors to a power, so need to use real[]\n",
    "\n",
    "- Looks like I may have multiplet working\n",
    "\n",
    "- Can't invert a real array, need to do it value by value as usual"
   ]
  },
  {
   "cell_type": "code",
   "execution_count": 9,
   "metadata": {},
   "outputs": [
    {
     "name": "stderr",
     "output_type": "stream",
     "text": [
      "INFO:matplotlib.texmanager:No LaTeX-compatible font found for the serif font family in rcParams. Using default.\n",
      "INFO:matplotlib.texmanager:No LaTeX-compatible font found for the serif font family in rcParams. Using default.\n",
      "INFO:matplotlib.texmanager:No LaTeX-compatible font found for the serif font family in rcParams. Using default.\n",
      "INFO:matplotlib.texmanager:No LaTeX-compatible font found for the serif font family in rcParams. Using default.\n"
     ]
    },
    {
     "data": {
      "image/png": "[encoded data removed]",
      "text/plain": [
       "<Figure size 432x288 with 1 Axes>"
      ]
     },
     "metadata": {
      "needs_background": "light"
     },
     "output_type": "display_data"
    }
   ],
   "source": [
    "plt.plot(data['f'], fit['lor'].T, label='lorentzian')\n",
    "plt.plot(data['f'], fit['mult'].T, label='multiplet')\n",
    "plt.scatter(np.array(data['locs']), np.ones_like(data['locs'])*40.)\n",
    "plt.legend()\n",
    "plt.xlim(50,60) \n",
    "plt.ylim(0.,2.)\n",
    "plt.axhline(1.)\n",
    "plt.show()"
   ]
  },
  {
   "cell_type": "code",
   "execution_count": null,
   "metadata": {},
   "outputs": [],
   "source": []
  }
 ],
 "metadata": {
  "kernelspec": {
   "display_name": "Python 3",
   "language": "python",
   "name": "python3"
  },
  "language_info": {
   "codemirror_mode": {
    "name": "ipython",
    "version": 3
   },
   "file_extension": ".py",
   "mimetype": "text/x-python",
   "name": "python",
   "nbconvert_exporter": "python",
   "pygments_lexer": "ipython3",
   "version": "3.6.7"
  }
 },
 "nbformat": 4,
 "nbformat_minor": 2
}
