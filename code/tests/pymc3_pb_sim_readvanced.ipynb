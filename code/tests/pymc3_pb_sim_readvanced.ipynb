{
 "cells": [
  {
   "cell_type": "markdown",
   "metadata": {},
   "source": [
    "# We're going to strip some components off the advanced model"
   ]
  },
  {
   "cell_type": "code",
   "execution_count": 1,
   "metadata": {},
   "outputs": [
    {
     "name": "stderr",
     "output_type": "stream",
     "text": [
      "WARNING (theano.tensor.blas): Using NumPy C-API based implementation for BLAS functions.\n"
     ]
    }
   ],
   "source": [
    "import numpy as np\n",
    "import matplotlib.pyplot as plt\n",
    "import theano.tensor as tt\n",
    "\n",
    "import lightkurve as lk\n",
    "from astropy.units import cds\n",
    "from astropy import units as u\n",
    "import seaborn as sns\n",
    "\n",
    "import corner\n",
    "import pystan\n",
    "import pandas as pd\n",
    "import pickle\n",
    "import glob\n",
    "from astropy.io import ascii\n",
    "import os\n",
    "import sys\n",
    "\n",
    "import pymc3 as pm\n",
    "from pymc3.gp.util import plot_gp_dist\n",
    "import arviz\n",
    "import warnings\n",
    "warnings.filterwarnings('ignore')\n",
    "\n",
    "cpu = 'bear'"
   ]
  },
  {
   "cell_type": "markdown",
   "metadata": {},
   "source": [
    "## Build the model"
   ]
  },
  {
   "cell_type": "code",
   "execution_count": 2,
   "metadata": {},
   "outputs": [],
   "source": [
    "class model():\n",
    "    def __init__(self, f, n0_, n1_, n2_, deltanu_):\n",
    "        self.f = f\n",
    "        self.n0 = n0_\n",
    "        self.n1 = n1_\n",
    "        self.n2 = n2_\n",
    "        self.npts = len(f)\n",
    "        self.M = [len(n0_), len(n1_), len(n2_)]\n",
    "        self.deltanu = deltanu_\n",
    "        \n",
    "    def epsilon(self, i):\n",
    "        eps = tt.zeros((3,3))\n",
    "        eps0 = tt.set_subtensor(eps[0][0], 1.)\n",
    "        eps1 = tt.set_subtensor(eps[1][0], tt.sqr(tt.cos(i)))\n",
    "        eps1 = tt.set_subtensor(eps1[1], 0.5 * tt.sqr(tt.sin(i)))\n",
    "        eps2 = tt.set_subtensor(eps[2][0], 0.25 * tt.sqr((3. * tt.sqr(tt.cos(i)) - 1.)))\n",
    "        eps2 = tt.set_subtensor(eps2[1], (3./8.) * tt.sqr(tt.sin(2*i)))\n",
    "        eps2 = tt.set_subtensor(eps2[2], (3./8.) * tt.sin(i)**4)\n",
    "\n",
    "        eps = tt.set_subtensor(eps[0], eps0)\n",
    "        eps = tt.set_subtensor(eps[1], eps1)\n",
    "        eps = tt.set_subtensor(eps[2], eps2)\n",
    "        \n",
    "        return eps\n",
    "            \n",
    "    def lor(self, freq, h, w):\n",
    "        return h / (1.0 + 4.0/tt.sqr(w)*tt.sqr((self.f - freq)))\n",
    "    \n",
    "    def mode(self, l, freqs, hs, ws, eps, split=0):\n",
    "        for idx in range(self.M[l]):\n",
    "            for m in range(-l, l+1, 1):\n",
    "                self.modes += self.lor(freqs[idx] + (m*split), \n",
    "                                     hs[idx] * eps[l,abs(m)], \n",
    "                                     ws[idx])\n",
    "  \n",
    "    def model(self, p, theano=True):\n",
    "        f0, f1, f2, g0, g1, g2, h0, h1, h2, split, i, aphi, bphi = p\n",
    "\n",
    "        # Unpack background parameters\n",
    "        loga = aphi[0]\n",
    "        logb = aphi[1]\n",
    "        logc = aphi[2]\n",
    "        logd = aphi[3]\n",
    "        logj = aphi[4]\n",
    "        logk = aphi[5]\n",
    "        white = bphi[0]\n",
    "        scale = bphi[1]\n",
    "        nyq = bphi[2]\n",
    "        \n",
    "        # Calculate the modes\n",
    "        eps = self.epsilon(i)        \n",
    "        self.modes = np.zeros(self.npts)\n",
    "        self.mode(0, f0, h0, g0, eps)\n",
    "        self.mode(1, f1, h1, g1, eps, split)\n",
    "        self.mode(2, f2, h2, g2, eps, split)\n",
    "        self.modes *= self.get_apodization(nyq)\n",
    "            \n",
    "        #Calculate the background\n",
    "        self.back = self.get_background(loga, logb, logc, logd, logj, logk,\n",
    "                                       white, scale, nyq)            \n",
    "            \n",
    "        #Create the model\n",
    "        self.mod = self.modes + self.back\n",
    "        if theano:\n",
    "            return self.mod\n",
    "        else:\n",
    "            return self.mod.eval()\n",
    "\n",
    "    # Small separations are fractional\n",
    "    def asymptotic(self, n, numax, alpha, epsilon, d=0.): \n",
    "        nmax = (numax / self.deltanu) - epsilon\n",
    "        curve = (alpha/2.)*(n-nmax)*(n-nmax)\n",
    "        return (n + epsilon + d + curve) * self.deltanu\n",
    "\n",
    "    def f0(self, p):\n",
    "        numax, alpha, epsilon, d01, d02 = p\n",
    "        \n",
    "        return self.asymptotic(self.n0, numax, alpha, epsilon, 0.)\n",
    "    \n",
    "    def f1(self, p):\n",
    "        numax, alpha, epsilon, d01, d02 = p\n",
    "        \n",
    "        return self.asymptotic(self.n1, numax, alpha, epsilon, d01)\n",
    "    \n",
    "    def f2(self, p):\n",
    "        numax, alpha, epsilon, d01, d02 = p\n",
    "        \n",
    "        return self.asymptotic(self.n2+1, numax, alpha, epsilon, -d02)\n",
    "\n",
    "    def gaussian(self, freq, numax, w, A):\n",
    "        return A * tt.exp(-0.5 * tt.sqr((freq - numax)) / tt.sqr(w))\n",
    "\n",
    "    def A0(self, f, p, theano=True):\n",
    "        numax, w, A, V1, V2 = p\n",
    "        height = self.gaussian(f, numax, w, A)\n",
    "        if theano:\n",
    "            return height\n",
    "        else:\n",
    "            return height.eval()\n",
    "    \n",
    "    def A1(self, f, p, theano=True):\n",
    "        numax, w, A, V1, V2 = p\n",
    "        height = self.gaussian(f, numax, w, A)*V1        \n",
    "        if theano:\n",
    "            return height\n",
    "        else:\n",
    "            return height.eval()\n",
    "    \n",
    "    def A2(self, f, p, theano=True):\n",
    "        numax, w, A, V1, V2 = p\n",
    "        height = self.gaussian(f, numax, w, A)*V2      \n",
    "        if theano:\n",
    "            return height\n",
    "        else:\n",
    "            return height.eval()\n",
    "        \n",
    "    def harvey(self, a, b, c):\n",
    "        harvey = 0.9*tt.sqr(a)/b/(1.0 + tt.pow((self.f/b), c))\n",
    "        return harvey\n",
    "\n",
    "    def get_apodization(self, nyquist):\n",
    "        x = (np.pi * self.f) / (2 * nyquist)\n",
    "        return tt.sqr((tt.sin(x)/x))\n",
    "\n",
    "    def get_background(self, loga, logb, logc, logd, logj, logk, white, scale, nyq):\n",
    "        background = np.zeros(len(self.f))\n",
    "        background += self.get_apodization(nyq) * scale  \\\n",
    "                        * (self.harvey(tt.pow(10, loga), tt.pow(10, logb), 4.) \\\n",
    "                        +  self.harvey(tt.pow(10, logc), tt.pow(10, logd), 4.) \\\n",
    "                        +  self.harvey(tt.pow(10, logj), tt.pow(10, logk), 2.))\\\n",
    "                        +  white\n",
    "        return background              "
   ]
  },
  {
   "cell_type": "markdown",
   "metadata": {},
   "source": [
    "### Build the range"
   ]
  },
  {
   "cell_type": "code",
   "execution_count": 3,
   "metadata": {},
   "outputs": [],
   "source": [
    "nmodes = 10\n",
    "nbase = 13\n",
    "n0_ = np.arange(nmodes)+nbase\n",
    "n1_ = np.copy(n0_)\n",
    "n2_ = np.copy(n0_) - 1.\n",
    "fs = .05\n",
    "nyq = (0.5 * (1./58.6) * u.hertz).to(u.microhertz).value\n",
    "ff = np.arange(fs, nyq, fs)"
   ]
  },
  {
   "cell_type": "markdown",
   "metadata": {},
   "source": [
    "### Build the frequencies"
   ]
  },
  {
   "cell_type": "code",
   "execution_count": 4,
   "metadata": {},
   "outputs": [],
   "source": [
    "deltanu_  =  60.\n",
    "numax_= 1150.\n",
    "alpha_ = 0.01\n",
    "epsilon_ = 1.1\n",
    "d01_ = deltanu_/2. / deltanu_\n",
    "d02_ = 6. / deltanu_"
   ]
  },
  {
   "cell_type": "code",
   "execution_count": 5,
   "metadata": {},
   "outputs": [],
   "source": [
    "mod = model(ff, n0_, n1_, n2_, deltanu_)"
   ]
  },
  {
   "cell_type": "code",
   "execution_count": 6,
   "metadata": {},
   "outputs": [],
   "source": [
    "init_f = [numax_, alpha_, epsilon_, d01_, d02_]\n",
    "\n",
    "f0_true = mod.f0(init_f)\n",
    "f1_true = mod.f1(init_f)\n",
    "f2_true = mod.f2(init_f)\n",
    "\n",
    "sigma0_ = 1.5\n",
    "sigma1_ = 2.0\n",
    "sigma2_ = .5\n",
    "f0_ = mod.f0(init_f) + np.random.randn(len(f0_true)) * sigma0_\n",
    "f1_ = mod.f1(init_f) + np.random.randn(len(f1_true)) * sigma1_\n",
    "f2_ = mod.f2(init_f) + np.random.randn(len(f2_true)) * sigma2_"
   ]
  },
  {
   "cell_type": "code",
   "execution_count": 7,
   "metadata": {},
   "outputs": [],
   "source": [
    "lo = f2_.min() - .25*deltanu_\n",
    "hi = f1_.max() + .25*deltanu_\n",
    "\n",
    "sel = (ff > lo) & (ff < hi)\n",
    "f = ff[sel]"
   ]
  },
  {
   "cell_type": "markdown",
   "metadata": {},
   "source": [
    "### Reset model for new frequency range"
   ]
  },
  {
   "cell_type": "code",
   "execution_count": 8,
   "metadata": {},
   "outputs": [],
   "source": [
    "mod = model(f, n0_, n1_, n2_, deltanu_)"
   ]
  },
  {
   "cell_type": "markdown",
   "metadata": {},
   "source": [
    "### Build the linewidths"
   ]
  },
  {
   "cell_type": "code",
   "execution_count": 9,
   "metadata": {},
   "outputs": [],
   "source": [
    "def kernel(n, rho, L):\n",
    "    return rho**2 * np.exp(-0.5 * np.subtract.outer(n,n)**2 / L**2)"
   ]
  },
  {
   "cell_type": "code",
   "execution_count": 10,
   "metadata": {},
   "outputs": [],
   "source": [
    "m_ = .5\n",
    "c_ = .5\n",
    "rho_ = 0.1\n",
    "L_ = 0.3\n",
    "\n",
    "fs = np.concatenate((f0_, f1_, f2_))\n",
    "fs -= fs.min()\n",
    "nf = fs/fs.max()\n",
    "mu_ = m_ * nf + c_\n",
    "\n",
    "Sigma_ = kernel(nf, rho_, L_)\n",
    "\n",
    "lng0_ = np.random.multivariate_normal(mu_, Sigma_)\n",
    "widths = [np.exp(lng0_)[0:len(f0_)],\n",
    "          np.exp(lng0_)[len(f0_):len(f0_)+len(f1_)],\n",
    "          np.exp(lng0_)[len(f0_)+len(f1_):]]\n",
    "\n",
    "nf_ = nf[:,None]"
   ]
  },
  {
   "cell_type": "markdown",
   "metadata": {},
   "source": [
    "### Build the mode amplitudes"
   ]
  },
  {
   "cell_type": "code",
   "execution_count": 11,
   "metadata": {},
   "outputs": [
    {
     "name": "stderr",
     "output_type": "stream",
     "text": [
      "INFO (theano.gof.compilelock): Waiting for existing lock by process '10651' (I am process '11141')\n",
      "INFO:theano.gof.compilelock:Waiting for existing lock by process '10651' (I am process '11141')\n",
      "INFO (theano.gof.compilelock): To manually release the lock, delete /home/oliver/.theano/compiledir_Linux-5.0--generic-x86_64-with-Ubuntu-19.04-disco-x86_64-3.7.3-64/lock_dir\n",
      "INFO:theano.gof.compilelock:To manually release the lock, delete /home/oliver/.theano/compiledir_Linux-5.0--generic-x86_64-with-Ubuntu-19.04-disco-x86_64-3.7.3-64/lock_dir\n",
      "INFO (theano.gof.compilelock): Waiting for existing lock by process '10651' (I am process '11141')\n",
      "INFO:theano.gof.compilelock:Waiting for existing lock by process '10651' (I am process '11141')\n",
      "INFO (theano.gof.compilelock): To manually release the lock, delete /home/oliver/.theano/compiledir_Linux-5.0--generic-x86_64-with-Ubuntu-19.04-disco-x86_64-3.7.3-64/lock_dir\n",
      "INFO:theano.gof.compilelock:To manually release the lock, delete /home/oliver/.theano/compiledir_Linux-5.0--generic-x86_64-with-Ubuntu-19.04-disco-x86_64-3.7.3-64/lock_dir\n"
     ]
    }
   ],
   "source": [
    "w_ = (0.25 * numax_)/2.355\n",
    "V1_ = 1.2\n",
    "V2_ = 0.7\n",
    "A_ = 10.\n",
    "init_h =[numax_,   #numax\n",
    "         w_,       #envelope width\n",
    "         A_,       #envelope amplitude\n",
    "         V1_,      #dipole visibility\n",
    "         V2_       #ocotopole visibility\n",
    "        ]\n",
    "sigmaA_ = .2\n",
    "amps = [mod.A0(f0_, init_h, theano=False) + np.random.randn(len(f0_)) * sigmaA_,\n",
    "        mod.A1(f1_, init_h, theano=False) + np.random.randn(len(f0_)) * sigmaA_,\n",
    "        mod.A2(f2_, init_h, theano=False) + np.random.randn(len(f0_)) * sigmaA_]"
   ]
  },
  {
   "cell_type": "markdown",
   "metadata": {},
   "source": [
    "### Build the background"
   ]
  },
  {
   "cell_type": "code",
   "execution_count": 12,
   "metadata": {},
   "outputs": [],
   "source": [
    "labels=['loga','logb','logc','logd','logj','logk',\n",
    "        'white','scale','nyq']\n",
    "aphi_ =[   1.6,   2.6,   1.6,   3.0,   1.7,   0.5]\n",
    "bphi_ = [0.4,     1., nyq]\n",
    "phi_sigma = np.genfromtxt('phi_sigma.txt')\n",
    "aphi_cholesky = np.linalg.cholesky(phi_sigma[:6,:6])\n",
    "bphi_sigma = np.sqrt(np.diag(phi_sigma)[6:])"
   ]
  },
  {
   "cell_type": "markdown",
   "metadata": {},
   "source": [
    "### Construct the model"
   ]
  },
  {
   "cell_type": "code",
   "execution_count": 13,
   "metadata": {},
   "outputs": [],
   "source": [
    "split_ = 1.\n",
    "incl_ = np.pi/4.\n",
    "init_m =[f0_,                         # l0 modes\n",
    "       f1_,                         # l1 modes\n",
    "       f2_,                         # l2 modes\n",
    "       widths[0],             # l0 widths\n",
    "       widths[1],             # l1 widths\n",
    "       widths[2],             # l2 widths\n",
    "       amps[0]**2 * 2.0 / np.pi / widths[0] ,# l0 heights\n",
    "       amps[1]**2 * 2.0 / np.pi / widths[1] ,# l1 heights\n",
    "       amps[2]**2 * 2.0 / np.pi / widths[2] ,# l2 heights\n",
    "       split_,       # splitting\n",
    "       incl_,                    # inclination angle\n",
    "       aphi_,                           # background parameters\n",
    "       bphi_ ]\n",
    "p = mod.model(init_m, theano=False)*np.random.chisquare(2., size=len(f))/2"
   ]
  },
  {
   "cell_type": "code",
   "execution_count": 14,
   "metadata": {
    "scrolled": false
   },
   "outputs": [
    {
     "data": {
      "image/png": "[encoded data removed]",
      "text/plain": [
       "<Figure size 848.5x400 with 1 Axes>"
      ]
     },
     "metadata": {},
     "output_type": "display_data"
    }
   ],
   "source": [
    "with plt.style.context(lk.MPLSTYLE):\n",
    "    plt.plot(f, p)\n",
    "    plt.plot(f, mod.model(init_m, theano=False), lw=3)\n",
    "#     plt.yscale('log')\n",
    "#     plt.xscale('log')\n",
    "    if cpu == 'bear':\n",
    "        plt.savefig('redata.png')\n",
    "    else: plt.show()"
   ]
  },
  {
   "cell_type": "code",
   "execution_count": 15,
   "metadata": {},
   "outputs": [
    {
     "ename": "SystemExit",
     "evalue": "",
     "output_type": "error",
     "traceback": [
      "An exception has occurred, use %tb to see the full traceback.\n",
      "\u001b[0;31mSystemExit\u001b[0m\n"
     ]
    }
   ],
   "source": [
    "sys.exit()"
   ]
  },
  {
   "cell_type": "markdown",
   "metadata": {},
   "source": [
    "# Now lets try and fit this"
   ]
  },
  {
   "cell_type": "markdown",
   "metadata": {},
   "source": [
    "## Building the initial guesses"
   ]
  },
  {
   "cell_type": "code",
   "execution_count": null,
   "metadata": {},
   "outputs": [],
   "source": [
    "init = {}\n",
    "init['numax'] = numax_\n",
    "init['alpha'] = alpha_\n",
    "init['epsilon'] = epsilon_\n",
    "init['d01'] = d01_\n",
    "init['d02'] = d02_\n",
    "init['sigma0'] = sigma0_\n",
    "init['sigma1'] = sigma1_\n",
    "init['sigma2'] = sigma2_\n",
    "\n",
    "init['g0'] = widths[0]\n",
    "init['g1'] = widths[1]\n",
    "init['g2'] = widths[2]\n",
    "\n",
    "init['w'] = w_\n",
    "init['A'] = A_\n",
    "init['V1'] = V1_\n",
    "init['V2'] = V2_\n",
    "init['sigmaA'] = sigmaA_\n",
    "\n",
    "init['a0'] = amps[0]\n",
    "init['a1'] = amps[1]\n",
    "init['a2'] = amps[2]\n",
    "\n",
    "init['xsplit'] = split_ * np.sin(incl_)\n",
    "init['cosi'] = np.cos(incl_)"
   ]
  },
  {
   "cell_type": "markdown",
   "metadata": {},
   "source": [
    "## Building the model"
   ]
  },
  {
   "cell_type": "code",
   "execution_count": null,
   "metadata": {
    "scrolled": false
   },
   "outputs": [],
   "source": [
    "pm_model = pm.Model()\n",
    "\n",
    "with pm_model:   \n",
    "    # Mode locations\n",
    "    numax =  pm.Normal('numax', init['numax'], 10., testval = init['numax'])\n",
    "    alpha =  pm.Normal('alpha', init['alpha'], 0.01, testval = init['alpha'])\n",
    "    epsilon = pm.Normal('epsilon', init['epsilon'], 1., testval = init['epsilon'])\n",
    "    d01     = pm.Normal('d01', init['d01'], 0.1, testval = init['d01'])\n",
    "    d02     = pm.Normal('d02', init['d02'], 0.1, testval = init['d02'])\n",
    "\n",
    "    sigma0 = pm.HalfCauchy('sigma0', 2., testval = init['sigma0'])\n",
    "    sigma1 = pm.HalfCauchy('sigma1', 2., testval = init['sigma1'])\n",
    "    sigma2 = pm.HalfCauchy('sigma2', 2., testval = init['sigma2'])\n",
    "\n",
    "    f0 = pm.Normal('f0', mod.f0([numax, alpha, epsilon, d01, d02]), sigma0, shape=len(f0_))\n",
    "    f1 = pm.Normal('f1', mod.f1([numax, alpha, epsilon, d01, d02]), sigma1, shape=len(f1_))\n",
    "    f2 = pm.Normal('f2', mod.f2([numax, alpha, epsilon, d01, d02]), sigma2, shape=len(f2_))\n",
    "\n",
    "    # Mode Linewidths\n",
    "    g0 = pm.HalfNormal('g0', sigma=2.0, shape=len(init['g0']), testval=init['g0'])\n",
    "    g1 = pm.HalfNormal('g1', sigma=2.0, shape=len(init['g1']), testval=init['g1'])\n",
    "    g2 = pm.HalfNormal('g2', sigma=2.0, shape=len(init['g2']), testval=init['g2'])\n",
    "\n",
    "    # Mode Amplitude & Height\n",
    "    w = pm.Normal('w', init['w'], 10., testval=init['w'])\n",
    "    A = pm.Normal('A', init['A'], 1., testval=init['A'])\n",
    "    V1 = pm.Normal('V1', init['V1'], 0.1, testval=init['V1'])\n",
    "    V2 = pm.Normal('V2', init['V2'], 0.1, testval=init['V2'])\n",
    "\n",
    "    sigmaA = pm.HalfCauchy('sigmaA', 1., testval = init['sigmaA'])\n",
    "    Da0 = pm.Normal('Da0',0, 1, shape=len(f0_))\n",
    "    Da1 = pm.Normal('Da1',0, 1, shape=len(f1_))\n",
    "    Da2 = pm.Normal('Da2',0, 1, shape=len(f2_))\n",
    "\n",
    "    a0 = pm.Deterministic('a0', sigmaA * Da0 + mod.A0(f0_, [numax, w, A, V1, V2]))\n",
    "    a1 = pm.Deterministic('a1', sigmaA * Da1 + mod.A1(f1_, [numax, w, A, V1, V2]))\n",
    "    a2 = pm.Deterministic('a2', sigmaA * Da2 + mod.A2(f2_, [numax, w, A, V1, V2]))\n",
    "\n",
    "    h0 = pm.Deterministic('h0', 2*tt.sqr(a0)/np.pi/g0)\n",
    "    h1 = pm.Deterministic('h1', 2*tt.sqr(a1)/np.pi/g1)\n",
    "    h2 = pm.Deterministic('h2', 2*tt.sqr(a2)/np.pi/g2)\n",
    "\n",
    "    # Mode splitting\n",
    "    xsplit = pm.HalfNormal('xsplit', sigma=2.0, testval = init['xsplit'])\n",
    "    cosi = pm.Uniform('cosi', 0., 1., testval = init['cosi'])\n",
    "\n",
    "    i = pm.Deterministic('i', tt.arccos(cosi))\n",
    "    split = pm.Deterministic('split', xsplit/tt.sin(i))\n",
    "    \n",
    "    # Background treatment\n",
    "    aphi = pm.MvNormal('aphi', mu=aphi_, chol=aphi_cholesky, testval=aphi_, shape=len(aphi_))\n",
    "    bphi = pm.Normal('bphi', mu=bphi_, sigma=bphi_sigma, testval=bphi_, shape=len(bphi_))\n",
    "    \n",
    "    # Construct model\n",
    "    fit = mod.model([f0, f1, f2, g0, g1, g2, h0, h1, h2, split, i, aphi, bphi])\n",
    "    \n",
    "    like = pm.Gamma('like', alpha=1., beta=1./fit, observed=p)"
   ]
  },
  {
   "cell_type": "code",
   "execution_count": null,
   "metadata": {},
   "outputs": [],
   "source": [
    "for RV in pm_model.basic_RVs:\n",
    "    print(RV.name, RV.logp(pm_model.test_point))"
   ]
  },
  {
   "cell_type": "code",
   "execution_count": null,
   "metadata": {
    "scrolled": false
   },
   "outputs": [],
   "source": [
    "with pm_model:\n",
    "    trace = pm.sample(tune=100, draws=100,\n",
    "                      chains=4,\n",
    "                      target_accept=.99,\n",
    "                      start = init,\n",
    "                      init = 'adapt_diag')"
   ]
  },
  {
   "cell_type": "code",
   "execution_count": null,
   "metadata": {},
   "outputs": [],
   "source": [
    "df = pm.backends.tracetab.trace_to_dataframe(trace)\n",
    "df.to_csv('retestchains.csv')"
   ]
  },
  {
   "cell_type": "code",
   "execution_count": null,
   "metadata": {},
   "outputs": [],
   "source": [
    "pm.summary(trace)"
   ]
  },
  {
   "cell_type": "code",
   "execution_count": null,
   "metadata": {
    "scrolled": false
   },
   "outputs": [],
   "source": [
    "labels = ['numax','alpha','epsilon','d01','d02',\n",
    "          'split','i']\n",
    "chain = np.array([trace[label] for label in labels])\n",
    "truths = [numax_, alpha_, epsilon_, d01_, d02_,\n",
    "         split_, incl_]\n",
    "corner.corner(chain.T, labels=labels, truths=truths, quantiles=[.16, .5, .84], truth_color='r',show_titles=True)\n",
    "if cpu == 'bear':\n",
    "    plt.savefig('recorner1.png')\n",
    "else: plt.show()"
   ]
  },
  {
   "cell_type": "code",
   "execution_count": null,
   "metadata": {},
   "outputs": [],
   "source": [
    "labels = ['sigma0','sigma1','sigma2','w','A','V1','V2','sigmaA']\n",
    "chain = np.array([trace[label] for label in labels])\n",
    "truths = [sigma0_, sigma1_, sigma2_,w_, A_, V1_, V2_, 0.2]\n",
    "corner.corner(chain.T, labels=labels, truths=truths, quantiles=[.16, .5, .84], truth_color='r',show_titles=True)\n",
    "if cpu == 'bear':\n",
    "    plt.savefig('recorner2.png')\n",
    "else: plt.show()"
   ]
  },
  {
   "cell_type": "code",
   "execution_count": null,
   "metadata": {},
   "outputs": [],
   "source": [
    "with plt.style.context(lk.MPLSTYLE):\n",
    "    res_m = [np.median(trace[label], axis=0) for label in ['f0','f1','f2','g0','g1','g2',\n",
    "                                                         'h0','h1','h2','split','i','aphi','bphi']]\n",
    "    plt.plot(f, p)\n",
    "    plt.plot(f, mod.model(res_m, theano=False), lw=3)\n",
    "    if cpu == 'bear':\n",
    "        plt.savefig('remodelfit.png')\n",
    "    else: plt.show()\n",
    "    \n",
    "    fig, ax = plt.subplots()\n",
    "    res = [np.median(trace[label]) for label in ['numax', 'w', 'A', 'V1','V2']]\n",
    "    resls = [np.median(trace[label],axis=0) for label in ['a0','a1','a2']]\n",
    "       \n",
    "    ax.plot(f0_, mod.A0(f0_, res,theano=False), label='0 Trend',lw=2, zorder=1)\n",
    "    ax.plot(f1_, mod.A1(f1_, res,theano=False), label='1 Trend',lw=2, zorder=1)\n",
    "    ax.plot(f2_, mod.A2(f2_, res,theano=False), label='2 Trend',lw=2, zorder=1)\n",
    "\n",
    "    ax.scatter(f0_, amps[0], marker='^',label='0 Errd',  s=50, zorder=2)\n",
    "    ax.scatter(f1_, amps[1], marker='*',label='1 Errd',  s=50, zorder=2)\n",
    "    ax.scatter(f2_, amps[2], marker='o',label='2 Errd',  s=50, zorder=2)   \n",
    "  \n",
    "    ax.plot(f0_, mod.A0(f0_, init_h, theano=False), label='0 Pure',lw=2, zorder=1)\n",
    "    ax.plot(f1_, mod.A1(f1_, init_h, theano=False), label='1 Pure',lw=2, zorder=1)\n",
    "    ax.plot(f2_, mod.A2(f2_, init_h, theano=False), label='2 Pure',lw=2, zorder=1)\n",
    "\n",
    "    ax.scatter(f0_, resls[0], marker='^',label='0 mod', s=10, zorder=3)\n",
    "    ax.scatter(f1_, resls[1], marker='*',label='1 mod', s=10, zorder=3)\n",
    "    ax.scatter(f2_, resls[2], marker='o',label='2 mod', s=10, zorder=3)    \n",
    "    \n",
    "    ax.legend(loc='upper center', ncol=4, bbox_to_anchor=(0.5, 1.3))      \n",
    "    ax.set_xlabel('Frequency')\n",
    "    ax.set_ylabel('Amplitude')\n",
    "    \n",
    "    if cpu == 'bear':\n",
    "        plt.savefig('reamplitudefit.png')\n",
    "    else: plt.show()\n",
    "    \n",
    "    fig, ax = plt.subplots()\n",
    "    res = [np.median(trace[label]) for label in ['numax', 'alpha', 'epsilon','d01','d02']]\n",
    "    resls = [np.median(trace[label],axis=0) for label in ['f0','f1','f2']]\n",
    "    stdls = [np.std(trace[label],axis=0) for label in ['f0','f1','f2']]\n",
    "       \n",
    "    ax.plot(mod.f0(res)%deltanu_, n0_, label='0 Trend',lw=2, zorder=1)\n",
    "    ax.plot(mod.f1(res)%deltanu_, n1_, label='1 Trend',lw=2, zorder=1)\n",
    "    ax.plot(mod.f2(res)%deltanu_, n2_, label='2 Trend',lw=2, zorder=1)\n",
    "\n",
    "    ax.scatter(f0_%deltanu_, n0_, marker='^',label='0 Truth (glitch)',  s=50, zorder=2)\n",
    "    ax.scatter(f1_%deltanu_, n1_, marker='*',label='1 Truth (glitch)',  s=50, zorder=2)\n",
    "    ax.scatter(f2_%deltanu_, n2_, marker='o',label='2 Truth (glitch)',  s=50, zorder=2)   \n",
    "    \n",
    "    ax.plot(f0_true%deltanu_, n0_, alpha=.5, label='0 Truth (pure)',  lw=2, zorder=1)\n",
    "    ax.plot(f1_true%deltanu_, n1_, alpha=.5, label='1 Truth (pure)',  lw=2, zorder=1)\n",
    "    ax.plot(f2_true%deltanu_, n2_, alpha=.5, label='2 Truth (pure)',  lw=2, zorder=1)      \n",
    "    \n",
    "    ax.scatter(resls[0]%deltanu_, n0_, marker='^',label='0 mod', s=10, zorder=3)\n",
    "    ax.scatter(resls[1]%deltanu_, n1_, marker='*',label='1 mod', s=10, zorder=3)\n",
    "    ax.scatter(resls[2]%deltanu_, n2_, marker='o',label='2 mod', s=10, zorder=3)    \n",
    "    \n",
    "    ax.set_xlabel(r'Frequency mod $\\Delta\\nu$')\n",
    "    ax.set_ylabel('Overtone order n')\n",
    "    ax.legend(loc='upper center', ncol=4, bbox_to_anchor=(0.5, 1.3))    \n",
    "    \n",
    "    if cpu == 'bear':\n",
    "        plt.savefig('refrequencyfit.png')\n",
    "    else: plt.show()    "
   ]
  },
  {
   "cell_type": "code",
   "execution_count": null,
   "metadata": {},
   "outputs": [],
   "source": [
    "with plt.style.context(lk.MPLSTYLE):\n",
    "    fig, ax = plt.subplots()\n",
    "\n",
    "    ax.scatter(f0_, widths[0], label='truth', ec='k',s=50,zorder=5)\n",
    "    ax.scatter(f1_, widths[1], label='truth 1', ec='k',s=50,zorder=5)\n",
    "    ax.scatter(f2_, widths[2], label='truth 2', ec='k',s=50,zorder=5) \n",
    "    \n",
    "    ax.scatter(f0_, np.median(trace['g0'],axis=0), marker='^', ec='k', label='mod', s=10,zorder=5)\n",
    "    ax.scatter(f1_, np.median(trace['g1'],axis=0), marker='*', ec='k', label='mod 1', s=10,zorder=5)\n",
    "    ax.scatter(f2_, np.median(trace['g2'],axis=0), marker='o', ec='k', label='mod 2', s=10,zorder=5)        \n",
    "    \n",
    "    ax.errorbar(f0_, np.median(trace['g0'],axis=0), yerr=np.std(trace['g0'],axis=0), fmt='|', c='k', lw=3, alpha=.5)\n",
    "    ax.errorbar(f1_, np.median(trace['g1'],axis=0), yerr=np.std(trace['g1'],axis=0), fmt='|', c='k', lw=3, alpha=.5)\n",
    "    ax.errorbar(f2_, np.median(trace['g2'],axis=0), yerr=np.std(trace['g2'],axis=0), fmt='|', c='k', lw=3, alpha=.5)          \n",
    "     \n",
    "    ax.legend(loc='upper center', ncol=2, bbox_to_anchor=(0.5, 1.3))    \n",
    "    if cpu == 'bear':\n",
    "        plt.savefig('widthfit.png')\n",
    "    else: plt.show()        "
   ]
  },
  {
   "cell_type": "code",
   "execution_count": null,
   "metadata": {},
   "outputs": [],
   "source": [
    "labels=['loga','logb','logc','logd','logj','logk',\n",
    "        'white','scale','nyq']\n",
    "verbose=[r'$\\log_{10}a$',r'$\\log_{10}b$',\n",
    "        r'$\\log_{10}c$',r'$\\log_{10}d$',\n",
    "        r'$\\log_{10}j$',r'$\\log_{10}k$',\n",
    "        'white','scale',r'$\\nu_{\\rm nyq}$']\n",
    "\n",
    "aphichain = np.array([trace['aphi'][:, idx] for idx in range(len(aphi_))]).T\n",
    "bphichain = np.array([trace['bphi'][:, idx] for idx in range(len(bphi_))]).T\n",
    "phichain = np.concatenate((aphichain, bphichain),axis=1)\n",
    "truth = np.concatenate((aphi_, bphi_))\n",
    "\n",
    "corner.corner(phichain, truths=truth, show_titles=True, labels=verbose)\n",
    "if cpu == 'bear':\n",
    "    plt.savefig('rebackcorner.png')\n",
    "else: plt.show() "
   ]
  },
  {
   "cell_type": "code",
   "execution_count": null,
   "metadata": {},
   "outputs": [],
   "source": [
    "residual = p/mod.model(res_m, theano=False)\n",
    "sns.distplot(residual, label='Model')\n",
    "sns.distplot(np.random.chisquare(2, size=10000)/2, label=r'Chi22')\n",
    "plt.legend()"
   ]
  },
  {
   "cell_type": "code",
   "execution_count": null,
   "metadata": {},
   "outputs": [],
   "source": [
    "sys.exit()"
   ]
  }
 ],
 "metadata": {
  "kernelspec": {
   "display_name": "Python 3",
   "language": "python",
   "name": "python3"
  },
  "language_info": {
   "codemirror_mode": {
    "name": "ipython",
    "version": 3
   },
   "file_extension": ".py",
   "mimetype": "text/x-python",
   "name": "python",
   "nbconvert_exporter": "python",
   "pygments_lexer": "ipython3",
   "version": "3.7.3"
  }
 },
 "nbformat": 4,
 "nbformat_minor": 2
}
