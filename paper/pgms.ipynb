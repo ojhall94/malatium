{
 "cells": [
  {
   "cell_type": "markdown",
   "metadata": {},
   "source": [
    "# Building PGMs for the paper using daft"
   ]
  },
  {
   "cell_type": "code",
   "execution_count": 1,
   "metadata": {},
   "outputs": [],
   "source": [
    "from matplotlib import rc\n",
    "import matplotlib.pyplot as plt\n",
    "import sys\n",
    "rc(\"font\", family=\"serif\", size=10)\n",
    "rc(\"text\", usetex=True)\n",
    "\n",
    "import daft"
   ]
  },
  {
   "cell_type": "markdown",
   "metadata": {},
   "source": [
    "## Model\n",
    "\n",
    "For a single star, we have:\n",
    "\n",
    "\\begin{equation}\n",
    "p(P_s, \\theta\\ |\\ \\mathcal{D}) = p(\\mathcal{D}\\ |\\ \\theta)\\ p(\\theta\\ |\\ Q_WMB)\\ p(Q_WMB)\\, ,\\text{where}\\\\\n",
    "p(\\mathcal{D}\\ |\\ \\theta) = \\mathcal{N}(\\mathcal{D} - \\theta, \\sigma_{\\mathcal{D}})\\, ,\\\\\n",
    "p(\\theta\\ |\\ Q_WMB) = Q_WMB\\ \\text{KDE}_WMB(\\theta) + (1-Q_WMB)\\text{KDE}_{s}(\\theta)\\, ,\\\\\n",
    "p(P_s) = U(0, 1)\\, ,\n",
    "\\end{equation}"
   ]
  },
  {
   "cell_type": "markdown",
   "metadata": {},
   "source": [
    "where $\\theta$ are latent parameters for mass, temperature, age and rotation ($\\theta = \\{M, T_{\\rm eff}, \\tau, P\\}$), drawn from a mixture model of two Kernel Density Estimates (KDEs), modulated by a mixture parameter $P_s$."
   ]
  },
  {
   "cell_type": "code",
   "execution_count": 2,
   "metadata": {},
   "outputs": [
    {
     "data": {
      "text/plain": [
       "<daft.Edge at 0x7fa96f1c6ca0>"
      ]
     },
     "execution_count": 2,
     "metadata": {},
     "output_type": "execute_result"
    }
   ],
   "source": [
    "#Instantiate the PGM\n",
    "sy = 1.\n",
    "sx = 1.\n",
    "pgm = daft.PGM(shape=[2.5*sx,2.7*sy])\n",
    "\n",
    "# Ps\n",
    "pgm.add_node(daft.Node(\"Ps\", r\"$Q_{\\rm WMB}$\", 1.5*sx, 2.5*sy, fontsize=7))\n",
    "\n",
    "#p(theta | Ps, KDEs, KDEro)\n",
    "pgm.add_node(daft.Node(\"theta\", r\"$\\theta$\", 1.5*sx, 1.5*sy))\n",
    "pgm.add_node(daft.Node(\"KDEs\", r\"$\\kappa_{\\rm s}$\", 0.5*sx, 1.5*sy, offset=(0,-5), fixed=True))\n",
    "pgm.add_node(daft.Node(\"KDEro\", r\"$\\kappa_{\\rm WMB}$\", 2.5*sx, 1.5*sy, offset=(0,-5), fixed=True))\n",
    "\n",
    "#p(D | theta)\n",
    "pgm.add_node(daft.Node(\"D\", r\"$\\mathcal{D}$\", 1.5*sx, 0.5*sy, observed=True))\n",
    "pgm.add_node(daft.Node(\"sigD\", r\"$\\sigma_{\\mathcal{D}}$\", 2.5*sx, 0.5*sy, offset=(0, -5), fixed=True))\n",
    "\n",
    "# #Add in edges\n",
    "pgm.add_edge('Ps','theta')\n",
    "pgm.add_edge('KDEs', 'theta')\n",
    "pgm.add_edge('KDEro', 'theta')\n",
    "pgm.add_edge('theta', 'D')\n",
    "pgm.add_edge('sigD', 'D')"
   ]
  },
  {
   "cell_type": "code",
   "execution_count": 3,
   "metadata": {
    "scrolled": false
   },
   "outputs": [
    {
     "data": {
      "image/png": "[encoded data removed]",
      "text/plain": [
       "<Figure size 141.732x153.071 with 1 Axes>"
      ]
     },
     "metadata": {},
     "output_type": "display_data"
    }
   ],
   "source": [
    "pgm.render()\n",
    "pgm.figure.savefig('natastron/2nd_draft/Images/pgm_models.pdf')\n",
    "# pgm.figure.savefig(\"/Users/Oliver/PhD/arcanum/Chapters/6_Chapter/Images/pgm_models.pdf\")\n",
    "# pgm.figure.savefig(\"pgm_models.pdf\")\n",
    "pgm.figure.savefig(\"natastron/Publication/Images/pgm_models.jpg\", dpi=300)\n",
    "plt.show()"
   ]
  },
  {
   "cell_type": "code",
   "execution_count": null,
   "metadata": {},
   "outputs": [],
   "source": []
  },
  {
   "cell_type": "code",
   "execution_count": null,
   "metadata": {},
   "outputs": [],
   "source": []
  }
 ],
 "metadata": {
  "kernelspec": {
   "display_name": "Python 3",
   "language": "python",
   "name": "python3"
  },
  "language_info": {
   "codemirror_mode": {
    "name": "ipython",
    "version": 3
   },
   "file_extension": ".py",
   "mimetype": "text/x-python",
   "name": "python",
   "nbconvert_exporter": "python",
   "pygments_lexer": "ipython3",
   "version": "3.8.3"
  }
 },
 "nbformat": 4,
 "nbformat_minor": 2
}
