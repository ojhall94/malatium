{
 "cells": [
  {
   "cell_type": "markdown",
   "metadata": {},
   "source": [
    "# Building PGMs for the paper using daft"
   ]
  },
  {
   "cell_type": "code",
   "execution_count": 7,
   "metadata": {},
   "outputs": [],
   "source": [
    "from matplotlib import rc\n",
    "import matplotlib.pyplot as plt\n",
    "import sys\n",
    "rc(\"font\", family=\"serif\", size=20)\n",
    "rc(\"text\", usetex=True)\n",
    "\n",
    "import daft"
   ]
  },
  {
   "cell_type": "markdown",
   "metadata": {},
   "source": [
    "## Model\n",
    "\n",
    "For a single star, we have:\n",
    "\n",
    "\\begin{equation}\n",
    "p(P_s, \\theta\\ |\\ \\mathcal{D}) = p(\\mathcal{D}\\ |\\ \\theta)\\ p(\\theta\\ |\\ P_s)\\ p(P_s)\\, ,\\text{where}\\\\\n",
    "p(\\mathcal{D}\\ |\\ \\theta) = \\mathcal{N}(\\mathcal{D} - \\theta, \\sigma_{\\mathcal{D}})\\, ,\\\\\n",
    "p(\\theta\\ |\\ P_s) = P_s\\ \\text{KDE}_s(\\theta) + (1-P_s)\\text{KDE}_{Ro}(\\theta)\\, ,\\\\\n",
    "p(P_s) = U(0, 1)\\, ,\n",
    "\\end{equation}"
   ]
  },
  {
   "cell_type": "markdown",
   "metadata": {},
   "source": [
    "where $\\theta$ are latent parameters for mass, temperature, age and rotation ($\\theta = \\{M, T_{\\rm eff}, \\tau, P\\}$), drawn from a mixture model of two Kernel Density Estimates (KDEs), modulated by a mixture parameter $P_s$."
   ]
  },
  {
   "cell_type": "code",
   "execution_count": 9,
   "metadata": {},
   "outputs": [
    {
     "data": {
      "text/plain": [
       "<daft.Edge at 0x7f3830b42cc0>"
      ]
     },
     "execution_count": 9,
     "metadata": {},
     "output_type": "execute_result"
    }
   ],
   "source": [
    "#Instantiate the PGM\n",
    "sy = 1.5\n",
    "sx = 1.5\n",
    "pgm = daft.PGM(shape=[3*sx,3*sy])\n",
    "\n",
    "# Ps\n",
    "pgm.add_node(daft.Node(\"Ps\", r\"$P_s$\", 1.5*sx, 2.5*sy, scale=2))\n",
    "\n",
    "#p(theta | Ps, KDEs, KDEro)\n",
    "pgm.add_node(daft.Node(\"theta\", r\"$\\underline{\\theta}$\", 1.5*sx, 1.5*sy, scale=2))\n",
    "pgm.add_node(daft.Node(\"KDEs\", r\"$\\rm{KDE_s}$\", 0.5*sx, 1.5*sy, scale=2, offset=(0, -20), fixed=True))\n",
    "pgm.add_node(daft.Node(\"KDEro\", r\"$\\rm{KDE_{R_{o}}}$\", 2.5*sx, 1.5*sy, scale=2, offset=(0, -20), fixed=True))\n",
    "\n",
    "#p(D | theta)\n",
    "pgm.add_node(daft.Node(\"D\", r\"$\\underline{\\mathcal{D}}$\", 1.5*sx, 0.5*sy, scale=2, observed=True))\n",
    "pgm.add_node(daft.Node(\"sigD\", r\"$\\underline{\\sigma_{\\mathcal{D}}}$\", 2.5*sx, 0.5*sy, scale=2, offset=(0, -15), fixed=True))\n",
    "\n",
    "# #Add in edges\n",
    "pgm.add_edge('Ps','theta')\n",
    "pgm.add_edge('KDEs', 'theta')\n",
    "pgm.add_edge('KDEro', 'theta')\n",
    "pgm.add_edge('theta', 'D')\n",
    "pgm.add_edge('sigD', 'D')"
   ]
  },
  {
   "cell_type": "code",
   "execution_count": 11,
   "metadata": {
    "scrolled": false
   },
   "outputs": [
    {
     "data": {
      "image/png": "[encoded data removed]",
      "text/plain": [
       "<Figure size 255.118x255.118 with 1 Axes>"
      ]
     },
     "metadata": {},
     "output_type": "display_data"
    }
   ],
   "source": [
    "pgm.render()\n",
    "pgm.figure.savefig(\"pgm_models.pdf\")\n",
    "pgm.figure.savefig(\"pgm_models.png\", dpi=300)\n",
    "plt.show()"
   ]
  },
  {
   "cell_type": "code",
   "execution_count": null,
   "metadata": {},
   "outputs": [],
   "source": []
  }
 ],
 "metadata": {
  "kernelspec": {
   "display_name": "Python 3",
   "language": "python",
   "name": "python3"
  },
  "language_info": {
   "codemirror_mode": {
    "name": "ipython",
    "version": 3
   },
   "file_extension": ".py",
   "mimetype": "text/x-python",
   "name": "python",
   "nbconvert_exporter": "python",
   "pygments_lexer": "ipython3",
   "version": "3.7.3"
  }
 },
 "nbformat": 4,
 "nbformat_minor": 2
}
