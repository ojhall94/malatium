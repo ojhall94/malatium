{
 "cells": [
  {
   "cell_type": "markdown",
   "metadata": {},
   "source": [
    "# Literature comparisons"
   ]
  },
  {
   "cell_type": "markdown",
   "metadata": {},
   "source": [
    "We want to make a comparisonb etween our stars and literature values. We'll do this twice:\n",
    "- One comparison to LEGACY and Kages\n",
    "- One comparison to published asteroseismic rotation rates"
   ]
  },
  {
   "cell_type": "code",
   "execution_count": 1,
   "metadata": {},
   "outputs": [
    {
     "name": "stderr",
     "output_type": "stream",
     "text": [
      "/Users/Oliver/Library/Python/3.7/lib/python/site-packages/statsmodels/tools/_testing.py:19: FutureWarning: pandas.util.testing is deprecated. Use the functions in the public API at pandas.testing instead.\n",
      "  import pandas.util.testing as tm\n"
     ]
    }
   ],
   "source": [
    "import numpy as np\n",
    "import glob\n",
    "import pandas as pd\n",
    "import matplotlib.pyplot as plt\n",
    "import seaborn as sns\n",
    "import astropy.units as u\n",
    "\n",
    "sns.set_palette('colorblind')\n",
    "sns.set_context('poster')"
   ]
  },
  {
   "cell_type": "code",
   "execution_count": 2,
   "metadata": {},
   "outputs": [],
   "source": [
    "def mnras_size(fig_width_pt, square=False):\n",
    "    inches_per_pt = 1.0/72.00              # Convert pt to inches\n",
    "    golden_mean = (np.sqrt(5)-1.0)/2.0     # Most aesthetic ratio\n",
    "    fig_width = fig_width_pt*inches_per_pt # Figure width in inches\n",
    "    if square:\n",
    "        fig_height = fig_width\n",
    "    else:\n",
    "        fig_height = fig_width*golden_mean\n",
    "    return [fig_width,fig_height]"
   ]
  },
  {
   "cell_type": "code",
   "execution_count": 3,
   "metadata": {},
   "outputs": [
    {
     "name": "stdout",
     "output_type": "stream",
     "text": [
      "We have 94 stars with results\n"
     ]
    }
   ],
   "source": [
    "ati = pd.read_csv('../data/atium.csv',index_col=0)\n",
    "ati = ati[ati.eye_flag != 3]\n",
    "ati = ati[np.isfinite(ati.nus.values)]\n",
    "print(f'We have {len(ati)} stars with results')"
   ]
  },
  {
   "cell_type": "markdown",
   "metadata": {},
   "source": [
    "Read in the LEGACY & Kages literature results"
   ]
  },
  {
   "cell_type": "code",
   "execution_count": 4,
   "metadata": {},
   "outputs": [
    {
     "data": {
      "text/html": [
       "<div>\n",
       "<style scoped>\n",
       "    .dataframe tbody tr th:only-of-type {\n",
       "        vertical-align: middle;\n",
       "    }\n",
       "\n",
       "    .dataframe tbody tr th {\n",
       "        vertical-align: top;\n",
       "    }\n",
       "\n",
       "    .dataframe thead th {\n",
       "        text-align: right;\n",
       "    }\n",
       "</style>\n",
       "<table border=\"1\" class=\"dataframe\">\n",
       "  <thead>\n",
       "    <tr style=\"text-align: right;\">\n",
       "      <th></th>\n",
       "      <th>KIC</th>\n",
       "      <th>i</th>\n",
       "      <th>u_i</th>\n",
       "      <th>l_i</th>\n",
       "      <th>nus</th>\n",
       "      <th>l_nus</th>\n",
       "      <th>u_nus</th>\n",
       "      <th>nus*</th>\n",
       "      <th>l_nus*</th>\n",
       "      <th>u_nus*</th>\n",
       "      <th>P</th>\n",
       "      <th>l_P</th>\n",
       "      <th>u_P</th>\n",
       "      <th>label</th>\n",
       "    </tr>\n",
       "  </thead>\n",
       "  <tbody>\n",
       "    <tr>\n",
       "      <th>0</th>\n",
       "      <td>1435467</td>\n",
       "      <td>57.190635</td>\n",
       "      <td>11.73913</td>\n",
       "      <td>8.729097</td>\n",
       "      <td>1.653867</td>\n",
       "      <td>0.26038</td>\n",
       "      <td>0.212415</td>\n",
       "      <td>1.356938</td>\n",
       "      <td>0.088360</td>\n",
       "      <td>0.106032</td>\n",
       "      <td>8.529554</td>\n",
       "      <td>0.078141</td>\n",
       "      <td>0.065117</td>\n",
       "      <td>L</td>\n",
       "    </tr>\n",
       "    <tr>\n",
       "      <th>1</th>\n",
       "      <td>2837475</td>\n",
       "      <td>82.474916</td>\n",
       "      <td>5.41806</td>\n",
       "      <td>7.224080</td>\n",
       "      <td>2.680312</td>\n",
       "      <td>0.15924</td>\n",
       "      <td>0.156055</td>\n",
       "      <td>2.607719</td>\n",
       "      <td>0.145851</td>\n",
       "      <td>0.145851</td>\n",
       "      <td>4.438390</td>\n",
       "      <td>0.055930</td>\n",
       "      <td>0.055930</td>\n",
       "      <td>L</td>\n",
       "    </tr>\n",
       "  </tbody>\n",
       "</table>\n",
       "</div>"
      ],
      "text/plain": [
       "       KIC          i       u_i       l_i       nus    l_nus     u_nus  \\\n",
       "0  1435467  57.190635  11.73913  8.729097  1.653867  0.26038  0.212415   \n",
       "1  2837475  82.474916   5.41806  7.224080  2.680312  0.15924  0.156055   \n",
       "\n",
       "       nus*    l_nus*    u_nus*         P       l_P       u_P label  \n",
       "0  1.356938  0.088360  0.106032  8.529554  0.078141  0.065117     L  \n",
       "1  2.607719  0.145851  0.145851  4.438390  0.055930  0.055930     L  "
      ]
     },
     "execution_count": 4,
     "metadata": {},
     "output_type": "execute_result"
    }
   ],
   "source": [
    "col = pd.read_csv('../data/LK_private.csv', index_col=0)\n",
    "col.head(2)"
   ]
  },
  {
   "cell_type": "code",
   "execution_count": 5,
   "metadata": {},
   "outputs": [
    {
     "data": {
      "image/png": "[encoded data removed]",
      "text/plain": [
       "<Figure size 720x72 with 1 Axes>"
      ]
     },
     "metadata": {
      "needs_background": "light"
     },
     "output_type": "display_data"
    }
   ],
   "source": [
    "cmap = sns.color_palette('colorblind')\n",
    "sns.palplot(cmap)"
   ]
  },
  {
   "cell_type": "markdown",
   "metadata": {},
   "source": [
    "## Problem: there are a number of stars with anomalously high $\\Delta P$ values. Why?"
   ]
  },
  {
   "cell_type": "code",
   "execution_count": 6,
   "metadata": {},
   "outputs": [
    {
     "data": {
      "text/html": [
       "<div>\n",
       "<style scoped>\n",
       "    .dataframe tbody tr th:only-of-type {\n",
       "        vertical-align: middle;\n",
       "    }\n",
       "\n",
       "    .dataframe tbody tr th {\n",
       "        vertical-align: top;\n",
       "    }\n",
       "\n",
       "    .dataframe thead th {\n",
       "        text-align: right;\n",
       "    }\n",
       "</style>\n",
       "<table border=\"1\" class=\"dataframe\">\n",
       "  <thead>\n",
       "    <tr style=\"text-align: right;\">\n",
       "      <th></th>\n",
       "      <th>KIC</th>\n",
       "      <th>Teff</th>\n",
       "      <th>age</th>\n",
       "      <th>dnu</th>\n",
       "      <th>eTeff</th>\n",
       "      <th>ednu</th>\n",
       "      <th>efeh</th>\n",
       "      <th>enumax</th>\n",
       "      <th>feh</th>\n",
       "      <th>loage</th>\n",
       "      <th>...</th>\n",
       "      <th>eV2</th>\n",
       "      <th>l_P</th>\n",
       "      <th>P</th>\n",
       "      <th>u_P</th>\n",
       "      <th>l_vsini</th>\n",
       "      <th>vsini</th>\n",
       "      <th>u_vsini</th>\n",
       "      <th>rhat_flag</th>\n",
       "      <th>eye_flag</th>\n",
       "      <th>ebprp</th>\n",
       "    </tr>\n",
       "  </thead>\n",
       "  <tbody>\n",
       "    <tr>\n",
       "      <th>72</th>\n",
       "      <td>5094751</td>\n",
       "      <td>5952</td>\n",
       "      <td>6.35</td>\n",
       "      <td>91.10</td>\n",
       "      <td>75</td>\n",
       "      <td>2.30</td>\n",
       "      <td>0.10</td>\n",
       "      <td>117.0</td>\n",
       "      <td>-0.08</td>\n",
       "      <td>1.05</td>\n",
       "      <td>...</td>\n",
       "      <td>0.064797</td>\n",
       "      <td>15.797263</td>\n",
       "      <td>22.863403</td>\n",
       "      <td>19.270131</td>\n",
       "      <td>0.944645</td>\n",
       "      <td>2.260598</td>\n",
       "      <td>1.570572</td>\n",
       "      <td>NaN</td>\n",
       "      <td>0</td>\n",
       "      <td>0.000552</td>\n",
       "    </tr>\n",
       "    <tr>\n",
       "      <th>74</th>\n",
       "      <td>6196457</td>\n",
       "      <td>5871</td>\n",
       "      <td>5.52</td>\n",
       "      <td>66.60</td>\n",
       "      <td>94</td>\n",
       "      <td>1.10</td>\n",
       "      <td>0.11</td>\n",
       "      <td>53.0</td>\n",
       "      <td>0.17</td>\n",
       "      <td>0.48</td>\n",
       "      <td>...</td>\n",
       "      <td>0.066178</td>\n",
       "      <td>13.744758</td>\n",
       "      <td>20.692243</td>\n",
       "      <td>19.234686</td>\n",
       "      <td>1.454854</td>\n",
       "      <td>3.255217</td>\n",
       "      <td>2.130367</td>\n",
       "      <td>NaN</td>\n",
       "      <td>2</td>\n",
       "      <td>0.000525</td>\n",
       "    </tr>\n",
       "    <tr>\n",
       "      <th>80</th>\n",
       "      <td>8349582</td>\n",
       "      <td>5699</td>\n",
       "      <td>8.03</td>\n",
       "      <td>83.60</td>\n",
       "      <td>74</td>\n",
       "      <td>1.40</td>\n",
       "      <td>0.10</td>\n",
       "      <td>90.0</td>\n",
       "      <td>0.30</td>\n",
       "      <td>0.70</td>\n",
       "      <td>...</td>\n",
       "      <td>0.061851</td>\n",
       "      <td>14.946385</td>\n",
       "      <td>41.681731</td>\n",
       "      <td>19.565467</td>\n",
       "      <td>0.394957</td>\n",
       "      <td>1.417479</td>\n",
       "      <td>0.429410</td>\n",
       "      <td>rhat_01</td>\n",
       "      <td>1</td>\n",
       "      <td>0.000754</td>\n",
       "    </tr>\n",
       "    <tr>\n",
       "      <th>82</th>\n",
       "      <td>8494142</td>\n",
       "      <td>6144</td>\n",
       "      <td>2.62</td>\n",
       "      <td>61.80</td>\n",
       "      <td>106</td>\n",
       "      <td>0.76</td>\n",
       "      <td>0.10</td>\n",
       "      <td>81.0</td>\n",
       "      <td>0.13</td>\n",
       "      <td>0.24</td>\n",
       "      <td>...</td>\n",
       "      <td>0.058829</td>\n",
       "      <td>4.473030</td>\n",
       "      <td>14.516515</td>\n",
       "      <td>9.885001</td>\n",
       "      <td>2.333946</td>\n",
       "      <td>5.543068</td>\n",
       "      <td>1.801705</td>\n",
       "      <td>NaN</td>\n",
       "      <td>0</td>\n",
       "      <td>0.000616</td>\n",
       "    </tr>\n",
       "    <tr>\n",
       "      <th>83</th>\n",
       "      <td>8554498</td>\n",
       "      <td>5945</td>\n",
       "      <td>5.60</td>\n",
       "      <td>61.98</td>\n",
       "      <td>60</td>\n",
       "      <td>0.96</td>\n",
       "      <td>0.05</td>\n",
       "      <td>76.0</td>\n",
       "      <td>0.17</td>\n",
       "      <td>0.42</td>\n",
       "      <td>...</td>\n",
       "      <td>0.051353</td>\n",
       "      <td>31.391260</td>\n",
       "      <td>35.712069</td>\n",
       "      <td>25.611323</td>\n",
       "      <td>0.716408</td>\n",
       "      <td>1.941401</td>\n",
       "      <td>1.625287</td>\n",
       "      <td>NaN</td>\n",
       "      <td>1</td>\n",
       "      <td>0.000506</td>\n",
       "    </tr>\n",
       "    <tr>\n",
       "      <th>86</th>\n",
       "      <td>10514430</td>\n",
       "      <td>5784</td>\n",
       "      <td>7.84</td>\n",
       "      <td>70.00</td>\n",
       "      <td>98</td>\n",
       "      <td>1.00</td>\n",
       "      <td>0.11</td>\n",
       "      <td>30.0</td>\n",
       "      <td>-0.11</td>\n",
       "      <td>0.91</td>\n",
       "      <td>...</td>\n",
       "      <td>0.043947</td>\n",
       "      <td>27.248588</td>\n",
       "      <td>53.555235</td>\n",
       "      <td>23.592684</td>\n",
       "      <td>0.325289</td>\n",
       "      <td>1.227331</td>\n",
       "      <td>0.369696</td>\n",
       "      <td>NaN</td>\n",
       "      <td>0</td>\n",
       "      <td>0.000698</td>\n",
       "    </tr>\n",
       "    <tr>\n",
       "      <th>89</th>\n",
       "      <td>11133306</td>\n",
       "      <td>5982</td>\n",
       "      <td>5.14</td>\n",
       "      <td>107.90</td>\n",
       "      <td>82</td>\n",
       "      <td>1.90</td>\n",
       "      <td>0.10</td>\n",
       "      <td>95.0</td>\n",
       "      <td>-0.02</td>\n",
       "      <td>0.88</td>\n",
       "      <td>...</td>\n",
       "      <td>0.070763</td>\n",
       "      <td>10.024896</td>\n",
       "      <td>24.628326</td>\n",
       "      <td>14.319218</td>\n",
       "      <td>0.698724</td>\n",
       "      <td>2.009262</td>\n",
       "      <td>0.726716</td>\n",
       "      <td>NaN</td>\n",
       "      <td>0</td>\n",
       "      <td>0.000719</td>\n",
       "    </tr>\n",
       "  </tbody>\n",
       "</table>\n",
       "<p>7 rows × 62 columns</p>\n",
       "</div>"
      ],
      "text/plain": [
       "         KIC  Teff   age     dnu  eTeff  ednu  efeh  enumax   feh  loage  ...  \\\n",
       "72   5094751  5952  6.35   91.10     75  2.30  0.10   117.0 -0.08   1.05  ...   \n",
       "74   6196457  5871  5.52   66.60     94  1.10  0.11    53.0  0.17   0.48  ...   \n",
       "80   8349582  5699  8.03   83.60     74  1.40  0.10    90.0  0.30   0.70  ...   \n",
       "82   8494142  6144  2.62   61.80    106  0.76  0.10    81.0  0.13   0.24  ...   \n",
       "83   8554498  5945  5.60   61.98     60  0.96  0.05    76.0  0.17   0.42  ...   \n",
       "86  10514430  5784  7.84   70.00     98  1.00  0.11    30.0 -0.11   0.91  ...   \n",
       "89  11133306  5982  5.14  107.90     82  1.90  0.10    95.0 -0.02   0.88  ...   \n",
       "\n",
       "         eV2        l_P          P        u_P   l_vsini     vsini   u_vsini  \\\n",
       "72  0.064797  15.797263  22.863403  19.270131  0.944645  2.260598  1.570572   \n",
       "74  0.066178  13.744758  20.692243  19.234686  1.454854  3.255217  2.130367   \n",
       "80  0.061851  14.946385  41.681731  19.565467  0.394957  1.417479  0.429410   \n",
       "82  0.058829   4.473030  14.516515   9.885001  2.333946  5.543068  1.801705   \n",
       "83  0.051353  31.391260  35.712069  25.611323  0.716408  1.941401  1.625287   \n",
       "86  0.043947  27.248588  53.555235  23.592684  0.325289  1.227331  0.369696   \n",
       "89  0.070763  10.024896  24.628326  14.319218  0.698724  2.009262  0.726716   \n",
       "\n",
       "   rhat_flag  eye_flag     ebprp  \n",
       "72       NaN         0  0.000552  \n",
       "74       NaN         2  0.000525  \n",
       "80   rhat_01         1  0.000754  \n",
       "82       NaN         0  0.000616  \n",
       "83       NaN         1  0.000506  \n",
       "86       NaN         0  0.000698  \n",
       "89       NaN         0  0.000719  \n",
       "\n",
       "[7 rows x 62 columns]"
      ]
     },
     "execution_count": 6,
     "metadata": {},
     "output_type": "execute_result"
    }
   ],
   "source": [
    "dP = ati['P'] / col['P']\n",
    "anom = ati[dP > 2]\n",
    "anom"
   ]
  },
  {
   "cell_type": "code",
   "execution_count": 7,
   "metadata": {},
   "outputs": [
    {
     "data": {
      "text/html": [
       "<div>\n",
       "<style scoped>\n",
       "    .dataframe tbody tr th:only-of-type {\n",
       "        vertical-align: middle;\n",
       "    }\n",
       "\n",
       "    .dataframe tbody tr th {\n",
       "        vertical-align: top;\n",
       "    }\n",
       "\n",
       "    .dataframe thead th {\n",
       "        text-align: right;\n",
       "    }\n",
       "</style>\n",
       "<table border=\"1\" class=\"dataframe\">\n",
       "  <thead>\n",
       "    <tr style=\"text-align: right;\">\n",
       "      <th></th>\n",
       "      <th>KIC</th>\n",
       "      <th>i</th>\n",
       "      <th>u_i</th>\n",
       "      <th>l_i</th>\n",
       "      <th>nus</th>\n",
       "      <th>l_nus</th>\n",
       "      <th>u_nus</th>\n",
       "      <th>nus*</th>\n",
       "      <th>l_nus*</th>\n",
       "      <th>u_nus*</th>\n",
       "      <th>P</th>\n",
       "      <th>l_P</th>\n",
       "      <th>u_P</th>\n",
       "      <th>label</th>\n",
       "    </tr>\n",
       "  </thead>\n",
       "  <tbody>\n",
       "    <tr>\n",
       "      <th>72</th>\n",
       "      <td>5094751</td>\n",
       "      <td>9.902446</td>\n",
       "      <td>55.794923</td>\n",
       "      <td>5.399509</td>\n",
       "      <td>1.224562</td>\n",
       "      <td>1.665490</td>\n",
       "      <td>11.640204</td>\n",
       "      <td>0.210589</td>\n",
       "      <td>0.211961</td>\n",
       "      <td>0.211961</td>\n",
       "      <td>3.0</td>\n",
       "      <td>2.0</td>\n",
       "      <td>38.0</td>\n",
       "      <td>K</td>\n",
       "    </tr>\n",
       "    <tr>\n",
       "      <th>74</th>\n",
       "      <td>6196457</td>\n",
       "      <td>11.703580</td>\n",
       "      <td>62.994447</td>\n",
       "      <td>7.199365</td>\n",
       "      <td>1.307700</td>\n",
       "      <td>2.251614</td>\n",
       "      <td>16.410810</td>\n",
       "      <td>0.265265</td>\n",
       "      <td>0.254389</td>\n",
       "      <td>0.254389</td>\n",
       "      <td>3.0</td>\n",
       "      <td>2.0</td>\n",
       "      <td>32.0</td>\n",
       "      <td>K</td>\n",
       "    </tr>\n",
       "    <tr>\n",
       "      <th>80</th>\n",
       "      <td>8349582</td>\n",
       "      <td>8.101434</td>\n",
       "      <td>57.598910</td>\n",
       "      <td>5.399898</td>\n",
       "      <td>1.935835</td>\n",
       "      <td>7.048428</td>\n",
       "      <td>17.016594</td>\n",
       "      <td>0.272809</td>\n",
       "      <td>0.971810</td>\n",
       "      <td>0.971810</td>\n",
       "      <td>1.0</td>\n",
       "      <td>0.0</td>\n",
       "      <td>40.0</td>\n",
       "      <td>K</td>\n",
       "    </tr>\n",
       "    <tr>\n",
       "      <th>82</th>\n",
       "      <td>8494142</td>\n",
       "      <td>20.853467</td>\n",
       "      <td>59.268103</td>\n",
       "      <td>5.388009</td>\n",
       "      <td>1.414066</td>\n",
       "      <td>2.720806</td>\n",
       "      <td>27.897494</td>\n",
       "      <td>0.503378</td>\n",
       "      <td>0.352202</td>\n",
       "      <td>0.352202</td>\n",
       "      <td>5.0</td>\n",
       "      <td>2.0</td>\n",
       "      <td>18.0</td>\n",
       "      <td>K</td>\n",
       "    </tr>\n",
       "    <tr>\n",
       "      <th>83</th>\n",
       "      <td>8554498</td>\n",
       "      <td>8.099735</td>\n",
       "      <td>62.996846</td>\n",
       "      <td>7.199640</td>\n",
       "      <td>3.483630</td>\n",
       "      <td>9.279297</td>\n",
       "      <td>31.795979</td>\n",
       "      <td>0.490832</td>\n",
       "      <td>1.210936</td>\n",
       "      <td>1.210936</td>\n",
       "      <td>1.0</td>\n",
       "      <td>0.0</td>\n",
       "      <td>8.0</td>\n",
       "      <td>K</td>\n",
       "    </tr>\n",
       "    <tr>\n",
       "      <th>86</th>\n",
       "      <td>10514430</td>\n",
       "      <td>4.500820</td>\n",
       "      <td>84.598756</td>\n",
       "      <td>3.599947</td>\n",
       "      <td>1.896331</td>\n",
       "      <td>3.249291</td>\n",
       "      <td>12.953234</td>\n",
       "      <td>0.148811</td>\n",
       "      <td>0.251515</td>\n",
       "      <td>0.251515</td>\n",
       "      <td>1.0</td>\n",
       "      <td>0.0</td>\n",
       "      <td>74.0</td>\n",
       "      <td>K</td>\n",
       "    </tr>\n",
       "    <tr>\n",
       "      <th>89</th>\n",
       "      <td>11133306</td>\n",
       "      <td>9.901683</td>\n",
       "      <td>77.397247</td>\n",
       "      <td>5.399808</td>\n",
       "      <td>2.289758</td>\n",
       "      <td>4.875265</td>\n",
       "      <td>30.341717</td>\n",
       "      <td>0.393742</td>\n",
       "      <td>0.757034</td>\n",
       "      <td>0.757034</td>\n",
       "      <td>1.0</td>\n",
       "      <td>0.0</td>\n",
       "      <td>30.0</td>\n",
       "      <td>K</td>\n",
       "    </tr>\n",
       "  </tbody>\n",
       "</table>\n",
       "</div>"
      ],
      "text/plain": [
       "         KIC          i        u_i       l_i       nus     l_nus      u_nus  \\\n",
       "72   5094751   9.902446  55.794923  5.399509  1.224562  1.665490  11.640204   \n",
       "74   6196457  11.703580  62.994447  7.199365  1.307700  2.251614  16.410810   \n",
       "80   8349582   8.101434  57.598910  5.399898  1.935835  7.048428  17.016594   \n",
       "82   8494142  20.853467  59.268103  5.388009  1.414066  2.720806  27.897494   \n",
       "83   8554498   8.099735  62.996846  7.199640  3.483630  9.279297  31.795979   \n",
       "86  10514430   4.500820  84.598756  3.599947  1.896331  3.249291  12.953234   \n",
       "89  11133306   9.901683  77.397247  5.399808  2.289758  4.875265  30.341717   \n",
       "\n",
       "        nus*    l_nus*    u_nus*    P  l_P   u_P label  \n",
       "72  0.210589  0.211961  0.211961  3.0  2.0  38.0     K  \n",
       "74  0.265265  0.254389  0.254389  3.0  2.0  32.0     K  \n",
       "80  0.272809  0.971810  0.971810  1.0  0.0  40.0     K  \n",
       "82  0.503378  0.352202  0.352202  5.0  2.0  18.0     K  \n",
       "83  0.490832  1.210936  1.210936  1.0  0.0   8.0     K  \n",
       "86  0.148811  0.251515  0.251515  1.0  0.0  74.0     K  \n",
       "89  0.393742  0.757034  0.757034  1.0  0.0  30.0     K  "
      ]
     },
     "execution_count": 7,
     "metadata": {},
     "output_type": "execute_result"
    }
   ],
   "source": [
    "col.loc[anom.index]"
   ]
  },
  {
   "cell_type": "markdown",
   "metadata": {},
   "source": [
    "### Answer: The LEGACY/Kages values are a mess"
   ]
  },
  {
   "cell_type": "markdown",
   "metadata": {},
   "source": [
    "What about in $i$ and nus*?"
   ]
  },
  {
   "cell_type": "code",
   "execution_count": 44,
   "metadata": {},
   "outputs": [
    {
     "name": "stderr",
     "output_type": "stream",
     "text": [
      "/usr/local/lib/python3.7/site-packages/ipykernel_launcher.py:3: SettingWithCopyWarning: \n",
      "A value is trying to be set on a copy of a slice from a DataFrame.\n",
      "Try using .loc[row_indexer,col_indexer] = value instead\n",
      "\n",
      "See the caveats in the documentation: https://pandas.pydata.org/pandas-docs/stable/user_guide/indexing.html#returning-a-view-versus-a-copy\n",
      "  This is separate from the ipykernel package so we can avoid doing imports until\n"
     ]
    },
    {
     "data": {
      "text/html": [
       "<div>\n",
       "<style scoped>\n",
       "    .dataframe tbody tr th:only-of-type {\n",
       "        vertical-align: middle;\n",
       "    }\n",
       "\n",
       "    .dataframe tbody tr th {\n",
       "        vertical-align: top;\n",
       "    }\n",
       "\n",
       "    .dataframe thead th {\n",
       "        text-align: right;\n",
       "    }\n",
       "</style>\n",
       "<table border=\"1\" class=\"dataframe\">\n",
       "  <thead>\n",
       "    <tr style=\"text-align: right;\">\n",
       "      <th></th>\n",
       "      <th>nus*</th>\n",
       "      <th>l_nus*</th>\n",
       "      <th>u_nus*</th>\n",
       "      <th>deg</th>\n",
       "      <th>P</th>\n",
       "    </tr>\n",
       "  </thead>\n",
       "  <tbody>\n",
       "    <tr>\n",
       "      <th>2</th>\n",
       "      <td>0.301916</td>\n",
       "      <td>0.062498</td>\n",
       "      <td>0.056955</td>\n",
       "      <td>56.407964</td>\n",
       "      <td>31.590512</td>\n",
       "    </tr>\n",
       "    <tr>\n",
       "      <th>21</th>\n",
       "      <td>0.197747</td>\n",
       "      <td>0.055564</td>\n",
       "      <td>0.064428</td>\n",
       "      <td>50.519674</td>\n",
       "      <td>45.585675</td>\n",
       "    </tr>\n",
       "    <tr>\n",
       "      <th>27</th>\n",
       "      <td>0.257845</td>\n",
       "      <td>0.022412</td>\n",
       "      <td>0.025185</td>\n",
       "      <td>60.699675</td>\n",
       "      <td>39.171862</td>\n",
       "    </tr>\n",
       "    <tr>\n",
       "      <th>34</th>\n",
       "      <td>0.223742</td>\n",
       "      <td>0.064186</td>\n",
       "      <td>0.062141</td>\n",
       "      <td>59.135008</td>\n",
       "      <td>42.297177</td>\n",
       "    </tr>\n",
       "    <tr>\n",
       "      <th>54</th>\n",
       "      <td>0.242567</td>\n",
       "      <td>0.076364</td>\n",
       "      <td>0.083888</td>\n",
       "      <td>55.587459</td>\n",
       "      <td>38.005288</td>\n",
       "    </tr>\n",
       "    <tr>\n",
       "      <th>55</th>\n",
       "      <td>0.558691</td>\n",
       "      <td>0.246895</td>\n",
       "      <td>0.228684</td>\n",
       "      <td>55.629753</td>\n",
       "      <td>16.086823</td>\n",
       "    </tr>\n",
       "    <tr>\n",
       "      <th>72</th>\n",
       "      <td>0.386225</td>\n",
       "      <td>0.161393</td>\n",
       "      <td>0.268334</td>\n",
       "      <td>51.547414</td>\n",
       "      <td>22.863403</td>\n",
       "    </tr>\n",
       "    <tr>\n",
       "      <th>74</th>\n",
       "      <td>0.433971</td>\n",
       "      <td>0.193955</td>\n",
       "      <td>0.284011</td>\n",
       "      <td>52.511535</td>\n",
       "      <td>20.692243</td>\n",
       "    </tr>\n",
       "    <tr>\n",
       "      <th>80</th>\n",
       "      <td>0.228847</td>\n",
       "      <td>0.063764</td>\n",
       "      <td>0.069327</td>\n",
       "      <td>59.618521</td>\n",
       "      <td>41.681731</td>\n",
       "    </tr>\n",
       "    <tr>\n",
       "      <th>82</th>\n",
       "      <td>0.672011</td>\n",
       "      <td>0.282955</td>\n",
       "      <td>0.218429</td>\n",
       "      <td>62.794237</td>\n",
       "      <td>14.516515</td>\n",
       "    </tr>\n",
       "    <tr>\n",
       "      <th>83</th>\n",
       "      <td>0.247566</td>\n",
       "      <td>0.091356</td>\n",
       "      <td>0.207255</td>\n",
       "      <td>48.140433</td>\n",
       "      <td>35.712069</td>\n",
       "    </tr>\n",
       "    <tr>\n",
       "      <th>86</th>\n",
       "      <td>0.176589</td>\n",
       "      <td>0.046803</td>\n",
       "      <td>0.053192</td>\n",
       "      <td>57.200949</td>\n",
       "      <td>53.555235</td>\n",
       "    </tr>\n",
       "    <tr>\n",
       "      <th>89</th>\n",
       "      <td>0.386592</td>\n",
       "      <td>0.134438</td>\n",
       "      <td>0.139824</td>\n",
       "      <td>57.973490</td>\n",
       "      <td>24.628326</td>\n",
       "    </tr>\n",
       "  </tbody>\n",
       "</table>\n",
       "</div>"
      ],
      "text/plain": [
       "        nus*    l_nus*    u_nus*        deg          P\n",
       "2   0.301916  0.062498  0.056955  56.407964  31.590512\n",
       "21  0.197747  0.055564  0.064428  50.519674  45.585675\n",
       "27  0.257845  0.022412  0.025185  60.699675  39.171862\n",
       "34  0.223742  0.064186  0.062141  59.135008  42.297177\n",
       "54  0.242567  0.076364  0.083888  55.587459  38.005288\n",
       "55  0.558691  0.246895  0.228684  55.629753  16.086823\n",
       "72  0.386225  0.161393  0.268334  51.547414  22.863403\n",
       "74  0.433971  0.193955  0.284011  52.511535  20.692243\n",
       "80  0.228847  0.063764  0.069327  59.618521  41.681731\n",
       "82  0.672011  0.282955  0.218429  62.794237  14.516515\n",
       "83  0.247566  0.091356  0.207255  48.140433  35.712069\n",
       "86  0.176589  0.046803  0.053192  57.200949  53.555235\n",
       "89  0.386592  0.134438  0.139824  57.973490  24.628326"
      ]
     },
     "execution_count": 44,
     "metadata": {},
     "output_type": "execute_result"
    }
   ],
   "source": [
    "di = np.rad2deg(ati['i']) / col['i']\n",
    "anom = ati[di > 3]\n",
    "anom['deg'] = np.rad2deg(anom['i'])\n",
    "anom[['nus*','l_nus*','u_nus*','deg','P']]"
   ]
  },
  {
   "cell_type": "code",
   "execution_count": 45,
   "metadata": {},
   "outputs": [
    {
     "data": {
      "text/html": [
       "<div>\n",
       "<style scoped>\n",
       "    .dataframe tbody tr th:only-of-type {\n",
       "        vertical-align: middle;\n",
       "    }\n",
       "\n",
       "    .dataframe tbody tr th {\n",
       "        vertical-align: top;\n",
       "    }\n",
       "\n",
       "    .dataframe thead th {\n",
       "        text-align: right;\n",
       "    }\n",
       "</style>\n",
       "<table border=\"1\" class=\"dataframe\">\n",
       "  <thead>\n",
       "    <tr style=\"text-align: right;\">\n",
       "      <th></th>\n",
       "      <th>nus*</th>\n",
       "      <th>l_nus*</th>\n",
       "      <th>u_nus*</th>\n",
       "      <th>i</th>\n",
       "      <th>P</th>\n",
       "    </tr>\n",
       "  </thead>\n",
       "  <tbody>\n",
       "    <tr>\n",
       "      <th>2</th>\n",
       "      <td>0.183695</td>\n",
       "      <td>0.092818</td>\n",
       "      <td>0.121067</td>\n",
       "      <td>18.662207</td>\n",
       "      <td>63.006977</td>\n",
       "    </tr>\n",
       "    <tr>\n",
       "      <th>21</th>\n",
       "      <td>0.127046</td>\n",
       "      <td>0.134967</td>\n",
       "      <td>0.095271</td>\n",
       "      <td>9.933110</td>\n",
       "      <td>91.101253</td>\n",
       "    </tr>\n",
       "    <tr>\n",
       "      <th>27</th>\n",
       "      <td>0.224758</td>\n",
       "      <td>0.110131</td>\n",
       "      <td>0.107928</td>\n",
       "      <td>6.020067</td>\n",
       "      <td>51.495679</td>\n",
       "    </tr>\n",
       "    <tr>\n",
       "      <th>34</th>\n",
       "      <td>0.119030</td>\n",
       "      <td>0.127573</td>\n",
       "      <td>0.089881</td>\n",
       "      <td>7.826087</td>\n",
       "      <td>97.236671</td>\n",
       "    </tr>\n",
       "    <tr>\n",
       "      <th>54</th>\n",
       "      <td>0.097169</td>\n",
       "      <td>0.127057</td>\n",
       "      <td>0.074740</td>\n",
       "      <td>7.525084</td>\n",
       "      <td>119.113139</td>\n",
       "    </tr>\n",
       "    <tr>\n",
       "      <th>55</th>\n",
       "      <td>0.191644</td>\n",
       "      <td>0.280112</td>\n",
       "      <td>0.149393</td>\n",
       "      <td>15.050167</td>\n",
       "      <td>60.393729</td>\n",
       "    </tr>\n",
       "    <tr>\n",
       "      <th>72</th>\n",
       "      <td>0.210589</td>\n",
       "      <td>0.211961</td>\n",
       "      <td>0.211961</td>\n",
       "      <td>9.902446</td>\n",
       "      <td>3.000000</td>\n",
       "    </tr>\n",
       "    <tr>\n",
       "      <th>74</th>\n",
       "      <td>0.265265</td>\n",
       "      <td>0.254389</td>\n",
       "      <td>0.254389</td>\n",
       "      <td>11.703580</td>\n",
       "      <td>3.000000</td>\n",
       "    </tr>\n",
       "    <tr>\n",
       "      <th>80</th>\n",
       "      <td>0.272809</td>\n",
       "      <td>0.971810</td>\n",
       "      <td>0.971810</td>\n",
       "      <td>8.101434</td>\n",
       "      <td>1.000000</td>\n",
       "    </tr>\n",
       "    <tr>\n",
       "      <th>82</th>\n",
       "      <td>0.503378</td>\n",
       "      <td>0.352202</td>\n",
       "      <td>0.352202</td>\n",
       "      <td>20.853467</td>\n",
       "      <td>5.000000</td>\n",
       "    </tr>\n",
       "    <tr>\n",
       "      <th>83</th>\n",
       "      <td>0.490832</td>\n",
       "      <td>1.210936</td>\n",
       "      <td>1.210936</td>\n",
       "      <td>8.099735</td>\n",
       "      <td>1.000000</td>\n",
       "    </tr>\n",
       "    <tr>\n",
       "      <th>86</th>\n",
       "      <td>0.148811</td>\n",
       "      <td>0.251515</td>\n",
       "      <td>0.251515</td>\n",
       "      <td>4.500820</td>\n",
       "      <td>1.000000</td>\n",
       "    </tr>\n",
       "    <tr>\n",
       "      <th>89</th>\n",
       "      <td>0.393742</td>\n",
       "      <td>0.757034</td>\n",
       "      <td>0.757034</td>\n",
       "      <td>9.901683</td>\n",
       "      <td>1.000000</td>\n",
       "    </tr>\n",
       "  </tbody>\n",
       "</table>\n",
       "</div>"
      ],
      "text/plain": [
       "        nus*    l_nus*    u_nus*          i           P\n",
       "2   0.183695  0.092818  0.121067  18.662207   63.006977\n",
       "21  0.127046  0.134967  0.095271   9.933110   91.101253\n",
       "27  0.224758  0.110131  0.107928   6.020067   51.495679\n",
       "34  0.119030  0.127573  0.089881   7.826087   97.236671\n",
       "54  0.097169  0.127057  0.074740   7.525084  119.113139\n",
       "55  0.191644  0.280112  0.149393  15.050167   60.393729\n",
       "72  0.210589  0.211961  0.211961   9.902446    3.000000\n",
       "74  0.265265  0.254389  0.254389  11.703580    3.000000\n",
       "80  0.272809  0.971810  0.971810   8.101434    1.000000\n",
       "82  0.503378  0.352202  0.352202  20.853467    5.000000\n",
       "83  0.490832  1.210936  1.210936   8.099735    1.000000\n",
       "86  0.148811  0.251515  0.251515   4.500820    1.000000\n",
       "89  0.393742  0.757034  0.757034   9.901683    1.000000"
      ]
     },
     "execution_count": 45,
     "metadata": {},
     "output_type": "execute_result"
    }
   ],
   "source": [
    "col.loc[anom.index][['nus*','l_nus*','u_nus*','i','P']]"
   ]
  },
  {
   "cell_type": "code",
   "execution_count": 9,
   "metadata": {},
   "outputs": [
    {
     "name": "stderr",
     "output_type": "stream",
     "text": [
      "/usr/local/lib/python3.7/site-packages/ipykernel_launcher.py:3: SettingWithCopyWarning: \n",
      "A value is trying to be set on a copy of a slice from a DataFrame.\n",
      "Try using .loc[row_indexer,col_indexer] = value instead\n",
      "\n",
      "See the caveats in the documentation: https://pandas.pydata.org/pandas-docs/stable/user_guide/indexing.html#returning-a-view-versus-a-copy\n",
      "  This is separate from the ipykernel package so we can avoid doing imports until\n"
     ]
    },
    {
     "data": {
      "text/html": [
       "<div>\n",
       "<style scoped>\n",
       "    .dataframe tbody tr th:only-of-type {\n",
       "        vertical-align: middle;\n",
       "    }\n",
       "\n",
       "    .dataframe tbody tr th {\n",
       "        vertical-align: top;\n",
       "    }\n",
       "\n",
       "    .dataframe thead th {\n",
       "        text-align: right;\n",
       "    }\n",
       "</style>\n",
       "<table border=\"1\" class=\"dataframe\">\n",
       "  <thead>\n",
       "    <tr style=\"text-align: right;\">\n",
       "      <th></th>\n",
       "      <th>nus*</th>\n",
       "      <th>l_nus*</th>\n",
       "      <th>u_nus*</th>\n",
       "      <th>deg</th>\n",
       "      <th>P</th>\n",
       "    </tr>\n",
       "  </thead>\n",
       "  <tbody>\n",
       "    <tr>\n",
       "      <th>15</th>\n",
       "      <td>1.134471</td>\n",
       "      <td>0.132165</td>\n",
       "      <td>0.127663</td>\n",
       "      <td>6.893700</td>\n",
       "      <td>1.218267</td>\n",
       "    </tr>\n",
       "    <tr>\n",
       "      <th>36</th>\n",
       "      <td>0.691913</td>\n",
       "      <td>0.421388</td>\n",
       "      <td>0.258546</td>\n",
       "      <td>7.616282</td>\n",
       "      <td>2.004548</td>\n",
       "    </tr>\n",
       "    <tr>\n",
       "      <th>37</th>\n",
       "      <td>0.614729</td>\n",
       "      <td>0.503992</td>\n",
       "      <td>0.268375</td>\n",
       "      <td>8.676839</td>\n",
       "      <td>2.035735</td>\n",
       "    </tr>\n",
       "  </tbody>\n",
       "</table>\n",
       "</div>"
      ],
      "text/plain": [
       "        nus*    l_nus*    u_nus*       deg         P\n",
       "15  1.134471  0.132165  0.127663  6.893700  1.218267\n",
       "36  0.691913  0.421388  0.258546  7.616282  2.004548\n",
       "37  0.614729  0.503992  0.268375  8.676839  2.035735"
      ]
     },
     "execution_count": 9,
     "metadata": {},
     "output_type": "execute_result"
    }
   ],
   "source": [
    "dnus = ati['nus*'] / col['nus*']\n",
    "anom = ati[dnus > 5]\n",
    "anom['deg'] = np.rad2deg(anom.i)\n",
    "anom[['nus*','l_nus*','u_nus*','deg','P']]"
   ]
  },
  {
   "cell_type": "code",
   "execution_count": 10,
   "metadata": {},
   "outputs": [
    {
     "data": {
      "text/html": [
       "<div>\n",
       "<style scoped>\n",
       "    .dataframe tbody tr th:only-of-type {\n",
       "        vertical-align: middle;\n",
       "    }\n",
       "\n",
       "    .dataframe tbody tr th {\n",
       "        vertical-align: top;\n",
       "    }\n",
       "\n",
       "    .dataframe thead th {\n",
       "        text-align: right;\n",
       "    }\n",
       "</style>\n",
       "<table border=\"1\" class=\"dataframe\">\n",
       "  <thead>\n",
       "    <tr style=\"text-align: right;\">\n",
       "      <th></th>\n",
       "      <th>nus*</th>\n",
       "      <th>l_nus*</th>\n",
       "      <th>u_nus*</th>\n",
       "      <th>i</th>\n",
       "      <th>P</th>\n",
       "    </tr>\n",
       "  </thead>\n",
       "  <tbody>\n",
       "    <tr>\n",
       "      <th>15</th>\n",
       "      <td>0.030615</td>\n",
       "      <td>0.038460</td>\n",
       "      <td>0.023600</td>\n",
       "      <td>2.709030</td>\n",
       "      <td>378.050174</td>\n",
       "    </tr>\n",
       "    <tr>\n",
       "      <th>36</th>\n",
       "      <td>0.137270</td>\n",
       "      <td>0.104225</td>\n",
       "      <td>0.092066</td>\n",
       "      <td>4.816054</td>\n",
       "      <td>84.316100</td>\n",
       "    </tr>\n",
       "    <tr>\n",
       "      <th>37</th>\n",
       "      <td>0.083155</td>\n",
       "      <td>0.052341</td>\n",
       "      <td>0.060039</td>\n",
       "      <td>10.836120</td>\n",
       "      <td>139.186701</td>\n",
       "    </tr>\n",
       "  </tbody>\n",
       "</table>\n",
       "</div>"
      ],
      "text/plain": [
       "        nus*    l_nus*    u_nus*          i           P\n",
       "15  0.030615  0.038460  0.023600   2.709030  378.050174\n",
       "36  0.137270  0.104225  0.092066   4.816054   84.316100\n",
       "37  0.083155  0.052341  0.060039  10.836120  139.186701"
      ]
     },
     "execution_count": 10,
     "metadata": {},
     "output_type": "execute_result"
    }
   ],
   "source": [
    "col.loc[anom.index][['nus*','l_nus*','u_nus*','i','P']]"
   ]
  },
  {
   "cell_type": "markdown",
   "metadata": {},
   "source": [
    "### Solution: Flagged them."
   ]
  },
  {
   "cell_type": "code",
   "execution_count": 11,
   "metadata": {},
   "outputs": [],
   "source": [
    "ati['exclude'] = np.zeros(len(ati))\n",
    "ati.loc[dP > 2, 'exclude'] = 1\n",
    "ati.loc[dnus > 5, 'exclude'] = 2"
   ]
  },
  {
   "cell_type": "markdown",
   "metadata": {},
   "source": [
    "## Problem: asymmetrical errors, how do I plot these?"
   ]
  },
  {
   "cell_type": "markdown",
   "metadata": {},
   "source": [
    "Let's try treating this in log space"
   ]
  },
  {
   "cell_type": "code",
   "execution_count": 12,
   "metadata": {},
   "outputs": [],
   "source": [
    "ati['logP'] = np.log(ati.P)\n",
    "ati['uplogP'] = np.log(ati.P + ati.u_P) - ati.logP\n",
    "ati['lologP'] = ati.logP - np.log(ati.P - ati.l_P)\n",
    "\n",
    "col['logP'] = np.log(col.P)\n",
    "col['uplogP'] = np.log(col.P + col.u_P) - col.logP\n",
    "col['lologP'] = col.logP - np.log(col.P - col.l_P)"
   ]
  },
  {
   "cell_type": "code",
   "execution_count": 13,
   "metadata": {},
   "outputs": [
    {
     "data": {
      "text/plain": [
       "<matplotlib.legend.Legend at 0x121c2add0>"
      ]
     },
     "execution_count": 13,
     "metadata": {},
     "output_type": "execute_result"
    },
    {
     "data": {
      "image/png": "[encoded data removed]",
      "text/plain": [
       "<Figure size 432x288 with 1 Axes>"
      ]
     },
     "metadata": {
      "needs_background": "light"
     },
     "output_type": "display_data"
    }
   ],
   "source": [
    "sns.distplot(ati.u_P.values - ati.l_P.values, label='lin')\n",
    "sns.distplot(ati.uplogP.values - ati.lologP.values, label='log')\n",
    "plt.xlim(-0.5, 0.5)\n",
    "plt.legend()"
   ]
  },
  {
   "cell_type": "code",
   "execution_count": 14,
   "metadata": {},
   "outputs": [],
   "source": [
    "ati['logi'] = np.log(ati.i)\n",
    "ati['uplogi'] = np.log(ati.i + ati.u_i) - ati.logi\n",
    "ati['lologi'] = ati.logi - np.log(ati.i - ati.l_i)"
   ]
  },
  {
   "cell_type": "code",
   "execution_count": 15,
   "metadata": {},
   "outputs": [
    {
     "data": {
      "text/plain": [
       "<matplotlib.legend.Legend at 0x122022d50>"
      ]
     },
     "execution_count": 15,
     "metadata": {},
     "output_type": "execute_result"
    },
    {
     "data": {
      "image/png": "[encoded data removed]",
      "text/plain": [
       "<Figure size 432x288 with 1 Axes>"
      ]
     },
     "metadata": {
      "needs_background": "light"
     },
     "output_type": "display_data"
    }
   ],
   "source": [
    "sns.distplot(ati.u_i.values - ati.l_i.values, label='lin')\n",
    "sns.distplot(ati.uplogi.values - ati.lologi.values, label='log')\n",
    "# plt.xlim(-0.5, 0.5)\n",
    "plt.legend()"
   ]
  },
  {
   "cell_type": "code",
   "execution_count": 16,
   "metadata": {},
   "outputs": [],
   "source": [
    "ati['lognus*'] = np.log(ati['nus*'])\n",
    "ati['uplognus*'] = np.log(ati['nus*'] + ati['u_nus*']) - ati['lognus*']\n",
    "ati['lolognus*'] = ati['lognus*'] - np.log(ati['nus*'] - ati['l_nus*'])"
   ]
  },
  {
   "cell_type": "code",
   "execution_count": 17,
   "metadata": {},
   "outputs": [
    {
     "data": {
      "text/plain": [
       "<matplotlib.legend.Legend at 0x121ed3290>"
      ]
     },
     "execution_count": 17,
     "metadata": {},
     "output_type": "execute_result"
    },
    {
     "data": {
      "image/png": "[encoded data removed]",
      "text/plain": [
       "<Figure size 432x288 with 1 Axes>"
      ]
     },
     "metadata": {
      "needs_background": "light"
     },
     "output_type": "display_data"
    }
   ],
   "source": [
    "sns.distplot(ati['u_nus*'].values - ati['l_nus*'].values, label='lin')\n",
    "sns.distplot(ati['uplognus*'].values - ati['lolognus*'].values, label='log')\n",
    "# plt.xlim(-0.5, 0.5)\n",
    "plt.legend()"
   ]
  },
  {
   "cell_type": "markdown",
   "metadata": {},
   "source": [
    "## Solution:"
   ]
  },
  {
   "cell_type": "markdown",
   "metadata": {},
   "source": [
    "- Make the P transformation in log space, take the largest error\n",
    "- Take the largest error on i and nus*, make the transformation in linear space"
   ]
  },
  {
   "cell_type": "markdown",
   "metadata": {},
   "source": [
    "### Distribution comparison"
   ]
  },
  {
   "cell_type": "code",
   "execution_count": 18,
   "metadata": {},
   "outputs": [],
   "source": [
    "def e(a, siga, b, sigb):\n",
    "    #return sigma for a/b\n",
    "    rhs = (siga / b)**2 + ((a*sigb)/b**2)**2\n",
    "    return np.sqrt(rhs)"
   ]
  },
  {
   "cell_type": "code",
   "execution_count": 22,
   "metadata": {},
   "outputs": [
    {
     "ename": "NameError",
     "evalue": "name 'Aerrlog' is not defined",
     "output_type": "error",
     "traceback": [
      "\u001b[0;31m---------------------------------------------------------------------------\u001b[0m",
      "\u001b[0;31mNameError\u001b[0m                                 Traceback (most recent call last)",
      "\u001b[0;32m<ipython-input-22-bc2d5dffb563>\u001b[0m in \u001b[0;36m<module>\u001b[0;34m\u001b[0m\n\u001b[1;32m      1\u001b[0m \u001b[0mAmlog\u001b[0m \u001b[0;34m=\u001b[0m \u001b[0mati\u001b[0m\u001b[0;34m[\u001b[0m\u001b[0;34m'logP'\u001b[0m\u001b[0;34m]\u001b[0m\u001b[0;34m[\u001b[0m\u001b[0;36m0\u001b[0m\u001b[0;34m]\u001b[0m\u001b[0;34m\u001b[0m\u001b[0;34m\u001b[0m\u001b[0m\n\u001b[0;32m----> 2\u001b[0;31m \u001b[0mAsiglog\u001b[0m \u001b[0;34m=\u001b[0m \u001b[0mAerrlog\u001b[0m\u001b[0;34m[\u001b[0m\u001b[0;36m0\u001b[0m\u001b[0;34m]\u001b[0m\u001b[0;34m\u001b[0m\u001b[0;34m\u001b[0m\u001b[0m\n\u001b[0m\u001b[1;32m      3\u001b[0m \u001b[0;34m\u001b[0m\u001b[0m\n\u001b[1;32m      4\u001b[0m \u001b[0mCmlog\u001b[0m \u001b[0;34m=\u001b[0m \u001b[0mcol\u001b[0m\u001b[0;34m[\u001b[0m\u001b[0;34m'logP'\u001b[0m\u001b[0;34m]\u001b[0m\u001b[0;34m[\u001b[0m\u001b[0;36m0\u001b[0m\u001b[0;34m]\u001b[0m\u001b[0;34m\u001b[0m\u001b[0;34m\u001b[0m\u001b[0m\n\u001b[1;32m      5\u001b[0m \u001b[0mCsiglog\u001b[0m \u001b[0;34m=\u001b[0m \u001b[0mCerrlog\u001b[0m\u001b[0;34m[\u001b[0m\u001b[0;36m0\u001b[0m\u001b[0;34m]\u001b[0m\u001b[0;34m\u001b[0m\u001b[0;34m\u001b[0m\u001b[0m\n",
      "\u001b[0;31mNameError\u001b[0m: name 'Aerrlog' is not defined"
     ]
    }
   ],
   "source": [
    "Amlog = ati['logP'][0]\n",
    "Asiglog = Aerrlog[0]\n",
    "\n",
    "Cmlog = col['logP'][0]\n",
    "Csiglog = Cerrlog[0]\n",
    "\n",
    "aA = np.random.randn(1000)*Asiglog + Amlog\n",
    "aC = np.random.randn(1000)*Csiglog + Cmlog\n",
    "sns.distplot(aA)\n",
    "sns.distplot(aC)"
   ]
  },
  {
   "cell_type": "code",
   "execution_count": 20,
   "metadata": {},
   "outputs": [
    {
     "ename": "NameError",
     "evalue": "name 'Amlog' is not defined",
     "output_type": "error",
     "traceback": [
      "\u001b[0;31m---------------------------------------------------------------------------\u001b[0m",
      "\u001b[0;31mNameError\u001b[0m                                 Traceback (most recent call last)",
      "\u001b[0;32m<ipython-input-20-4602df1a0b61>\u001b[0m in \u001b[0;36m<module>\u001b[0;34m\u001b[0m\n\u001b[0;32m----> 1\u001b[0;31m \u001b[0mmdPlog\u001b[0m \u001b[0;34m=\u001b[0m \u001b[0mAmlog\u001b[0m\u001b[0;34m/\u001b[0m\u001b[0mCmlog\u001b[0m\u001b[0;34m\u001b[0m\u001b[0;34m\u001b[0m\u001b[0m\n\u001b[0m\u001b[1;32m      2\u001b[0m \u001b[0merrlog\u001b[0m \u001b[0;34m=\u001b[0m \u001b[0me\u001b[0m\u001b[0;34m(\u001b[0m\u001b[0mAmlog\u001b[0m\u001b[0;34m,\u001b[0m \u001b[0mAsiglog\u001b[0m\u001b[0;34m,\u001b[0m \u001b[0mCmlog\u001b[0m\u001b[0;34m,\u001b[0m \u001b[0mCsiglog\u001b[0m\u001b[0;34m)\u001b[0m\u001b[0;34m\u001b[0m\u001b[0;34m\u001b[0m\u001b[0m\n\u001b[1;32m      3\u001b[0m \u001b[0madP\u001b[0m \u001b[0;34m=\u001b[0m \u001b[0mnp\u001b[0m\u001b[0;34m.\u001b[0m\u001b[0mrandom\u001b[0m\u001b[0;34m.\u001b[0m\u001b[0mrandn\u001b[0m\u001b[0;34m(\u001b[0m\u001b[0;36m1000\u001b[0m\u001b[0;34m)\u001b[0m\u001b[0;34m*\u001b[0m\u001b[0merrlog\u001b[0m \u001b[0;34m+\u001b[0m \u001b[0mmdPlog\u001b[0m\u001b[0;34m\u001b[0m\u001b[0;34m\u001b[0m\u001b[0m\n\u001b[1;32m      4\u001b[0m \u001b[0msns\u001b[0m\u001b[0;34m.\u001b[0m\u001b[0mdistplot\u001b[0m\u001b[0;34m(\u001b[0m\u001b[0madP\u001b[0m\u001b[0;34m)\u001b[0m\u001b[0;34m\u001b[0m\u001b[0;34m\u001b[0m\u001b[0m\n",
      "\u001b[0;31mNameError\u001b[0m: name 'Amlog' is not defined"
     ]
    }
   ],
   "source": [
    "mdPlog = Amlog/Cmlog\n",
    "errlog = e(Amlog, Asiglog, Cmlog, Csiglog)\n",
    "adP = np.random.randn(1000)*errlog + mdPlog\n",
    "sns.distplot(adP)"
   ]
  },
  {
   "cell_type": "code",
   "execution_count": 21,
   "metadata": {},
   "outputs": [
    {
     "ename": "NameError",
     "evalue": "name 'mdPlog' is not defined",
     "output_type": "error",
     "traceback": [
      "\u001b[0;31m---------------------------------------------------------------------------\u001b[0m",
      "\u001b[0;31mNameError\u001b[0m                                 Traceback (most recent call last)",
      "\u001b[0;32m<ipython-input-21-9e5244a65bfc>\u001b[0m in \u001b[0;36m<module>\u001b[0;34m\u001b[0m\n\u001b[0;32m----> 1\u001b[0;31m \u001b[0mmdP\u001b[0m \u001b[0;34m=\u001b[0m \u001b[0mnp\u001b[0m\u001b[0;34m.\u001b[0m\u001b[0me\u001b[0m\u001b[0;34m**\u001b[0m\u001b[0mmdPlog\u001b[0m\u001b[0;34m\u001b[0m\u001b[0;34m\u001b[0m\u001b[0m\n\u001b[0m\u001b[1;32m      2\u001b[0m \u001b[0mupper\u001b[0m \u001b[0;34m=\u001b[0m \u001b[0mnp\u001b[0m\u001b[0;34m.\u001b[0m\u001b[0me\u001b[0m\u001b[0;34m**\u001b[0m\u001b[0;34m(\u001b[0m\u001b[0mmdPlog\u001b[0m \u001b[0;34m+\u001b[0m \u001b[0merrlog\u001b[0m\u001b[0;34m)\u001b[0m \u001b[0;34m-\u001b[0m \u001b[0mmdP\u001b[0m\u001b[0;34m\u001b[0m\u001b[0;34m\u001b[0m\u001b[0m\n\u001b[1;32m      3\u001b[0m \u001b[0mlower\u001b[0m \u001b[0;34m=\u001b[0m \u001b[0mmdP\u001b[0m \u001b[0;34m-\u001b[0m \u001b[0mnp\u001b[0m\u001b[0;34m.\u001b[0m\u001b[0me\u001b[0m\u001b[0;34m**\u001b[0m\u001b[0;34m(\u001b[0m\u001b[0mmdPlog\u001b[0m \u001b[0;34m-\u001b[0m \u001b[0merrlog\u001b[0m\u001b[0;34m)\u001b[0m\u001b[0;34m\u001b[0m\u001b[0;34m\u001b[0m\u001b[0m\n",
      "\u001b[0;31mNameError\u001b[0m: name 'mdPlog' is not defined"
     ]
    }
   ],
   "source": [
    "mdP = np.e**mdPlog\n",
    "upper = np.e**(mdPlog + errlog) - mdP\n",
    "lower = mdP - np.e**(mdPlog - errlog)\n"
   ]
  },
  {
   "cell_type": "code",
   "execution_count": 74,
   "metadata": {},
   "outputs": [
    {
     "data": {
      "text/plain": [
       "<matplotlib.axes._subplots.AxesSubplot at 0x11f0bd050>"
      ]
     },
     "execution_count": 74,
     "metadata": {},
     "output_type": "execute_result"
    },
    {
     "data": {
      "image/png": "[encoded data removed]",
      "text/plain": [
       "<Figure size 432x288 with 1 Axes>"
      ]
     },
     "metadata": {
      "needs_background": "light"
     },
     "output_type": "display_data"
    }
   ],
   "source": [
    "sns.distplot(np.e**(dPlog - errlog))"
   ]
  },
  {
   "cell_type": "code",
   "execution_count": 27,
   "metadata": {},
   "outputs": [
    {
     "data": {
      "text/plain": [
       "Text(0.5, 0, '$P_{\\\\rm rot}$ [days] (this work)')"
      ]
     },
     "execution_count": 27,
     "metadata": {},
     "output_type": "execute_result"
    },
    {
     "data": {
      "image/png": "[encoded data removed]",
      "text/plain": [
       "<Figure size 1190x735.46 with 1 Axes>"
      ]
     },
     "metadata": {
      "needs_background": "light"
     },
     "output_type": "display_data"
    }
   ],
   "source": [
    "size=200\n",
    "\n",
    "fig, ax2 = plt.subplots(figsize=mnras_size(595*2))\n",
    "\n",
    "A = ati[ati.exclude == 0].copy()\n",
    "C = col[ati.exclude == 0].copy()\n",
    "\n",
    "pk = A['P'][A.source == 'K']\n",
    "pl = A['P'][A.source == 'L']\n",
    "\n",
    "ak = A['logP'][A.source == 'K']\n",
    "ck = C['logP'][A.source == 'K']\n",
    "al = A['logP'][A.source == 'L']\n",
    "cl = C['logP'][A.source == 'L']\n",
    "\n",
    "dPlog = A['logP'] / C['logP']\n",
    "Aerrlog = A[['lologP','uplogP']].max(axis=1)\n",
    "Cerrlog = C[['lologP','uplogP']].max(axis=1)\n",
    "errlog = e(A['logP'], Aerrlog, C['logP'], Cerrlog)\n",
    "\n",
    "ax2.scatter(pl, al/cl, s=size, ec='None', lw=1, zorder = 3, label='L')\n",
    "ax2.scatter(pk, ak/ck, s=size, ec='None', lw=1, zorder = 3, label='K')\n",
    "ax2.scatter(pk, ak/ck, s=size+50, ec='k', lw=2, fc='None', zorder = 2, label='K')\n",
    "ax2.scatter(pl, al/cl, s=size+50, ec='k', lw=2, fc='None', zorder = 2, label='L')\n",
    "ax2.axhline(1., ls='--', zorder=1, c='k')\n",
    "\n",
    "ax2.errorbar(A['P'], dPlog, yerr=errlog,\n",
    "            fmt='|', zorder=2, c='k')\n",
    "\n",
    "ax2.set_ylabel(r'$\\log(\\Delta P_{\\rm rot}$ [days])')\n",
    "ax2.set_xlabel(r'$P_{\\rm rot}$ [days] (this work)')\n"
   ]
  },
  {
   "cell_type": "code",
   "execution_count": 35,
   "metadata": {},
   "outputs": [
    {
     "data": {
      "text/plain": [
       "(0, 22.97918830978689)"
      ]
     },
     "execution_count": 35,
     "metadata": {},
     "output_type": "execute_result"
    },
    {
     "data": {
      "image/png": "[encoded data removed]",
      "text/plain": [
       "<Figure size 1190x735.46 with 3 Axes>"
      ]
     },
     "metadata": {
      "needs_background": "light"
     },
     "output_type": "display_data"
    }
   ],
   "source": [
    "def e(a, siga, b, sigb):\n",
    "    #return sigma for a/b\n",
    "    rhs = (siga / b)**2 + (a*sigb/b**2)**2\n",
    "    return np.sqrt(rhs)\n",
    "\n",
    "A = ati[ati.exclude == 0].copy()\n",
    "C = col[ati.exclude == 0].copy()\n",
    "\n",
    "size=200\n",
    "col['x'] = np.ones(len(col)) * 60\n",
    "\n",
    "fig, axes = plt.subplots(3, 1, figsize=mnras_size(2*595), sharex=True)\n",
    "\n",
    "ax0 = axes[0]\n",
    "ax1 = axes[1]\n",
    "ax2 = axes[2]\n",
    "\n",
    "pk = A['P'][A.source == 'K']\n",
    "pl = A['P'][A.source == 'L']\n",
    "\n",
    "#Splitting\n",
    "ak = A['nus*'][A.source == 'K']\n",
    "ck = C['nus*'][A.source == 'K']\n",
    "al = A['nus*'][A.source == 'L']\n",
    "cl = C['nus*'][A.source == 'L']\n",
    "\n",
    "Aerr = A[['l_nus*','u_nus*']].max(axis=1)\n",
    "Cerr = C[['l_nus*','u_nus*']].max(axis=1)\n",
    "err = e(A['nus*'],  Aerr, C['nus*'], Cerr)\n",
    "\n",
    "ax0.scatter(pl, al/cl, s=size, ec='None', lw=1, zorder = 3, label='LEGACY')\n",
    "ax0.scatter(pk, ak/ck, s=size, ec='None', lw=1, zorder = 3, label='Kages')\n",
    "ax0.scatter(pk, ak/ck, s=size+50, ec='k', lw=2, fc='None', zorder = 2)\n",
    "ax0.scatter(pl, al/cl, s=size+50, ec='k', lw=2, fc='None', zorder = 2)\n",
    "ax0.axhline(1., ls='--', zorder=1, c='k')\n",
    "\n",
    "ax0.errorbar(A['P'], A['nus*']/C['nus*'], yerr=err,\n",
    "             fmt='|', zorder=2, c='k')\n",
    "\n",
    "ax0.set_ylabel(r'$\\Delta\\nu_{\\rm s}\\sin(i)$ [$\\mu$Hz]')\n",
    "ax0.set_ylim(0)\n",
    "ax0.set_title(r'$\\Delta \\equiv$(this work / literature)')\n",
    "\n",
    "#inclination\n",
    "\n",
    "ak = np.rad2deg(A['i'][A.source == 'K'])\n",
    "ck = C['i'][A.source == 'K']\n",
    "al = np.rad2deg(A['i'][A.source == 'L'])\n",
    "cl = C['i'][A.source == 'L']\n",
    "Aerr = A[['l_i','u_i']].max(axis=1)\n",
    "Cerr = C[['l_i','u_i']].max(axis=1)\n",
    "err = e(np.rad2deg(A['i']),  np.rad2deg(Aerr), C['i'], Cerr)\n",
    "\n",
    "ax1.scatter(pl, al/cl, s=size, ec='None', lw=1, zorder = 3, label='L')\n",
    "ax1.scatter(pk, ak/ck, s=size, ec='None', lw=1, zorder = 3, label='K')\n",
    "ax1.scatter(pk, ak/ck, s=size+50, ec='k', lw=2, fc='None', zorder = 2, label='K')\n",
    "ax1.scatter(pl, al/cl, s=size+50, ec='k', lw=2, fc='None', zorder = 2, label='L')\n",
    "ax1.axhline(1., ls='--', zorder=1, c='k')\n",
    "\n",
    "ax1.errorbar(A['P'], np.rad2deg(A['i'])/C['i'], yerr=err,\n",
    "             fmt='|', zorder=2, c='k')\n",
    "ax1.set_ylabel(r'$\\Delta i$ [deg]')\n",
    "ax1.set_ylim(0)\n",
    "\n",
    "\n",
    "# ak = ati['P'][ati.source == 'K']\n",
    "# ck = col['P'][ati.source == 'K']\n",
    "# al = ati['P'][ati.source == 'L']\n",
    "# cl = col['P'][ati.source == 'L']\n",
    "# upper = e(ati['P'], ati['u_P'], col['P'], col['u_P'])\n",
    "# lower = e(ati['P'], ati['l_P'], col['P'], col['l_P'])\n",
    "# ax2.scatter(pl, al/cl, s=size, ec='None', lw=1, zorder = 3, label='L')\n",
    "# ax2.scatter(pk, ak/ck, s=size, ec='None', lw=1, zorder = 3, label='K')\n",
    "\n",
    "# ax2.scatter(pk, ak/ck, s=size+50, ec='k', lw=2, fc='None', zorder = 2, label='K')\n",
    "# ax2.scatter(pl, al/cl, s=size+50, ec='k', lw=2, fc='None', zorder = 2, label='L')\n",
    "# ax2.axhline(1., ls='--', zorder=1, c='k')\n",
    "# ax2.errorbar(ati['P'], ati['P']/col['P'], yerr=[lower, upper],\n",
    "#             fmt='|', zorder=2, c='k')\n",
    "# ax2.set_ylabel(r'$\\Delta P_{\\rm rot}$ [days]')\n",
    "# ax2.set_xlabel(r'$P_{\\rm rot}$ [days] (this work)')\n",
    "\n",
    "# # ax2.set_yscale('log')\n",
    "# ax2.set_ylim(0.7, 1.3)\n",
    "\n",
    "\n",
    "# plt.subplots_adjust(hspace=0)\n",
    "\n",
    "# from mpl_toolkits.axes_grid.inset_locator import inset_axes\n",
    "# col['Dnus*'] = ati['nus*'] / col['nus*']\n",
    "# col['Di'] = np.rad2deg(ati['i']) / col['i']\n",
    "# col['DP'] = ati['P'] / col['P']\n",
    "\n",
    "# Violin 1\n",
    "# iax0 = inset_axes(ax0, height =\"100%\", width=\"15%\", loc=7)\n",
    "# sns.violinplot(x='x', y='Dnus*', hue='label', \n",
    "#                inner='quartile',\n",
    "#                data=col, palette=cmap, split=True, ax = iax0, legend=False)\n",
    "# iax0.spines['right'].set_visible(False)\n",
    "# iax0.spines['left'].set_visible(False)\n",
    "# iax0.get_xaxis().set_visible(False)\n",
    "# iax0.get_yaxis().set_visible(False)\n",
    "# iax0.axhline(0, ls='--', c='k', zorder=0)\n",
    "# iax0.legend_.remove()\n",
    "# ax0.set_ylim(-1, 1.5)\n",
    "# iax0.set_ylim(-1, 1.5)\n",
    "\n",
    "# # Violin 2\n",
    "# iax1 = inset_axes(ax1, height =\"100%\", width=\"15%\", loc=7)\n",
    "# sns.violinplot(x='x', y='Di', hue='label', data=col, \n",
    "#                 inner='quartile',\n",
    "#                 palette=cmap, split=True, ax = iax1, legend=False)\n",
    "# iax1.spines['right'].set_visible(False)\n",
    "# iax1.spines['left'].set_visible(False)\n",
    "# iax1.get_xaxis().set_visible(False)\n",
    "# iax1.get_yaxis().set_visible(False)\n",
    "# iax1.axhline(0, ls='--', c='k', zorder=0)\n",
    "# iax1.legend_.remove()\n",
    "# ax1.set_ylim(-70, 120)\n",
    "# iax1.set_ylim(-70, 120)\n",
    "\n",
    "# # Violin 2\n",
    "# iax2 = inset_axes(ax2, height =\"100%\", width=\"15%\", loc=7)\n",
    "# sns.violinplot(x='x', y='DP', hue='label', data=col,\n",
    "#                 inner='quartile',\n",
    "#                 palette=cmap, split=True, ax = iax2, legend=False)\n",
    "# iax2.spines['right'].set_visible(False)\n",
    "# iax2.spines['left'].set_visible(False)\n",
    "# iax2.get_xaxis().set_visible(False)\n",
    "# iax2.get_yaxis().set_visible(False)\n",
    "# iax2.axhline(0, ls='--', c='k', zorder=0)\n",
    "# iax2.legend_.remove()\n",
    "# ax2.set_xlim(0, 65)\n",
    "# ax2.set_ylim(-100, 100)\n",
    "# iax2.set_ylim(-100, 100)\n",
    "# ax0.legend(ncol=2, loc='upper center')# bbox_to_anchor=[0.63,1.25,0.0,0.0])\n",
    "\n",
    "# ax2.set_xticks(np.arange(0, 60, 5))\n",
    "\n",
    "# plt.savefig('/home/oliver/Dropbox/Apps/Overleaf/Malatium/Images/litcomp_alt.pdf', bbox_inches='tight', rasterized=True)"
   ]
  },
  {
   "cell_type": "markdown",
   "metadata": {},
   "source": [
    "### Comparing to other published literature"
   ]
  },
  {
   "cell_type": "code",
   "execution_count": 7,
   "metadata": {},
   "outputs": [
    {
     "data": {
      "text/html": [
       "<div>\n",
       "<style scoped>\n",
       "    .dataframe tbody tr th:only-of-type {\n",
       "        vertical-align: middle;\n",
       "    }\n",
       "\n",
       "    .dataframe tbody tr th {\n",
       "        vertical-align: top;\n",
       "    }\n",
       "\n",
       "    .dataframe thead th {\n",
       "        text-align: right;\n",
       "    }\n",
       "</style>\n",
       "<table border=\"1\" class=\"dataframe\">\n",
       "  <thead>\n",
       "    <tr style=\"text-align: right;\">\n",
       "      <th></th>\n",
       "      <th>KIC</th>\n",
       "      <th>C15_P_rot</th>\n",
       "      <th>C15_eP_rot</th>\n",
       "      <th>D16_P_rot</th>\n",
       "      <th>D16_u_eP_rot</th>\n",
       "      <th>D16_l_eP_rot</th>\n",
       "      <th>N15_P_rot</th>\n",
       "      <th>N15_u_eP_rot</th>\n",
       "      <th>N15_l_eP_rot</th>\n",
       "      <th>B18_P_rot</th>\n",
       "      <th>B18_l_eP_rot</th>\n",
       "      <th>B18_u_eP_rot</th>\n",
       "    </tr>\n",
       "  </thead>\n",
       "  <tbody>\n",
       "    <tr>\n",
       "      <th>0</th>\n",
       "      <td>1435467</td>\n",
       "      <td>NaN</td>\n",
       "      <td>NaN</td>\n",
       "      <td>NaN</td>\n",
       "      <td>NaN</td>\n",
       "      <td>NaN</td>\n",
       "      <td>NaN</td>\n",
       "      <td>NaN</td>\n",
       "      <td>NaN</td>\n",
       "      <td>NaN</td>\n",
       "      <td>NaN</td>\n",
       "      <td>NaN</td>\n",
       "    </tr>\n",
       "    <tr>\n",
       "      <th>1</th>\n",
       "      <td>2837475</td>\n",
       "      <td>NaN</td>\n",
       "      <td>NaN</td>\n",
       "      <td>NaN</td>\n",
       "      <td>NaN</td>\n",
       "      <td>NaN</td>\n",
       "      <td>NaN</td>\n",
       "      <td>NaN</td>\n",
       "      <td>NaN</td>\n",
       "      <td>NaN</td>\n",
       "      <td>NaN</td>\n",
       "      <td>NaN</td>\n",
       "    </tr>\n",
       "  </tbody>\n",
       "</table>\n",
       "</div>"
      ],
      "text/plain": [
       "       KIC  C15_P_rot  C15_eP_rot  D16_P_rot  D16_u_eP_rot  D16_l_eP_rot  \\\n",
       "0  1435467        NaN         NaN        NaN           NaN           NaN   \n",
       "1  2837475        NaN         NaN        NaN           NaN           NaN   \n",
       "\n",
       "   N15_P_rot  N15_u_eP_rot  N15_l_eP_rot  B18_P_rot  B18_l_eP_rot  \\\n",
       "0        NaN           NaN           NaN        NaN           NaN   \n",
       "1        NaN           NaN           NaN        NaN           NaN   \n",
       "\n",
       "   B18_u_eP_rot  \n",
       "0           NaN  \n",
       "1           NaN  "
      ]
     },
     "execution_count": 7,
     "metadata": {},
     "output_type": "execute_result"
    }
   ],
   "source": [
    "lit = pd.read_csv('../data/literature_seismo.csv', index_col=0)\n",
    "lit.head(2)"
   ]
  },
  {
   "cell_type": "code",
   "execution_count": 8,
   "metadata": {},
   "outputs": [
    {
     "data": {
      "text/plain": [
       "94"
      ]
     },
     "execution_count": 8,
     "metadata": {},
     "output_type": "execute_result"
    }
   ],
   "source": [
    "len(np.isfinite(lit['D16_P_rot']))\n"
   ]
  },
  {
   "cell_type": "code",
   "execution_count": 9,
   "metadata": {},
   "outputs": [
    {
     "data": {
      "text/html": [
       "<div>\n",
       "<style scoped>\n",
       "    .dataframe tbody tr th:only-of-type {\n",
       "        vertical-align: middle;\n",
       "    }\n",
       "\n",
       "    .dataframe tbody tr th {\n",
       "        vertical-align: top;\n",
       "    }\n",
       "\n",
       "    .dataframe thead th {\n",
       "        text-align: right;\n",
       "    }\n",
       "</style>\n",
       "<table border=\"1\" class=\"dataframe\">\n",
       "  <thead>\n",
       "    <tr style=\"text-align: right;\">\n",
       "      <th></th>\n",
       "      <th>KIC</th>\n",
       "      <th>Teff</th>\n",
       "      <th>age</th>\n",
       "      <th>dnu</th>\n",
       "      <th>eTeff</th>\n",
       "      <th>ednu</th>\n",
       "      <th>efeh</th>\n",
       "      <th>enumax</th>\n",
       "      <th>feh</th>\n",
       "      <th>loage</th>\n",
       "      <th>...</th>\n",
       "      <th>eV2</th>\n",
       "      <th>l_P</th>\n",
       "      <th>P</th>\n",
       "      <th>u_P</th>\n",
       "      <th>l_vsini</th>\n",
       "      <th>vsini</th>\n",
       "      <th>u_vsini</th>\n",
       "      <th>rhat_flag</th>\n",
       "      <th>eye_flag</th>\n",
       "      <th>ebprp</th>\n",
       "    </tr>\n",
       "  </thead>\n",
       "  <tbody>\n",
       "    <tr>\n",
       "      <th>62</th>\n",
       "      <td>12069424</td>\n",
       "      <td>5825</td>\n",
       "      <td>6.6735</td>\n",
       "      <td>103.277</td>\n",
       "      <td>50</td>\n",
       "      <td>0.021</td>\n",
       "      <td>0.03</td>\n",
       "      <td>4.6</td>\n",
       "      <td>0.10</td>\n",
       "      <td>0.7666</td>\n",
       "      <td>...</td>\n",
       "      <td>0.026682</td>\n",
       "      <td>1.114095</td>\n",
       "      <td>20.516716</td>\n",
       "      <td>1.975841</td>\n",
       "      <td>0.061279</td>\n",
       "      <td>2.112675</td>\n",
       "      <td>0.060261</td>\n",
       "      <td>rhat_1</td>\n",
       "      <td>2</td>\n",
       "      <td>0.001212</td>\n",
       "    </tr>\n",
       "    <tr>\n",
       "      <th>63</th>\n",
       "      <td>12069449</td>\n",
       "      <td>5750</td>\n",
       "      <td>7.3922</td>\n",
       "      <td>116.929</td>\n",
       "      <td>50</td>\n",
       "      <td>0.012</td>\n",
       "      <td>0.02</td>\n",
       "      <td>5.0</td>\n",
       "      <td>0.05</td>\n",
       "      <td>0.9103</td>\n",
       "      <td>...</td>\n",
       "      <td>0.025289</td>\n",
       "      <td>1.474881</td>\n",
       "      <td>21.178840</td>\n",
       "      <td>1.808344</td>\n",
       "      <td>0.062482</td>\n",
       "      <td>1.462994</td>\n",
       "      <td>0.063263</td>\n",
       "      <td>NaN</td>\n",
       "      <td>0</td>\n",
       "      <td>0.001060</td>\n",
       "    </tr>\n",
       "  </tbody>\n",
       "</table>\n",
       "<p>2 rows × 62 columns</p>\n",
       "</div>"
      ],
      "text/plain": [
       "         KIC  Teff     age      dnu  eTeff   ednu  efeh  enumax   feh   loage  \\\n",
       "62  12069424  5825  6.6735  103.277     50  0.021  0.03     4.6  0.10  0.7666   \n",
       "63  12069449  5750  7.3922  116.929     50  0.012  0.02     5.0  0.05  0.9103   \n",
       "\n",
       "    ...       eV2       l_P          P       u_P   l_vsini     vsini  \\\n",
       "62  ...  0.026682  1.114095  20.516716  1.975841  0.061279  2.112675   \n",
       "63  ...  0.025289  1.474881  21.178840  1.808344  0.062482  1.462994   \n",
       "\n",
       "     u_vsini rhat_flag  eye_flag     ebprp  \n",
       "62  0.060261    rhat_1         2  0.001212  \n",
       "63  0.063263       NaN         0  0.001060  \n",
       "\n",
       "[2 rows x 62 columns]"
      ]
     },
     "execution_count": 9,
     "metadata": {},
     "output_type": "execute_result"
    }
   ],
   "source": [
    "ati.loc[np.isfinite(lit['D16_P_rot']).values]"
   ]
  },
  {
   "cell_type": "code",
   "execution_count": 80,
   "metadata": {},
   "outputs": [
    {
     "data": {
      "image/png": "[encoded data removed]",
      "text/plain": [
       "<Figure size 595x595 with 2 Axes>"
      ]
     },
     "metadata": {
      "needs_background": "light"
     },
     "output_type": "display_data"
    }
   ],
   "source": [
    "from mpl_toolkits.axes_grid.inset_locator import inset_axes\n",
    "\n",
    "np.random.seed(11)\n",
    "\n",
    "fig, ax = plt.subplots(figsize=mnras_size(595, square=True))\n",
    "\n",
    "outA = (ati['P'] / lit['D16_P_rot']).dropna().values\n",
    "upperA = e(ati['P'], ati['u_P'], lit['D16_P_rot'], lit['D16_u_eP_rot']).dropna().values\n",
    "lowerA = e(ati['P'], ati['l_P'], lit['D16_P_rot'], lit['D16_l_eP_rot']).dropna().values\n",
    "xA = np.random.uniform(0.5, 1.5, len(outA))\n",
    "xA = ati['P'][np.isfinite(lit['D16_P_rot']).values]\n",
    "ax.scatter(xA, outA, s=70, zorder=5, label='Davies et al. (2015)')\n",
    "ax.errorbar(xA, outA, yerr = [lowerA, upperA], c='k', zorder=0, fmt='|', alpha=.8)\n",
    "\n",
    "outB = (ati['P'] / lit['N15_P_rot']).dropna().values\n",
    "upperB = e(ati['P'], ati['u_P'], lit['N15_P_rot'], lit['N15_u_eP_rot']).dropna().values\n",
    "lowerB = e(ati['P'], ati['l_P'], lit['N15_P_rot'], lit['N15_l_eP_rot']).dropna().values\n",
    "xB = np.random.uniform(0.6, 1.4, len(outB)) + 0.3\n",
    "xB = ati['P'][np.isfinite(lit['N15_P_rot']).values]\n",
    "ax.scatter(xB, outB, s=70, zorder=4, label='Nielsen et al. (2015)')\n",
    "ax.errorbar(xB, outB, yerr = [lowerB, upperB], c='k', zorder=0, fmt='|', alpha=.8)\n",
    "\n",
    "outD = (ati['P'] / lit['B18_P_rot']).dropna().values\n",
    "upperD = e(ati['P'], ati['u_P'], lit['B18_P_rot'], lit['B18_u_eP_rot']).dropna().values\n",
    "lowerD = e(ati['P'], ati['l_P'], lit['B18_P_rot'], lit['B18_l_eP_rot']).dropna().values\n",
    "xD = np.random.uniform(0.3, 1.8, len(outD)) + 1.3\n",
    "xD = ati['P'][np.isfinite(lit['B18_P_rot']).values]\n",
    "ax.scatter(xD, outD, s=50, zorder=2, label='Benomar et al. (2018)')\n",
    "ax.errorbar(xD, outD, yerr = [lowerD, upperD], c='k', zorder=0, fmt='|', alpha=.8)\n",
    "\n",
    "ax.scatter(xA, outA, s=70, ec='k', lw=5, fc=None)\n",
    "ax.scatter(xB, outB, s=70, ec='k', lw=5, fc=None)\n",
    "ax.scatter(xD, outD, s=50, ec='k', lw=5, fc=None)\n",
    "\n",
    "ax.axhline(1., ls='--', c='k', zorder=0, lw=3)\n",
    "ax.set_ylim(-1, 3)\n",
    "ax.set_ylabel(r'$P_{\\rm{rot, this\\ work}} / P_{\\rm rot,\\ literature}$ [days]')\n",
    "ax.set_xlabel(r'$P_{\\rm{rot, this\\ work}}$ [days]')\n",
    "\n",
    "ax.legend(loc='lower right', fontsize=18)\n",
    "fig.tight_layout()\n",
    "\n",
    "left, bottom, width, height = [.9745, .133, 0.2, .8345]\n",
    "iax = fig.add_axes([left, bottom, width, height])\n",
    "\n",
    "sns.distplot(np.concatenate([outA, outB, outD]), ax=iax, vertical=True)\n",
    "iax.set_ylim(-1, 3)\n",
    "iax.spines['right'].set_visible(False)\n",
    "iax.spines['left'].set_visible(False)\n",
    "iax.spines['top'].set_visible(False)\n",
    "iax.spines['bottom'].set_visible(False)\n",
    "iax.get_xaxis().set_visible(False)\n",
    "iax.get_yaxis().set_visible(False)\n",
    "iax.axhline(1., ls='--', c='k', zorder=0, lw=3, xmax=0.7)\n",
    "p = np.percentile(np.concatenate([outA, outB, outD]),[15.9, 84.1])\n",
    "iax.axhline(p[0], c='k', ls=':', alpha=.8, zorder=0, lw=3, xmax=0.33)\n",
    "iax.axhline(p[1], c='k', ls=':', alpha=.8, zorder=0, lw=3, xmax=0.34)\n",
    "\n",
    "ax.axhline(p[0], c='k', ls=':', alpha=.8, zorder=0, lw=3)\n",
    "ax.axhline(p[1], c='k', ls=':', alpha=.8, zorder=0, lw=3)\n",
    "\n",
    "plt.savefig('/Users/Oliver/Dropbox/Apps/Overleaf/Malatium/Images/seis_comparison_rot_alt.pdf', rasterized=True)\n",
    "plt.savefig('/Users/Oliver/Dropbox/Apps/Overleaf/Malatium/Images/seis_comparison_rot_alt.png', dpi=300)"
   ]
  }
 ],
 "metadata": {
  "kernelspec": {
   "display_name": "Python 3",
   "language": "python",
   "name": "python3"
  },
  "language_info": {
   "codemirror_mode": {
    "name": "ipython",
    "version": 3
   },
   "file_extension": ".py",
   "mimetype": "text/x-python",
   "name": "python",
   "nbconvert_exporter": "python",
   "pygments_lexer": "ipython3",
   "version": "3.7.4"
  }
 },
 "nbformat": 4,
 "nbformat_minor": 2
}
