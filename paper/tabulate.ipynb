{
 "cells": [
  {
   "cell_type": "markdown",
   "metadata": {},
   "source": [
    "## Tabulating our data"
   ]
  },
  {
   "cell_type": "markdown",
   "metadata": {},
   "source": [
    "**To Do:**\n",
    "- Tidy up headers\n",
    "- Add + and - symbols\n",
    "- Split over 2 pages\n",
    "    - Do this by L & K\n",
    "- Add line splitting LK & new stuff\n",
    "- Add extra significant figure to modlogg\n"
   ]
  },
  {
   "cell_type": "markdown",
   "metadata": {},
   "source": [
    "We only want to showcase our rotational data output for all stars, not anything else, realistically."
   ]
  },
  {
   "cell_type": "code",
   "execution_count": 1,
   "metadata": {},
   "outputs": [
    {
     "name": "stderr",
     "output_type": "stream",
     "text": [
      "/Users/Oliver/Library/Python/3.7/lib/python/site-packages/statsmodels/tools/_testing.py:19: FutureWarning: pandas.util.testing is deprecated. Use the functions in the public API at pandas.testing instead.\n",
      "  import pandas.util.testing as tm\n"
     ]
    }
   ],
   "source": [
    "import pandas as pd\n",
    "import numpy as np\n",
    "import seaborn as sns"
   ]
  },
  {
   "cell_type": "code",
   "execution_count": 2,
   "metadata": {},
   "outputs": [
    {
     "name": "stdout",
     "output_type": "stream",
     "text": [
      "Working with 94 stars\n"
     ]
    }
   ],
   "source": [
    "ati = pd.read_csv('../data/atium.csv', index_col=0)\n",
    "ati = ati.loc[ati.eye_flag != 3]\n",
    "print(f'Working with {len(ati)} stars')"
   ]
  },
  {
   "cell_type": "markdown",
   "metadata": {},
   "source": [
    "Add in the flags"
   ]
  },
  {
   "cell_type": "code",
   "execution_count": 3,
   "metadata": {},
   "outputs": [],
   "source": [
    "ati['flag'] = np.zeros(len(ati))"
   ]
  },
  {
   "cell_type": "markdown",
   "metadata": {},
   "source": [
    "1: neff_split < 1000\n",
    "\n",
    "2: rhat > 1.1 \n",
    "\n",
    "3: not included in gyro as fell outside of range\n",
    "\n",
    "4: conflicting with the literature"
   ]
  },
  {
   "cell_type": "code",
   "execution_count": 4,
   "metadata": {},
   "outputs": [
    {
     "name": "stdout",
     "output_type": "stream",
     "text": [
      "73\n"
     ]
    }
   ],
   "source": [
    "ati.loc[ati.neff_split < 1000, 'flag'] = int(1)\n",
    "ati.loc[ati.rhat_flag == 'rhat_1', 'flag'] = int(1)\n",
    "\n",
    "ati.loc[ati.KIC == 6603624, 'flag'] = int(2)\n",
    "ati.loc[ati.KIC == 8760414, 'flag'] = int(2)\n",
    "ati.loc[ati.KIC == 8938364, 'flag'] = int(2)\n",
    "\n",
    "ati.loc[ati.KIC == 6278762, 'flag'] = int(3)\n",
    "ati.loc[ati.KIC == 7106245, 'flag'] = int(3)\n",
    "print(len(ati[ati.flag == 0]))"
   ]
  },
  {
   "cell_type": "code",
   "execution_count": 6,
   "metadata": {},
   "outputs": [
    {
     "name": "stdout",
     "output_type": "stream",
     "text": [
      "91\n"
     ]
    }
   ],
   "source": [
    "print(len(ati[ati.flag != 2]))"
   ]
  },
  {
   "cell_type": "code",
   "execution_count": null,
   "metadata": {},
   "outputs": [],
   "source": []
  },
  {
   "cell_type": "code",
   "execution_count": 39,
   "metadata": {},
   "outputs": [
    {
     "data": {
      "text/plain": [
       "array([0., 0., 0., 0., 0., 0., 0., 0., 0., 0., 1., 0., 0., 0., 0., 2., 0.,\n",
       "       0., 0., 3., 0., 1., 0., 0., 0., 0., 0., 0., 0., 0., 0., 0., 0., 0.,\n",
       "       1., 0., 2., 2., 0., 0., 0., 1., 0., 0., 1., 0., 0., 0., 0., 0., 1.,\n",
       "       0., 0., 0., 0., 0., 0., 0., 0., 1., 0., 1., 1., 0., 1., 0., 0., 0.,\n",
       "       0., 1., 0., 0., 0., 0., 0., 3., 0., 0., 0., 0., 1., 0., 0., 0., 0.,\n",
       "       1., 1., 0., 0., 0., 0., 0., 1., 1.])"
      ]
     },
     "execution_count": 39,
     "metadata": {},
     "output_type": "execute_result"
    }
   ],
   "source": [
    "ati.flag.values"
   ]
  },
  {
   "cell_type": "code",
   "execution_count": 11,
   "metadata": {},
   "outputs": [
    {
     "name": "stdout",
     "output_type": "stream",
     "text": [
      "Index(['KIC', 'Teff', 'age', 'dnu', 'eTeff', 'ednu', 'efeh', 'enumax', 'feh',\n",
      "       'loage', 'lomodlogg', 'lomodmass', 'lomodrad', 'modlogg', 'modmass',\n",
      "       'modrad', 'numax', 'source', 'upage', 'upmodlogg', 'upmodmass',\n",
      "       'upmodrad', 'G', 'bprp', 'hrclass', 'neff_xsplit', 'neff_cosi',\n",
      "       'neff_split', 'neff_i', 'l_nus*', 'nus*', 'u_nus*', 'l_cosi', 'cosi',\n",
      "       'u_cosi', 'l_nus', 'nus', 'u_nus', 'l_i', 'i', 'u_i', 'fit_numax',\n",
      "       'efit_numax', 'fit_d01', 'efit_d01', 'fit_d02', 'efit_d02',\n",
      "       'fit_epsilon', 'efit_epsilon', 'V1', 'eV1', 'V2', 'eV2', 'l_P', 'P',\n",
      "       'u_P', 'l_vsini', 'vsini', 'u_vsini', 'rhat_flag', 'eye_flag', 'ebprp'],\n",
      "      dtype='object')\n"
     ]
    }
   ],
   "source": [
    "print(ati.columns)"
   ]
  },
  {
   "cell_type": "code",
   "execution_count": 6,
   "metadata": {},
   "outputs": [],
   "source": [
    "cols = ['KIC', 'Teff', 'eTeff', 'age', 'loage', 'upage', 'modmass', 'lomodmass', 'upmodmass', 'feh', 'efeh',\n",
    "        'modlogg', 'upmodlogg', 'lomodlogg', \n",
    "        'nus*', 'l_nus*','u_nus*','i','l_i','u_i', 'P', 'l_P', 'u_P',  'flag',\n",
    "        'hrclass', 'source']"
   ]
  },
  {
   "cell_type": "code",
   "execution_count": 7,
   "metadata": {},
   "outputs": [],
   "source": [
    "out = ati[cols]"
   ]
  },
  {
   "cell_type": "code",
   "execution_count": 8,
   "metadata": {},
   "outputs": [
    {
     "name": "stderr",
     "output_type": "stream",
     "text": [
      "/usr/local/lib/python3.7/site-packages/ipykernel_launcher.py:1: SettingWithCopyWarning: \n",
      "A value is trying to be set on a copy of a slice from a DataFrame\n",
      "\n",
      "See the caveats in the documentation: https://pandas.pydata.org/pandas-docs/stable/user_guide/indexing.html#returning-a-view-versus-a-copy\n",
      "  \"\"\"Entry point for launching an IPython kernel.\n"
     ]
    }
   ],
   "source": [
    "out.sort_values(by='KIC', inplace=True)"
   ]
  },
  {
   "cell_type": "code",
   "execution_count": 9,
   "metadata": {},
   "outputs": [],
   "source": [
    "from astropy.table import Table\n",
    "out = Table.from_pandas(out)"
   ]
  },
  {
   "cell_type": "code",
   "execution_count": 10,
   "metadata": {},
   "outputs": [
    {
     "ename": "ValueError",
     "evalue": "Invalid format for column 'neff_split': could not display values in this column using this format (Unable to parse format string \"<class 'int'>\" for entry \"1514\" in column \"neff_split\")",
     "output_type": "error",
     "traceback": [
      "\u001b[0;31m---------------------------------------------------------------------------\u001b[0m",
      "\u001b[0;31mValueError\u001b[0m                                Traceback (most recent call last)",
      "\u001b[0;32m~/Library/Python/3.7/lib/python/site-packages/astropy/table/pprint.py\u001b[0m in \u001b[0;36m_auto_format_func\u001b[0;34m(format_, val)\u001b[0m\n\u001b[1;32m     89\u001b[0m                                      \u001b[0;34m'instead of string type'\u001b[0m\u001b[0;34m\u001b[0m\u001b[0;34m\u001b[0m\u001b[0m\n\u001b[0;32m---> 90\u001b[0;31m                                      .format(val, type(val)))\n\u001b[0m\u001b[1;32m     91\u001b[0m             \u001b[0;32mexcept\u001b[0m \u001b[0mException\u001b[0m \u001b[0;32mas\u001b[0m \u001b[0merr\u001b[0m\u001b[0;34m:\u001b[0m\u001b[0;34m\u001b[0m\u001b[0;34m\u001b[0m\u001b[0m\n",
      "\u001b[0;31mValueError\u001b[0m: Format function for value 1514 returned <class 'numpy.int64'> instead of string type",
      "\nDuring handling of the above exception, another exception occurred:\n",
      "\u001b[0;31mValueError\u001b[0m                                Traceback (most recent call last)",
      "\u001b[0;32m~/Library/Python/3.7/lib/python/site-packages/astropy/table/pprint.py\u001b[0m in \u001b[0;36m_pformat_col_iter\u001b[0;34m(self, col, max_lines, show_name, show_unit, outs, show_dtype, show_length)\u001b[0m\n\u001b[1;32m    450\u001b[0m                 \u001b[0;32mtry\u001b[0m\u001b[0;34m:\u001b[0m\u001b[0;34m\u001b[0m\u001b[0;34m\u001b[0m\u001b[0m\n\u001b[0;32m--> 451\u001b[0;31m                     \u001b[0;32myield\u001b[0m \u001b[0mformat_col_str\u001b[0m\u001b[0;34m(\u001b[0m\u001b[0midx\u001b[0m\u001b[0;34m)\u001b[0m\u001b[0;34m\u001b[0m\u001b[0;34m\u001b[0m\u001b[0m\n\u001b[0m\u001b[1;32m    452\u001b[0m                 \u001b[0;32mexcept\u001b[0m \u001b[0mValueError\u001b[0m\u001b[0;34m:\u001b[0m\u001b[0;34m\u001b[0m\u001b[0;34m\u001b[0m\u001b[0m\n",
      "\u001b[0;32m~/Library/Python/3.7/lib/python/site-packages/astropy/table/pprint.py\u001b[0m in \u001b[0;36mformat_col_str\u001b[0;34m(idx)\u001b[0m\n\u001b[1;32m    442\u001b[0m             \u001b[0;32melse\u001b[0m\u001b[0;34m:\u001b[0m\u001b[0;34m\u001b[0m\u001b[0;34m\u001b[0m\u001b[0m\n\u001b[0;32m--> 443\u001b[0;31m                 \u001b[0;32mreturn\u001b[0m \u001b[0mformat_func\u001b[0m\u001b[0;34m(\u001b[0m\u001b[0mcol_format\u001b[0m\u001b[0;34m,\u001b[0m \u001b[0mcol\u001b[0m\u001b[0;34m[\u001b[0m\u001b[0midx\u001b[0m\u001b[0;34m]\u001b[0m\u001b[0;34m)\u001b[0m\u001b[0;34m\u001b[0m\u001b[0;34m\u001b[0m\u001b[0m\n\u001b[0m\u001b[1;32m    444\u001b[0m \u001b[0;34m\u001b[0m\u001b[0m\n",
      "\u001b[0;32m~/Library/Python/3.7/lib/python/site-packages/astropy/table/pprint.py\u001b[0m in \u001b[0;36m_auto_format_func\u001b[0;34m(format_, val)\u001b[0m\n\u001b[1;32m     98\u001b[0m                 raise ValueError('Format function for value {} failed: {}'\n\u001b[0;32m---> 99\u001b[0;31m                                  .format(val, err))\n\u001b[0m\u001b[1;32m    100\u001b[0m             \u001b[0;31m# If the user-supplied function handles formatting masked elements, use\u001b[0m\u001b[0;34m\u001b[0m\u001b[0;34m\u001b[0m\u001b[0;34m\u001b[0m\u001b[0m\n",
      "\u001b[0;31mValueError\u001b[0m: Format function for value 1514 failed: Format function for value 1514 returned <class 'numpy.int64'> instead of string type",
      "\nDuring handling of the above exception, another exception occurred:\n",
      "\u001b[0;31mValueError\u001b[0m                                Traceback (most recent call last)",
      "\u001b[0;32m~/Library/Python/3.7/lib/python/site-packages/astropy/table/column.py\u001b[0m in \u001b[0;36mformat\u001b[0;34m(self, format_string)\u001b[0m\n\u001b[1;32m    465\u001b[0m             \u001b[0;31m# test whether it formats without error exemplarily\u001b[0m\u001b[0;34m\u001b[0m\u001b[0;34m\u001b[0m\u001b[0;34m\u001b[0m\u001b[0m\n\u001b[0;32m--> 466\u001b[0;31m             \u001b[0mself\u001b[0m\u001b[0;34m.\u001b[0m\u001b[0mpformat\u001b[0m\u001b[0;34m(\u001b[0m\u001b[0mmax_lines\u001b[0m\u001b[0;34m=\u001b[0m\u001b[0;36m1\u001b[0m\u001b[0;34m)\u001b[0m\u001b[0;34m\u001b[0m\u001b[0;34m\u001b[0m\u001b[0m\n\u001b[0m\u001b[1;32m    467\u001b[0m         \u001b[0;32mexcept\u001b[0m \u001b[0mException\u001b[0m \u001b[0;32mas\u001b[0m \u001b[0merr\u001b[0m\u001b[0;34m:\u001b[0m\u001b[0;34m\u001b[0m\u001b[0;34m\u001b[0m\u001b[0m\n",
      "\u001b[0;32m~/Library/Python/3.7/lib/python/site-packages/astropy/table/column.py\u001b[0m in \u001b[0;36mpformat\u001b[0;34m(self, max_lines, show_name, show_unit, show_dtype, html)\u001b[0m\n\u001b[1;32m    566\u001b[0m                                    \u001b[0mshow_unit\u001b[0m\u001b[0;34m=\u001b[0m\u001b[0mshow_unit\u001b[0m\u001b[0;34m,\u001b[0m \u001b[0mshow_dtype\u001b[0m\u001b[0;34m=\u001b[0m\u001b[0mshow_dtype\u001b[0m\u001b[0;34m,\u001b[0m\u001b[0;34m\u001b[0m\u001b[0;34m\u001b[0m\u001b[0m\n\u001b[0;32m--> 567\u001b[0;31m                                    html=html)\n\u001b[0m\u001b[1;32m    568\u001b[0m         \u001b[0;32mreturn\u001b[0m \u001b[0mlines\u001b[0m\u001b[0;34m\u001b[0m\u001b[0;34m\u001b[0m\u001b[0m\n",
      "\u001b[0;32m~/Library/Python/3.7/lib/python/site-packages/astropy/table/pprint.py\u001b[0m in \u001b[0;36m_pformat_col\u001b[0;34m(self, col, max_lines, show_name, show_unit, show_dtype, show_length, html, align)\u001b[0m\n\u001b[1;32m    244\u001b[0m \u001b[0;34m\u001b[0m\u001b[0m\n\u001b[0;32m--> 245\u001b[0;31m         \u001b[0mcol_strs\u001b[0m \u001b[0;34m=\u001b[0m \u001b[0mlist\u001b[0m\u001b[0;34m(\u001b[0m\u001b[0mcol_strs_iter\u001b[0m\u001b[0;34m)\u001b[0m\u001b[0;34m\u001b[0m\u001b[0;34m\u001b[0m\u001b[0m\n\u001b[0m\u001b[1;32m    246\u001b[0m         \u001b[0;32mif\u001b[0m \u001b[0mlen\u001b[0m\u001b[0;34m(\u001b[0m\u001b[0mcol_strs\u001b[0m\u001b[0;34m)\u001b[0m \u001b[0;34m>\u001b[0m \u001b[0;36m0\u001b[0m\u001b[0;34m:\u001b[0m\u001b[0;34m\u001b[0m\u001b[0;34m\u001b[0m\u001b[0m\n",
      "\u001b[0;32m~/Library/Python/3.7/lib/python/site-packages/astropy/table/pprint.py\u001b[0m in \u001b[0;36m_pformat_col_iter\u001b[0;34m(self, col, max_lines, show_name, show_unit, outs, show_dtype, show_length)\u001b[0m\n\u001b[1;32m    455\u001b[0m                         'in column \"{}\"'.format(col_format, col[idx],\n\u001b[0;32m--> 456\u001b[0;31m                                                  col.info.name))\n\u001b[0m\u001b[1;32m    457\u001b[0m \u001b[0;34m\u001b[0m\u001b[0m\n",
      "\u001b[0;31mValueError\u001b[0m: Unable to parse format string \"<class 'int'>\" for entry \"1514\" in column \"neff_split\"",
      "\nDuring handling of the above exception, another exception occurred:\n",
      "\u001b[0;31mValueError\u001b[0m                                Traceback (most recent call last)",
      "\u001b[0;32m<ipython-input-10-fe5a471c7141>\u001b[0m in \u001b[0;36m<module>\u001b[0;34m\u001b[0m\n\u001b[1;32m     32\u001b[0m \u001b[0mout\u001b[0m\u001b[0;34m[\u001b[0m\u001b[0;34m'l_vsini'\u001b[0m\u001b[0;34m]\u001b[0m\u001b[0;34m.\u001b[0m\u001b[0minfo\u001b[0m\u001b[0;34m.\u001b[0m\u001b[0mformat\u001b[0m \u001b[0;34m=\u001b[0m \u001b[0;34m'.2f'\u001b[0m\u001b[0;34m\u001b[0m\u001b[0;34m\u001b[0m\u001b[0m\n\u001b[1;32m     33\u001b[0m \u001b[0mout\u001b[0m\u001b[0;34m[\u001b[0m\u001b[0;34m'u_vsini'\u001b[0m\u001b[0;34m]\u001b[0m\u001b[0;34m.\u001b[0m\u001b[0minfo\u001b[0m\u001b[0;34m.\u001b[0m\u001b[0mformat\u001b[0m \u001b[0;34m=\u001b[0m \u001b[0;34m'.2f'\u001b[0m\u001b[0;34m\u001b[0m\u001b[0;34m\u001b[0m\u001b[0m\n\u001b[0;32m---> 34\u001b[0;31m \u001b[0mout\u001b[0m\u001b[0;34m[\u001b[0m\u001b[0;34m'neff_split'\u001b[0m\u001b[0;34m]\u001b[0m\u001b[0;34m.\u001b[0m\u001b[0minfo\u001b[0m\u001b[0;34m.\u001b[0m\u001b[0mformat\u001b[0m \u001b[0;34m=\u001b[0m \u001b[0mint\u001b[0m\u001b[0;34m\u001b[0m\u001b[0;34m\u001b[0m\u001b[0m\n\u001b[0m",
      "\u001b[0;32m~/Library/Python/3.7/lib/python/site-packages/astropy/utils/data_info.py\u001b[0m in \u001b[0;36m__set__\u001b[0;34m(self, instance, value)\u001b[0m\n\u001b[1;32m    219\u001b[0m             \u001b[0;32mraise\u001b[0m \u001b[0mValueError\u001b[0m\u001b[0;34m(\u001b[0m\u001b[0;34m'cannot set unbound descriptor'\u001b[0m\u001b[0;34m)\u001b[0m\u001b[0;34m\u001b[0m\u001b[0;34m\u001b[0m\u001b[0m\n\u001b[1;32m    220\u001b[0m \u001b[0;34m\u001b[0m\u001b[0m\n\u001b[0;32m--> 221\u001b[0;31m         \u001b[0msetattr\u001b[0m\u001b[0;34m(\u001b[0m\u001b[0minstance\u001b[0m\u001b[0;34m.\u001b[0m\u001b[0m_parent\u001b[0m\u001b[0;34m,\u001b[0m \u001b[0mself\u001b[0m\u001b[0;34m.\u001b[0m\u001b[0mattr\u001b[0m\u001b[0;34m,\u001b[0m \u001b[0mvalue\u001b[0m\u001b[0;34m)\u001b[0m\u001b[0;34m\u001b[0m\u001b[0;34m\u001b[0m\u001b[0m\n\u001b[0m\u001b[1;32m    222\u001b[0m \u001b[0;34m\u001b[0m\u001b[0m\n\u001b[1;32m    223\u001b[0m \u001b[0;34m\u001b[0m\u001b[0m\n",
      "\u001b[0;32m~/Library/Python/3.7/lib/python/site-packages/astropy/table/column.py\u001b[0m in \u001b[0;36m__setattr__\u001b[0;34m(self, item, value)\u001b[0m\n\u001b[1;32m    886\u001b[0m         \u001b[0;32mif\u001b[0m \u001b[0;32mnot\u001b[0m \u001b[0misinstance\u001b[0m\u001b[0;34m(\u001b[0m\u001b[0mself\u001b[0m\u001b[0;34m,\u001b[0m \u001b[0mMaskedColumn\u001b[0m\u001b[0;34m)\u001b[0m \u001b[0;32mand\u001b[0m \u001b[0mitem\u001b[0m \u001b[0;34m==\u001b[0m \u001b[0;34m\"mask\"\u001b[0m\u001b[0;34m:\u001b[0m\u001b[0;34m\u001b[0m\u001b[0;34m\u001b[0m\u001b[0m\n\u001b[1;32m    887\u001b[0m             \u001b[0;32mraise\u001b[0m \u001b[0mAttributeError\u001b[0m\u001b[0;34m(\u001b[0m\u001b[0;34m\"cannot set mask value to a column in non-masked Table\"\u001b[0m\u001b[0;34m)\u001b[0m\u001b[0;34m\u001b[0m\u001b[0;34m\u001b[0m\u001b[0m\n\u001b[0;32m--> 888\u001b[0;31m         \u001b[0msuper\u001b[0m\u001b[0;34m(\u001b[0m\u001b[0;34m)\u001b[0m\u001b[0;34m.\u001b[0m\u001b[0m__setattr__\u001b[0m\u001b[0;34m(\u001b[0m\u001b[0mitem\u001b[0m\u001b[0;34m,\u001b[0m \u001b[0mvalue\u001b[0m\u001b[0;34m)\u001b[0m\u001b[0;34m\u001b[0m\u001b[0;34m\u001b[0m\u001b[0m\n\u001b[0m\u001b[1;32m    889\u001b[0m \u001b[0;34m\u001b[0m\u001b[0m\n\u001b[1;32m    890\u001b[0m         \u001b[0;32mif\u001b[0m \u001b[0mitem\u001b[0m \u001b[0;34m==\u001b[0m \u001b[0;34m'unit'\u001b[0m \u001b[0;32mand\u001b[0m \u001b[0missubclass\u001b[0m\u001b[0;34m(\u001b[0m\u001b[0mself\u001b[0m\u001b[0;34m.\u001b[0m\u001b[0mdtype\u001b[0m\u001b[0;34m.\u001b[0m\u001b[0mtype\u001b[0m\u001b[0;34m,\u001b[0m \u001b[0mnp\u001b[0m\u001b[0;34m.\u001b[0m\u001b[0mnumber\u001b[0m\u001b[0;34m)\u001b[0m\u001b[0;34m:\u001b[0m\u001b[0;34m\u001b[0m\u001b[0;34m\u001b[0m\u001b[0m\n",
      "\u001b[0;32m~/Library/Python/3.7/lib/python/site-packages/astropy/table/column.py\u001b[0m in \u001b[0;36mformat\u001b[0;34m(self, format_string)\u001b[0m\n\u001b[1;32m    471\u001b[0m                 \u001b[0;34m\"Invalid format for column '{}': could not display \"\u001b[0m\u001b[0;34m\u001b[0m\u001b[0;34m\u001b[0m\u001b[0m\n\u001b[1;32m    472\u001b[0m                 \"values in this column using this format ({})\".format(\n\u001b[0;32m--> 473\u001b[0;31m                     self.name, err.args[0]))\n\u001b[0m\u001b[1;32m    474\u001b[0m \u001b[0;34m\u001b[0m\u001b[0m\n\u001b[1;32m    475\u001b[0m     \u001b[0;34m@\u001b[0m\u001b[0mproperty\u001b[0m\u001b[0;34m\u001b[0m\u001b[0;34m\u001b[0m\u001b[0m\n",
      "\u001b[0;31mValueError\u001b[0m: Invalid format for column 'neff_split': could not display values in this column using this format (Unable to parse format string \"<class 'int'>\" for entry \"1514\" in column \"neff_split\")"
     ]
    }
   ],
   "source": [
    "from astropy import units as u\n",
    "out['Teff'].info.format = '.0f'\n",
    "out['Teff'].info.unit = u.K\n",
    "out['age'].info.format = '.2f'\n",
    "out['loage'].info.format = '.2f'\n",
    "out['upage'].info.format = '.2f'\n",
    "out['modmass'].info.format = '.2f'\n",
    "out['modmass'].info.unit = u.solMass\n",
    "out['lomodmass'].info.format = '.2f'\n",
    "out['upmodmass'].info.format = '.2f'\n",
    "out['modlogg'].info.format = '.3f'\n",
    "out['modlogg'].info.unit = u.dex\n",
    "out['lomodlogg'].info.format = '.3f'\n",
    "out['upmodlogg'].info.format = '.3f'\n",
    "out['nus*'].info.format = '.2f'\n",
    "out['nus*'].info.unit = u.microhertz\n",
    "out['l_nus*'].info.format = '.2f'\n",
    "out['u_nus*'].info.format = '.2f'\n",
    "out['i'] = np.rad2deg(out['i'].data)\n",
    "out['l_i'] = np.rad2deg(out['l_i'].data)\n",
    "out['u_i'] = np.rad2deg(out['u_i'].data)\n",
    "out['i'].info.format = '.1f'\n",
    "out['i'].info.unit = u.deg\n",
    "out['l_i'].info.format = '.1f'\n",
    "out['u_i'].info.format = '.1f'\n",
    "out['P'].info.format = '.1f'\n",
    "out['P'].info.unit = u.day\n",
    "out['l_P'].info.format = '.1f'\n",
    "out['u_P'].info.format = '.1f'\n",
    "out['vsini'].info.format = '.1f'\n",
    "out['vsini'].info.unit = u.km/u.second\n",
    "out['l_vsini'].info.format = '.2f'\n",
    "out['u_vsini'].info.format = '.2f'\n",
    "out['neff_split'].info.format = int"
   ]
  },
  {
   "cell_type": "code",
   "execution_count": null,
   "metadata": {},
   "outputs": [],
   "source": [
    "out"
   ]
  },
  {
   "cell_type": "code",
   "execution_count": null,
   "metadata": {
    "scrolled": false
   },
   "outputs": [],
   "source": [
    "from astropy.io import ascii\n",
    "ascii.write(out, format='latex')"
   ]
  },
  {
   "cell_type": "markdown",
   "metadata": {},
   "source": [
    "Flags n stuff"
   ]
  },
  {
   "cell_type": "code",
   "execution_count": null,
   "metadata": {},
   "outputs": [],
   "source": [
    "ati"
   ]
  },
  {
   "cell_type": "code",
   "execution_count": null,
   "metadata": {},
   "outputs": [],
   "source": []
  }
 ],
 "metadata": {
  "kernelspec": {
   "display_name": "Python 3",
   "language": "python",
   "name": "python3"
  },
  "language_info": {
   "codemirror_mode": {
    "name": "ipython",
    "version": 3
   },
   "file_extension": ".py",
   "mimetype": "text/x-python",
   "name": "python",
   "nbconvert_exporter": "python",
   "pygments_lexer": "ipython3",
   "version": "3.7.4"
  }
 },
 "nbformat": 4,
 "nbformat_minor": 2
}
