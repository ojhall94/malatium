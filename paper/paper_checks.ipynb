{
 "cells": [
  {
   "cell_type": "code",
   "execution_count": 1,
   "metadata": {},
   "outputs": [
    {
     "name": "stderr",
     "output_type": "stream",
     "text": [
      "/Users/Oliver/Library/Python/3.7/lib/python/site-packages/statsmodels/tools/_testing.py:19: FutureWarning: pandas.util.testing is deprecated. Use the functions in the public API at pandas.testing instead.\n",
      "  import pandas.util.testing as tm\n"
     ]
    }
   ],
   "source": [
    "import numpy as np\n",
    "import seaborn as sns\n",
    "import matplotlib.pyplot as plt\n",
    "import pandas as pd"
   ]
  },
  {
   "cell_type": "code",
   "execution_count": 2,
   "metadata": {},
   "outputs": [
    {
     "name": "stdout",
     "output_type": "stream",
     "text": [
      "89\n"
     ]
    }
   ],
   "source": [
    "ati = pd.read_csv('../data/atium.csv', index_col=0)\n",
    "full_ati = pd.read_csv('../data/atium.csv', index_col=0)\n",
    "ati = ati[ati.eye_flag != 3]\n",
    "kics = ati.KIC.values\n",
    "\n",
    "ati.drop(ati[ati.KIC == 6603624].index, inplace=True) # faulty\n",
    "ati.drop(ati[ati.KIC == 8760414].index, inplace=True) # faulty & out of range feh\n",
    "ati.drop(ati[ati.KIC == 8938364].index, inplace=True) # faulty\n",
    "ati.drop(ati[ati.KIC == 6278762].index, inplace=True) # out of range age\n",
    "ati.drop(ati[ati.KIC == 7106245].index, inplace=True) # out of range feh\n",
    "print(len(ati))"
   ]
  },
  {
   "cell_type": "markdown",
   "metadata": {},
   "source": [
    "## Inclination checks"
   ]
  },
  {
   "cell_type": "code",
   "execution_count": 3,
   "metadata": {},
   "outputs": [],
   "source": [
    "full_ati['ideg'] = np.rad2deg(full_ati['i'])"
   ]
  },
  {
   "cell_type": "code",
   "execution_count": 4,
   "metadata": {},
   "outputs": [
    {
     "data": {
      "text/html": [
       "<div>\n",
       "<style scoped>\n",
       "    .dataframe tbody tr th:only-of-type {\n",
       "        vertical-align: middle;\n",
       "    }\n",
       "\n",
       "    .dataframe tbody tr th {\n",
       "        vertical-align: top;\n",
       "    }\n",
       "\n",
       "    .dataframe thead th {\n",
       "        text-align: right;\n",
       "    }\n",
       "</style>\n",
       "<table border=\"1\" class=\"dataframe\">\n",
       "  <thead>\n",
       "    <tr style=\"text-align: right;\">\n",
       "      <th></th>\n",
       "      <th>KIC</th>\n",
       "      <th>Teff</th>\n",
       "      <th>age</th>\n",
       "      <th>dnu</th>\n",
       "      <th>eTeff</th>\n",
       "      <th>ednu</th>\n",
       "      <th>efeh</th>\n",
       "      <th>enumax</th>\n",
       "      <th>feh</th>\n",
       "      <th>loage</th>\n",
       "      <th>...</th>\n",
       "      <th>l_P</th>\n",
       "      <th>P</th>\n",
       "      <th>u_P</th>\n",
       "      <th>l_vsini</th>\n",
       "      <th>vsini</th>\n",
       "      <th>u_vsini</th>\n",
       "      <th>rhat_flag</th>\n",
       "      <th>eye_flag</th>\n",
       "      <th>ebprp</th>\n",
       "      <th>ideg</th>\n",
       "    </tr>\n",
       "  </thead>\n",
       "  <tbody>\n",
       "    <tr>\n",
       "      <th>15</th>\n",
       "      <td>6603624</td>\n",
       "      <td>5674</td>\n",
       "      <td>7.8234</td>\n",
       "      <td>110.128</td>\n",
       "      <td>77</td>\n",
       "      <td>0.012</td>\n",
       "      <td>0.1</td>\n",
       "      <td>5.4</td>\n",
       "      <td>0.28</td>\n",
       "      <td>0.8624</td>\n",
       "      <td>...</td>\n",
       "      <td>0.019086</td>\n",
       "      <td>1.218267</td>\n",
       "      <td>0.036713</td>\n",
       "      <td>0.664208</td>\n",
       "      <td>5.701380</td>\n",
       "      <td>0.641580</td>\n",
       "      <td>NaN</td>\n",
       "      <td>0</td>\n",
       "      <td>0.001042</td>\n",
       "      <td>6.893700</td>\n",
       "    </tr>\n",
       "    <tr>\n",
       "      <th>36</th>\n",
       "      <td>8760414</td>\n",
       "      <td>5873</td>\n",
       "      <td>11.6642</td>\n",
       "      <td>117.230</td>\n",
       "      <td>77</td>\n",
       "      <td>0.022</td>\n",
       "      <td>0.1</td>\n",
       "      <td>9.1</td>\n",
       "      <td>-0.92</td>\n",
       "      <td>1.6059</td>\n",
       "      <td>...</td>\n",
       "      <td>0.403788</td>\n",
       "      <td>2.004548</td>\n",
       "      <td>4.481342</td>\n",
       "      <td>1.878079</td>\n",
       "      <td>3.083780</td>\n",
       "      <td>1.152309</td>\n",
       "      <td>rhat_01</td>\n",
       "      <td>0</td>\n",
       "      <td>NaN</td>\n",
       "      <td>7.616282</td>\n",
       "    </tr>\n",
       "    <tr>\n",
       "      <th>37</th>\n",
       "      <td>8938364</td>\n",
       "      <td>5677</td>\n",
       "      <td>10.2508</td>\n",
       "      <td>85.684</td>\n",
       "      <td>77</td>\n",
       "      <td>0.018</td>\n",
       "      <td>0.1</td>\n",
       "      <td>5.2</td>\n",
       "      <td>-0.13</td>\n",
       "      <td>0.6548</td>\n",
       "      <td>...</td>\n",
       "      <td>0.199141</td>\n",
       "      <td>2.035735</td>\n",
       "      <td>86.970072</td>\n",
       "      <td>2.962227</td>\n",
       "      <td>3.613092</td>\n",
       "      <td>1.577381</td>\n",
       "      <td>rhat_1</td>\n",
       "      <td>1</td>\n",
       "      <td>0.000509</td>\n",
       "      <td>8.676839</td>\n",
       "    </tr>\n",
       "  </tbody>\n",
       "</table>\n",
       "<p>3 rows × 63 columns</p>\n",
       "</div>"
      ],
      "text/plain": [
       "        KIC  Teff      age      dnu  eTeff   ednu  efeh  enumax   feh   loage  \\\n",
       "15  6603624  5674   7.8234  110.128     77  0.012   0.1     5.4  0.28  0.8624   \n",
       "36  8760414  5873  11.6642  117.230     77  0.022   0.1     9.1 -0.92  1.6059   \n",
       "37  8938364  5677  10.2508   85.684     77  0.018   0.1     5.2 -0.13  0.6548   \n",
       "\n",
       "    ...       l_P         P        u_P   l_vsini     vsini   u_vsini  \\\n",
       "15  ...  0.019086  1.218267   0.036713  0.664208  5.701380  0.641580   \n",
       "36  ...  0.403788  2.004548   4.481342  1.878079  3.083780  1.152309   \n",
       "37  ...  0.199141  2.035735  86.970072  2.962227  3.613092  1.577381   \n",
       "\n",
       "    rhat_flag eye_flag     ebprp      ideg  \n",
       "15        NaN        0  0.001042  6.893700  \n",
       "36    rhat_01        0       NaN  7.616282  \n",
       "37     rhat_1        1  0.000509  8.676839  \n",
       "\n",
       "[3 rows x 63 columns]"
      ]
     },
     "execution_count": 4,
     "metadata": {},
     "output_type": "execute_result"
    }
   ],
   "source": [
    "full_ati[full_ati['ideg'] < 14]"
   ]
  },
  {
   "cell_type": "code",
   "execution_count": 5,
   "metadata": {},
   "outputs": [],
   "source": [
    " def epsilon(i, l, m):\n",
    "    #I use the prescriptions from Gizon & Solank 2003 and Handberg & Campante 2012\n",
    "        if l == 0:\n",
    "            return 1\n",
    "        if l == 1:\n",
    "            if m == 0:\n",
    "                return np.cos(i)**2\n",
    "            if np.abs(m) == 1:\n",
    "                return 0.5 * np.sin(i)**2\n",
    "        if l == 2:\n",
    "            if m == 0:\n",
    "                return 0.25 * (3 * np.cos(i)**2 - 1)**2\n",
    "            if np.abs(m) ==1:\n",
    "                return (3/8)*np.sin(2*i)**2\n",
    "            if np.abs(m) == 2:\n",
    "                return (3/8) * np.sin(i)**4\n",
    "        if l == 3:\n",
    "            if m == 0:\n",
    "                return (1/64)*(5*np.cos(3*i) + 3*np.cos(i))**2\n",
    "            if np.abs(m) == 1:\n",
    "                return (3/64)*(5*np.cos(2*i) + 3)**2 * np.sin(i)**2\n",
    "            if np.abs(m) == 2:\n",
    "                return (15/8) * np.cos(i)**2 * np.sin(i)**4\n",
    "            if np.abs(m) == 3:\n",
    "                return (5/16)*np.sin(i)**6"
   ]
  },
  {
   "cell_type": "code",
   "execution_count": 7,
   "metadata": {},
   "outputs": [
    {
     "name": "stdout",
     "output_type": "stream",
     "text": [
      "Inclination: 6.89 deg\n",
      "l=1: 0.01 - 0.99 - 0.01\n",
      "l=2: 0.00 - 0.02 - 0.96 - 0.02 - 0.00\n",
      "Inclination: 19.91 deg\n",
      "l=1: 0.06 - 0.88 - 0.06\n",
      "l=2: 0.01 - 0.15 - 0.68 - 0.15 - 0.01\n",
      "Inclination: 7.62 deg\n",
      "l=1: 0.01 - 0.98 - 0.01\n",
      "l=2: 0.00 - 0.03 - 0.95 - 0.03 - 0.00\n",
      "Inclination: 8.68 deg\n",
      "l=1: 0.01 - 0.98 - 0.01\n",
      "l=2: 0.00 - 0.03 - 0.93 - 0.03 - 0.00\n",
      "Inclination: 16.62 deg\n",
      "l=1: 0.04 - 0.92 - 0.04\n",
      "l=2: 0.00 - 0.11 - 0.77 - 0.11 - 0.00\n"
     ]
    }
   ],
   "source": [
    "for idx in full_ati[full_ati['ideg'] < 20].index:\n",
    "    ideg = full_ati.loc[idx].ideg\n",
    "    i = full_ati.loc[idx].i\n",
    "    print(f'Inclination: {ideg:.2f} deg')\n",
    "    print(f'l=1: {epsilon(i, 1, -1):.2f} - {epsilon(i, 1, 0):.2f} - {epsilon(i, 1, 1):.2f}')\n",
    "    print(f'l=2: {epsilon(i, 2, -2):.2f} - {epsilon(i, 2, -1):.2f} - {epsilon(i, 2, 0):.2f} - {epsilon(i, 2, 1):.2f} - {epsilon(i, 2, 2):.2f}')"
   ]
  },
  {
   "cell_type": "markdown",
   "metadata": {},
   "source": [
    "## Visibility Checks"
   ]
  },
  {
   "cell_type": "code",
   "execution_count": 23,
   "metadata": {},
   "outputs": [
    {
     "data": {
      "text/plain": [
       "<matplotlib.axes._subplots.AxesSubplot at 0x118eccf10>"
      ]
     },
     "execution_count": 23,
     "metadata": {},
     "output_type": "execute_result"
    },
    {
     "data": {
      "image/png": "[encoded data removed]",
      "text/plain": [
       "<Figure size 432x288 with 1 Axes>"
      ]
     },
     "metadata": {
      "needs_background": "light"
     },
     "output_type": "display_data"
    }
   ],
   "source": [
    "sns.distplot(full_ati.V1, label='V1')\n",
    "sns.distplot(full_ati.V2, label='V2')"
   ]
  },
  {
   "cell_type": "markdown",
   "metadata": {},
   "source": [
    "What were the metallicities of excluded stars?"
   ]
  },
  {
   "cell_type": "code",
   "execution_count": 3,
   "metadata": {},
   "outputs": [],
   "source": [
    "excl = [6278762, 7106245, 8760414]"
   ]
  },
  {
   "cell_type": "code",
   "execution_count": 4,
   "metadata": {},
   "outputs": [
    {
     "name": "stdout",
     "output_type": "stream",
     "text": [
      "        KIC    age   feh\n",
      "75  6278762  11.54 -0.37\n",
      "        KIC     age   feh\n",
      "19  7106245  6.2732 -0.99\n",
      "        KIC      age   feh\n",
      "36  8760414  11.6642 -0.92\n"
     ]
    }
   ],
   "source": [
    "for kic in excl:\n",
    "    print(full_ati[full_ati.KIC == kic][['KIC','age','feh']])"
   ]
  },
  {
   "cell_type": "markdown",
   "metadata": {},
   "source": [
    "Exclude stars and check counts"
   ]
  },
  {
   "cell_type": "code",
   "execution_count": 5,
   "metadata": {},
   "outputs": [
    {
     "ename": "NameError",
     "evalue": "name 'gyro' is not defined",
     "output_type": "error",
     "traceback": [
      "\u001b[0;31m---------------------------------------------------------------------------\u001b[0m",
      "\u001b[0;31mNameError\u001b[0m                                 Traceback (most recent call last)",
      "\u001b[0;32m<ipython-input-5-3b3a6baabf66>\u001b[0m in \u001b[0;36m<module>\u001b[0;34m\u001b[0m\n\u001b[0;32m----> 1\u001b[0;31m \u001b[0mgyro\u001b[0m\u001b[0;34m\u001b[0m\u001b[0;34m\u001b[0m\u001b[0m\n\u001b[0m",
      "\u001b[0;31mNameError\u001b[0m: name 'gyro' is not defined"
     ]
    }
   ],
   "source": [
    "gyro"
   ]
  },
  {
   "cell_type": "code",
   "execution_count": 6,
   "metadata": {},
   "outputs": [
    {
     "data": {
      "text/plain": [
       "89"
      ]
     },
     "execution_count": 6,
     "metadata": {},
     "output_type": "execute_result"
    }
   ],
   "source": [
    "len(ati)"
   ]
  },
  {
   "cell_type": "code",
   "execution_count": 7,
   "metadata": {},
   "outputs": [
    {
     "data": {
      "text/plain": [
       "array([nan, nan, nan, nan, nan, nan, nan, nan, nan, nan, nan, nan, nan,\n",
       "       nan, nan, nan, nan, nan, nan, nan, nan, nan, nan, nan, nan, nan,\n",
       "       nan, nan, nan, nan, nan, nan, nan, nan, nan, nan, 'rhat_01',\n",
       "       'rhat_1', nan, nan, nan, 'rhat_01', nan, nan, nan, nan, nan, nan,\n",
       "       nan, nan, nan, nan, nan, nan, nan, nan, nan, nan, nan, nan, nan,\n",
       "       'rhat_01', 'rhat_1', nan, nan, nan, nan, nan, nan, nan, nan, nan,\n",
       "       nan, nan, nan, nan, nan, nan, nan, nan, 'rhat_01', 'rhat_1', nan,\n",
       "       nan, nan, nan, nan, nan, nan, nan, nan, nan, nan, nan, 'rhat_01'],\n",
       "      dtype=object)"
      ]
     },
     "execution_count": 7,
     "metadata": {},
     "output_type": "execute_result"
    }
   ],
   "source": [
    "full_ati.rhat_flag.values"
   ]
  },
  {
   "cell_type": "code",
   "execution_count": 8,
   "metadata": {},
   "outputs": [
    {
     "data": {
      "text/plain": [
       "16"
      ]
     },
     "execution_count": 8,
     "metadata": {},
     "output_type": "execute_result"
    }
   ],
   "source": [
    "len(ati[ati.neff_split < 1000])"
   ]
  },
  {
   "cell_type": "code",
   "execution_count": 9,
   "metadata": {},
   "outputs": [
    {
     "name": "stdout",
     "output_type": "stream",
     "text": [
      "Number of stars: 73\n",
      "Number of MS stars: 47\n",
      "Number of SG stars: 4\n",
      "Number of Hot stars: 22\n"
     ]
    }
   ],
   "source": [
    "gyro = ati[(ati.neff_split > 1000) & (ati.rhat_flag != 'rhat_1')]\n",
    "print(f'Number of stars: {len(gyro)}')\n",
    "\n",
    "print(f'Number of MS stars: {len(gyro[gyro.hrclass == \"MS\"])}')\n",
    "print(f'Number of SG stars: {len(gyro[gyro.hrclass == \"SG\"])}')\n",
    "print(f'Number of Hot stars: {len(gyro[gyro.hrclass == \"H\"])}')"
   ]
  },
  {
   "cell_type": "code",
   "execution_count": 11,
   "metadata": {},
   "outputs": [],
   "source": [
    "binaries = [8379927, 7510397, 110454113, 9025370]"
   ]
  },
  {
   "cell_type": "code",
   "execution_count": 18,
   "metadata": {},
   "outputs": [
    {
     "data": {
      "text/html": [
       "<div>\n",
       "<style scoped>\n",
       "    .dataframe tbody tr th:only-of-type {\n",
       "        vertical-align: middle;\n",
       "    }\n",
       "\n",
       "    .dataframe tbody tr th {\n",
       "        vertical-align: top;\n",
       "    }\n",
       "\n",
       "    .dataframe thead th {\n",
       "        text-align: right;\n",
       "    }\n",
       "</style>\n",
       "<table border=\"1\" class=\"dataframe\">\n",
       "  <thead>\n",
       "    <tr style=\"text-align: right;\">\n",
       "      <th></th>\n",
       "      <th>KIC</th>\n",
       "      <th>age</th>\n",
       "      <th>P</th>\n",
       "      <th>Teff</th>\n",
       "    </tr>\n",
       "  </thead>\n",
       "  <tbody>\n",
       "    <tr>\n",
       "      <th>22</th>\n",
       "      <td>7510397</td>\n",
       "      <td>2.8247</td>\n",
       "      <td>6.127679</td>\n",
       "      <td>6171</td>\n",
       "    </tr>\n",
       "    <tr>\n",
       "      <th>32</th>\n",
       "      <td>8379927</td>\n",
       "      <td>1.9943</td>\n",
       "      <td>9.197603</td>\n",
       "      <td>6067</td>\n",
       "    </tr>\n",
       "    <tr>\n",
       "      <th>38</th>\n",
       "      <td>9025370</td>\n",
       "      <td>6.5458</td>\n",
       "      <td>24.708597</td>\n",
       "      <td>5270</td>\n",
       "    </tr>\n",
       "  </tbody>\n",
       "</table>\n",
       "</div>"
      ],
      "text/plain": [
       "        KIC     age          P  Teff\n",
       "22  7510397  2.8247   6.127679  6171\n",
       "32  8379927  1.9943   9.197603  6067\n",
       "38  9025370  6.5458  24.708597  5270"
      ]
     },
     "execution_count": 18,
     "metadata": {},
     "output_type": "execute_result"
    }
   ],
   "source": [
    "gyro[gyro['KIC'].isin(binaries)][['KIC','age','P','Teff']]"
   ]
  },
  {
   "cell_type": "code",
   "execution_count": null,
   "metadata": {},
   "outputs": [],
   "source": []
  },
  {
   "cell_type": "code",
   "execution_count": 9,
   "metadata": {},
   "outputs": [
    {
     "data": {
      "text/plain": [
       "19   -0.99\n",
       "27   -0.54\n",
       "35   -0.42\n",
       "36   -0.92\n",
       "48   -0.44\n",
       "Name: feh, dtype: float64"
      ]
     },
     "execution_count": 9,
     "metadata": {},
     "output_type": "execute_result"
    }
   ],
   "source": [
    "ati.feh[np.abs(ati.feh)>0.4]"
   ]
  },
  {
   "cell_type": "code",
   "execution_count": 5,
   "metadata": {},
   "outputs": [],
   "source": [
    "kics = [8379927, 7510397, 10454113, 9025370, \n",
    "        9139151, 9139163, 12069424, 12069449]"
   ]
  },
  {
   "cell_type": "code",
   "execution_count": 6,
   "metadata": {},
   "outputs": [
    {
     "data": {
      "text/html": [
       "<div>\n",
       "<style scoped>\n",
       "    .dataframe tbody tr th:only-of-type {\n",
       "        vertical-align: middle;\n",
       "    }\n",
       "\n",
       "    .dataframe tbody tr th {\n",
       "        vertical-align: top;\n",
       "    }\n",
       "\n",
       "    .dataframe thead th {\n",
       "        text-align: right;\n",
       "    }\n",
       "</style>\n",
       "<table border=\"1\" class=\"dataframe\">\n",
       "  <thead>\n",
       "    <tr style=\"text-align: right;\">\n",
       "      <th></th>\n",
       "      <th>KIC</th>\n",
       "      <th>hrclass</th>\n",
       "    </tr>\n",
       "  </thead>\n",
       "  <tbody>\n",
       "    <tr>\n",
       "      <th>22</th>\n",
       "      <td>7510397</td>\n",
       "      <td>MS</td>\n",
       "    </tr>\n",
       "    <tr>\n",
       "      <th>32</th>\n",
       "      <td>8379927</td>\n",
       "      <td>MS</td>\n",
       "    </tr>\n",
       "    <tr>\n",
       "      <th>38</th>\n",
       "      <td>9025370</td>\n",
       "      <td>MS</td>\n",
       "    </tr>\n",
       "    <tr>\n",
       "      <th>40</th>\n",
       "      <td>9139151</td>\n",
       "      <td>H</td>\n",
       "    </tr>\n",
       "    <tr>\n",
       "      <th>41</th>\n",
       "      <td>9139163</td>\n",
       "      <td>H</td>\n",
       "    </tr>\n",
       "    <tr>\n",
       "      <th>52</th>\n",
       "      <td>10454113</td>\n",
       "      <td>MS</td>\n",
       "    </tr>\n",
       "    <tr>\n",
       "      <th>62</th>\n",
       "      <td>12069424</td>\n",
       "      <td>MS</td>\n",
       "    </tr>\n",
       "    <tr>\n",
       "      <th>63</th>\n",
       "      <td>12069449</td>\n",
       "      <td>MS</td>\n",
       "    </tr>\n",
       "  </tbody>\n",
       "</table>\n",
       "</div>"
      ],
      "text/plain": [
       "         KIC hrclass\n",
       "22   7510397      MS\n",
       "32   8379927      MS\n",
       "38   9025370      MS\n",
       "40   9139151       H\n",
       "41   9139163       H\n",
       "52  10454113      MS\n",
       "62  12069424      MS\n",
       "63  12069449      MS"
      ]
     },
     "execution_count": 6,
     "metadata": {},
     "output_type": "execute_result"
    }
   ],
   "source": [
    "ati.loc[ati.KIC.isin(kics)][['KIC','hrclass']]"
   ]
  },
  {
   "cell_type": "code",
   "execution_count": 7,
   "metadata": {},
   "outputs": [],
   "source": [
    "s = pd.read_hdf('../data/jvs_models/standard_population.h5', key='sample', mode='r')\n",
    "r = pd.read_hdf('../data/jvs_models/rocrit_population.h5', key='sample', mode='r')"
   ]
  },
  {
   "cell_type": "code",
   "execution_count": 8,
   "metadata": {},
   "outputs": [
    {
     "data": {
      "text/html": [
       "<div>\n",
       "<style scoped>\n",
       "    .dataframe tbody tr th:only-of-type {\n",
       "        vertical-align: middle;\n",
       "    }\n",
       "\n",
       "    .dataframe tbody tr th {\n",
       "        vertical-align: top;\n",
       "    }\n",
       "\n",
       "    .dataframe thead th {\n",
       "        text-align: right;\n",
       "    }\n",
       "</style>\n",
       "<table border=\"1\" class=\"dataframe\">\n",
       "  <thead>\n",
       "    <tr style=\"text-align: right;\">\n",
       "      <th></th>\n",
       "      <th>Teff</th>\n",
       "      <th>logg</th>\n",
       "      <th>age</th>\n",
       "      <th>log(L/Lsun)</th>\n",
       "      <th>kepmag</th>\n",
       "      <th>period</th>\n",
       "      <th>[Fe/H]</th>\n",
       "      <th>sdss_g</th>\n",
       "      <th>sdss_r</th>\n",
       "      <th>sdss_i</th>\n",
       "      <th>sdss_z</th>\n",
       "      <th>2mass_j</th>\n",
       "      <th>2mass_h</th>\n",
       "      <th>2mass_k</th>\n",
       "      <th>distmod</th>\n",
       "      <th>av</th>\n",
       "    </tr>\n",
       "  </thead>\n",
       "  <tbody>\n",
       "    <tr>\n",
       "      <th>0</th>\n",
       "      <td>5674.121798</td>\n",
       "      <td>4.546360</td>\n",
       "      <td>2.344080</td>\n",
       "      <td>-0.183266</td>\n",
       "      <td>13.179899</td>\n",
       "      <td>16.514088</td>\n",
       "      <td>-0.25</td>\n",
       "      <td>13.608602</td>\n",
       "      <td>13.116370</td>\n",
       "      <td>12.989363</td>\n",
       "      <td>12.955900</td>\n",
       "      <td>12.057497</td>\n",
       "      <td>11.717930</td>\n",
       "      <td>11.673961</td>\n",
       "      <td>8.0</td>\n",
       "      <td>0.023</td>\n",
       "    </tr>\n",
       "    <tr>\n",
       "      <th>1</th>\n",
       "      <td>6951.708181</td>\n",
       "      <td>3.933103</td>\n",
       "      <td>1.075882</td>\n",
       "      <td>1.096682</td>\n",
       "      <td>11.543289</td>\n",
       "      <td>0.329513</td>\n",
       "      <td>0.25</td>\n",
       "      <td>11.675875</td>\n",
       "      <td>11.496100</td>\n",
       "      <td>11.518610</td>\n",
       "      <td>11.592506</td>\n",
       "      <td>10.864254</td>\n",
       "      <td>10.734087</td>\n",
       "      <td>10.707454</td>\n",
       "      <td>9.6</td>\n",
       "      <td>0.026</td>\n",
       "    </tr>\n",
       "    <tr>\n",
       "      <th>2</th>\n",
       "      <td>5469.331282</td>\n",
       "      <td>4.514284</td>\n",
       "      <td>4.397194</td>\n",
       "      <td>-0.201221</td>\n",
       "      <td>14.927321</td>\n",
       "      <td>26.007799</td>\n",
       "      <td>0.03</td>\n",
       "      <td>15.437877</td>\n",
       "      <td>14.854865</td>\n",
       "      <td>14.705988</td>\n",
       "      <td>14.656783</td>\n",
       "      <td>13.722554</td>\n",
       "      <td>13.350661</td>\n",
       "      <td>13.299497</td>\n",
       "      <td>9.7</td>\n",
       "      <td>0.028</td>\n",
       "    </tr>\n",
       "    <tr>\n",
       "      <th>3</th>\n",
       "      <td>6344.650025</td>\n",
       "      <td>3.894877</td>\n",
       "      <td>4.326163</td>\n",
       "      <td>0.779397</td>\n",
       "      <td>13.079468</td>\n",
       "      <td>4.449201</td>\n",
       "      <td>-0.37</td>\n",
       "      <td>13.318601</td>\n",
       "      <td>13.030315</td>\n",
       "      <td>12.978174</td>\n",
       "      <td>12.997246</td>\n",
       "      <td>12.189016</td>\n",
       "      <td>11.956218</td>\n",
       "      <td>11.925694</td>\n",
       "      <td>10.3</td>\n",
       "      <td>0.028</td>\n",
       "    </tr>\n",
       "    <tr>\n",
       "      <th>4</th>\n",
       "      <td>5900.870183</td>\n",
       "      <td>4.406368</td>\n",
       "      <td>2.860606</td>\n",
       "      <td>0.110336</td>\n",
       "      <td>14.923477</td>\n",
       "      <td>17.637126</td>\n",
       "      <td>0.11</td>\n",
       "      <td>15.312142</td>\n",
       "      <td>14.856574</td>\n",
       "      <td>14.758535</td>\n",
       "      <td>14.748767</td>\n",
       "      <td>13.884789</td>\n",
       "      <td>13.594818</td>\n",
       "      <td>13.555235</td>\n",
       "      <td>10.5</td>\n",
       "      <td>0.033</td>\n",
       "    </tr>\n",
       "  </tbody>\n",
       "</table>\n",
       "</div>"
      ],
      "text/plain": [
       "          Teff      logg       age  log(L/Lsun)     kepmag     period  [Fe/H]  \\\n",
       "0  5674.121798  4.546360  2.344080    -0.183266  13.179899  16.514088   -0.25   \n",
       "1  6951.708181  3.933103  1.075882     1.096682  11.543289   0.329513    0.25   \n",
       "2  5469.331282  4.514284  4.397194    -0.201221  14.927321  26.007799    0.03   \n",
       "3  6344.650025  3.894877  4.326163     0.779397  13.079468   4.449201   -0.37   \n",
       "4  5900.870183  4.406368  2.860606     0.110336  14.923477  17.637126    0.11   \n",
       "\n",
       "      sdss_g     sdss_r     sdss_i     sdss_z    2mass_j    2mass_h  \\\n",
       "0  13.608602  13.116370  12.989363  12.955900  12.057497  11.717930   \n",
       "1  11.675875  11.496100  11.518610  11.592506  10.864254  10.734087   \n",
       "2  15.437877  14.854865  14.705988  14.656783  13.722554  13.350661   \n",
       "3  13.318601  13.030315  12.978174  12.997246  12.189016  11.956218   \n",
       "4  15.312142  14.856574  14.758535  14.748767  13.884789  13.594818   \n",
       "\n",
       "     2mass_k  distmod     av  \n",
       "0  11.673961      8.0  0.023  \n",
       "1  10.707454      9.6  0.026  \n",
       "2  13.299497      9.7  0.028  \n",
       "3  11.925694     10.3  0.028  \n",
       "4  13.555235     10.5  0.033  "
      ]
     },
     "execution_count": 8,
     "metadata": {},
     "output_type": "execute_result"
    }
   ],
   "source": [
    "s.head(5)"
   ]
  },
  {
   "cell_type": "code",
   "execution_count": 9,
   "metadata": {},
   "outputs": [
    {
     "data": {
      "text/plain": [
       "148168"
      ]
     },
     "execution_count": 9,
     "metadata": {},
     "output_type": "execute_result"
    }
   ],
   "source": [
    "len(s)"
   ]
  },
  {
   "cell_type": "code",
   "execution_count": 10,
   "metadata": {},
   "outputs": [
    {
     "data": {
      "text/plain": [
       "149344"
      ]
     },
     "execution_count": 10,
     "metadata": {},
     "output_type": "execute_result"
    }
   ],
   "source": [
    "len(r)"
   ]
  },
  {
   "cell_type": "markdown",
   "metadata": {},
   "source": [
    "Check which stars fail the models and why"
   ]
  },
  {
   "cell_type": "code",
   "execution_count": 12,
   "metadata": {},
   "outputs": [],
   "source": [
    "cols = ['Teff','period','age']\n",
    "bound_s = [(s[par].min(), s[par].max()) for par in cols]\n",
    "bound_ro = [(r[par].min(), r[par].max()) for par in cols]"
   ]
  },
  {
   "cell_type": "code",
   "execution_count": 13,
   "metadata": {},
   "outputs": [
    {
     "name": "stdout",
     "output_type": "stream",
     "text": [
      "[(3425.9156265381794, 6999.9723642203635), (0.07317455558063757, 99.99122696777991), (0.021113455235250454, 8.510581875868573)]\n",
      "[(3425.911842063402, 6999.992236222967), (0.01986124425753786, 99.97785357575125), (0.02089507655216875, 8.511068740474942)]\n"
     ]
    }
   ],
   "source": [
    "print(bound_s)\n",
    "print(bound_ro)"
   ]
  },
  {
   "cell_type": "code",
   "execution_count": 14,
   "metadata": {},
   "outputs": [],
   "source": [
    "a = ati.loc[(ati.KIC == 11253226)]"
   ]
  },
  {
   "cell_type": "code",
   "execution_count": 15,
   "metadata": {},
   "outputs": [],
   "source": [
    "b = ati.loc[ati.KIC == 6278762]"
   ]
  },
  {
   "cell_type": "code",
   "execution_count": 17,
   "metadata": {},
   "outputs": [
    {
     "name": "stdout",
     "output_type": "stream",
     "text": [
      "(3425.9156265381794, 6999.9723642203635)\n",
      "(3425.911842063402, 6999.992236222967)\n",
      "11253226: [6642]\n",
      "6278762: [5046]\n",
      "(0.07317455558063757, 99.99122696777991)\n",
      "(0.01986124425753786, 99.97785357575125)\n",
      "11253226: [3.42807917]\n",
      "6278762: [32.97068814]\n",
      "(0.021113455235250454, 8.510581875868573)\n",
      "(0.02089507655216875, 8.511068740474942)\n",
      "11253226: [1.5951]\n",
      "6278762: [11.54]\n"
     ]
    }
   ],
   "source": [
    "cols = ['Teff', 'P', 'age']\n",
    "for idx, col in enumerate(cols):\n",
    "    print(bound_s[idx])\n",
    "    print(bound_ro[idx])\n",
    "    print(f'11253226: {a[col].values}')\n",
    "    print(f'6278762: {b[col].values}')"
   ]
  },
  {
   "cell_type": "code",
   "execution_count": 15,
   "metadata": {},
   "outputs": [
    {
     "data": {
      "text/html": [
       "<div>\n",
       "<style scoped>\n",
       "    .dataframe tbody tr th:only-of-type {\n",
       "        vertical-align: middle;\n",
       "    }\n",
       "\n",
       "    .dataframe tbody tr th {\n",
       "        vertical-align: top;\n",
       "    }\n",
       "\n",
       "    .dataframe thead th {\n",
       "        text-align: right;\n",
       "    }\n",
       "</style>\n",
       "<table border=\"1\" class=\"dataframe\">\n",
       "  <thead>\n",
       "    <tr style=\"text-align: right;\">\n",
       "      <th></th>\n",
       "      <th>KIC</th>\n",
       "      <th>Teff</th>\n",
       "      <th>age</th>\n",
       "      <th>dnu</th>\n",
       "      <th>eTeff</th>\n",
       "      <th>ednu</th>\n",
       "      <th>efeh</th>\n",
       "      <th>enumax</th>\n",
       "      <th>feh</th>\n",
       "      <th>loage</th>\n",
       "      <th>...</th>\n",
       "      <th>eV2</th>\n",
       "      <th>l_P</th>\n",
       "      <th>P</th>\n",
       "      <th>u_P</th>\n",
       "      <th>l_vsini</th>\n",
       "      <th>vsini</th>\n",
       "      <th>u_vsini</th>\n",
       "      <th>rhat_flag</th>\n",
       "      <th>eye_flag</th>\n",
       "      <th>ebprp</th>\n",
       "    </tr>\n",
       "  </thead>\n",
       "  <tbody>\n",
       "    <tr>\n",
       "      <th>81</th>\n",
       "      <td>8478994</td>\n",
       "      <td>5417</td>\n",
       "      <td>5.35</td>\n",
       "      <td>178.7</td>\n",
       "      <td>75</td>\n",
       "      <td>1.4</td>\n",
       "      <td>0.07</td>\n",
       "      <td>50.0</td>\n",
       "      <td>-0.32</td>\n",
       "      <td>1.01</td>\n",
       "      <td>...</td>\n",
       "      <td>0.073275</td>\n",
       "      <td>0.888131</td>\n",
       "      <td>1.49014</td>\n",
       "      <td>0.504133</td>\n",
       "      <td>6.524018</td>\n",
       "      <td>26.061328</td>\n",
       "      <td>13.184462</td>\n",
       "      <td>rhat_1</td>\n",
       "      <td>3</td>\n",
       "      <td>0.000688</td>\n",
       "    </tr>\n",
       "  </tbody>\n",
       "</table>\n",
       "<p>1 rows × 62 columns</p>\n",
       "</div>"
      ],
      "text/plain": [
       "        KIC  Teff   age    dnu  eTeff  ednu  efeh  enumax   feh  loage  ...  \\\n",
       "81  8478994  5417  5.35  178.7     75   1.4  0.07    50.0 -0.32   1.01  ...   \n",
       "\n",
       "         eV2       l_P        P       u_P   l_vsini      vsini    u_vsini  \\\n",
       "81  0.073275  0.888131  1.49014  0.504133  6.524018  26.061328  13.184462   \n",
       "\n",
       "   rhat_flag  eye_flag     ebprp  \n",
       "81    rhat_1         3  0.000688  \n",
       "\n",
       "[1 rows x 62 columns]"
      ]
     },
     "execution_count": 15,
     "metadata": {},
     "output_type": "execute_result"
    }
   ],
   "source": [
    "ati.loc[ati.eye_flag == 3]"
   ]
  },
  {
   "cell_type": "code",
   "execution_count": 16,
   "metadata": {},
   "outputs": [
    {
     "name": "stdout",
     "output_type": "stream",
     "text": [
      "R 1.01: 5\n",
      "R 1.1: 2\n"
     ]
    }
   ],
   "source": [
    "print(f'R 1.01: {len(ati.loc[ati.rhat_flag == \"rhat_01\"])}')\n",
    "print(f'R 1.1: {len(ati.loc[ati.eye_flag != 3].loc[ati.rhat_flag == \"rhat_1\"])}')"
   ]
  },
  {
   "cell_type": "code",
   "execution_count": 17,
   "metadata": {},
   "outputs": [
    {
     "data": {
      "text/plain": [
       "Index(['KIC', 'Teff', 'age', 'dnu', 'eTeff', 'ednu', 'efeh', 'enumax', 'feh',\n",
       "       'loage', 'lomodlogg', 'lomodmass', 'lomodrad', 'modlogg', 'modmass',\n",
       "       'modrad', 'numax', 'source', 'upage', 'upmodlogg', 'upmodmass',\n",
       "       'upmodrad', 'G', 'bprp', 'hrclass', 'neff_xsplit', 'neff_cosi',\n",
       "       'neff_split', 'neff_i', 'l_nus*', 'nus*', 'u_nus*', 'l_cosi', 'cosi',\n",
       "       'u_cosi', 'l_nus', 'nus', 'u_nus', 'l_i', 'i', 'u_i', 'fit_numax',\n",
       "       'efit_numax', 'fit_d01', 'efit_d01', 'fit_d02', 'efit_d02',\n",
       "       'fit_epsilon', 'efit_epsilon', 'V1', 'eV1', 'V2', 'eV2', 'l_P', 'P',\n",
       "       'u_P', 'l_vsini', 'vsini', 'u_vsini', 'rhat_flag', 'eye_flag', 'ebprp'],\n",
       "      dtype='object')"
      ]
     },
     "execution_count": 17,
     "metadata": {},
     "output_type": "execute_result"
    }
   ],
   "source": [
    "ati.columns"
   ]
  },
  {
   "cell_type": "code",
   "execution_count": 18,
   "metadata": {},
   "outputs": [],
   "source": [
    "cols = ['KIC', 'Teff', 'eTeff', 'age','loage', 'upage', 'feh','efeh', \n",
    "        'modlogg', 'modmass','modrad', 'hrclass', 'P',\n",
    "       'l_P', 'u_P', 'i', 'l_i', 'u_i', 'vsini', 'eye_flag']\n",
    "a = pd.read_csv('../data/atium.csv',usecols=cols)"
   ]
  },
  {
   "cell_type": "markdown",
   "metadata": {},
   "source": [
    "Check 16 cyg A & B"
   ]
  },
  {
   "cell_type": "code",
   "execution_count": 19,
   "metadata": {},
   "outputs": [],
   "source": [
    "cyg =a.loc[[62, 63]]"
   ]
  },
  {
   "cell_type": "code",
   "execution_count": 20,
   "metadata": {},
   "outputs": [
    {
     "data": {
      "text/html": [
       "<div>\n",
       "<style scoped>\n",
       "    .dataframe tbody tr th:only-of-type {\n",
       "        vertical-align: middle;\n",
       "    }\n",
       "\n",
       "    .dataframe tbody tr th {\n",
       "        vertical-align: top;\n",
       "    }\n",
       "\n",
       "    .dataframe thead th {\n",
       "        text-align: right;\n",
       "    }\n",
       "</style>\n",
       "<table border=\"1\" class=\"dataframe\">\n",
       "  <thead>\n",
       "    <tr style=\"text-align: right;\">\n",
       "      <th></th>\n",
       "      <th>KIC</th>\n",
       "      <th>Teff</th>\n",
       "      <th>age</th>\n",
       "      <th>eTeff</th>\n",
       "      <th>efeh</th>\n",
       "      <th>feh</th>\n",
       "      <th>loage</th>\n",
       "      <th>modlogg</th>\n",
       "      <th>modmass</th>\n",
       "      <th>modrad</th>\n",
       "      <th>upage</th>\n",
       "      <th>hrclass</th>\n",
       "      <th>l_i</th>\n",
       "      <th>i</th>\n",
       "      <th>u_i</th>\n",
       "      <th>l_P</th>\n",
       "      <th>P</th>\n",
       "      <th>u_P</th>\n",
       "      <th>vsini</th>\n",
       "      <th>eye_flag</th>\n",
       "    </tr>\n",
       "  </thead>\n",
       "  <tbody>\n",
       "    <tr>\n",
       "      <th>62</th>\n",
       "      <td>12069424</td>\n",
       "      <td>5825</td>\n",
       "      <td>6.6735</td>\n",
       "      <td>50</td>\n",
       "      <td>0.03</td>\n",
       "      <td>0.10</td>\n",
       "      <td>0.7666</td>\n",
       "      <td>4.2867</td>\n",
       "      <td>1.0491</td>\n",
       "      <td>1.2156</td>\n",
       "      <td>0.8145</td>\n",
       "      <td>MS</td>\n",
       "      <td>0.050879</td>\n",
       "      <td>0.780742</td>\n",
       "      <td>0.108518</td>\n",
       "      <td>1.114095</td>\n",
       "      <td>20.516716</td>\n",
       "      <td>1.975841</td>\n",
       "      <td>2.112675</td>\n",
       "      <td>2</td>\n",
       "    </tr>\n",
       "    <tr>\n",
       "      <th>63</th>\n",
       "      <td>12069449</td>\n",
       "      <td>5750</td>\n",
       "      <td>7.3922</td>\n",
       "      <td>50</td>\n",
       "      <td>0.02</td>\n",
       "      <td>0.05</td>\n",
       "      <td>0.9103</td>\n",
       "      <td>4.3527</td>\n",
       "      <td>0.9883</td>\n",
       "      <td>1.0957</td>\n",
       "      <td>0.8943</td>\n",
       "      <td>MS</td>\n",
       "      <td>0.041302</td>\n",
       "      <td>0.594267</td>\n",
       "      <td>0.051959</td>\n",
       "      <td>1.474881</td>\n",
       "      <td>21.178840</td>\n",
       "      <td>1.808344</td>\n",
       "      <td>1.462994</td>\n",
       "      <td>0</td>\n",
       "    </tr>\n",
       "  </tbody>\n",
       "</table>\n",
       "</div>"
      ],
      "text/plain": [
       "         KIC  Teff     age  eTeff  efeh   feh   loage  modlogg  modmass  \\\n",
       "62  12069424  5825  6.6735     50  0.03  0.10  0.7666   4.2867   1.0491   \n",
       "63  12069449  5750  7.3922     50  0.02  0.05  0.9103   4.3527   0.9883   \n",
       "\n",
       "    modrad   upage hrclass       l_i         i       u_i       l_P          P  \\\n",
       "62  1.2156  0.8145      MS  0.050879  0.780742  0.108518  1.114095  20.516716   \n",
       "63  1.0957  0.8943      MS  0.041302  0.594267  0.051959  1.474881  21.178840   \n",
       "\n",
       "         u_P     vsini  eye_flag  \n",
       "62  1.975841  2.112675         2  \n",
       "63  1.808344  1.462994         0  "
      ]
     },
     "execution_count": 20,
     "metadata": {},
     "output_type": "execute_result"
    }
   ],
   "source": [
    "cyg"
   ]
  },
  {
   "cell_type": "code",
   "execution_count": 21,
   "metadata": {},
   "outputs": [
    {
     "data": {
      "text/plain": [
       "62    44.733243\n",
       "63    34.048965\n",
       "Name: i, dtype: float64"
      ]
     },
     "execution_count": 21,
     "metadata": {},
     "output_type": "execute_result"
    }
   ],
   "source": [
    "np.rad2deg(cyg['i'])"
   ]
  },
  {
   "cell_type": "code",
   "execution_count": 22,
   "metadata": {},
   "outputs": [
    {
     "data": {
      "text/plain": [
       "62    6.217602\n",
       "63    2.977057\n",
       "Name: u_i, dtype: float64"
      ]
     },
     "execution_count": 22,
     "metadata": {},
     "output_type": "execute_result"
    }
   ],
   "source": [
    "np.rad2deg(cyg['u_i'])"
   ]
  },
  {
   "cell_type": "code",
   "execution_count": 23,
   "metadata": {},
   "outputs": [
    {
     "data": {
      "text/plain": [
       "62    2.915159\n",
       "63    2.366435\n",
       "Name: l_i, dtype: float64"
      ]
     },
     "execution_count": 23,
     "metadata": {},
     "output_type": "execute_result"
    }
   ],
   "source": [
    "np.rad2deg(cyg['l_i'])"
   ]
  },
  {
   "cell_type": "markdown",
   "metadata": {},
   "source": [
    "Check size of age systematics"
   ]
  },
  {
   "cell_type": "code",
   "execution_count": 32,
   "metadata": {},
   "outputs": [
    {
     "data": {
      "text/plain": [
       "<matplotlib.lines.Line2D at 0x7f3ff05554a8>"
      ]
     },
     "execution_count": 32,
     "metadata": {},
     "output_type": "execute_result"
    },
    {
     "data": {
      "image/png": "[encoded data removed]",
      "text/plain": [
       "<Figure size 432x288 with 1 Axes>"
      ]
     },
     "metadata": {
      "needs_background": "light"
     },
     "output_type": "display_data"
    }
   ],
   "source": [
    "sns.distplot(100*ati[ati.source=='L'].upage/ati[ati.source=='L'].age)\n",
    "sns.distplot(100*ati[ati.source=='K'].upage/ati[ati.source=='K'].age)\n",
    "\n",
    "plt.axvline(14)\n",
    "plt.axvline(20)"
   ]
  },
  {
   "cell_type": "code",
   "execution_count": 33,
   "metadata": {},
   "outputs": [
    {
     "data": {
      "text/plain": [
       "<matplotlib.lines.Line2D at 0x7f3ff06c1390>"
      ]
     },
     "execution_count": 33,
     "metadata": {},
     "output_type": "execute_result"
    },
    {
     "data": {
      "image/png": "[encoded data removed]",
      "text/plain": [
       "<Figure size 432x288 with 1 Axes>"
      ]
     },
     "metadata": {
      "needs_background": "light"
     },
     "output_type": "display_data"
    }
   ],
   "source": [
    "sns.distplot(100*ati[ati.source=='L'].upmodmass/ati[ati.source=='L'].modmass)\n",
    "sns.distplot(100*ati[ati.source=='K'].upmodmass/ati[ati.source=='K'].modmass)\n",
    "\n",
    "plt.axvline(3)\n",
    "plt.axvline(4.4)"
   ]
  },
  {
   "cell_type": "code",
   "execution_count": 35,
   "metadata": {},
   "outputs": [
    {
     "data": {
      "text/plain": [
       "<matplotlib.axes._subplots.AxesSubplot at 0x7f3ff036fa20>"
      ]
     },
     "execution_count": 35,
     "metadata": {},
     "output_type": "execute_result"
    },
    {
     "data": {
      "image/png": "[encoded data removed]",
      "text/plain": [
       "<Figure size 432x288 with 1 Axes>"
      ]
     },
     "metadata": {
      "needs_background": "light"
     },
     "output_type": "display_data"
    }
   ],
   "source": [
    "sns.distplot(100*ati[ati.source=='L'].eTeff/ati[ati.source=='L'].Teff)\n",
    "sns.distplot(100*ati[ati.source=='K'].eTeff/ati[ati.source=='K'].Teff)"
   ]
  },
  {
   "cell_type": "code",
   "execution_count": null,
   "metadata": {},
   "outputs": [],
   "source": []
  }
 ],
 "metadata": {
  "kernelspec": {
   "display_name": "Python 3",
   "language": "python",
   "name": "python3"
  },
  "language_info": {
   "codemirror_mode": {
    "name": "ipython",
    "version": 3
   },
   "file_extension": ".py",
   "mimetype": "text/x-python",
   "name": "python",
   "nbconvert_exporter": "python",
   "pygments_lexer": "ipython3",
   "version": "3.7.4"
  }
 },
 "nbformat": 4,
 "nbformat_minor": 2
}
