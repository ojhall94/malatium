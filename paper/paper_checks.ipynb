{
 "cells": [
  {
   "cell_type": "code",
   "execution_count": 1,
   "metadata": {},
   "outputs": [],
   "source": [
    "import numpy as np\n",
    "import seaborn as sns\n",
    "import matplotlib.pyplot as plt\n",
    "import pandas as pd"
   ]
  },
  {
   "cell_type": "code",
   "execution_count": 2,
   "metadata": {},
   "outputs": [],
   "source": [
    "ati = pd.read_csv('../data/atium.csv', index_col=0)"
   ]
  },
  {
   "cell_type": "code",
   "execution_count": 3,
   "metadata": {},
   "outputs": [
    {
     "name": "stdout",
     "output_type": "stream",
     "text": [
      "Number of stars: 95\n",
      "Number of MS stars: 67\n",
      "Number of SG stars: 4\n",
      "Number of Hot stars: 24\n"
     ]
    }
   ],
   "source": [
    "print(f'Number of stars: {len(ati)}')\n",
    "\n",
    "print(f'Number of MS stars: {len(ati[ati.hrclass == \"MS\"])}')\n",
    "print(f'Number of SG stars: {len(ati[ati.hrclass == \"SG\"])}')\n",
    "print(f'Number of Hot stars: {len(ati[ati.hrclass == \"H\"])}')"
   ]
  },
  {
   "cell_type": "code",
   "execution_count": 4,
   "metadata": {},
   "outputs": [],
   "source": [
    "kics = [8379927, 7510397, 10454113, 9025370, \n",
    "        9139151, 9139163, 12069424, 12069449]"
   ]
  },
  {
   "cell_type": "code",
   "execution_count": 5,
   "metadata": {},
   "outputs": [
    {
     "data": {
      "text/html": [
       "<div>\n",
       "<style scoped>\n",
       "    .dataframe tbody tr th:only-of-type {\n",
       "        vertical-align: middle;\n",
       "    }\n",
       "\n",
       "    .dataframe tbody tr th {\n",
       "        vertical-align: top;\n",
       "    }\n",
       "\n",
       "    .dataframe thead th {\n",
       "        text-align: right;\n",
       "    }\n",
       "</style>\n",
       "<table border=\"1\" class=\"dataframe\">\n",
       "  <thead>\n",
       "    <tr style=\"text-align: right;\">\n",
       "      <th></th>\n",
       "      <th>KIC</th>\n",
       "      <th>hrclass</th>\n",
       "    </tr>\n",
       "  </thead>\n",
       "  <tbody>\n",
       "    <tr>\n",
       "      <th>22</th>\n",
       "      <td>7510397</td>\n",
       "      <td>MS</td>\n",
       "    </tr>\n",
       "    <tr>\n",
       "      <th>32</th>\n",
       "      <td>8379927</td>\n",
       "      <td>MS</td>\n",
       "    </tr>\n",
       "    <tr>\n",
       "      <th>38</th>\n",
       "      <td>9025370</td>\n",
       "      <td>MS</td>\n",
       "    </tr>\n",
       "    <tr>\n",
       "      <th>40</th>\n",
       "      <td>9139151</td>\n",
       "      <td>H</td>\n",
       "    </tr>\n",
       "    <tr>\n",
       "      <th>41</th>\n",
       "      <td>9139163</td>\n",
       "      <td>H</td>\n",
       "    </tr>\n",
       "    <tr>\n",
       "      <th>52</th>\n",
       "      <td>10454113</td>\n",
       "      <td>MS</td>\n",
       "    </tr>\n",
       "    <tr>\n",
       "      <th>62</th>\n",
       "      <td>12069424</td>\n",
       "      <td>MS</td>\n",
       "    </tr>\n",
       "    <tr>\n",
       "      <th>63</th>\n",
       "      <td>12069449</td>\n",
       "      <td>MS</td>\n",
       "    </tr>\n",
       "  </tbody>\n",
       "</table>\n",
       "</div>"
      ],
      "text/plain": [
       "         KIC hrclass\n",
       "22   7510397      MS\n",
       "32   8379927      MS\n",
       "38   9025370      MS\n",
       "40   9139151       H\n",
       "41   9139163       H\n",
       "52  10454113      MS\n",
       "62  12069424      MS\n",
       "63  12069449      MS"
      ]
     },
     "execution_count": 5,
     "metadata": {},
     "output_type": "execute_result"
    }
   ],
   "source": [
    "ati.loc[ati.KIC.isin(kics)][['KIC','hrclass']]"
   ]
  },
  {
   "cell_type": "code",
   "execution_count": 6,
   "metadata": {},
   "outputs": [],
   "source": [
    "s = pd.read_csv('../data/jvs_models/standard_model.csv')\n",
    "r = pd.read_csv('../data/jvs_models/rocrit_model.csv')"
   ]
  },
  {
   "cell_type": "code",
   "execution_count": 7,
   "metadata": {},
   "outputs": [
    {
     "data": {
      "text/html": [
       "<div>\n",
       "<style scoped>\n",
       "    .dataframe tbody tr th:only-of-type {\n",
       "        vertical-align: middle;\n",
       "    }\n",
       "\n",
       "    .dataframe tbody tr th {\n",
       "        vertical-align: top;\n",
       "    }\n",
       "\n",
       "    .dataframe thead th {\n",
       "        text-align: right;\n",
       "    }\n",
       "</style>\n",
       "<table border=\"1\" class=\"dataframe\">\n",
       "  <thead>\n",
       "    <tr style=\"text-align: right;\">\n",
       "      <th></th>\n",
       "      <th># Teff(K)</th>\n",
       "      <th>Prot(days)</th>\n",
       "      <th>Age(Gyr)</th>\n",
       "      <th>Mass(Msun)</th>\n",
       "      <th>Ro</th>\n",
       "    </tr>\n",
       "  </thead>\n",
       "  <tbody>\n",
       "    <tr>\n",
       "      <th>0</th>\n",
       "      <td>3425.943077</td>\n",
       "      <td>3.132252</td>\n",
       "      <td>2.343081</td>\n",
       "      <td>0.39749</td>\n",
       "      <td>0.028923</td>\n",
       "    </tr>\n",
       "    <tr>\n",
       "      <th>1</th>\n",
       "      <td>3426.052848</td>\n",
       "      <td>0.769080</td>\n",
       "      <td>1.110579</td>\n",
       "      <td>0.38310</td>\n",
       "      <td>0.007271</td>\n",
       "    </tr>\n",
       "    <tr>\n",
       "      <th>2</th>\n",
       "      <td>3429.332363</td>\n",
       "      <td>0.830315</td>\n",
       "      <td>1.162998</td>\n",
       "      <td>0.40312</td>\n",
       "      <td>0.008025</td>\n",
       "    </tr>\n",
       "    <tr>\n",
       "      <th>3</th>\n",
       "      <td>3425.867537</td>\n",
       "      <td>1.067847</td>\n",
       "      <td>1.398936</td>\n",
       "      <td>0.39909</td>\n",
       "      <td>0.009989</td>\n",
       "    </tr>\n",
       "    <tr>\n",
       "      <th>4</th>\n",
       "      <td>3425.887204</td>\n",
       "      <td>2.477922</td>\n",
       "      <td>2.144391</td>\n",
       "      <td>0.39106</td>\n",
       "      <td>0.022913</td>\n",
       "    </tr>\n",
       "  </tbody>\n",
       "</table>\n",
       "</div>"
      ],
      "text/plain": [
       "     # Teff(K)   Prot(days)   Age(Gyr)   Mass(Msun)       Ro \n",
       "0  3425.943077     3.132252   2.343081      0.39749  0.028923\n",
       "1  3426.052848     0.769080   1.110579      0.38310  0.007271\n",
       "2  3429.332363     0.830315   1.162998      0.40312  0.008025\n",
       "3  3425.867537     1.067847   1.398936      0.39909  0.009989\n",
       "4  3425.887204     2.477922   2.144391      0.39106  0.022913"
      ]
     },
     "execution_count": 7,
     "metadata": {},
     "output_type": "execute_result"
    }
   ],
   "source": [
    "s.head(5)"
   ]
  },
  {
   "cell_type": "code",
   "execution_count": 8,
   "metadata": {},
   "outputs": [
    {
     "data": {
      "text/plain": [
       "147875"
      ]
     },
     "execution_count": 8,
     "metadata": {},
     "output_type": "execute_result"
    }
   ],
   "source": [
    "len(s)"
   ]
  },
  {
   "cell_type": "code",
   "execution_count": 9,
   "metadata": {},
   "outputs": [
    {
     "data": {
      "text/plain": [
       "140000"
      ]
     },
     "execution_count": 9,
     "metadata": {},
     "output_type": "execute_result"
    }
   ],
   "source": [
    "len(r)"
   ]
  },
  {
   "cell_type": "markdown",
   "metadata": {},
   "source": [
    "Check which stars fail the models and why"
   ]
  },
  {
   "cell_type": "code",
   "execution_count": 10,
   "metadata": {},
   "outputs": [],
   "source": [
    "cols = ['# Teff(K)', ' Prot(days)', ' Age(Gyr)', ' Mass(Msun)']\n",
    "bound_s = [(s[par].min(), s[par].max()) for par in cols]\n",
    "cols = ['#Teff(K)', ' Prot(days)', ' Age(Gyr)', ' Mass(Msun)']\n",
    "bound_ro = [(r[par].min(), r[par].max()) for par in cols]"
   ]
  },
  {
   "cell_type": "code",
   "execution_count": 11,
   "metadata": {},
   "outputs": [
    {
     "name": "stdout",
     "output_type": "stream",
     "text": [
      "[(3425.823320543836, 6499.998166816108), (-0.07135271127966744, 188.7730880701523), (0.02670536630911624, 8.510795920574928), (0.38006, 1.97503)]\n",
      "[(3425.823320543836, 6399.963150489168), (-0.07135271127966744, 107.6670434214183), (0.02670536630911624, 8.510795920574928), (0.38006, 1.94384)]\n"
     ]
    }
   ],
   "source": [
    "print(bound_s)\n",
    "print(bound_ro)"
   ]
  },
  {
   "cell_type": "code",
   "execution_count": 12,
   "metadata": {},
   "outputs": [],
   "source": [
    "a = ati.loc[(ati.KIC == 11253226)]"
   ]
  },
  {
   "cell_type": "code",
   "execution_count": 13,
   "metadata": {},
   "outputs": [],
   "source": [
    "b = ati.loc[ati.KIC == 6278762]"
   ]
  },
  {
   "cell_type": "code",
   "execution_count": 14,
   "metadata": {},
   "outputs": [
    {
     "name": "stdout",
     "output_type": "stream",
     "text": [
      "(3425.823320543836, 6499.998166816108)\n",
      "(3425.823320543836, 6399.963150489168)\n",
      "11253226: [6642]\n",
      "6278762: [5046]\n",
      "(-0.07135271127966744, 188.7730880701523)\n",
      "(-0.07135271127966744, 107.6670434214183)\n",
      "11253226: [3.42807917]\n",
      "6278762: [32.97068814]\n",
      "(0.02670536630911624, 8.510795920574928)\n",
      "(0.02670536630911624, 8.510795920574928)\n",
      "11253226: [1.5951]\n",
      "6278762: [11.54]\n",
      "(0.38006, 1.97503)\n",
      "(0.38006, 1.94384)\n",
      "11253226: [1.4082]\n",
      "6278762: [0.739]\n"
     ]
    }
   ],
   "source": [
    "cols = ['Teff', 'P', 'age', 'modmass']\n",
    "for idx, col in enumerate(cols):\n",
    "    print(bound_s[idx])\n",
    "    print(bound_ro[idx])\n",
    "    print(f'11253226: {a[col].values}')\n",
    "    print(f'6278762: {b[col].values}')"
   ]
  },
  {
   "cell_type": "code",
   "execution_count": 15,
   "metadata": {},
   "outputs": [
    {
     "data": {
      "text/html": [
       "<div>\n",
       "<style scoped>\n",
       "    .dataframe tbody tr th:only-of-type {\n",
       "        vertical-align: middle;\n",
       "    }\n",
       "\n",
       "    .dataframe tbody tr th {\n",
       "        vertical-align: top;\n",
       "    }\n",
       "\n",
       "    .dataframe thead th {\n",
       "        text-align: right;\n",
       "    }\n",
       "</style>\n",
       "<table border=\"1\" class=\"dataframe\">\n",
       "  <thead>\n",
       "    <tr style=\"text-align: right;\">\n",
       "      <th></th>\n",
       "      <th>KIC</th>\n",
       "      <th>Teff</th>\n",
       "      <th>age</th>\n",
       "      <th>dnu</th>\n",
       "      <th>eTeff</th>\n",
       "      <th>ednu</th>\n",
       "      <th>efeh</th>\n",
       "      <th>enumax</th>\n",
       "      <th>feh</th>\n",
       "      <th>loage</th>\n",
       "      <th>...</th>\n",
       "      <th>eV2</th>\n",
       "      <th>l_P</th>\n",
       "      <th>P</th>\n",
       "      <th>u_P</th>\n",
       "      <th>l_vsini</th>\n",
       "      <th>vsini</th>\n",
       "      <th>u_vsini</th>\n",
       "      <th>rhat_flag</th>\n",
       "      <th>eye_flag</th>\n",
       "      <th>ebprp</th>\n",
       "    </tr>\n",
       "  </thead>\n",
       "  <tbody>\n",
       "    <tr>\n",
       "      <th>81</th>\n",
       "      <td>8478994</td>\n",
       "      <td>5417</td>\n",
       "      <td>5.35</td>\n",
       "      <td>178.7</td>\n",
       "      <td>75</td>\n",
       "      <td>1.4</td>\n",
       "      <td>0.07</td>\n",
       "      <td>50.0</td>\n",
       "      <td>-0.32</td>\n",
       "      <td>1.01</td>\n",
       "      <td>...</td>\n",
       "      <td>0.073275</td>\n",
       "      <td>0.888131</td>\n",
       "      <td>1.49014</td>\n",
       "      <td>0.504133</td>\n",
       "      <td>6.524018</td>\n",
       "      <td>26.061328</td>\n",
       "      <td>13.184462</td>\n",
       "      <td>rhat_1</td>\n",
       "      <td>3</td>\n",
       "      <td>0.000688</td>\n",
       "    </tr>\n",
       "  </tbody>\n",
       "</table>\n",
       "<p>1 rows × 62 columns</p>\n",
       "</div>"
      ],
      "text/plain": [
       "        KIC  Teff   age    dnu  eTeff  ednu  efeh  enumax   feh  loage  ...  \\\n",
       "81  8478994  5417  5.35  178.7     75   1.4  0.07    50.0 -0.32   1.01  ...   \n",
       "\n",
       "         eV2       l_P        P       u_P   l_vsini      vsini    u_vsini  \\\n",
       "81  0.073275  0.888131  1.49014  0.504133  6.524018  26.061328  13.184462   \n",
       "\n",
       "   rhat_flag  eye_flag     ebprp  \n",
       "81    rhat_1         3  0.000688  \n",
       "\n",
       "[1 rows x 62 columns]"
      ]
     },
     "execution_count": 15,
     "metadata": {},
     "output_type": "execute_result"
    }
   ],
   "source": [
    "ati.loc[ati.eye_flag == 3]"
   ]
  },
  {
   "cell_type": "code",
   "execution_count": 16,
   "metadata": {},
   "outputs": [
    {
     "name": "stdout",
     "output_type": "stream",
     "text": [
      "R 1.01: 5\n",
      "R 1.1: 2\n"
     ]
    }
   ],
   "source": [
    "print(f'R 1.01: {len(ati.loc[ati.rhat_flag == \"rhat_01\"])}')\n",
    "print(f'R 1.1: {len(ati.loc[ati.eye_flag != 3].loc[ati.rhat_flag == \"rhat_1\"])}')"
   ]
  },
  {
   "cell_type": "code",
   "execution_count": 17,
   "metadata": {},
   "outputs": [
    {
     "data": {
      "text/plain": [
       "Index(['KIC', 'Teff', 'age', 'dnu', 'eTeff', 'ednu', 'efeh', 'enumax', 'feh',\n",
       "       'loage', 'lomodlogg', 'lomodmass', 'lomodrad', 'modlogg', 'modmass',\n",
       "       'modrad', 'numax', 'source', 'upage', 'upmodlogg', 'upmodmass',\n",
       "       'upmodrad', 'G', 'bprp', 'hrclass', 'neff_xsplit', 'neff_cosi',\n",
       "       'neff_split', 'neff_i', 'l_nus*', 'nus*', 'u_nus*', 'l_cosi', 'cosi',\n",
       "       'u_cosi', 'l_nus', 'nus', 'u_nus', 'l_i', 'i', 'u_i', 'fit_numax',\n",
       "       'efit_numax', 'fit_d01', 'efit_d01', 'fit_d02', 'efit_d02',\n",
       "       'fit_epsilon', 'efit_epsilon', 'V1', 'eV1', 'V2', 'eV2', 'l_P', 'P',\n",
       "       'u_P', 'l_vsini', 'vsini', 'u_vsini', 'rhat_flag', 'eye_flag', 'ebprp'],\n",
       "      dtype='object')"
      ]
     },
     "execution_count": 17,
     "metadata": {},
     "output_type": "execute_result"
    }
   ],
   "source": [
    "ati.columns"
   ]
  },
  {
   "cell_type": "code",
   "execution_count": 27,
   "metadata": {},
   "outputs": [],
   "source": [
    "cols = ['KIC', 'Teff', 'eTeff', 'age','loage', 'upage', 'feh','efeh', \n",
    "        'modlogg', 'modmass','modrad', 'hrclass', 'P',\n",
    "       'l_P', 'u_P', 'i', 'l_i', 'u_i', 'vsini', 'eye_flag']\n",
    "a = pd.read_csv('../data/atium.csv',usecols=cols)"
   ]
  },
  {
   "cell_type": "markdown",
   "metadata": {},
   "source": [
    "Check 16 cyg A & B"
   ]
  },
  {
   "cell_type": "code",
   "execution_count": 28,
   "metadata": {},
   "outputs": [],
   "source": [
    "cyg =a.loc[[62, 63]]"
   ]
  },
  {
   "cell_type": "code",
   "execution_count": 29,
   "metadata": {},
   "outputs": [
    {
     "data": {
      "text/html": [
       "<div>\n",
       "<style scoped>\n",
       "    .dataframe tbody tr th:only-of-type {\n",
       "        vertical-align: middle;\n",
       "    }\n",
       "\n",
       "    .dataframe tbody tr th {\n",
       "        vertical-align: top;\n",
       "    }\n",
       "\n",
       "    .dataframe thead th {\n",
       "        text-align: right;\n",
       "    }\n",
       "</style>\n",
       "<table border=\"1\" class=\"dataframe\">\n",
       "  <thead>\n",
       "    <tr style=\"text-align: right;\">\n",
       "      <th></th>\n",
       "      <th>KIC</th>\n",
       "      <th>Teff</th>\n",
       "      <th>age</th>\n",
       "      <th>eTeff</th>\n",
       "      <th>efeh</th>\n",
       "      <th>feh</th>\n",
       "      <th>loage</th>\n",
       "      <th>modlogg</th>\n",
       "      <th>modmass</th>\n",
       "      <th>modrad</th>\n",
       "      <th>upage</th>\n",
       "      <th>hrclass</th>\n",
       "      <th>l_i</th>\n",
       "      <th>i</th>\n",
       "      <th>u_i</th>\n",
       "      <th>l_P</th>\n",
       "      <th>P</th>\n",
       "      <th>u_P</th>\n",
       "      <th>vsini</th>\n",
       "      <th>eye_flag</th>\n",
       "    </tr>\n",
       "  </thead>\n",
       "  <tbody>\n",
       "    <tr>\n",
       "      <th>62</th>\n",
       "      <td>12069424</td>\n",
       "      <td>5825</td>\n",
       "      <td>6.6735</td>\n",
       "      <td>50</td>\n",
       "      <td>0.03</td>\n",
       "      <td>0.10</td>\n",
       "      <td>0.7666</td>\n",
       "      <td>4.2867</td>\n",
       "      <td>1.0491</td>\n",
       "      <td>1.2156</td>\n",
       "      <td>0.8145</td>\n",
       "      <td>MS</td>\n",
       "      <td>0.050879</td>\n",
       "      <td>0.780742</td>\n",
       "      <td>0.108518</td>\n",
       "      <td>1.114095</td>\n",
       "      <td>20.516716</td>\n",
       "      <td>1.975841</td>\n",
       "      <td>2.112675</td>\n",
       "      <td>2</td>\n",
       "    </tr>\n",
       "    <tr>\n",
       "      <th>63</th>\n",
       "      <td>12069449</td>\n",
       "      <td>5750</td>\n",
       "      <td>7.3922</td>\n",
       "      <td>50</td>\n",
       "      <td>0.02</td>\n",
       "      <td>0.05</td>\n",
       "      <td>0.9103</td>\n",
       "      <td>4.3527</td>\n",
       "      <td>0.9883</td>\n",
       "      <td>1.0957</td>\n",
       "      <td>0.8943</td>\n",
       "      <td>MS</td>\n",
       "      <td>0.041302</td>\n",
       "      <td>0.594267</td>\n",
       "      <td>0.051959</td>\n",
       "      <td>1.474881</td>\n",
       "      <td>21.178840</td>\n",
       "      <td>1.808344</td>\n",
       "      <td>1.462994</td>\n",
       "      <td>0</td>\n",
       "    </tr>\n",
       "  </tbody>\n",
       "</table>\n",
       "</div>"
      ],
      "text/plain": [
       "         KIC  Teff     age  eTeff  efeh   feh   loage  modlogg  modmass  \\\n",
       "62  12069424  5825  6.6735     50  0.03  0.10  0.7666   4.2867   1.0491   \n",
       "63  12069449  5750  7.3922     50  0.02  0.05  0.9103   4.3527   0.9883   \n",
       "\n",
       "    modrad   upage hrclass       l_i         i       u_i       l_P          P  \\\n",
       "62  1.2156  0.8145      MS  0.050879  0.780742  0.108518  1.114095  20.516716   \n",
       "63  1.0957  0.8943      MS  0.041302  0.594267  0.051959  1.474881  21.178840   \n",
       "\n",
       "         u_P     vsini  eye_flag  \n",
       "62  1.975841  2.112675         2  \n",
       "63  1.808344  1.462994         0  "
      ]
     },
     "execution_count": 29,
     "metadata": {},
     "output_type": "execute_result"
    }
   ],
   "source": [
    "cyg"
   ]
  },
  {
   "cell_type": "code",
   "execution_count": 31,
   "metadata": {},
   "outputs": [
    {
     "data": {
      "text/plain": [
       "62    44.733243\n",
       "63    34.048965\n",
       "Name: i, dtype: float64"
      ]
     },
     "execution_count": 31,
     "metadata": {},
     "output_type": "execute_result"
    }
   ],
   "source": [
    "np.rad2deg(cyg['i'])"
   ]
  },
  {
   "cell_type": "code",
   "execution_count": 32,
   "metadata": {},
   "outputs": [
    {
     "data": {
      "text/plain": [
       "62    6.217602\n",
       "63    2.977057\n",
       "Name: u_i, dtype: float64"
      ]
     },
     "execution_count": 32,
     "metadata": {},
     "output_type": "execute_result"
    }
   ],
   "source": [
    "np.rad2deg(cyg['u_i'])"
   ]
  },
  {
   "cell_type": "code",
   "execution_count": 33,
   "metadata": {},
   "outputs": [
    {
     "data": {
      "text/plain": [
       "62    2.915159\n",
       "63    2.366435\n",
       "Name: l_i, dtype: float64"
      ]
     },
     "execution_count": 33,
     "metadata": {},
     "output_type": "execute_result"
    }
   ],
   "source": [
    "np.rad2deg(cyg['l_i'])"
   ]
  },
  {
   "cell_type": "code",
   "execution_count": null,
   "metadata": {},
   "outputs": [],
   "source": []
  }
 ],
 "metadata": {
  "kernelspec": {
   "display_name": "Python 3",
   "language": "python",
   "name": "python3"
  },
  "language_info": {
   "codemirror_mode": {
    "name": "ipython",
    "version": 3
   },
   "file_extension": ".py",
   "mimetype": "text/x-python",
   "name": "python",
   "nbconvert_exporter": "python",
   "pygments_lexer": "ipython3",
   "version": "3.7.3"
  }
 },
 "nbformat": 4,
 "nbformat_minor": 2
}
