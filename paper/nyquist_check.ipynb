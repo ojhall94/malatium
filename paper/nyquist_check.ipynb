{
 "cells": [
  {
   "cell_type": "code",
   "execution_count": 1,
   "metadata": {},
   "outputs": [],
   "source": [
    "import pandas as pd\n",
    "import numpy as np"
   ]
  },
  {
   "cell_type": "code",
   "execution_count": 2,
   "metadata": {},
   "outputs": [
    {
     "data": {
      "text/plain": [
       "['../data/jvs_rot.csv',\n",
       " '../data/malatium.csv',\n",
       " '../data/lit_spot_rots.csv',\n",
       " '../data/data_for_guy.csv',\n",
       " '../data/atium_flagged.csv',\n",
       " '../data/copper.csv',\n",
       " '../data/a1_bronze.csv',\n",
       " '../data/cadmium.csv',\n",
       " '../data/literature_seismo.csv',\n",
       " '../data/bendalloy.csv',\n",
       " '../data/bronze.csv',\n",
       " '../data/benomar_15.csv',\n",
       " '../data/a1_atium.csv',\n",
       " '../data/LK_private.csv',\n",
       " '../data/atium.csv']"
      ]
     },
     "execution_count": 2,
     "metadata": {},
     "output_type": "execute_result"
    }
   ],
   "source": [
    "import glob\n",
    "glob.glob('../data/*.csv')"
   ]
  },
  {
   "cell_type": "code",
   "execution_count": 13,
   "metadata": {},
   "outputs": [
    {
     "data": {
      "text/html": [
       "<div>\n",
       "<style scoped>\n",
       "    .dataframe tbody tr th:only-of-type {\n",
       "        vertical-align: middle;\n",
       "    }\n",
       "\n",
       "    .dataframe tbody tr th {\n",
       "        vertical-align: top;\n",
       "    }\n",
       "\n",
       "    .dataframe thead th {\n",
       "        text-align: right;\n",
       "    }\n",
       "</style>\n",
       "<table border=\"1\" class=\"dataframe\">\n",
       "  <thead>\n",
       "    <tr style=\"text-align: right;\">\n",
       "      <th></th>\n",
       "      <th>KIC</th>\n",
       "      <th>nyq</th>\n",
       "      <th>enyq</th>\n",
       "    </tr>\n",
       "  </thead>\n",
       "  <tbody>\n",
       "    <tr>\n",
       "      <th>0</th>\n",
       "      <td>1435467</td>\n",
       "      <td>8498.498699</td>\n",
       "      <td>83.630201</td>\n",
       "    </tr>\n",
       "    <tr>\n",
       "      <th>1</th>\n",
       "      <td>2837475</td>\n",
       "      <td>8492.385725</td>\n",
       "      <td>86.050342</td>\n",
       "    </tr>\n",
       "    <tr>\n",
       "      <th>2</th>\n",
       "      <td>3427720</td>\n",
       "      <td>8499.189771</td>\n",
       "      <td>83.903059</td>\n",
       "    </tr>\n",
       "    <tr>\n",
       "      <th>3</th>\n",
       "      <td>3456181</td>\n",
       "      <td>8492.591604</td>\n",
       "      <td>85.179749</td>\n",
       "    </tr>\n",
       "    <tr>\n",
       "      <th>4</th>\n",
       "      <td>3632418</td>\n",
       "      <td>8509.451682</td>\n",
       "      <td>82.666498</td>\n",
       "    </tr>\n",
       "    <tr>\n",
       "      <th>...</th>\n",
       "      <td>...</td>\n",
       "      <td>...</td>\n",
       "      <td>...</td>\n",
       "    </tr>\n",
       "    <tr>\n",
       "      <th>90</th>\n",
       "      <td>11295426</td>\n",
       "      <td>8499.582682</td>\n",
       "      <td>84.880653</td>\n",
       "    </tr>\n",
       "    <tr>\n",
       "      <th>91</th>\n",
       "      <td>11401755</td>\n",
       "      <td>8505.447357</td>\n",
       "      <td>84.154312</td>\n",
       "    </tr>\n",
       "    <tr>\n",
       "      <th>92</th>\n",
       "      <td>11807274</td>\n",
       "      <td>8496.280858</td>\n",
       "      <td>86.581649</td>\n",
       "    </tr>\n",
       "    <tr>\n",
       "      <th>93</th>\n",
       "      <td>11853905</td>\n",
       "      <td>8546.737792</td>\n",
       "      <td>85.621327</td>\n",
       "    </tr>\n",
       "    <tr>\n",
       "      <th>94</th>\n",
       "      <td>11904151</td>\n",
       "      <td>NaN</td>\n",
       "      <td>NaN</td>\n",
       "    </tr>\n",
       "  </tbody>\n",
       "</table>\n",
       "<p>95 rows × 3 columns</p>\n",
       "</div>"
      ],
      "text/plain": [
       "         KIC          nyq       enyq\n",
       "0    1435467  8498.498699  83.630201\n",
       "1    2837475  8492.385725  86.050342\n",
       "2    3427720  8499.189771  83.903059\n",
       "3    3456181  8492.591604  85.179749\n",
       "4    3632418  8509.451682  82.666498\n",
       "..       ...          ...        ...\n",
       "90  11295426  8499.582682  84.880653\n",
       "91  11401755  8505.447357  84.154312\n",
       "92  11807274  8496.280858  86.581649\n",
       "93  11853905  8546.737792  85.621327\n",
       "94  11904151          NaN        NaN\n",
       "\n",
       "[95 rows x 3 columns]"
      ]
     },
     "execution_count": 13,
     "metadata": {},
     "output_type": "execute_result"
    }
   ],
   "source": [
    "nyqs = pd.read_csv('../data/nyqs.csv', index_col=0)\n",
    "nyqs"
   ]
  },
  {
   "cell_type": "code",
   "execution_count": 14,
   "metadata": {},
   "outputs": [
    {
     "name": "stdout",
     "output_type": "stream",
     "text": [
      "8496.180555555557 uHz\n"
     ]
    }
   ],
   "source": [
    "import astropy.units as u\n",
    "nyq = u.Quantity(734.07, 1/u.day).to(u.microhertz)\n",
    "print(nyq)"
   ]
  },
  {
   "cell_type": "code",
   "execution_count": 23,
   "metadata": {},
   "outputs": [
    {
     "data": {
      "text/plain": [
       "<matplotlib.lines.Line2D at 0x114d9a350>"
      ]
     },
     "execution_count": 23,
     "metadata": {},
     "output_type": "execute_result"
    },
    {
     "data": {
      "image/png": "[encoded data removed]",
      "text/plain": [
       "<Figure size 432x288 with 1 Axes>"
      ]
     },
     "metadata": {
      "needs_background": "light"
     },
     "output_type": "display_data"
    }
   ],
   "source": [
    "import matplotlib.pyplot as plt\n",
    "x = range(len(nyqs))\n",
    "fig, ax = plt.subplots()\n",
    "ax.errorbar(x, nyqs.nyq, yerr=nyqs.enyq, fmt='|')\n",
    "ax.scatter(x, nyqs.nyq, s=10)\n",
    "ax.axhline(nyq.value)"
   ]
  },
  {
   "cell_type": "code",
   "execution_count": null,
   "metadata": {},
   "outputs": [],
   "source": []
  }
 ],
 "metadata": {
  "kernelspec": {
   "display_name": "Python 3",
   "language": "python",
   "name": "python3"
  },
  "language_info": {
   "codemirror_mode": {
    "name": "ipython",
    "version": 3
   },
   "file_extension": ".py",
   "mimetype": "text/x-python",
   "name": "python",
   "nbconvert_exporter": "python",
   "pygments_lexer": "ipython3",
   "version": "3.8.3"
  }
 },
 "nbformat": 4,
 "nbformat_minor": 2
}
