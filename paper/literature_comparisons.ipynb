{
 "cells": [
  {
   "cell_type": "markdown",
   "metadata": {},
   "source": [
    "# Literature comparisons"
   ]
  },
  {
   "cell_type": "markdown",
   "metadata": {},
   "source": [
    "We want to make a comparisonb etween our stars and literature values. We'll do this twice:\n",
    "- One comparison to LEGACY and Kages\n",
    "- One comparison to published asteroseismic rotation rates"
   ]
  },
  {
   "cell_type": "code",
   "execution_count": 3,
   "metadata": {},
   "outputs": [
    {
     "ename": "ModuleNotFoundError",
     "evalue": "No module named 'seaborn_hall'",
     "output_type": "error",
     "traceback": [
      "\u001b[0;31m---------------------------------------------------------------------------\u001b[0m",
      "\u001b[0;31mModuleNotFoundError\u001b[0m                       Traceback (most recent call last)",
      "\u001b[0;32m<ipython-input-3-d12cd5fca74e>\u001b[0m in \u001b[0;36m<module>\u001b[0;34m\u001b[0m\n\u001b[1;32m      3\u001b[0m \u001b[0;32mimport\u001b[0m \u001b[0mpandas\u001b[0m \u001b[0;32mas\u001b[0m \u001b[0mpd\u001b[0m\u001b[0;34m\u001b[0m\u001b[0;34m\u001b[0m\u001b[0m\n\u001b[1;32m      4\u001b[0m \u001b[0;32mimport\u001b[0m \u001b[0mmatplotlib\u001b[0m\u001b[0;34m.\u001b[0m\u001b[0mpyplot\u001b[0m \u001b[0;32mas\u001b[0m \u001b[0mplt\u001b[0m\u001b[0;34m\u001b[0m\u001b[0;34m\u001b[0m\u001b[0m\n\u001b[0;32m----> 5\u001b[0;31m \u001b[0;32mimport\u001b[0m \u001b[0mseaborn_hall\u001b[0m \u001b[0;32mas\u001b[0m \u001b[0msns\u001b[0m\u001b[0;34m\u001b[0m\u001b[0;34m\u001b[0m\u001b[0m\n\u001b[0m\u001b[1;32m      6\u001b[0m \u001b[0;32mimport\u001b[0m \u001b[0mastropy\u001b[0m\u001b[0;34m.\u001b[0m\u001b[0munits\u001b[0m \u001b[0;32mas\u001b[0m \u001b[0mu\u001b[0m\u001b[0;34m\u001b[0m\u001b[0;34m\u001b[0m\u001b[0m\n\u001b[1;32m      7\u001b[0m \u001b[0;34m\u001b[0m\u001b[0m\n",
      "\u001b[0;31mModuleNotFoundError\u001b[0m: No module named 'seaborn_hall'"
     ]
    }
   ],
   "source": [
    "import numpy as np\n",
    "import glob\n",
    "import pandas as pd\n",
    "import matplotlib.pyplot as plt\n",
    "import seaborn as sns\n",
    "import astropy.units as u\n",
    "\n",
    "sns.set_palette('colorblind')\n",
    "sns.set_context('poster')"
   ]
  },
  {
   "cell_type": "code",
   "execution_count": null,
   "metadata": {},
   "outputs": [],
   "source": [
    "ati = pd.read_csv('../data/atium.csv',index_col=0)\n",
    "ati = ati[ati.eye_flag != 3]\n",
    "ati = ati[np.isfinite(ati.nus.values)]\n",
    "print(f'We have {len(ati)} stars with results')"
   ]
  },
  {
   "cell_type": "markdown",
   "metadata": {},
   "source": [
    "Read in the LEGACY & Kages literature results"
   ]
  },
  {
   "cell_type": "code",
   "execution_count": null,
   "metadata": {},
   "outputs": [],
   "source": [
    "col = pd.read_csv('../data/LK_private.csv', index_col=0)\n",
    "col.head(2)"
   ]
  },
  {
   "cell_type": "code",
   "execution_count": null,
   "metadata": {},
   "outputs": [],
   "source": [
    "cmap = sns.color_palette('colorblind')\n",
    "sns.palplot(cmap)"
   ]
  },
  {
   "cell_type": "code",
   "execution_count": null,
   "metadata": {},
   "outputs": [],
   "source": [
    "size=200\n",
    "col['x'] = np.ones(len(col)) * 60\n",
    "\n",
    "fig, axes = plt.subplots(3, 1, figsize=(24,14), sharex=True)\n",
    "\n",
    "ax0 = axes[0]\n",
    "ax1 = axes[1]\n",
    "ax2 = axes[2]\n",
    "\n",
    "pk = ati['P'][ati.source == 'K']\n",
    "pl = ati['P'][ati.source == 'L']\n",
    "\n",
    "ak = ati['nus*'][ati.source == 'K']\n",
    "ck = col['nus*'][ati.source == 'K']\n",
    "al = ati['nus*'][ati.source == 'L']\n",
    "cl = col['nus*'][ati.source == 'L']\n",
    "upper = np.sqrt(ati['u_nus*']**2 + col['u_nus*']**2)\n",
    "lower = np.sqrt(ati['l_nus*']**2 + col['l_nus*']**2)\n",
    "ax0.scatter(pl, al-cl, s=size, ec='None', lw=1, zorder = 3, label='L')\n",
    "ax0.scatter(pk, ak-ck, s=size, ec='None', lw=1, zorder = 3, label='K')\n",
    "\n",
    "ax0.scatter(pk, ak-ck, s=size+50, ec='k', lw=2, fc='None', zorder = 2, label='K')\n",
    "ax0.scatter(pl, al-cl, s=size+50, ec='k', lw=2, fc='None', zorder = 2, label='L')\n",
    "ax0.axhline(0., ls='--', zorder=1, c='k')\n",
    "ax0.errorbar(ati['P'], ati['nus*']-col['nus*'], yerr=[lower, upper],\n",
    "             fmt='|', zorder=2, c='k')\n",
    "ax0.set_ylabel(r'$\\Delta\\nu_{\\rm s}\\sin(i)$ [$\\mu$Hz]')\n",
    "ax0.set_title('Kages & LEGACY results - This work')\n",
    "\n",
    "ak = np.rad2deg(ati['i'][ati.source == 'K'])\n",
    "ck = col['i'][ati.source == 'K']\n",
    "al = np.rad2deg(ati['i'][ati.source == 'L'])\n",
    "cl = col['i'][ati.source == 'L']\n",
    "upper = np.sqrt(np.rad2deg(ati['u_i'])**2 + col['u_i']**2)\n",
    "lower = np.sqrt(np.rad2deg(ati['l_i'])**2 + col['l_i']**2)\n",
    "ax1.scatter(pl, al-cl, s=size, ec='None', lw=1, zorder = 3, label='L')\n",
    "ax1.scatter(pk, ak-ck, s=size, ec='None', lw=1, zorder = 3, label='K')\n",
    "\n",
    "ax1.scatter(pk, ak-ck, s=size+50, ec='k', lw=2, fc='None', zorder = 2, label='K')\n",
    "ax1.scatter(pl, al-cl, s=size+50, ec='k', lw=2, fc='None', zorder = 2, label='L')\n",
    "ax1.axhline(0., ls='--', zorder=1, c='k')\n",
    "ax1.errorbar(ati['P'], np.rad2deg(ati['i'])-col['i'], yerr=[lower, upper],\n",
    "             fmt='|', zorder=2, c='k')\n",
    "ax1.set_ylabel(r'$\\Delta i$ [deg]')\n",
    "\n",
    "ak = ati['P'][ati.source == 'K']\n",
    "ck = col['P'][ati.source == 'K']\n",
    "al = ati['P'][ati.source == 'L']\n",
    "cl = col['P'][ati.source == 'L']\n",
    "upper = np.sqrt(ati['u_P']**2 + col['u_P']**2)\n",
    "lower = np.sqrt(ati['l_P']**2 + col['l_P']**2)\n",
    "ax2.scatter(pl, al-cl, s=size, ec='None', lw=1, zorder = 3, label='L')\n",
    "ax2.scatter(pk, ak-ck, s=size, ec='None', lw=1, zorder = 3, label='K')\n",
    "\n",
    "ax2.scatter(pk, ak-ck, s=size+50, ec='k', lw=2, fc='None', zorder = 2, label='K')\n",
    "ax2.scatter(pl, al-cl, s=size+50, ec='k', lw=2, fc='None', zorder = 2, label='L')\n",
    "ax2.axhline(0., ls='--', zorder=1, c='k')\n",
    "ax2.errorbar(ati['P'], ati['P']-col['P'], yerr=[lower, upper],\n",
    "            fmt='|', zorder=2, c='k')\n",
    "ax2.set_ylabel(r'$\\Delta P_{\\rm rot}$ [days]')\n",
    "ax2.set_ylim(-100, 100)\n",
    "ax2.set_xlabel(r'$P_{\\rm rot}$ [days] (this work)')\n",
    "\n",
    "plt.subplots_adjust(hspace=0)\n",
    "\n",
    "from mpl_toolkits.axes_grid.inset_locator import inset_axes\n",
    "col['Dnus*'] = ati['nus*'] - col['nus*']\n",
    "col['Di'] = np.rad2deg(ati['i']) - col['i']\n",
    "col['DP'] = ati['P'] - col['P']\n",
    "\n",
    "# Violin 1\n",
    "iax0 = inset_axes(ax0, height =\"100%\", width=\"16%\", loc=7)\n",
    "sns.violinplot(x='x', y='Dnus*', hue='label', \n",
    "               inner='quartile',\n",
    "               data=col, palette=cmap, split=True, ax = iax0, legend=False)\n",
    "iax0.spines['right'].set_visible(False)\n",
    "iax0.spines['left'].set_visible(False)\n",
    "iax0.get_xaxis().set_visible(False)\n",
    "iax0.get_yaxis().set_visible(False)\n",
    "iax0.axhline(0, ls='--', c='k', zorder=0)\n",
    "iax0.legend_.remove()\n",
    "ax0.set_ylim(-1, 1.5)\n",
    "iax0.set_ylim(-1, 1.5)\n",
    "\n",
    "# Violin 2\n",
    "iax1 = inset_axes(ax1, height =\"100%\", width=\"16%\", loc=7)\n",
    "sns.violinplot(x='x', y='Di', hue='label', data=col, \n",
    "                inner='quartile',\n",
    "                palette=cmap, split=True, ax = iax1, legend=False)\n",
    "iax1.spines['right'].set_visible(False)\n",
    "iax1.spines['left'].set_visible(False)\n",
    "iax1.get_xaxis().set_visible(False)\n",
    "iax1.get_yaxis().set_visible(False)\n",
    "iax1.axhline(0, ls='--', c='k', zorder=0)\n",
    "iax1.legend_.remove()\n",
    "ax1.set_ylim(-70, 120)\n",
    "iax1.set_ylim(-70, 120)\n",
    "\n",
    "# Violin 2\n",
    "iax2 = inset_axes(ax2, height =\"100%\", width=\"16%\", loc=7)\n",
    "sns.violinplot(x='x', y='DP', hue='label', data=col,\n",
    "                inner='quartile',\n",
    "                palette=cmap, split=True, ax = iax2, legend=False)\n",
    "iax2.spines['right'].set_visible(False)\n",
    "iax2.spines['left'].set_visible(False)\n",
    "iax2.get_xaxis().set_visible(False)\n",
    "iax2.get_yaxis().set_visible(False)\n",
    "iax2.axhline(0, ls='--', c='k', zorder=0)\n",
    "iax2.legend_.remove()\n",
    "ax2.set_xlim(0, 65)\n",
    "ax2.set_ylim(-100, 100)\n",
    "iax2.set_ylim(-100, 100)"
   ]
  },
  {
   "cell_type": "markdown",
   "metadata": {},
   "source": [
    "Practice with the violinplot"
   ]
  },
  {
   "cell_type": "code",
   "execution_count": null,
   "metadata": {},
   "outputs": [],
   "source": []
  },
  {
   "cell_type": "code",
   "execution_count": null,
   "metadata": {
    "scrolled": false
   },
   "outputs": [],
   "source": [
    "# create test data\n",
    "np.random.seed(19680801)\n",
    "data = [sorted(np.random.normal(0, std, 100)) for std in range(1, 5)]\n",
    "x = np.ones(len(data))\n",
    "fig, ax = plt.subplots()\n",
    "sns.violinplot(x=x, y=data)"
   ]
  },
  {
   "cell_type": "code",
   "execution_count": null,
   "metadata": {},
   "outputs": [],
   "source": []
  },
  {
   "cell_type": "code",
   "execution_count": null,
   "metadata": {},
   "outputs": [],
   "source": []
  }
 ],
 "metadata": {
  "kernelspec": {
   "display_name": "Python 3",
   "language": "python",
   "name": "python3"
  },
  "language_info": {
   "codemirror_mode": {
    "name": "ipython",
    "version": 3
   },
   "file_extension": ".py",
   "mimetype": "text/x-python",
   "name": "python",
   "nbconvert_exporter": "python",
   "pygments_lexer": "ipython3",
   "version": "3.7.3"
  }
 },
 "nbformat": 4,
 "nbformat_minor": 2
}
