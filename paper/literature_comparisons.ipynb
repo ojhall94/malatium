{
 "cells": [
  {
   "cell_type": "markdown",
   "metadata": {},
   "source": [
    "# Literature comparisons"
   ]
  },
  {
   "cell_type": "markdown",
   "metadata": {},
   "source": [
    "We want to make a comparisonb etween our stars and literature values. We'll do this twice:\n",
    "- One comparison to LEGACY and Kages\n",
    "- One comparison to published asteroseismic rotation rates"
   ]
  },
  {
   "cell_type": "code",
   "execution_count": 1,
   "metadata": {},
   "outputs": [
    {
     "name": "stderr",
     "output_type": "stream",
     "text": [
      "/Users/Oliver/Library/Python/3.7/lib/python/site-packages/statsmodels/tools/_testing.py:19: FutureWarning: pandas.util.testing is deprecated. Use the functions in the public API at pandas.testing instead.\n",
      "  import pandas.util.testing as tm\n"
     ]
    }
   ],
   "source": [
    "import numpy as np\n",
    "import glob\n",
    "import pandas as pd\n",
    "import matplotlib.pyplot as plt\n",
    "import seaborn as sns\n",
    "import astropy.units as u\n",
    "\n",
    "sns.set_palette('colorblind')\n",
    "sns.set_context('poster')"
   ]
  },
  {
   "cell_type": "code",
   "execution_count": 2,
   "metadata": {},
   "outputs": [],
   "source": [
    "def mnras_size(fig_width_pt, square=False):\n",
    "    inches_per_pt = 1.0/72.00              # Convert pt to inches\n",
    "    golden_mean = (np.sqrt(5)-1.0)/2.0     # Most aesthetic ratio\n",
    "    fig_width = fig_width_pt*inches_per_pt # Figure width in inches\n",
    "    if square:\n",
    "        fig_height = fig_width\n",
    "    else:\n",
    "        fig_height = fig_width*golden_mean\n",
    "    return [fig_width,fig_height]"
   ]
  },
  {
   "cell_type": "code",
   "execution_count": 3,
   "metadata": {},
   "outputs": [
    {
     "name": "stdout",
     "output_type": "stream",
     "text": [
      "We have 94 stars with results\n"
     ]
    }
   ],
   "source": [
    "f_ati = pd.read_csv('../data/atium.csv',index_col=0)\n",
    "f_ati = f_ati[f_ati.eye_flag != 3]\n",
    "f_ati = f_ati[np.isfinite(f_ati.nus.values)]\n",
    "\n",
    "f_ati['i'] = np.rad2deg(f_ati['i'])\n",
    "f_ati['u_i'] = np.rad2deg(f_ati['u_i'])\n",
    "f_ati['l_i'] = np.rad2deg(f_ati['l_i'])\n",
    "print(f'We have {len(f_ati)} stars with results')"
   ]
  },
  {
   "cell_type": "markdown",
   "metadata": {},
   "source": [
    "Read in the LEGACY & Kages literature results"
   ]
  },
  {
   "cell_type": "code",
   "execution_count": 4,
   "metadata": {},
   "outputs": [
    {
     "data": {
      "text/html": [
       "<div>\n",
       "<style scoped>\n",
       "    .dataframe tbody tr th:only-of-type {\n",
       "        vertical-align: middle;\n",
       "    }\n",
       "\n",
       "    .dataframe tbody tr th {\n",
       "        vertical-align: top;\n",
       "    }\n",
       "\n",
       "    .dataframe thead th {\n",
       "        text-align: right;\n",
       "    }\n",
       "</style>\n",
       "<table border=\"1\" class=\"dataframe\">\n",
       "  <thead>\n",
       "    <tr style=\"text-align: right;\">\n",
       "      <th></th>\n",
       "      <th>KIC</th>\n",
       "      <th>i</th>\n",
       "      <th>u_i</th>\n",
       "      <th>l_i</th>\n",
       "      <th>nus</th>\n",
       "      <th>l_nus</th>\n",
       "      <th>u_nus</th>\n",
       "      <th>nus*</th>\n",
       "      <th>l_nus*</th>\n",
       "      <th>u_nus*</th>\n",
       "      <th>P</th>\n",
       "      <th>l_P</th>\n",
       "      <th>u_P</th>\n",
       "      <th>label</th>\n",
       "    </tr>\n",
       "  </thead>\n",
       "  <tbody>\n",
       "    <tr>\n",
       "      <th>0</th>\n",
       "      <td>1435467</td>\n",
       "      <td>57.190635</td>\n",
       "      <td>11.73913</td>\n",
       "      <td>8.729097</td>\n",
       "      <td>1.653867</td>\n",
       "      <td>0.26038</td>\n",
       "      <td>0.212415</td>\n",
       "      <td>1.356938</td>\n",
       "      <td>0.088360</td>\n",
       "      <td>0.106032</td>\n",
       "      <td>8.529554</td>\n",
       "      <td>0.078141</td>\n",
       "      <td>0.065117</td>\n",
       "      <td>L</td>\n",
       "    </tr>\n",
       "    <tr>\n",
       "      <th>1</th>\n",
       "      <td>2837475</td>\n",
       "      <td>82.474916</td>\n",
       "      <td>5.41806</td>\n",
       "      <td>7.224080</td>\n",
       "      <td>2.680312</td>\n",
       "      <td>0.15924</td>\n",
       "      <td>0.156055</td>\n",
       "      <td>2.607719</td>\n",
       "      <td>0.145851</td>\n",
       "      <td>0.145851</td>\n",
       "      <td>4.438390</td>\n",
       "      <td>0.055930</td>\n",
       "      <td>0.055930</td>\n",
       "      <td>L</td>\n",
       "    </tr>\n",
       "  </tbody>\n",
       "</table>\n",
       "</div>"
      ],
      "text/plain": [
       "       KIC          i       u_i       l_i       nus    l_nus     u_nus  \\\n",
       "0  1435467  57.190635  11.73913  8.729097  1.653867  0.26038  0.212415   \n",
       "1  2837475  82.474916   5.41806  7.224080  2.680312  0.15924  0.156055   \n",
       "\n",
       "       nus*    l_nus*    u_nus*         P       l_P       u_P label  \n",
       "0  1.356938  0.088360  0.106032  8.529554  0.078141  0.065117     L  \n",
       "1  2.607719  0.145851  0.145851  4.438390  0.055930  0.055930     L  "
      ]
     },
     "execution_count": 4,
     "metadata": {},
     "output_type": "execute_result"
    }
   ],
   "source": [
    "f_col = pd.read_csv('../data/LK_private.csv', index_col=0)\n",
    "f_col.head(2)"
   ]
  },
  {
   "cell_type": "code",
   "execution_count": 5,
   "metadata": {},
   "outputs": [
    {
     "data": {
      "image/png": "[encoded data removed]",
      "text/plain": [
       "<Figure size 720x72 with 1 Axes>"
      ]
     },
     "metadata": {
      "needs_background": "light"
     },
     "output_type": "display_data"
    }
   ],
   "source": [
    "cmap = sns.color_palette('colorblind')\n",
    "sns.palplot(cmap)"
   ]
  },
  {
   "cell_type": "markdown",
   "metadata": {},
   "source": [
    "### flag anomalous rotators"
   ]
  },
  {
   "cell_type": "code",
   "execution_count": 6,
   "metadata": {},
   "outputs": [
    {
     "name": "stdout",
     "output_type": "stream",
     "text": [
      "Stars before cut: 94\n",
      "Stars after cut: 84\n"
     ]
    }
   ],
   "source": [
    "f_ati['exclude'] = np.zeros(len(f_ati))\n",
    "dP = f_ati['P'] / f_col['P']\n",
    "DP = f_ati['P'] - f_col['P']\n",
    "f_ati.loc[dP > 2, 'exclude'] = 1\n",
    "f_ati.loc[DP < -50, 'exclude'] = 0\n",
    "dnus = f_ati['nus*'] / f_col['nus*']\n",
    "f_ati.loc[dnus > 5, 'exclude'] = 2\n",
    "print(f'Stars before cut: {len(f_ati)}')\n",
    "col = f_col[f_ati.exclude == 0]\n",
    "ati = f_ati[f_ati.exclude == 0]\n",
    "print(f'Stars after cut: {len(ati)}')"
   ]
  },
  {
   "cell_type": "code",
   "execution_count": 7,
   "metadata": {},
   "outputs": [
    {
     "data": {
      "text/html": [
       "<div>\n",
       "<style scoped>\n",
       "    .dataframe tbody tr th:only-of-type {\n",
       "        vertical-align: middle;\n",
       "    }\n",
       "\n",
       "    .dataframe tbody tr th {\n",
       "        vertical-align: top;\n",
       "    }\n",
       "\n",
       "    .dataframe thead th {\n",
       "        text-align: right;\n",
       "    }\n",
       "</style>\n",
       "<table border=\"1\" class=\"dataframe\">\n",
       "  <thead>\n",
       "    <tr style=\"text-align: right;\">\n",
       "      <th></th>\n",
       "      <th>KIC</th>\n",
       "      <th>P</th>\n",
       "      <th>i</th>\n",
       "      <th>l_i</th>\n",
       "      <th>u_i</th>\n",
       "      <th>nus</th>\n",
       "      <th>nus*</th>\n",
       "      <th>label</th>\n",
       "    </tr>\n",
       "  </thead>\n",
       "  <tbody>\n",
       "  </tbody>\n",
       "</table>\n",
       "</div>"
      ],
      "text/plain": [
       "Empty DataFrame\n",
       "Columns: [KIC, P, i, l_i, u_i, nus, nus*, label]\n",
       "Index: []"
      ]
     },
     "execution_count": 7,
     "metadata": {},
     "output_type": "execute_result"
    }
   ],
   "source": [
    "f_col[f_ati.exclude == 3][['KIC','P','i','l_i','u_i','nus','nus*','label']]"
   ]
  },
  {
   "cell_type": "code",
   "execution_count": 8,
   "metadata": {},
   "outputs": [
    {
     "data": {
      "text/html": [
       "<div>\n",
       "<style scoped>\n",
       "    .dataframe tbody tr th:only-of-type {\n",
       "        vertical-align: middle;\n",
       "    }\n",
       "\n",
       "    .dataframe tbody tr th {\n",
       "        vertical-align: top;\n",
       "    }\n",
       "\n",
       "    .dataframe thead th {\n",
       "        text-align: right;\n",
       "    }\n",
       "</style>\n",
       "<table border=\"1\" class=\"dataframe\">\n",
       "  <thead>\n",
       "    <tr style=\"text-align: right;\">\n",
       "      <th></th>\n",
       "      <th>KIC</th>\n",
       "      <th>age</th>\n",
       "      <th>P</th>\n",
       "      <th>i</th>\n",
       "      <th>l_i</th>\n",
       "      <th>u_i</th>\n",
       "      <th>nus</th>\n",
       "      <th>nus*</th>\n",
       "      <th>eye_flag</th>\n",
       "      <th>rhat_flag</th>\n",
       "      <th>neff_split</th>\n",
       "      <th>source</th>\n",
       "    </tr>\n",
       "  </thead>\n",
       "  <tbody>\n",
       "  </tbody>\n",
       "</table>\n",
       "</div>"
      ],
      "text/plain": [
       "Empty DataFrame\n",
       "Columns: [KIC, age, P, i, l_i, u_i, nus, nus*, eye_flag, rhat_flag, neff_split, source]\n",
       "Index: []"
      ]
     },
     "execution_count": 8,
     "metadata": {},
     "output_type": "execute_result"
    }
   ],
   "source": [
    "f_ati[f_ati.exclude == 3][['KIC','age','P','i','l_i','u_i','nus','nus*','eye_flag','rhat_flag','neff_split', 'source']]"
   ]
  },
  {
   "cell_type": "code",
   "execution_count": 9,
   "metadata": {},
   "outputs": [
    {
     "data": {
      "text/plain": [
       "22.37014022026641"
      ]
     },
     "execution_count": 9,
     "metadata": {},
     "output_type": "execute_result"
    }
   ],
   "source": [
    "c = ati['fit_d01']*ati['dnu']\n",
    "c.values[15]"
   ]
  },
  {
   "cell_type": "code",
   "execution_count": 10,
   "metadata": {},
   "outputs": [
    {
     "data": {
      "text/plain": [
       "Index(['KIC', 'Teff', 'age', 'dnu', 'eTeff', 'ednu', 'efeh', 'enumax', 'feh',\n",
       "       'loage', 'lomodlogg', 'lomodmass', 'lomodrad', 'modlogg', 'modmass',\n",
       "       'modrad', 'numax', 'source', 'upage', 'upmodlogg', 'upmodmass',\n",
       "       'upmodrad', 'G', 'bprp', 'hrclass', 'neff_xsplit', 'neff_cosi',\n",
       "       'neff_split', 'neff_i', 'l_nus*', 'nus*', 'u_nus*', 'l_cosi', 'cosi',\n",
       "       'u_cosi', 'l_nus', 'nus', 'u_nus', 'l_i', 'i', 'u_i', 'fit_numax',\n",
       "       'efit_numax', 'fit_d01', 'efit_d01', 'fit_d02', 'efit_d02',\n",
       "       'fit_epsilon', 'efit_epsilon', 'V1', 'eV1', 'V2', 'eV2', 'l_P', 'P',\n",
       "       'u_P', 'l_vsini', 'vsini', 'u_vsini', 'rhat_flag', 'eye_flag', 'ebprp',\n",
       "       'exclude'],\n",
       "      dtype='object')"
      ]
     },
     "execution_count": 10,
     "metadata": {},
     "output_type": "execute_result"
    }
   ],
   "source": [
    "ati.columns"
   ]
  },
  {
   "cell_type": "code",
   "execution_count": 19,
   "metadata": {
    "scrolled": false
   },
   "outputs": [
    {
     "name": "stderr",
     "output_type": "stream",
     "text": [
      "/usr/local/lib/python3.7/site-packages/ipykernel_launcher.py:2: SettingWithCopyWarning: \n",
      "A value is trying to be set on a copy of a slice from a DataFrame.\n",
      "Try using .loc[row_indexer,col_indexer] = value instead\n",
      "\n",
      "See the caveats in the documentation: https://pandas.pydata.org/pandas-docs/stable/user_guide/indexing.html#returning-a-view-versus-a-copy\n",
      "  \n",
      "/usr/local/lib/python3.7/site-packages/ipykernel_launcher.py:67: SettingWithCopyWarning: \n",
      "A value is trying to be set on a copy of a slice from a DataFrame.\n",
      "Try using .loc[row_indexer,col_indexer] = value instead\n",
      "\n",
      "See the caveats in the documentation: https://pandas.pydata.org/pandas-docs/stable/user_guide/indexing.html#returning-a-view-versus-a-copy\n",
      "/usr/local/lib/python3.7/site-packages/ipykernel_launcher.py:68: SettingWithCopyWarning: \n",
      "A value is trying to be set on a copy of a slice from a DataFrame.\n",
      "Try using .loc[row_indexer,col_indexer] = value instead\n",
      "\n",
      "See the caveats in the documentation: https://pandas.pydata.org/pandas-docs/stable/user_guide/indexing.html#returning-a-view-versus-a-copy\n",
      "/usr/local/lib/python3.7/site-packages/ipykernel_launcher.py:69: SettingWithCopyWarning: \n",
      "A value is trying to be set on a copy of a slice from a DataFrame.\n",
      "Try using .loc[row_indexer,col_indexer] = value instead\n",
      "\n",
      "See the caveats in the documentation: https://pandas.pydata.org/pandas-docs/stable/user_guide/indexing.html#returning-a-view-versus-a-copy\n"
     ]
    },
    {
     "data": {
      "image/png": "[encoded data removed]",
      "text/plain": [
       "<Figure size 1190x735.46 with 6 Axes>"
      ]
     },
     "metadata": {
      "needs_background": "light"
     },
     "output_type": "display_data"
    },
    {
     "data": {
      "text/plain": [
       "<Figure size 432x288 with 0 Axes>"
      ]
     },
     "metadata": {},
     "output_type": "display_data"
    }
   ],
   "source": [
    "size=200\n",
    "col['x'] = np.ones(len(col)) * 60\n",
    "\n",
    "fig, axes = plt.subplots(3, 1, figsize=mnras_size(2*595), sharex=True)\n",
    "\n",
    "ax0 = axes[0]\n",
    "ax1 = axes[1]\n",
    "ax2 = axes[2]\n",
    "\n",
    "pk = ati['P'][ati.source == 'K']\n",
    "pl = ati['P'][ati.source == 'L']\n",
    "\n",
    "ak = ati['nus*'][ati.source == 'K']\n",
    "ck = col['nus*'][ati.source == 'K']\n",
    "al = ati['nus*'][ati.source == 'L']\n",
    "cl = col['nus*'][ati.source == 'L']\n",
    "upper = np.sqrt(ati['u_nus*']**2 + col['u_nus*']**2)\n",
    "lower = np.sqrt(ati['l_nus*']**2 + col['l_nus*']**2)\n",
    "ax0.scatter(pl, al-cl, s=size, ec='None', lw=1, zorder = 3, label='LEGACY')\n",
    "ax0.scatter(pk, ak-ck, s=size, ec='None', lw=1, zorder = 3, label='Kages')\n",
    "\n",
    "ax0.scatter(pk, ak-ck, s=size+50, ec='k', lw=2, fc='None', zorder = 2)\n",
    "ax0.scatter(pl, al-cl, s=size+50, ec='k', lw=2, fc='None', zorder = 2)\n",
    "ax0.axhline(0., ls='--', zorder=1, c='k')\n",
    "ax0.errorbar(ati['P'], ati['nus*']-col['nus*'], yerr=[lower, upper],\n",
    "             fmt='|', zorder=2, c='k')\n",
    "ax0.set_ylabel(r'$\\Delta\\nu_{\\rm s}\\sin(i)$ [$\\mu$Hz]')\n",
    "# ax0.set_title(r'$\\Delta \\equiv$(this work - literature)')\n",
    "\n",
    "ak = ati['i'][ati.source == 'K']\n",
    "ck = col['i'][ati.source == 'K']\n",
    "al = ati['i'][ati.source == 'L']\n",
    "cl = col['i'][ati.source == 'L']\n",
    "upper = np.sqrt(ati['u_i']**2 + col['u_i']**2)\n",
    "lower = np.sqrt(ati['l_i']**2 + col['l_i']**2)\n",
    "ax1.scatter(pl, al-cl, s=size, ec='None', lw=1, zorder = 3, label='L')\n",
    "ax1.scatter(pk, ak-ck, s=size, ec='None', lw=1, zorder = 3, label='K')\n",
    "\n",
    "ax1.scatter(pk, ak-ck, s=size+50, ec='k', lw=2, fc='None', zorder = 2, label='K')\n",
    "ax1.scatter(pl, al-cl, s=size+50, ec='k', lw=2, fc='None', zorder = 2, label='L')\n",
    "ax1.axhline(0., ls='--', zorder=1, c='k')\n",
    "ax1.errorbar(ati['P'], ati['i']-col['i'], yerr=[lower, upper],\n",
    "             fmt='|', zorder=2, c='k')\n",
    "ax1.set_ylabel(r'$\\Delta i$ [$^\\circ$]')\n",
    "\n",
    "ak = ati['P'][ati.source == 'K']\n",
    "ck = col['P'][ati.source == 'K']\n",
    "al = ati['P'][ati.source == 'L']\n",
    "cl = col['P'][ati.source == 'L']\n",
    "upper = np.sqrt(ati['u_P']**2 + col['u_P']**2)\n",
    "lower = np.sqrt(ati['l_P']**2 + col['l_P']**2)\n",
    "ax2.scatter(pl, al-cl, s=size, ec='None', lw=1, zorder = 3, label='L')\n",
    "ax2.scatter(pk, ak-ck, s=size, ec='None', lw=1, zorder = 3, label='K')\n",
    "\n",
    "ax2.scatter(pk, ak-ck, s=size+50, ec='k', lw=2, fc='None', zorder = 2, label='K')\n",
    "ax2.scatter(pl, al-cl, s=size+50, ec='k', lw=2, fc='None', zorder = 2, label='L')\n",
    "ax2.axhline(0., ls='--', zorder=1, c='k')\n",
    "ax2.errorbar(ati['P'], ati['P']-col['P'], yerr=[lower, upper],\n",
    "            fmt='|', zorder=2, c='k')\n",
    "ax2.set_ylabel(r'$\\Delta P_{\\rm rot}$ [days]')\n",
    "ax2.set_ylim(-100, 100)\n",
    "ax2.set_xlabel(r'$P_{\\rm rot}$ [days] (this work)')\n",
    "\n",
    "plt.subplots_adjust(hspace=0)\n",
    "\n",
    "from mpl_toolkits.axes_grid.inset_locator import inset_axes\n",
    "col['Dnus*'] = ati['nus*'] - col['nus*']\n",
    "col['Di'] = ati['i'] - col['i']\n",
    "col['DP'] = ati['P'] - col['P']\n",
    "\n",
    "# Violin 1\n",
    "iax0 = inset_axes(ax0, height =\"100%\", width=\"15%\", loc=7)\n",
    "sns.violinplot(x='x', y='Dnus*', hue='label', \n",
    "               inner='quartile',\n",
    "               data=col, palette=cmap, split=True, ax = iax0, legend=False)\n",
    "iax0.spines['right'].set_visible(False)\n",
    "iax0.spines['left'].set_visible(True)\n",
    "iax0.get_xaxis().set_visible(False)\n",
    "iax0.get_yaxis().set_visible(False)\n",
    "iax0.axhline(0, ls='--', c='k', zorder=0)\n",
    "iax0.legend_.remove()\n",
    "ax0.set_ylim(-1, 1.5)\n",
    "iax0.set_ylim(-1, 1.5)\n",
    "\n",
    "# Violin 2\n",
    "iax1 = inset_axes(ax1, height =\"100%\", width=\"15%\", loc=7)\n",
    "sns.violinplot(x='x', y='Di', hue='label', data=col, \n",
    "                inner='quartile',\n",
    "                palette=cmap, split=True, ax = iax1, legend=False)\n",
    "iax1.spines['right'].set_visible(False)\n",
    "iax1.spines['left'].set_visible(True)\n",
    "iax1.get_xaxis().set_visible(False)\n",
    "iax1.get_yaxis().set_visible(False)\n",
    "iax1.axhline(0, ls='--', c='k', zorder=0)\n",
    "iax1.legend_.remove()\n",
    "ax1.set_ylim(-70, 120)\n",
    "iax1.set_ylim(-70, 120)\n",
    "\n",
    "# Violin 2\n",
    "iax2 = inset_axes(ax2, height =\"100%\", width=\"15%\", loc=7)\n",
    "sns.violinplot(x='x', y='DP', hue='label', data=col,\n",
    "                inner='quartile',\n",
    "                palette=cmap, split=True, ax = iax2, legend=False)\n",
    "iax2.spines['right'].set_visible(False)\n",
    "iax2.spines['left'].set_visible(True)\n",
    "iax2.get_xaxis().set_visible(False)\n",
    "iax2.get_yaxis().set_visible(False)\n",
    "iax2.axhline(0, ls='--', c='k', zorder=0)\n",
    "iax2.legend_.remove()\n",
    "ax2.set_xlim(2, 60)\n",
    "ax2.set_ylim(-100, 100)\n",
    "iax2.set_ylim(-100, 100)\n",
    "ax0.legend(ncol=2, loc='upper center')# bbox_to_anchor=[0.63,1.25,0.0,0.0])\n",
    "\n",
    "ax2.set_xticks(np.arange(0, 60, 5))\n",
    "\n",
    "plt.show()\n",
    "# plt.savefig('/home/oliver/Dropbox/Apps/Overleaf/Malatium/Images/litcomp.pdf', bbox_inches='tight', rasterized=True)\n",
    "plt.savefig('/Users/Oliver/Dropbox/Apps/Overleaf/Malatium/Images/litcomp.pdf', bbox_inches='tight', rasterized=True)"
   ]
  },
  {
   "cell_type": "markdown",
   "metadata": {},
   "source": [
    "### Comparing to other published literature"
   ]
  },
  {
   "cell_type": "code",
   "execution_count": 75,
   "metadata": {},
   "outputs": [
    {
     "data": {
      "text/html": [
       "<div>\n",
       "<style scoped>\n",
       "    .dataframe tbody tr th:only-of-type {\n",
       "        vertical-align: middle;\n",
       "    }\n",
       "\n",
       "    .dataframe tbody tr th {\n",
       "        vertical-align: top;\n",
       "    }\n",
       "\n",
       "    .dataframe thead th {\n",
       "        text-align: right;\n",
       "    }\n",
       "</style>\n",
       "<table border=\"1\" class=\"dataframe\">\n",
       "  <thead>\n",
       "    <tr style=\"text-align: right;\">\n",
       "      <th></th>\n",
       "      <th>KIC</th>\n",
       "      <th>C15_P_rot</th>\n",
       "      <th>C15_eP_rot</th>\n",
       "      <th>D16_P_rot</th>\n",
       "      <th>D16_u_eP_rot</th>\n",
       "      <th>D16_l_eP_rot</th>\n",
       "      <th>N15_P_rot</th>\n",
       "      <th>N15_u_eP_rot</th>\n",
       "      <th>N15_l_eP_rot</th>\n",
       "      <th>B18_P_rot</th>\n",
       "      <th>B18_l_eP_rot</th>\n",
       "      <th>B18_u_eP_rot</th>\n",
       "    </tr>\n",
       "  </thead>\n",
       "  <tbody>\n",
       "    <tr>\n",
       "      <th>0</th>\n",
       "      <td>1435467</td>\n",
       "      <td>NaN</td>\n",
       "      <td>NaN</td>\n",
       "      <td>NaN</td>\n",
       "      <td>NaN</td>\n",
       "      <td>NaN</td>\n",
       "      <td>NaN</td>\n",
       "      <td>NaN</td>\n",
       "      <td>NaN</td>\n",
       "      <td>NaN</td>\n",
       "      <td>NaN</td>\n",
       "      <td>NaN</td>\n",
       "    </tr>\n",
       "    <tr>\n",
       "      <th>1</th>\n",
       "      <td>2837475</td>\n",
       "      <td>NaN</td>\n",
       "      <td>NaN</td>\n",
       "      <td>NaN</td>\n",
       "      <td>NaN</td>\n",
       "      <td>NaN</td>\n",
       "      <td>NaN</td>\n",
       "      <td>NaN</td>\n",
       "      <td>NaN</td>\n",
       "      <td>NaN</td>\n",
       "      <td>NaN</td>\n",
       "      <td>NaN</td>\n",
       "    </tr>\n",
       "  </tbody>\n",
       "</table>\n",
       "</div>"
      ],
      "text/plain": [
       "       KIC  C15_P_rot  C15_eP_rot  D16_P_rot  D16_u_eP_rot  D16_l_eP_rot  \\\n",
       "0  1435467        NaN         NaN        NaN           NaN           NaN   \n",
       "1  2837475        NaN         NaN        NaN           NaN           NaN   \n",
       "\n",
       "   N15_P_rot  N15_u_eP_rot  N15_l_eP_rot  B18_P_rot  B18_l_eP_rot  \\\n",
       "0        NaN           NaN           NaN        NaN           NaN   \n",
       "1        NaN           NaN           NaN        NaN           NaN   \n",
       "\n",
       "   B18_u_eP_rot  \n",
       "0           NaN  \n",
       "1           NaN  "
      ]
     },
     "execution_count": 75,
     "metadata": {},
     "output_type": "execute_result"
    }
   ],
   "source": [
    "lit = pd.read_csv('../data/literature_seismo.csv', index_col=0)\n",
    "lit.head(2)"
   ]
  },
  {
   "cell_type": "code",
   "execution_count": 76,
   "metadata": {},
   "outputs": [
    {
     "data": {
      "text/plain": [
       "94"
      ]
     },
     "execution_count": 76,
     "metadata": {},
     "output_type": "execute_result"
    }
   ],
   "source": [
    "len(np.isfinite(lit['D16_P_rot']))"
   ]
  },
  {
   "cell_type": "code",
   "execution_count": 78,
   "metadata": {},
   "outputs": [
    {
     "data": {
      "text/html": [
       "<div>\n",
       "<style scoped>\n",
       "    .dataframe tbody tr th:only-of-type {\n",
       "        vertical-align: middle;\n",
       "    }\n",
       "\n",
       "    .dataframe tbody tr th {\n",
       "        vertical-align: top;\n",
       "    }\n",
       "\n",
       "    .dataframe thead th {\n",
       "        text-align: right;\n",
       "    }\n",
       "</style>\n",
       "<table border=\"1\" class=\"dataframe\">\n",
       "  <thead>\n",
       "    <tr style=\"text-align: right;\">\n",
       "      <th></th>\n",
       "      <th>KIC</th>\n",
       "      <th>Teff</th>\n",
       "      <th>age</th>\n",
       "      <th>dnu</th>\n",
       "      <th>eTeff</th>\n",
       "      <th>ednu</th>\n",
       "      <th>efeh</th>\n",
       "      <th>enumax</th>\n",
       "      <th>feh</th>\n",
       "      <th>loage</th>\n",
       "      <th>...</th>\n",
       "      <th>l_P</th>\n",
       "      <th>P</th>\n",
       "      <th>u_P</th>\n",
       "      <th>l_vsini</th>\n",
       "      <th>vsini</th>\n",
       "      <th>u_vsini</th>\n",
       "      <th>rhat_flag</th>\n",
       "      <th>eye_flag</th>\n",
       "      <th>ebprp</th>\n",
       "      <th>exclude</th>\n",
       "    </tr>\n",
       "  </thead>\n",
       "  <tbody>\n",
       "    <tr>\n",
       "      <th>62</th>\n",
       "      <td>12069424</td>\n",
       "      <td>5825</td>\n",
       "      <td>6.6735</td>\n",
       "      <td>103.277</td>\n",
       "      <td>50</td>\n",
       "      <td>0.021</td>\n",
       "      <td>0.03</td>\n",
       "      <td>4.6</td>\n",
       "      <td>0.10</td>\n",
       "      <td>0.7666</td>\n",
       "      <td>...</td>\n",
       "      <td>1.114095</td>\n",
       "      <td>20.516716</td>\n",
       "      <td>1.975841</td>\n",
       "      <td>0.061279</td>\n",
       "      <td>2.112675</td>\n",
       "      <td>0.060261</td>\n",
       "      <td>rhat_1</td>\n",
       "      <td>2</td>\n",
       "      <td>0.001212</td>\n",
       "      <td>0.0</td>\n",
       "    </tr>\n",
       "    <tr>\n",
       "      <th>63</th>\n",
       "      <td>12069449</td>\n",
       "      <td>5750</td>\n",
       "      <td>7.3922</td>\n",
       "      <td>116.929</td>\n",
       "      <td>50</td>\n",
       "      <td>0.012</td>\n",
       "      <td>0.02</td>\n",
       "      <td>5.0</td>\n",
       "      <td>0.05</td>\n",
       "      <td>0.9103</td>\n",
       "      <td>...</td>\n",
       "      <td>1.474881</td>\n",
       "      <td>21.178840</td>\n",
       "      <td>1.808344</td>\n",
       "      <td>0.062482</td>\n",
       "      <td>1.462994</td>\n",
       "      <td>0.063263</td>\n",
       "      <td>NaN</td>\n",
       "      <td>0</td>\n",
       "      <td>0.001060</td>\n",
       "      <td>0.0</td>\n",
       "    </tr>\n",
       "  </tbody>\n",
       "</table>\n",
       "<p>2 rows × 63 columns</p>\n",
       "</div>"
      ],
      "text/plain": [
       "         KIC  Teff     age      dnu  eTeff   ednu  efeh  enumax   feh   loage  \\\n",
       "62  12069424  5825  6.6735  103.277     50  0.021  0.03     4.6  0.10  0.7666   \n",
       "63  12069449  5750  7.3922  116.929     50  0.012  0.02     5.0  0.05  0.9103   \n",
       "\n",
       "    ...       l_P          P       u_P   l_vsini     vsini   u_vsini  \\\n",
       "62  ...  1.114095  20.516716  1.975841  0.061279  2.112675  0.060261   \n",
       "63  ...  1.474881  21.178840  1.808344  0.062482  1.462994  0.063263   \n",
       "\n",
       "    rhat_flag eye_flag     ebprp  exclude  \n",
       "62     rhat_1        2  0.001212      0.0  \n",
       "63        NaN        0  0.001060      0.0  \n",
       "\n",
       "[2 rows x 63 columns]"
      ]
     },
     "execution_count": 78,
     "metadata": {},
     "output_type": "execute_result"
    }
   ],
   "source": [
    "ati = ati.copy()\n",
    "ati.loc[np.isfinite(lit['D16_P_rot']).values]"
   ]
  },
  {
   "cell_type": "code",
   "execution_count": 79,
   "metadata": {},
   "outputs": [],
   "source": [
    "ati['logP'] = np.log(ati.P)\n",
    "ati['uplogP'] = np.log(ati.P + ati.u_P) - ati.logP\n",
    "ati['lologP'] = ati.logP - np.log(ati.P - ati.l_P)"
   ]
  },
  {
   "cell_type": "code",
   "execution_count": 80,
   "metadata": {},
   "outputs": [
    {
     "name": "stderr",
     "output_type": "stream",
     "text": [
      "/Users/Oliver/Library/Python/3.7/lib/python/site-packages/pandas/core/series.py:679: RuntimeWarning: invalid value encountered in log\n",
      "  result = getattr(ufunc, method)(*inputs, **kwargs)\n"
     ]
    }
   ],
   "source": [
    "lit['logD16P'] = np.log(lit.D16_P_rot)\n",
    "lit['uplogD16P'] = np.log(lit.D16_P_rot + lit.D16_u_eP_rot) - lit.logD16P\n",
    "lit['lologD16P'] = lit.logD16P - np.log(lit.D16_P_rot - lit.D16_l_eP_rot)\n",
    "\n",
    "lit['logN15P'] = np.log(lit.N15_P_rot)\n",
    "lit['uplogN15P'] = np.log(lit.N15_P_rot + lit.N15_u_eP_rot) - lit.logN15P\n",
    "lit['lologN15P'] = lit.logN15P - np.log(lit.N15_P_rot - lit.N15_l_eP_rot)\n",
    "\n",
    "lit['logB18P'] = np.log(lit.B18_P_rot)\n",
    "lit['uplogB18P'] = np.log(lit.B18_P_rot + lit.B18_u_eP_rot) - lit.logB18P\n",
    "lit['lologB18P'] = lit.logB18P - np.log(lit.B18_P_rot - lit.B18_l_eP_rot)"
   ]
  },
  {
   "cell_type": "markdown",
   "metadata": {},
   "source": [
    "Flag anomalous rotators"
   ]
  },
  {
   "cell_type": "code",
   "execution_count": 81,
   "metadata": {},
   "outputs": [],
   "source": [
    "f_ati = ati.copy()\n",
    "ati['exclude'] = 0\n",
    "dP = ati.logP / lit.logB18P\n",
    "ati.loc[dP < 0.5, 'exclude'] = 1"
   ]
  },
  {
   "cell_type": "code",
   "execution_count": 82,
   "metadata": {},
   "outputs": [
    {
     "data": {
      "text/plain": [
       "Index(['KIC', 'Teff', 'age', 'dnu', 'eTeff', 'ednu', 'efeh', 'enumax', 'feh',\n",
       "       'loage', 'lomodlogg', 'lomodmass', 'lomodrad', 'modlogg', 'modmass',\n",
       "       'modrad', 'numax', 'source', 'upage', 'upmodlogg', 'upmodmass',\n",
       "       'upmodrad', 'G', 'bprp', 'hrclass', 'neff_xsplit', 'neff_cosi',\n",
       "       'neff_split', 'neff_i', 'l_nus*', 'nus*', 'u_nus*', 'l_cosi', 'cosi',\n",
       "       'u_cosi', 'l_nus', 'nus', 'u_nus', 'l_i', 'i', 'u_i', 'fit_numax',\n",
       "       'efit_numax', 'fit_d01', 'efit_d01', 'fit_d02', 'efit_d02',\n",
       "       'fit_epsilon', 'efit_epsilon', 'V1', 'eV1', 'V2', 'eV2', 'l_P', 'P',\n",
       "       'u_P', 'l_vsini', 'vsini', 'u_vsini', 'rhat_flag', 'eye_flag', 'ebprp',\n",
       "       'exclude', 'logP', 'uplogP', 'lologP'],\n",
       "      dtype='object')"
      ]
     },
     "execution_count": 82,
     "metadata": {},
     "output_type": "execute_result"
    }
   ],
   "source": [
    "ati.columns"
   ]
  },
  {
   "cell_type": "code",
   "execution_count": 84,
   "metadata": {},
   "outputs": [
    {
     "data": {
      "text/html": [
       "<div>\n",
       "<style scoped>\n",
       "    .dataframe tbody tr th:only-of-type {\n",
       "        vertical-align: middle;\n",
       "    }\n",
       "\n",
       "    .dataframe tbody tr th {\n",
       "        vertical-align: top;\n",
       "    }\n",
       "\n",
       "    .dataframe thead th {\n",
       "        text-align: right;\n",
       "    }\n",
       "</style>\n",
       "<table border=\"1\" class=\"dataframe\">\n",
       "  <thead>\n",
       "    <tr style=\"text-align: right;\">\n",
       "      <th></th>\n",
       "      <th>KIC</th>\n",
       "      <th>age</th>\n",
       "      <th>P</th>\n",
       "      <th>i</th>\n",
       "      <th>eye_flag</th>\n",
       "      <th>rhat_flag</th>\n",
       "    </tr>\n",
       "  </thead>\n",
       "  <tbody>\n",
       "    <tr>\n",
       "      <th>15</th>\n",
       "      <td>6603624</td>\n",
       "      <td>7.8234</td>\n",
       "      <td>1.218267</td>\n",
       "      <td>6.893700</td>\n",
       "      <td>0</td>\n",
       "      <td>NaN</td>\n",
       "    </tr>\n",
       "    <tr>\n",
       "      <th>36</th>\n",
       "      <td>8760414</td>\n",
       "      <td>11.6642</td>\n",
       "      <td>2.004548</td>\n",
       "      <td>7.616282</td>\n",
       "      <td>0</td>\n",
       "      <td>rhat_01</td>\n",
       "    </tr>\n",
       "    <tr>\n",
       "      <th>37</th>\n",
       "      <td>8938364</td>\n",
       "      <td>10.2508</td>\n",
       "      <td>2.035735</td>\n",
       "      <td>8.676839</td>\n",
       "      <td>1</td>\n",
       "      <td>rhat_1</td>\n",
       "    </tr>\n",
       "  </tbody>\n",
       "</table>\n",
       "</div>"
      ],
      "text/plain": [
       "        KIC      age         P         i  eye_flag rhat_flag\n",
       "15  6603624   7.8234  1.218267  6.893700         0       NaN\n",
       "36  8760414  11.6642  2.004548  7.616282         0   rhat_01\n",
       "37  8938364  10.2508  2.035735  8.676839         1    rhat_1"
      ]
     },
     "execution_count": 84,
     "metadata": {},
     "output_type": "execute_result"
    }
   ],
   "source": [
    "ati[ati.exclude == 1][['KIC','age','P', 'i', 'eye_flag','rhat_flag']]"
   ]
  },
  {
   "cell_type": "code",
   "execution_count": 85,
   "metadata": {},
   "outputs": [
    {
     "data": {
      "text/html": [
       "<div>\n",
       "<style scoped>\n",
       "    .dataframe tbody tr th:only-of-type {\n",
       "        vertical-align: middle;\n",
       "    }\n",
       "\n",
       "    .dataframe tbody tr th {\n",
       "        vertical-align: top;\n",
       "    }\n",
       "\n",
       "    .dataframe thead th {\n",
       "        text-align: right;\n",
       "    }\n",
       "</style>\n",
       "<table border=\"1\" class=\"dataframe\">\n",
       "  <thead>\n",
       "    <tr style=\"text-align: right;\">\n",
       "      <th></th>\n",
       "      <th>KIC</th>\n",
       "      <th>i</th>\n",
       "      <th>u_i</th>\n",
       "      <th>l_i</th>\n",
       "      <th>nus</th>\n",
       "      <th>l_nus</th>\n",
       "      <th>u_nus</th>\n",
       "      <th>nus*</th>\n",
       "      <th>l_nus*</th>\n",
       "      <th>u_nus*</th>\n",
       "      <th>P</th>\n",
       "      <th>l_P</th>\n",
       "      <th>u_P</th>\n",
       "      <th>label</th>\n",
       "    </tr>\n",
       "  </thead>\n",
       "  <tbody>\n",
       "    <tr>\n",
       "      <th>15</th>\n",
       "      <td>6603624</td>\n",
       "      <td>2.709030</td>\n",
       "      <td>4.515050</td>\n",
       "      <td>2.107023</td>\n",
       "      <td>0.690304</td>\n",
       "      <td>0.870711</td>\n",
       "      <td>0.467211</td>\n",
       "      <td>0.030615</td>\n",
       "      <td>0.038460</td>\n",
       "      <td>0.023600</td>\n",
       "      <td>378.050174</td>\n",
       "      <td>0.770870</td>\n",
       "      <td>1.256233</td>\n",
       "      <td>L</td>\n",
       "    </tr>\n",
       "    <tr>\n",
       "      <th>36</th>\n",
       "      <td>8760414</td>\n",
       "      <td>4.816054</td>\n",
       "      <td>3.612040</td>\n",
       "      <td>3.311037</td>\n",
       "      <td>1.757128</td>\n",
       "      <td>0.617409</td>\n",
       "      <td>0.649344</td>\n",
       "      <td>0.137270</td>\n",
       "      <td>0.104225</td>\n",
       "      <td>0.092066</td>\n",
       "      <td>84.316100</td>\n",
       "      <td>0.670690</td>\n",
       "      <td>0.759272</td>\n",
       "      <td>L</td>\n",
       "    </tr>\n",
       "    <tr>\n",
       "      <th>37</th>\n",
       "      <td>8938364</td>\n",
       "      <td>10.836120</td>\n",
       "      <td>16.555184</td>\n",
       "      <td>7.525084</td>\n",
       "      <td>0.404663</td>\n",
       "      <td>0.622266</td>\n",
       "      <td>0.259278</td>\n",
       "      <td>0.083155</td>\n",
       "      <td>0.052341</td>\n",
       "      <td>0.060039</td>\n",
       "      <td>139.186701</td>\n",
       "      <td>0.722007</td>\n",
       "      <td>0.629442</td>\n",
       "      <td>L</td>\n",
       "    </tr>\n",
       "  </tbody>\n",
       "</table>\n",
       "</div>"
      ],
      "text/plain": [
       "        KIC          i        u_i       l_i       nus     l_nus     u_nus  \\\n",
       "15  6603624   2.709030   4.515050  2.107023  0.690304  0.870711  0.467211   \n",
       "36  8760414   4.816054   3.612040  3.311037  1.757128  0.617409  0.649344   \n",
       "37  8938364  10.836120  16.555184  7.525084  0.404663  0.622266  0.259278   \n",
       "\n",
       "        nus*    l_nus*    u_nus*           P       l_P       u_P label  \n",
       "15  0.030615  0.038460  0.023600  378.050174  0.770870  1.256233     L  \n",
       "36  0.137270  0.104225  0.092066   84.316100  0.670690  0.759272     L  \n",
       "37  0.083155  0.052341  0.060039  139.186701  0.722007  0.629442     L  "
      ]
     },
     "execution_count": 85,
     "metadata": {},
     "output_type": "execute_result"
    }
   ],
   "source": [
    "f_col[ati.exclude ==1]"
   ]
  },
  {
   "cell_type": "code",
   "execution_count": 86,
   "metadata": {},
   "outputs": [
    {
     "data": {
      "text/html": [
       "<div>\n",
       "<style scoped>\n",
       "    .dataframe tbody tr th:only-of-type {\n",
       "        vertical-align: middle;\n",
       "    }\n",
       "\n",
       "    .dataframe tbody tr th {\n",
       "        vertical-align: top;\n",
       "    }\n",
       "\n",
       "    .dataframe thead th {\n",
       "        text-align: right;\n",
       "    }\n",
       "</style>\n",
       "<table border=\"1\" class=\"dataframe\">\n",
       "  <thead>\n",
       "    <tr style=\"text-align: right;\">\n",
       "      <th></th>\n",
       "      <th>KIC</th>\n",
       "      <th>B18_P_rot</th>\n",
       "    </tr>\n",
       "  </thead>\n",
       "  <tbody>\n",
       "    <tr>\n",
       "      <th>15</th>\n",
       "      <td>6603624</td>\n",
       "      <td>39.718854</td>\n",
       "    </tr>\n",
       "    <tr>\n",
       "      <th>36</th>\n",
       "      <td>8760414</td>\n",
       "      <td>26.916451</td>\n",
       "    </tr>\n",
       "    <tr>\n",
       "      <th>37</th>\n",
       "      <td>8938364</td>\n",
       "      <td>50.519747</td>\n",
       "    </tr>\n",
       "  </tbody>\n",
       "</table>\n",
       "</div>"
      ],
      "text/plain": [
       "        KIC  B18_P_rot\n",
       "15  6603624  39.718854\n",
       "36  8760414  26.916451\n",
       "37  8938364  50.519747"
      ]
     },
     "execution_count": 86,
     "metadata": {},
     "output_type": "execute_result"
    }
   ],
   "source": [
    "lit.index = ati.index\n",
    "lit[ati.exclude ==1][['KIC','B18_P_rot']]"
   ]
  },
  {
   "cell_type": "code",
   "execution_count": 97,
   "metadata": {},
   "outputs": [
    {
     "data": {
      "text/html": [
       "<div>\n",
       "<style scoped>\n",
       "    .dataframe tbody tr th:only-of-type {\n",
       "        vertical-align: middle;\n",
       "    }\n",
       "\n",
       "    .dataframe tbody tr th {\n",
       "        vertical-align: top;\n",
       "    }\n",
       "\n",
       "    .dataframe thead th {\n",
       "        text-align: right;\n",
       "    }\n",
       "</style>\n",
       "<table border=\"1\" class=\"dataframe\">\n",
       "  <thead>\n",
       "    <tr style=\"text-align: right;\">\n",
       "      <th></th>\n",
       "      <th>KIC</th>\n",
       "      <th>Teff</th>\n",
       "      <th>age</th>\n",
       "      <th>dnu</th>\n",
       "      <th>eTeff</th>\n",
       "      <th>ednu</th>\n",
       "      <th>efeh</th>\n",
       "      <th>enumax</th>\n",
       "      <th>feh</th>\n",
       "      <th>loage</th>\n",
       "      <th>...</th>\n",
       "      <th>l_vsini</th>\n",
       "      <th>vsini</th>\n",
       "      <th>u_vsini</th>\n",
       "      <th>rhat_flag</th>\n",
       "      <th>eye_flag</th>\n",
       "      <th>ebprp</th>\n",
       "      <th>exclude</th>\n",
       "      <th>logP</th>\n",
       "      <th>uplogP</th>\n",
       "      <th>lologP</th>\n",
       "    </tr>\n",
       "  </thead>\n",
       "  <tbody>\n",
       "    <tr>\n",
       "      <th>15</th>\n",
       "      <td>6603624</td>\n",
       "      <td>5674</td>\n",
       "      <td>7.8234</td>\n",
       "      <td>110.128</td>\n",
       "      <td>77</td>\n",
       "      <td>0.012</td>\n",
       "      <td>0.1</td>\n",
       "      <td>5.4</td>\n",
       "      <td>0.28</td>\n",
       "      <td>0.8624</td>\n",
       "      <td>...</td>\n",
       "      <td>0.664208</td>\n",
       "      <td>5.701380</td>\n",
       "      <td>0.641580</td>\n",
       "      <td>NaN</td>\n",
       "      <td>0</td>\n",
       "      <td>0.001042</td>\n",
       "      <td>2.0</td>\n",
       "      <td>0.197429</td>\n",
       "      <td>0.029690</td>\n",
       "      <td>0.015791</td>\n",
       "    </tr>\n",
       "    <tr>\n",
       "      <th>36</th>\n",
       "      <td>8760414</td>\n",
       "      <td>5873</td>\n",
       "      <td>11.6642</td>\n",
       "      <td>117.230</td>\n",
       "      <td>77</td>\n",
       "      <td>0.022</td>\n",
       "      <td>0.1</td>\n",
       "      <td>9.1</td>\n",
       "      <td>-0.92</td>\n",
       "      <td>1.6059</td>\n",
       "      <td>...</td>\n",
       "      <td>1.878079</td>\n",
       "      <td>3.083780</td>\n",
       "      <td>1.152309</td>\n",
       "      <td>rhat_01</td>\n",
       "      <td>0</td>\n",
       "      <td>NaN</td>\n",
       "      <td>2.0</td>\n",
       "      <td>0.695418</td>\n",
       "      <td>1.174211</td>\n",
       "      <td>0.224940</td>\n",
       "    </tr>\n",
       "    <tr>\n",
       "      <th>37</th>\n",
       "      <td>8938364</td>\n",
       "      <td>5677</td>\n",
       "      <td>10.2508</td>\n",
       "      <td>85.684</td>\n",
       "      <td>77</td>\n",
       "      <td>0.018</td>\n",
       "      <td>0.1</td>\n",
       "      <td>5.2</td>\n",
       "      <td>-0.13</td>\n",
       "      <td>0.6548</td>\n",
       "      <td>...</td>\n",
       "      <td>2.962227</td>\n",
       "      <td>3.613092</td>\n",
       "      <td>1.577381</td>\n",
       "      <td>rhat_1</td>\n",
       "      <td>1</td>\n",
       "      <td>0.000509</td>\n",
       "      <td>2.0</td>\n",
       "      <td>0.710857</td>\n",
       "      <td>3.777845</td>\n",
       "      <td>0.102944</td>\n",
       "    </tr>\n",
       "  </tbody>\n",
       "</table>\n",
       "<p>3 rows × 66 columns</p>\n",
       "</div>"
      ],
      "text/plain": [
       "        KIC  Teff      age      dnu  eTeff   ednu  efeh  enumax   feh   loage  \\\n",
       "15  6603624  5674   7.8234  110.128     77  0.012   0.1     5.4  0.28  0.8624   \n",
       "36  8760414  5873  11.6642  117.230     77  0.022   0.1     9.1 -0.92  1.6059   \n",
       "37  8938364  5677  10.2508   85.684     77  0.018   0.1     5.2 -0.13  0.6548   \n",
       "\n",
       "    ...   l_vsini     vsini   u_vsini  rhat_flag  eye_flag     ebprp  exclude  \\\n",
       "15  ...  0.664208  5.701380  0.641580        NaN         0  0.001042      2.0   \n",
       "36  ...  1.878079  3.083780  1.152309    rhat_01         0       NaN      2.0   \n",
       "37  ...  2.962227  3.613092  1.577381     rhat_1         1  0.000509      2.0   \n",
       "\n",
       "        logP    uplogP    lologP  \n",
       "15  0.197429  0.029690  0.015791  \n",
       "36  0.695418  1.174211  0.224940  \n",
       "37  0.710857  3.777845  0.102944  \n",
       "\n",
       "[3 rows x 66 columns]"
      ]
     },
     "execution_count": 97,
     "metadata": {},
     "output_type": "execute_result"
    }
   ],
   "source": [
    "f_ati[ati.P < 2.1]"
   ]
  },
  {
   "cell_type": "code",
   "execution_count": 98,
   "metadata": {},
   "outputs": [
    {
     "data": {
      "text/html": [
       "<div>\n",
       "<style scoped>\n",
       "    .dataframe tbody tr th:only-of-type {\n",
       "        vertical-align: middle;\n",
       "    }\n",
       "\n",
       "    .dataframe tbody tr th {\n",
       "        vertical-align: top;\n",
       "    }\n",
       "\n",
       "    .dataframe thead th {\n",
       "        text-align: right;\n",
       "    }\n",
       "</style>\n",
       "<table border=\"1\" class=\"dataframe\">\n",
       "  <thead>\n",
       "    <tr style=\"text-align: right;\">\n",
       "      <th></th>\n",
       "      <th>P</th>\n",
       "      <th>u_P</th>\n",
       "      <th>l_P</th>\n",
       "    </tr>\n",
       "  </thead>\n",
       "  <tbody>\n",
       "    <tr>\n",
       "      <th>34</th>\n",
       "      <td>42.297177</td>\n",
       "      <td>19.361063</td>\n",
       "      <td>17.651004</td>\n",
       "    </tr>\n",
       "  </tbody>\n",
       "</table>\n",
       "</div>"
      ],
      "text/plain": [
       "            P        u_P        l_P\n",
       "34  42.297177  19.361063  17.651004"
      ]
     },
     "execution_count": 98,
     "metadata": {},
     "output_type": "execute_result"
    }
   ],
   "source": [
    "ati.loc[ati.KIC == 8424992][['P','u_P','l_P']]"
   ]
  },
  {
   "cell_type": "code",
   "execution_count": 99,
   "metadata": {},
   "outputs": [
    {
     "data": {
      "text/html": [
       "<div>\n",
       "<style scoped>\n",
       "    .dataframe tbody tr th:only-of-type {\n",
       "        vertical-align: middle;\n",
       "    }\n",
       "\n",
       "    .dataframe tbody tr th {\n",
       "        vertical-align: top;\n",
       "    }\n",
       "\n",
       "    .dataframe thead th {\n",
       "        text-align: right;\n",
       "    }\n",
       "</style>\n",
       "<table border=\"1\" class=\"dataframe\">\n",
       "  <thead>\n",
       "    <tr style=\"text-align: right;\">\n",
       "      <th></th>\n",
       "      <th>KIC</th>\n",
       "      <th>B18_P_rot</th>\n",
       "      <th>B18_l_eP_rot</th>\n",
       "      <th>B18_u_eP_rot</th>\n",
       "    </tr>\n",
       "  </thead>\n",
       "  <tbody>\n",
       "    <tr>\n",
       "      <th>5</th>\n",
       "      <td>3656476</td>\n",
       "      <td>48.386597</td>\n",
       "      <td>9.979888</td>\n",
       "      <td>11.134991</td>\n",
       "    </tr>\n",
       "    <tr>\n",
       "      <th>21</th>\n",
       "      <td>7296438</td>\n",
       "      <td>17.897130</td>\n",
       "      <td>45.211234</td>\n",
       "      <td>6.400086</td>\n",
       "    </tr>\n",
       "    <tr>\n",
       "      <th>34</th>\n",
       "      <td>8424992</td>\n",
       "      <td>31.213792</td>\n",
       "      <td>38.258441</td>\n",
       "      <td>17.595632</td>\n",
       "    </tr>\n",
       "    <tr>\n",
       "      <th>69</th>\n",
       "      <td>4143755</td>\n",
       "      <td>NaN</td>\n",
       "      <td>NaN</td>\n",
       "      <td>NaN</td>\n",
       "    </tr>\n",
       "    <tr>\n",
       "      <th>80</th>\n",
       "      <td>8349582</td>\n",
       "      <td>NaN</td>\n",
       "      <td>NaN</td>\n",
       "      <td>NaN</td>\n",
       "    </tr>\n",
       "    <tr>\n",
       "      <th>86</th>\n",
       "      <td>10514430</td>\n",
       "      <td>NaN</td>\n",
       "      <td>NaN</td>\n",
       "      <td>NaN</td>\n",
       "    </tr>\n",
       "    <tr>\n",
       "      <th>90</th>\n",
       "      <td>11295426</td>\n",
       "      <td>NaN</td>\n",
       "      <td>NaN</td>\n",
       "      <td>NaN</td>\n",
       "    </tr>\n",
       "    <tr>\n",
       "      <th>94</th>\n",
       "      <td>11904151</td>\n",
       "      <td>NaN</td>\n",
       "      <td>NaN</td>\n",
       "      <td>NaN</td>\n",
       "    </tr>\n",
       "  </tbody>\n",
       "</table>\n",
       "</div>"
      ],
      "text/plain": [
       "         KIC  B18_P_rot  B18_l_eP_rot  B18_u_eP_rot\n",
       "5    3656476  48.386597      9.979888     11.134991\n",
       "21   7296438  17.897130     45.211234      6.400086\n",
       "34   8424992  31.213792     38.258441     17.595632\n",
       "69   4143755        NaN           NaN           NaN\n",
       "80   8349582        NaN           NaN           NaN\n",
       "86  10514430        NaN           NaN           NaN\n",
       "90  11295426        NaN           NaN           NaN\n",
       "94  11904151        NaN           NaN           NaN"
      ]
     },
     "execution_count": 99,
     "metadata": {},
     "output_type": "execute_result"
    }
   ],
   "source": [
    "lit[ati.P > 40][['KIC','B18_P_rot','B18_l_eP_rot','B18_u_eP_rot']]"
   ]
  },
  {
   "cell_type": "code",
   "execution_count": 100,
   "metadata": {},
   "outputs": [],
   "source": [
    "lit.index = ati.index"
   ]
  },
  {
   "cell_type": "code",
   "execution_count": 101,
   "metadata": {},
   "outputs": [],
   "source": [
    "lit = lit[ati.exclude != 1]\n",
    "ati = ati[ati.exclude != 1]"
   ]
  },
  {
   "cell_type": "code",
   "execution_count": 102,
   "metadata": {},
   "outputs": [
    {
     "data": {
      "image/png": "[encoded data removed]",
      "text/plain": [
       "<Figure size 595x595 with 1 Axes>"
      ]
     },
     "metadata": {
      "needs_background": "light"
     },
     "output_type": "display_data"
    }
   ],
   "source": [
    "np.random.seed(11)\n",
    "\n",
    "fig, ax = plt.subplots(figsize=mnras_size(595, square=True))\n",
    "\n",
    "outA = (ati['P'] - lit['D16_P_rot']).dropna().values\n",
    "upperA = np.sqrt(ati['u_P']**2 + lit['D16_u_eP_rot']**2).dropna().values\n",
    "lowerA = np.sqrt(ati['l_P']**2 + lit['D16_l_eP_rot']**2).dropna().values\n",
    "xA = np.random.uniform(0.5, 1.5, len(outA))\n",
    "xA = ati['P'][np.isfinite(lit['D16_P_rot']).values]\n",
    "ax.scatter(xA, outA, s=70, zorder=5, label='Davies et al. (2015)')\n",
    "ax.errorbar(xA, outA, yerr = [lowerA, upperA], c='k', zorder=0, fmt='|', alpha=.8)\n",
    "\n",
    "outB = (ati['P'] - lit['N15_P_rot']).dropna().values\n",
    "upperB = np.sqrt(ati['u_P']**2 + lit['N15_u_eP_rot']**2).dropna().values\n",
    "lowerB = np.sqrt(ati['l_P']**2 + lit['N15_l_eP_rot']**2).dropna().values\n",
    "xB = np.random.uniform(0.6, 1.4, len(outB)) + 0.3\n",
    "xB = ati['P'][np.isfinite(lit['N15_P_rot']).values]\n",
    "ax.scatter(xB, outB, s=70, zorder=4, label='Nielsen et al. (2015)')\n",
    "ax.errorbar(xB, outB, yerr = [lowerB, upperB], c='k', zorder=0, fmt='|', alpha=.8)\n",
    "\n",
    "outD = (ati['P'] - lit['B18_P_rot']).dropna().values\n",
    "upperD = np.sqrt(ati['u_P']**2 + lit['B18_u_eP_rot']**2).dropna().values\n",
    "lowerD = np.sqrt(ati['l_P']**2 + lit['B18_l_eP_rot']**2).dropna().values\n",
    "xD = np.random.uniform(0.3, 1.8, len(outD)) + 1.3\n",
    "xD = ati['P'][np.isfinite(lit['B18_P_rot']).values]\n",
    "ax.scatter(xD, outD, s=50, zorder=2, label='Benomar et al. (2018)')\n",
    "ax.errorbar(xD, outD, yerr = [lowerD, upperD], c='k', zorder=0, fmt='|', alpha=.8)\n",
    "\n",
    "ax.scatter(xA, outA, s=70, ec='k', lw=5, fc=None)\n",
    "ax.scatter(xB, outB, s=70, ec='k', lw=5, fc=None)\n",
    "ax.scatter(xD, outD, s=50, ec='k', lw=5, fc=None)\n",
    "\n",
    "ax.axhline(0, ls='--', c='k', zorder=0, lw=3)\n",
    "ax.set_ylim(-50, 50)\n",
    "ax.set_ylabel(r'$P_{\\rm{rot, this\\ work}} - P_{\\rm rot,\\ literature}$ [days]')\n",
    "ax.set_xlabel(r'$P_{\\rm{rot, this\\ work}}$ [days]')\n",
    "\n",
    "ax.legend(loc='lower left', fontsize=18)\n",
    "fig.tight_layout()\n",
    "\n",
    "p = np.percentile(np.concatenate([outA, outB, outD]),[15.9, 50, 84.1])\n",
    "\n",
    "ax.axhline(p[0], c='k', ls=':', alpha=.8, zorder=0, lw=3)\n",
    "ax.axhline(p[2], c='k', ls=':', alpha=.8, zorder=0, lw=3)\n",
    "ax.set_ylim(-40, 40)\n",
    "\n",
    "# plt.savefig('/home/oliver/Dropbox/Apps/Overleaf/Malatium/Images/seis_comparison_rot.pdf', rasterized=True)\n",
    "# plt.savefig('/home/oliver/Dropbox/Apps/Overleaf/Malatium/Images/seis_comparison_rot.png', dpi=300)\n",
    "plt.savefig('/Users/Oliver/Dropbox/Apps/Overleaf/Malatium/Images/seis_comparison_rot.pdf', rasterized=True)\n",
    "plt.savefig('/Users/Oliver/Dropbox/Apps/Overleaf/Malatium/Images/seis_comparison_rot.png', dpi=300)"
   ]
  },
  {
   "cell_type": "code",
   "execution_count": 24,
   "metadata": {},
   "outputs": [
    {
     "data": {
      "text/plain": [
       "-0.012831643288440553"
      ]
     },
     "execution_count": 24,
     "metadata": {},
     "output_type": "execute_result"
    }
   ],
   "source": [
    "p[1]"
   ]
  },
  {
   "cell_type": "code",
   "execution_count": 25,
   "metadata": {},
   "outputs": [
    {
     "data": {
      "text/plain": [
       "1.8289053303384204"
      ]
     },
     "execution_count": 25,
     "metadata": {},
     "output_type": "execute_result"
    }
   ],
   "source": [
    "p[1]-p[0]"
   ]
  },
  {
   "cell_type": "code",
   "execution_count": 26,
   "metadata": {},
   "outputs": [
    {
     "data": {
      "text/plain": [
       "3.244391410217824"
      ]
     },
     "execution_count": 26,
     "metadata": {},
     "output_type": "execute_result"
    }
   ],
   "source": [
    "p[2]-p[1]"
   ]
  },
  {
   "cell_type": "code",
   "execution_count": null,
   "metadata": {},
   "outputs": [],
   "source": [
    "sys.exit()"
   ]
  },
  {
   "cell_type": "code",
   "execution_count": null,
   "metadata": {},
   "outputs": [],
   "source": [
    "lit.columns"
   ]
  },
  {
   "cell_type": "markdown",
   "metadata": {},
   "source": [
    "Make the conversions to log"
   ]
  },
  {
   "cell_type": "code",
   "execution_count": null,
   "metadata": {},
   "outputs": [],
   "source": [
    "ati['logP'] = np.log(ati.P)\n",
    "ati['uplogP'] = np.log(ati.P + ati.u_P) - ati.logP\n",
    "ati['lologP'] = ati.logP - np.log(ati.P - ati.l_P)"
   ]
  },
  {
   "cell_type": "code",
   "execution_count": null,
   "metadata": {},
   "outputs": [],
   "source": [
    "lit['logD16P'] = np.log(lit.D16_P_rot)\n",
    "lit['uplogD16P'] = np.log(lit.D16_P_rot + lit.D16_u_eP_rot) - lit.logD16P\n",
    "lit['lologD16P'] = lit.logD16P - np.log(lit.D16_P_rot - lit.D16_l_eP_rot)\n",
    "\n",
    "lit['logN15P'] = np.log(lit.N15_P_rot)\n",
    "lit['uplogN15P'] = np.log(lit.N15_P_rot + lit.N15_u_eP_rot) - lit.logN15P\n",
    "lit['lologN15P'] = lit.logN15P - np.log(lit.N15_P_rot - lit.N15_l_eP_rot)\n",
    "\n",
    "lit['logB18P'] = np.log(lit.B18_P_rot)\n",
    "lit['uplogB18P'] = np.log(lit.B18_P_rot + lit.B18_u_eP_rot) - lit.logB18P\n",
    "lit['lologB18P'] = lit.logB18P - np.log(lit.B18_P_rot - lit.B18_l_eP_rot)"
   ]
  },
  {
   "cell_type": "markdown",
   "metadata": {},
   "source": [
    "Flag anomalous rotators"
   ]
  },
  {
   "cell_type": "code",
   "execution_count": null,
   "metadata": {},
   "outputs": [],
   "source": [
    "ati['exclude'] = 0\n",
    "dP = ati.logP / lit.logB18P\n",
    "ati.loc[dP < 0.5, 'exclude'] = 1"
   ]
  },
  {
   "cell_type": "code",
   "execution_count": null,
   "metadata": {},
   "outputs": [],
   "source": [
    "lit.index = ati.index"
   ]
  },
  {
   "cell_type": "code",
   "execution_count": null,
   "metadata": {},
   "outputs": [],
   "source": [
    "lit = lit[ati.exclude != 1]\n",
    "ati = ati[ati.exclude != 1]"
   ]
  },
  {
   "cell_type": "code",
   "execution_count": null,
   "metadata": {},
   "outputs": [],
   "source": [
    "np.random.seed(11)\n",
    "\n",
    "def e(a, siga, b, sigb):\n",
    "    #return sigma for a/b\n",
    "    rhs = (siga / b)**2 + ((a*sigb)/b**2)**2\n",
    "    return np.sqrt(rhs)\n",
    "\n",
    "fig, ax = plt.subplots(figsize=mnras_size(595, square=True))\n",
    "\n",
    "outA = (ati['logP'] / lit['logD16P']).dropna().values\n",
    "atierrlog = ati[['lologP','uplogP']].max(axis=1)\n",
    "literrlog = lit[['lologD16P','uplogD16P']].max(axis=1)\n",
    "err = e(ati['logP'], atierrlog, lit['logD16P'], literrlog).dropna().values\n",
    "xA = ati['P'][np.isfinite(lit['D16_P_rot']).values]\n",
    "ax.scatter(xA, outA, s=70, zorder=5, label='Davies et al. (2015)')\n",
    "ax.errorbar(xA, outA, yerr = err, c='k', zorder=0, fmt='|', alpha=.8)\n",
    "\n",
    "outB = (ati['logP'] / lit['logN15P']).dropna().values\n",
    "atierrlog = ati[['lologP','uplogP']].max(axis=1)\n",
    "literrlog = lit[['lologN15P','uplogN15P']].max(axis=1)\n",
    "err = e(ati['logP'], atierrlog, lit['logN15P'], literrlog).dropna().values\n",
    "xB = ati['P'][np.isfinite(lit['N15_P_rot']).values]\n",
    "ax.scatter(xB, outB, s=70, zorder=5, label='Nielsen et al. (2015)')\n",
    "ax.errorbar(xB, outB, yerr = err, c='k', zorder=0, fmt='|', alpha=.8)\n",
    "\n",
    "outD = (ati['logP'] / lit['logB18P']).dropna().values\n",
    "atierrlog = ati[['lologP','uplogP']].max(axis=1)\n",
    "literrlog = lit[['lologB18P','uplogB18P']].max(axis=1)\n",
    "err = e(ati['logP'], atierrlog, lit['logB18P'], literrlog).dropna().values\n",
    "xD = ati['P'][np.isfinite(lit['B18_P_rot']).values]\n",
    "ax.scatter(xD, outD, s=70, zorder=5, label='Benomar et al. (2018)')\n",
    "ax.errorbar(xD, outD, yerr = err, c='k', zorder=0, fmt='|', alpha=.8)\n",
    "\n",
    "ax.scatter(xA, outA, s=100, ec='k', lw=5, fc=None)\n",
    "ax.scatter(xB, outB, s=100, ec='k', lw=5, fc=None)\n",
    "ax.scatter(xD, outD, s=80, ec='k', lw=5, fc=None)\n",
    "\n",
    "ax.axhline(1, ls='--', c='k', zorder=0, lw=3)\n",
    "ax.set_ylabel(r'$\\Delta \\ln(P_{\\rm{rot}}$ [days])')\n",
    "ax.set_xlabel(r'$P_{\\rm{rot, this\\ work}}$ [days]')\n",
    "\n",
    "ax.legend(loc='lower right', fontsize=18)\n",
    "fig.tight_layout()\n",
    "\n",
    "p = np.percentile(np.concatenate([outA, outB, outD]),[15.9, 84.1])\n",
    "\n",
    "ax.axhline(p[0], c='k', ls=':', alpha=.8, zorder=0, lw=3)\n",
    "ax.axhline(p[1], c='k', ls=':', alpha=.8, zorder=0, lw=3)\n",
    "\n",
    "\n",
    "# # plt.savefig('/home/oliver/Dropbox/Apps/Overleaf/Malatium/Images/seis_comparison_rot.pdf', rasterized=True)\n",
    "# # plt.savefig('/home/oliver/Dropbox/Apps/Overleaf/Malatium/Images/seis_comparison_rot.png', dpi=300)\n",
    "plt.savefig('/Users/Oliver/Dropbox/Apps/Overleaf/Malatium/Images/seis_comparison_rot_alt.pdf', rasterized=True)\n",
    "plt.savefig('/Users/Oliver/Dropbox/Apps/Overleaf/Malatium/Images/seis_comparison_rot_alt.png', dpi=300)"
   ]
  },
  {
   "cell_type": "code",
   "execution_count": null,
   "metadata": {},
   "outputs": [],
   "source": [
    "lit.columns"
   ]
  },
  {
   "cell_type": "code",
   "execution_count": null,
   "metadata": {},
   "outputs": [],
   "source": [
    "np.random.seed(11)\n",
    "\n",
    "def e(a, siga, b, sigb):\n",
    "    #return sigma for a/b\n",
    "    rhs = (siga / b)**2 + ((a*sigb)/b**2)**2\n",
    "    return np.sqrt(rhs)\n",
    "\n",
    "fig, ax = plt.subplots(figsize=mnras_size(595, square=True))\n",
    "\n",
    "outA = (ati['P'] / lit['D16_P_rot']).dropna().values\n",
    "atierr = ati[['l_P','u_P']].max(axis=1)\n",
    "literr = lit[['D16_l_eP_rot','D16_u_eP_rot']].max(axis=1)\n",
    "err = e(ati['P'], atierr, lit['D16_P_rot'], literr).dropna().values\n",
    "xA = ati['P'][np.isfinite(lit['D16_P_rot']).values]\n",
    "ax.scatter(xA, outA, s=70, zorder=5, label='Davies et al. (2015)')\n",
    "ax.errorbar(xA, outA, yerr = err, c='k', zorder=0, fmt='|', alpha=.8)\n",
    "\n",
    "outB = (ati['P'] / lit['N15_P_rot']).dropna().values\n",
    "atierr = ati[['l_P','u_P']].max(axis=1)\n",
    "literr = lit[['N15_l_eP_rot','N15_u_eP_rot']].max(axis=1)\n",
    "err = e(ati['P'], atierr, lit['N15_P_rot'], literr).dropna().values\n",
    "xB = ati['P'][np.isfinite(lit['N15_P_rot']).values]\n",
    "ax.scatter(xB, outB, s=70, zorder=5, label='Nielsen et al. (2015)')\n",
    "ax.errorbar(xB, outB, yerr = err, c='k', zorder=0, fmt='|', alpha=.8)\n",
    "\n",
    "outD = (ati['P'] / lit['B18_P_rot']).dropna().values\n",
    "atierr = ati[['l_P','u_P']].max(axis=1)\n",
    "literr = lit[['B18_l_eP_rot','B18_u_eP_rot']].max(axis=1)\n",
    "err = e(ati['P'], atierr, lit['B18_P_rot'], literr).dropna().values\n",
    "xD = ati['P'][np.isfinite(lit['B18_P_rot']).values]\n",
    "ax.scatter(xD, outD, s=70, zorder=5, label='Benomar et al. (2018)')\n",
    "ax.errorbar(xD, outD, yerr = err, c='k', zorder=0, fmt='|', alpha=.8)\n",
    "\n",
    "ax.scatter(xA, outA, s=100, ec='k', lw=5, fc=None)\n",
    "ax.scatter(xB, outB, s=100, ec='k', lw=5, fc=None)\n",
    "ax.scatter(xD, outD, s=80, ec='k', lw=5, fc=None)\n",
    "\n",
    "ax.axhline(1, ls='--', c='k', zorder=0, lw=3)\n",
    "ax.set_ylabel(r'$\\Delta \\ln(P_{\\rm{rot}}$ [days])')\n",
    "ax.set_xlabel(r'$P_{\\rm{rot, this\\ work}}$ [days]')\n",
    "\n",
    "ax.legend(loc='upper left', fontsize=18)\n",
    "fig.tight_layout()\n",
    "\n",
    "p = np.percentile(np.concatenate([outA, outB, outD]),[15.9, 84.1])\n",
    "\n",
    "ax.axhline(p[0], c='k', ls=':', alpha=.8, zorder=0, lw=3)\n",
    "ax.axhline(p[1], c='k', ls=':', alpha=.8, zorder=0, lw=3)\n",
    "\n",
    "ax.set_ylim(0, 3)\n",
    "\n",
    "# # plt.savefig('/home/oliver/Dropbox/Apps/Overleaf/Malatium/Images/seis_comparison_rot.pdf', rasterized=True)\n",
    "# # plt.savefig('/home/oliver/Dropbox/Apps/Overleaf/Malatium/Images/seis_comparison_rot.png', dpi=300)\n",
    "plt.savefig('/Users/Oliver/Dropbox/Apps/Overleaf/Malatium/Images/seis_comparison_rot_alt.pdf', rasterized=True)\n",
    "plt.savefig('/Users/Oliver/Dropbox/Apps/Overleaf/Malatium/Images/seis_comparison_rot_alt.png', dpi=300)"
   ]
  },
  {
   "cell_type": "code",
   "execution_count": null,
   "metadata": {},
   "outputs": [],
   "source": []
  }
 ],
 "metadata": {
  "kernelspec": {
   "display_name": "Python 3",
   "language": "python",
   "name": "python3"
  },
  "language_info": {
   "codemirror_mode": {
    "name": "ipython",
    "version": 3
   },
   "file_extension": ".py",
   "mimetype": "text/x-python",
   "name": "python",
   "nbconvert_exporter": "python",
   "pygments_lexer": "ipython3",
   "version": "3.7.4"
  }
 },
 "nbformat": 4,
 "nbformat_minor": 2
}
